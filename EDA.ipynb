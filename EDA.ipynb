{
 "cells": [
  {
   "cell_type": "code",
   "execution_count": 1,
   "metadata": {},
   "outputs": [],
   "source": [
    "import numpy as np\n",
    "import pandas as pd\n",
    "import seaborn as sns\n",
    "\n",
    "import matplotlib.pyplot as plt\n",
    "%matplotlib inline\n",
    "import plotly.express as px\n",
    "\n",
    "\n",
    "import seaborn as sns\n",
    "sns.set(style = \"whitegrid\", \n",
    "        color_codes = True,\n",
    "        font_scale = 1.5)"
   ]
  },
  {
   "cell_type": "code",
   "execution_count": 2,
   "metadata": {},
   "outputs": [
    {
     "name": "stderr",
     "output_type": "stream",
     "text": [
      "C:\\Users\\emman\\anaconda3\\envs\\base_analysis\\lib\\site-packages\\IPython\\core\\interactiveshell.py:3156: DtypeWarning: Columns (13) have mixed types.Specify dtype option on import or set low_memory=False.\n",
      "  interactivity=interactivity, compiler=compiler, result=result)\n"
     ]
    }
   ],
   "source": [
    "#import data\n",
    "\n",
    "test = pd.read_csv('data/national_parks_biodiversity_species.csv')"
   ]
  },
  {
   "cell_type": "code",
   "execution_count": 3,
   "metadata": {},
   "outputs": [
    {
     "data": {
      "text/plain": [
       "Species of Concern     3843\n",
       "Endangered              374\n",
       "Under Review            194\n",
       "Threatened              184\n",
       "In Recovery              77\n",
       "Proposed Endangered      24\n",
       "Breeder                   7\n",
       "Proposed Threatened       7\n",
       "Resident                  5\n",
       "Migratory                 2\n",
       "Extinct                   1\n",
       "Name: Conservation Status, dtype: int64"
      ]
     },
     "execution_count": 3,
     "metadata": {},
     "output_type": "execute_result"
    }
   ],
   "source": [
    "test['Conservation Status'].value_counts()\n",
    "\n",
    "# data is malformed? "
   ]
  },
  {
   "cell_type": "code",
   "execution_count": 4,
   "metadata": {},
   "outputs": [
    {
     "data": {
      "text/html": [
       "<div>\n",
       "<style scoped>\n",
       "    .dataframe tbody tr th:only-of-type {\n",
       "        vertical-align: middle;\n",
       "    }\n",
       "\n",
       "    .dataframe tbody tr th {\n",
       "        vertical-align: top;\n",
       "    }\n",
       "\n",
       "    .dataframe thead th {\n",
       "        text-align: right;\n",
       "    }\n",
       "</style>\n",
       "<table border=\"1\" class=\"dataframe\">\n",
       "  <thead>\n",
       "    <tr style=\"text-align: right;\">\n",
       "      <th></th>\n",
       "      <th>Species ID</th>\n",
       "      <th>Park Name</th>\n",
       "      <th>Category</th>\n",
       "      <th>Order</th>\n",
       "      <th>Family</th>\n",
       "      <th>Scientific Name</th>\n",
       "      <th>Common Names</th>\n",
       "      <th>Record Status</th>\n",
       "      <th>Occurrence</th>\n",
       "      <th>Nativeness</th>\n",
       "      <th>Abundance</th>\n",
       "      <th>Seasonality</th>\n",
       "      <th>Conservation Status</th>\n",
       "      <th>Unnamed: 13</th>\n",
       "    </tr>\n",
       "  </thead>\n",
       "  <tbody>\n",
       "    <tr>\n",
       "      <th>31826</th>\n",
       "      <td>EVER-1454</td>\n",
       "      <td>Everglades National Park</td>\n",
       "      <td>Reptile</td>\n",
       "      <td>Testudines</td>\n",
       "      <td>Cheloniidae</td>\n",
       "      <td>Caretta caretta</td>\n",
       "      <td>Loggerhead</td>\n",
       "      <td>Cabezon</td>\n",
       "      <td>Approved</td>\n",
       "      <td>Present</td>\n",
       "      <td>Native</td>\n",
       "      <td>Rare</td>\n",
       "      <td>Breeder</td>\n",
       "      <td>Threatened</td>\n",
       "    </tr>\n",
       "    <tr>\n",
       "      <th>44640</th>\n",
       "      <td>GRSA-1043</td>\n",
       "      <td>Great Sand Dunes National Park and Preserve</td>\n",
       "      <td>Mammal</td>\n",
       "      <td>Rodentia</td>\n",
       "      <td>Cricetidae</td>\n",
       "      <td>Peromyscus maniculatus</td>\n",
       "      <td>Deer Mouse</td>\n",
       "      <td>White-Footed Mouse</td>\n",
       "      <td>Approved</td>\n",
       "      <td>Present</td>\n",
       "      <td>Native</td>\n",
       "      <td>Rare</td>\n",
       "      <td>Breeder</td>\n",
       "      <td>NaN</td>\n",
       "    </tr>\n",
       "    <tr>\n",
       "      <th>44666</th>\n",
       "      <td>GRSA-1069</td>\n",
       "      <td>Great Sand Dunes National Park and Preserve</td>\n",
       "      <td>Bird</td>\n",
       "      <td>Accipitriformes</td>\n",
       "      <td>Accipitridae</td>\n",
       "      <td>Accipiter gentilis</td>\n",
       "      <td>Goshawk</td>\n",
       "      <td>Northern Goshawk</td>\n",
       "      <td>Approved</td>\n",
       "      <td>Present</td>\n",
       "      <td>Native</td>\n",
       "      <td>Rare</td>\n",
       "      <td>Breeder</td>\n",
       "      <td>NaN</td>\n",
       "    </tr>\n",
       "    <tr>\n",
       "      <th>44705</th>\n",
       "      <td>GRSA-1108</td>\n",
       "      <td>Great Sand Dunes National Park and Preserve</td>\n",
       "      <td>Bird</td>\n",
       "      <td>Caprimulgiformes</td>\n",
       "      <td>Caprimulgidae</td>\n",
       "      <td>Phalaenoptilus nuttallii</td>\n",
       "      <td>Poor-Will</td>\n",
       "      <td>Common Poorwill</td>\n",
       "      <td>Approved</td>\n",
       "      <td>Present</td>\n",
       "      <td>Native</td>\n",
       "      <td>Uncommon</td>\n",
       "      <td>Breeder</td>\n",
       "      <td>NaN</td>\n",
       "    </tr>\n",
       "    <tr>\n",
       "      <th>44744</th>\n",
       "      <td>GRSA-1147</td>\n",
       "      <td>Great Sand Dunes National Park and Preserve</td>\n",
       "      <td>Bird</td>\n",
       "      <td>Passeriformes</td>\n",
       "      <td>Aegithalidae</td>\n",
       "      <td>Psaltriparus minimus</td>\n",
       "      <td>Common Bushtit</td>\n",
       "      <td>Bushtit</td>\n",
       "      <td>Approved</td>\n",
       "      <td>Present</td>\n",
       "      <td>Native</td>\n",
       "      <td>Uncommon</td>\n",
       "      <td>Breeder</td>\n",
       "      <td>NaN</td>\n",
       "    </tr>\n",
       "    <tr>\n",
       "      <th>44859</th>\n",
       "      <td>GRSA-1262</td>\n",
       "      <td>Great Sand Dunes National Park and Preserve</td>\n",
       "      <td>Bird</td>\n",
       "      <td>Passeriformes</td>\n",
       "      <td>Turdidae</td>\n",
       "      <td>Turdus migratorius</td>\n",
       "      <td>American Robin</td>\n",
       "      <td>Robin</td>\n",
       "      <td>Approved</td>\n",
       "      <td>Present</td>\n",
       "      <td>Native</td>\n",
       "      <td>Common</td>\n",
       "      <td>Breeder</td>\n",
       "      <td>NaN</td>\n",
       "    </tr>\n",
       "    <tr>\n",
       "      <th>44924</th>\n",
       "      <td>GRSA-1327</td>\n",
       "      <td>Great Sand Dunes National Park and Preserve</td>\n",
       "      <td>Fish</td>\n",
       "      <td>Salmoniformes</td>\n",
       "      <td>Salmonidae</td>\n",
       "      <td>Salvelinus fontinalis</td>\n",
       "      <td>Brook Trout</td>\n",
       "      <td>Speckled Trout</td>\n",
       "      <td>Approved</td>\n",
       "      <td>Present</td>\n",
       "      <td>Not Native</td>\n",
       "      <td>Common</td>\n",
       "      <td>Breeder</td>\n",
       "      <td>NaN</td>\n",
       "    </tr>\n",
       "  </tbody>\n",
       "</table>\n",
       "</div>"
      ],
      "text/plain": [
       "      Species ID                                    Park Name Category  \\\n",
       "31826  EVER-1454                     Everglades National Park  Reptile   \n",
       "44640  GRSA-1043  Great Sand Dunes National Park and Preserve   Mammal   \n",
       "44666  GRSA-1069  Great Sand Dunes National Park and Preserve     Bird   \n",
       "44705  GRSA-1108  Great Sand Dunes National Park and Preserve     Bird   \n",
       "44744  GRSA-1147  Great Sand Dunes National Park and Preserve     Bird   \n",
       "44859  GRSA-1262  Great Sand Dunes National Park and Preserve     Bird   \n",
       "44924  GRSA-1327  Great Sand Dunes National Park and Preserve     Fish   \n",
       "\n",
       "                  Order         Family           Scientific Name  \\\n",
       "31826        Testudines    Cheloniidae           Caretta caretta   \n",
       "44640          Rodentia     Cricetidae    Peromyscus maniculatus   \n",
       "44666   Accipitriformes   Accipitridae        Accipiter gentilis   \n",
       "44705  Caprimulgiformes  Caprimulgidae  Phalaenoptilus nuttallii   \n",
       "44744     Passeriformes   Aegithalidae      Psaltriparus minimus   \n",
       "44859     Passeriformes       Turdidae        Turdus migratorius   \n",
       "44924     Salmoniformes     Salmonidae     Salvelinus fontinalis   \n",
       "\n",
       "         Common Names        Record Status Occurrence Nativeness   Abundance  \\\n",
       "31826      Loggerhead              Cabezon   Approved    Present      Native   \n",
       "44640      Deer Mouse   White-Footed Mouse   Approved    Present      Native   \n",
       "44666         Goshawk     Northern Goshawk   Approved    Present      Native   \n",
       "44705       Poor-Will      Common Poorwill   Approved    Present      Native   \n",
       "44744  Common Bushtit              Bushtit   Approved    Present      Native   \n",
       "44859  American Robin                Robin   Approved    Present      Native   \n",
       "44924     Brook Trout       Speckled Trout   Approved    Present  Not Native   \n",
       "\n",
       "      Seasonality Conservation Status Unnamed: 13  \n",
       "31826        Rare             Breeder  Threatened  \n",
       "44640        Rare             Breeder         NaN  \n",
       "44666        Rare             Breeder         NaN  \n",
       "44705    Uncommon             Breeder         NaN  \n",
       "44744    Uncommon             Breeder         NaN  \n",
       "44859      Common             Breeder         NaN  \n",
       "44924      Common             Breeder         NaN  "
      ]
     },
     "execution_count": 4,
     "metadata": {},
     "output_type": "execute_result"
    }
   ],
   "source": [
    "test[test['Conservation Status']=='Breeder']"
   ]
  },
  {
   "cell_type": "code",
   "execution_count": 5,
   "metadata": {},
   "outputs": [
    {
     "data": {
      "text/plain": [
       "Approved                86254\n",
       "In Review               32937\n",
       "None                        6\n",
       " Northern Pintail           1\n",
       " Ground Daisy               1\n",
       " Northern Goshawk           1\n",
       " Speedwell                  1\n",
       " Verdolagas                 1\n",
       " *                          1\n",
       " Devil's Shoelaces          1\n",
       " American Crow              1\n",
       " Shadbush                   1\n",
       " Wapiti                     1\n",
       "P.Nut Sedge                 1\n",
       " Leather Flower             1\n",
       " Pigeon Hawk                1\n",
       " Catbird                    1\n",
       " Osha                       1\n",
       " Bushtit                    1\n",
       " Wild Rose                  1\n",
       " Cenizo                     1\n",
       " Clover Bush                1\n",
       " Golden Pea                 1\n",
       " Dames Rocket               1\n",
       " Kinnikinnick               1\n",
       " Common Poorwill            1\n",
       " Storksbill                 1\n",
       " Bluebell                   1\n",
       " Goosefoot                  1\n",
       " Wiregrass                  1\n",
       " Fringed Sage               1\n",
       " Purple Cockle              1\n",
       " Chico                      1\n",
       " Whortleberry               1\n",
       " Grass-Leaf Loco            1\n",
       " Ranchers' Fireweed         1\n",
       " Liver Leaf*                1\n",
       " Claret Cup                 1\n",
       " Skyrocket Gilia            1\n",
       " Filaree                    1\n",
       " Cabezon                    1\n",
       " Common Mullein             1\n",
       " White-Footed Mouse         1\n",
       " Short-Tailed Weasel        1\n",
       " Cranesbill                 1\n",
       " Skunkbush                  1\n",
       " Willowherb                 1\n",
       " Rushpink                   1\n",
       " Speckled Trout             1\n",
       " Wild Iris                  1\n",
       " Cocodrilo De Tumbes        1\n",
       " Downy Chess                1\n",
       " Manati                     1\n",
       " Robin                      1\n",
       "Name: Record Status, dtype: int64"
      ]
     },
     "metadata": {},
     "output_type": "display_data"
    },
    {
     "data": {
      "text/html": [
       "<div>\n",
       "<style scoped>\n",
       "    .dataframe tbody tr th:only-of-type {\n",
       "        vertical-align: middle;\n",
       "    }\n",
       "\n",
       "    .dataframe tbody tr th {\n",
       "        vertical-align: top;\n",
       "    }\n",
       "\n",
       "    .dataframe thead th {\n",
       "        text-align: right;\n",
       "    }\n",
       "</style>\n",
       "<table border=\"1\" class=\"dataframe\">\n",
       "  <thead>\n",
       "    <tr style=\"text-align: right;\">\n",
       "      <th></th>\n",
       "      <th>Species ID</th>\n",
       "      <th>Park Name</th>\n",
       "      <th>Category</th>\n",
       "      <th>Order</th>\n",
       "      <th>Family</th>\n",
       "      <th>Scientific Name</th>\n",
       "      <th>Common Names</th>\n",
       "      <th>Record Status</th>\n",
       "      <th>Occurrence</th>\n",
       "      <th>Nativeness</th>\n",
       "      <th>Abundance</th>\n",
       "      <th>Seasonality</th>\n",
       "      <th>Conservation Status</th>\n",
       "      <th>Unnamed: 13</th>\n",
       "    </tr>\n",
       "  </thead>\n",
       "  <tbody>\n",
       "    <tr>\n",
       "      <th>96934</th>\n",
       "      <td>ROMO-3981</td>\n",
       "      <td>Rocky Mountain National Park</td>\n",
       "      <td>Fungi</td>\n",
       "      <td>Trichiales</td>\n",
       "      <td>Trichiaceae</td>\n",
       "      <td>Arcyria</td>\n",
       "      <td>pomiformis</td>\n",
       "      <td>None</td>\n",
       "      <td>In Review</td>\n",
       "      <td>Present</td>\n",
       "      <td>NaN</td>\n",
       "      <td>NaN</td>\n",
       "      <td>NaN</td>\n",
       "      <td>NaN</td>\n",
       "    </tr>\n",
       "    <tr>\n",
       "      <th>96943</th>\n",
       "      <td>ROMO-3990</td>\n",
       "      <td>Rocky Mountain National Park</td>\n",
       "      <td>Fungi</td>\n",
       "      <td>Trichiales</td>\n",
       "      <td>Trichiaceae</td>\n",
       "      <td>Trichia</td>\n",
       "      <td>alpina</td>\n",
       "      <td>None</td>\n",
       "      <td>In Review</td>\n",
       "      <td>Present</td>\n",
       "      <td>NaN</td>\n",
       "      <td>NaN</td>\n",
       "      <td>NaN</td>\n",
       "      <td>NaN</td>\n",
       "    </tr>\n",
       "    <tr>\n",
       "      <th>96944</th>\n",
       "      <td>ROMO-3991</td>\n",
       "      <td>Rocky Mountain National Park</td>\n",
       "      <td>Fungi</td>\n",
       "      <td>Trichiales</td>\n",
       "      <td>Trichiaceae</td>\n",
       "      <td>Trichia</td>\n",
       "      <td>botrytis</td>\n",
       "      <td>None</td>\n",
       "      <td>In Review</td>\n",
       "      <td>Present</td>\n",
       "      <td>NaN</td>\n",
       "      <td>NaN</td>\n",
       "      <td>NaN</td>\n",
       "      <td>NaN</td>\n",
       "    </tr>\n",
       "    <tr>\n",
       "      <th>96945</th>\n",
       "      <td>ROMO-3992</td>\n",
       "      <td>Rocky Mountain National Park</td>\n",
       "      <td>Fungi</td>\n",
       "      <td>Trichiales</td>\n",
       "      <td>Trichiaceae</td>\n",
       "      <td>Trichia</td>\n",
       "      <td>sordida</td>\n",
       "      <td>None</td>\n",
       "      <td>In Review</td>\n",
       "      <td>Present</td>\n",
       "      <td>NaN</td>\n",
       "      <td>NaN</td>\n",
       "      <td>NaN</td>\n",
       "      <td>NaN</td>\n",
       "    </tr>\n",
       "    <tr>\n",
       "      <th>96946</th>\n",
       "      <td>ROMO-3993</td>\n",
       "      <td>Rocky Mountain National Park</td>\n",
       "      <td>Fungi</td>\n",
       "      <td>Trichiales</td>\n",
       "      <td>Trichiaceae</td>\n",
       "      <td>Trichia</td>\n",
       "      <td>subfusca</td>\n",
       "      <td>None</td>\n",
       "      <td>In Review</td>\n",
       "      <td>Present</td>\n",
       "      <td>NaN</td>\n",
       "      <td>NaN</td>\n",
       "      <td>NaN</td>\n",
       "      <td>NaN</td>\n",
       "    </tr>\n",
       "    <tr>\n",
       "      <th>96947</th>\n",
       "      <td>ROMO-3994</td>\n",
       "      <td>Rocky Mountain National Park</td>\n",
       "      <td>Fungi</td>\n",
       "      <td>Trichiales</td>\n",
       "      <td>Trichiaceae</td>\n",
       "      <td>Trichia</td>\n",
       "      <td>varia</td>\n",
       "      <td>None</td>\n",
       "      <td>In Review</td>\n",
       "      <td>Present</td>\n",
       "      <td>NaN</td>\n",
       "      <td>NaN</td>\n",
       "      <td>NaN</td>\n",
       "      <td>NaN</td>\n",
       "    </tr>\n",
       "  </tbody>\n",
       "</table>\n",
       "</div>"
      ],
      "text/plain": [
       "      Species ID                     Park Name Category       Order  \\\n",
       "96934  ROMO-3981  Rocky Mountain National Park    Fungi  Trichiales   \n",
       "96943  ROMO-3990  Rocky Mountain National Park    Fungi  Trichiales   \n",
       "96944  ROMO-3991  Rocky Mountain National Park    Fungi  Trichiales   \n",
       "96945  ROMO-3992  Rocky Mountain National Park    Fungi  Trichiales   \n",
       "96946  ROMO-3993  Rocky Mountain National Park    Fungi  Trichiales   \n",
       "96947  ROMO-3994  Rocky Mountain National Park    Fungi  Trichiales   \n",
       "\n",
       "            Family Scientific Name Common Names Record Status Occurrence  \\\n",
       "96934  Trichiaceae         Arcyria   pomiformis          None  In Review   \n",
       "96943  Trichiaceae        Trichia        alpina          None  In Review   \n",
       "96944  Trichiaceae        Trichia      botrytis          None  In Review   \n",
       "96945  Trichiaceae        Trichia       sordida          None  In Review   \n",
       "96946  Trichiaceae        Trichia      subfusca          None  In Review   \n",
       "96947  Trichiaceae        Trichia         varia          None  In Review   \n",
       "\n",
       "      Nativeness Abundance Seasonality Conservation Status Unnamed: 13  \n",
       "96934    Present       NaN         NaN                 NaN         NaN  \n",
       "96943    Present       NaN         NaN                 NaN         NaN  \n",
       "96944    Present       NaN         NaN                 NaN         NaN  \n",
       "96945    Present       NaN         NaN                 NaN         NaN  \n",
       "96946    Present       NaN         NaN                 NaN         NaN  \n",
       "96947    Present       NaN         NaN                 NaN         NaN  "
      ]
     },
     "metadata": {},
     "output_type": "display_data"
    }
   ],
   "source": [
    "#looks like data is offset in some areas. Look at approved column to see which ones are offset.\n",
    "display(test['Record Status'].value_counts())\n",
    "display(test[test['Record Status']=='None']) # None is also a mistake"
   ]
  },
  {
   "cell_type": "code",
   "execution_count": 6,
   "metadata": {},
   "outputs": [
    {
     "name": "stdout",
     "output_type": "stream",
     "text": [
      "percentage of bad entries 0.0477995438078626\n"
     ]
    }
   ],
   "source": [
    "#total number of entries that are mistaken\n",
    "num_bad_entries = test[~(test['Record Status'].isin(['Approved', 'In Review']))]['Species ID'].count()\n",
    "\n",
    "num_entries = test['Species ID'].count()\n",
    "\n",
    "print('percentage of bad entries', num_bad_entries/num_entries*100)"
   ]
  },
  {
   "cell_type": "code",
   "execution_count": 7,
   "metadata": {},
   "outputs": [],
   "source": [
    "plant_pollinator_1 = pd.read_csv('data/plant_pollinator_diversity_set1.csv')\n",
    "plant_pollinator_2 = pd.read_csv('data/plant_pollinator_diversity_set2.csv')"
   ]
  },
  {
   "cell_type": "code",
   "execution_count": 8,
   "metadata": {},
   "outputs": [
    {
     "data": {
      "text/plain": [
       "2018-07-12    2032\n",
       "2018-06-27    1687\n",
       "2017-07-14    1254\n",
       "2011-07-25    1193\n",
       "2018-07-03    1140\n",
       "              ... \n",
       "2017-06-28      18\n",
       "2013-08-20      16\n",
       "2011-09-11      10\n",
       "2011-07-20       4\n",
       "2012-07-13       2\n",
       "Name: SAMPLEDATE, Length: 198, dtype: int64"
      ]
     },
     "execution_count": 8,
     "metadata": {},
     "output_type": "execute_result"
    }
   ],
   "source": [
    "plant_pollinator_1['SAMPLEDATE'].value_counts()"
   ]
  },
  {
   "cell_type": "code",
   "execution_count": 9,
   "metadata": {},
   "outputs": [
    {
     "data": {
      "text/plain": [
       "2012-07-12    340\n",
       "2011-08-02    306\n",
       "2012-07-17    296\n",
       "2012-07-10    281\n",
       "2011-08-04    264\n",
       "             ... \n",
       "2013-07-08      1\n",
       "2013-06-28      1\n",
       "2011-07-24      1\n",
       "2013-07-01      1\n",
       "2014-06-30      1\n",
       "Name: SAMPLEDATE, Length: 214, dtype: int64"
      ]
     },
     "execution_count": 9,
     "metadata": {},
     "output_type": "execute_result"
    }
   ],
   "source": [
    "plant_pollinator_2['SAMPLEDATE'].value_counts()"
   ]
  },
  {
   "cell_type": "code",
   "execution_count": 10,
   "metadata": {},
   "outputs": [],
   "source": [
    "#both datasets cover observations from 2011 to 2018"
   ]
  },
  {
   "cell_type": "code",
   "execution_count": 11,
   "metadata": {},
   "outputs": [
    {
     "data": {
      "text/html": [
       "<div>\n",
       "<style scoped>\n",
       "    .dataframe tbody tr th:only-of-type {\n",
       "        vertical-align: middle;\n",
       "    }\n",
       "\n",
       "    .dataframe tbody tr th {\n",
       "        vertical-align: top;\n",
       "    }\n",
       "\n",
       "    .dataframe thead th {\n",
       "        text-align: right;\n",
       "    }\n",
       "</style>\n",
       "<table border=\"1\" class=\"dataframe\">\n",
       "  <thead>\n",
       "    <tr style=\"text-align: right;\">\n",
       "      <th></th>\n",
       "      <th>DBCODE</th>\n",
       "      <th>ENTITY</th>\n",
       "      <th>COMPLEX</th>\n",
       "      <th>MEADOW</th>\n",
       "      <th>PLOT_ID</th>\n",
       "      <th>YEAR</th>\n",
       "      <th>SAMPLEDATE</th>\n",
       "      <th>WATCH</th>\n",
       "      <th>OBSERVER</th>\n",
       "      <th>PLOT</th>\n",
       "      <th>...</th>\n",
       "      <th>PPI_STATUS</th>\n",
       "      <th>NO_INT</th>\n",
       "      <th>PLTSP_CODE</th>\n",
       "      <th>PLTSP_NAME</th>\n",
       "      <th>VISSP_CODE</th>\n",
       "      <th>VISSP_NAME</th>\n",
       "      <th>VISSP_TYPE</th>\n",
       "      <th>REF_NO</th>\n",
       "      <th>VISSP_NO</th>\n",
       "      <th>QC_NOTES</th>\n",
       "    </tr>\n",
       "  </thead>\n",
       "  <tbody>\n",
       "    <tr>\n",
       "      <th>0</th>\n",
       "      <td>SA026</td>\n",
       "      <td>1</td>\n",
       "      <td>Bunchgrass</td>\n",
       "      <td>BD</td>\n",
       "      <td>BGD01</td>\n",
       "      <td>2011</td>\n",
       "      <td>2011-07-24</td>\n",
       "      <td>2.0</td>\n",
       "      <td>NaN</td>\n",
       "      <td>1</td>\n",
       "      <td>...</td>\n",
       "      <td>1</td>\n",
       "      <td>2.0</td>\n",
       "      <td>ACHIMILL</td>\n",
       "      <td>Achillea millefolium</td>\n",
       "      <td>EPICPUNC</td>\n",
       "      <td>Epicauta puncticollis</td>\n",
       "      <td>predaceous beetle</td>\n",
       "      <td>NaN</td>\n",
       "      <td>1</td>\n",
       "      <td>NaN</td>\n",
       "    </tr>\n",
       "    <tr>\n",
       "      <th>1</th>\n",
       "      <td>SA026</td>\n",
       "      <td>1</td>\n",
       "      <td>Bunchgrass</td>\n",
       "      <td>BD</td>\n",
       "      <td>BGD01</td>\n",
       "      <td>2011</td>\n",
       "      <td>2011-07-24</td>\n",
       "      <td>2.0</td>\n",
       "      <td>NaN</td>\n",
       "      <td>1</td>\n",
       "      <td>...</td>\n",
       "      <td>1</td>\n",
       "      <td>1.0</td>\n",
       "      <td>ACHIMILL</td>\n",
       "      <td>Achillea millefolium</td>\n",
       "      <td>EVYLS5M</td>\n",
       "      <td>Evylaeus sp 5M</td>\n",
       "      <td>halictine bee</td>\n",
       "      <td>NaN</td>\n",
       "      <td>1</td>\n",
       "      <td>NaN</td>\n",
       "    </tr>\n",
       "    <tr>\n",
       "      <th>2</th>\n",
       "      <td>SA026</td>\n",
       "      <td>1</td>\n",
       "      <td>Bunchgrass</td>\n",
       "      <td>BD</td>\n",
       "      <td>BGD01</td>\n",
       "      <td>2011</td>\n",
       "      <td>2011-07-24</td>\n",
       "      <td>2.0</td>\n",
       "      <td>NaN</td>\n",
       "      <td>1</td>\n",
       "      <td>...</td>\n",
       "      <td>1</td>\n",
       "      <td>2.0</td>\n",
       "      <td>ERIGFOLI</td>\n",
       "      <td>Erigeron foliosus</td>\n",
       "      <td>MUSCGEN3</td>\n",
       "      <td>Muscoid genus 3</td>\n",
       "      <td>herbivorous muscoid fly</td>\n",
       "      <td>NaN</td>\n",
       "      <td>1</td>\n",
       "      <td>NaN</td>\n",
       "    </tr>\n",
       "    <tr>\n",
       "      <th>3</th>\n",
       "      <td>SA026</td>\n",
       "      <td>1</td>\n",
       "      <td>Bunchgrass</td>\n",
       "      <td>BD</td>\n",
       "      <td>BGD01</td>\n",
       "      <td>2011</td>\n",
       "      <td>2011-07-24</td>\n",
       "      <td>2.0</td>\n",
       "      <td>NaN</td>\n",
       "      <td>1</td>\n",
       "      <td>...</td>\n",
       "      <td>1</td>\n",
       "      <td>2.0</td>\n",
       "      <td>ERIGFOLI</td>\n",
       "      <td>Erigeron foliosus</td>\n",
       "      <td>MUSCGEN3</td>\n",
       "      <td>Muscoid genus 3</td>\n",
       "      <td>herbivorous muscoid fly</td>\n",
       "      <td>NaN</td>\n",
       "      <td>2</td>\n",
       "      <td>NaN</td>\n",
       "    </tr>\n",
       "    <tr>\n",
       "      <th>4</th>\n",
       "      <td>SA026</td>\n",
       "      <td>1</td>\n",
       "      <td>Bunchgrass</td>\n",
       "      <td>BD</td>\n",
       "      <td>BGD01</td>\n",
       "      <td>2011</td>\n",
       "      <td>2011-07-24</td>\n",
       "      <td>2.0</td>\n",
       "      <td>NaN</td>\n",
       "      <td>1</td>\n",
       "      <td>...</td>\n",
       "      <td>1</td>\n",
       "      <td>2.0</td>\n",
       "      <td>ERIGFOLI</td>\n",
       "      <td>Erigeron foliosus</td>\n",
       "      <td>TRICORNA</td>\n",
       "      <td>Trichodes ornatus</td>\n",
       "      <td>bee-parasitic beetle</td>\n",
       "      <td>NaN</td>\n",
       "      <td>1</td>\n",
       "      <td>NaN</td>\n",
       "    </tr>\n",
       "  </tbody>\n",
       "</table>\n",
       "<p>5 rows × 26 columns</p>\n",
       "</div>"
      ],
      "text/plain": [
       "  DBCODE  ENTITY     COMPLEX MEADOW PLOT_ID  YEAR  SAMPLEDATE  WATCH OBSERVER  \\\n",
       "0  SA026       1  Bunchgrass     BD   BGD01  2011  2011-07-24    2.0      NaN   \n",
       "1  SA026       1  Bunchgrass     BD   BGD01  2011  2011-07-24    2.0      NaN   \n",
       "2  SA026       1  Bunchgrass     BD   BGD01  2011  2011-07-24    2.0      NaN   \n",
       "3  SA026       1  Bunchgrass     BD   BGD01  2011  2011-07-24    2.0      NaN   \n",
       "4  SA026       1  Bunchgrass     BD   BGD01  2011  2011-07-24    2.0      NaN   \n",
       "\n",
       "   PLOT  ...  PPI_STATUS  NO_INT  PLTSP_CODE            PLTSP_NAME VISSP_CODE  \\\n",
       "0     1  ...           1     2.0    ACHIMILL  Achillea millefolium   EPICPUNC   \n",
       "1     1  ...           1     1.0    ACHIMILL  Achillea millefolium    EVYLS5M   \n",
       "2     1  ...           1     2.0    ERIGFOLI     Erigeron foliosus   MUSCGEN3   \n",
       "3     1  ...           1     2.0    ERIGFOLI     Erigeron foliosus   MUSCGEN3   \n",
       "4     1  ...           1     2.0    ERIGFOLI     Erigeron foliosus   TRICORNA   \n",
       "\n",
       "              VISSP_NAME               VISSP_TYPE  REF_NO VISSP_NO QC_NOTES  \n",
       "0  Epicauta puncticollis        predaceous beetle     NaN        1      NaN  \n",
       "1         Evylaeus sp 5M            halictine bee     NaN        1      NaN  \n",
       "2        Muscoid genus 3  herbivorous muscoid fly     NaN        1      NaN  \n",
       "3        Muscoid genus 3  herbivorous muscoid fly     NaN        2      NaN  \n",
       "4      Trichodes ornatus     bee-parasitic beetle     NaN        1      NaN  \n",
       "\n",
       "[5 rows x 26 columns]"
      ]
     },
     "execution_count": 11,
     "metadata": {},
     "output_type": "execute_result"
    }
   ],
   "source": [
    "plant_pollinator_1.head()"
   ]
  },
  {
   "cell_type": "code",
   "execution_count": 12,
   "metadata": {},
   "outputs": [],
   "source": [
    "df = plant_pollinator_1\n",
    "\n",
    "df['Date'] = pd.to_datetime(df['SAMPLEDATE'], format='%Y-%m-%d')\n"
   ]
  },
  {
   "cell_type": "code",
   "execution_count": 13,
   "metadata": {},
   "outputs": [
    {
     "data": {
      "text/plain": [
       "Bombus mixtus                       21\n",
       "Chrysotoxum fasciatum               17\n",
       "Platycheirus stegnus                14\n",
       "Bombylius major                     14\n",
       "Eristalis hirtus                    14\n",
       "Muscoid genus 2                     11\n",
       "Muscoid genus 1                      7\n",
       "Bombus bifarius                      7\n",
       "Apis mellifera                       6\n",
       "Conophorus sp 3                      6\n",
       "Euphilotes enoptes                   5\n",
       "Muscoid genus 3                      5\n",
       "Bombus melanopygus                   4\n",
       "Eschatocrepis constrictus            4\n",
       "Osmia sp 27                          3\n",
       "Poecilanthrax sp 1                   3\n",
       "Syrphus ribesii                      2\n",
       "Anthrax sp X1                        2\n",
       "Osmia sp 6M                          2\n",
       "Eupeodes volucris                    2\n",
       "Chrysotoxum derivatum                1\n",
       "Calliphorid genus 1                  1\n",
       "Sphecodes sp 7                       1\n",
       "Osmia sp 23                          1\n",
       "Evylaeus sp 2                        1\n",
       "Toxomerus occidentalis               1\n",
       "Halictus rubicundus                  1\n",
       "Formica fusca                        1\n",
       "Geometrid sp L1                      1\n",
       "Dufourea calochorti                  1\n",
       "Bombus californicus                  1\n",
       "Dufourea versatilis rubriventris     1\n",
       "Calypte anna                         1\n",
       "Epicauta puncticollis                1\n",
       "Tapinoma sessile                     1\n",
       "Frankliniella occidentalis           1\n",
       "Syrphus opinator                     1\n",
       "Villa lateralis                      1\n",
       "Dialictus sp 4                       1\n",
       "Hemaris diffinis                     1\n",
       "Chrysidid sp 2                       1\n",
       "Bombus vosnesenskii                  1\n",
       "Name: VISSP_NAME, dtype: int64"
      ]
     },
     "execution_count": 13,
     "metadata": {},
     "output_type": "execute_result"
    }
   ],
   "source": [
    "df[(df['Date'].dt.month==7) & (df['PLOT']==4)&(df['Date'].dt.year==2011)]['VISSP_NAME'].value_counts()"
   ]
  },
  {
   "cell_type": "code",
   "execution_count": 14,
   "metadata": {},
   "outputs": [
    {
     "data": {
      "text/html": [
       "<div>\n",
       "<style scoped>\n",
       "    .dataframe tbody tr th:only-of-type {\n",
       "        vertical-align: middle;\n",
       "    }\n",
       "\n",
       "    .dataframe tbody tr th {\n",
       "        vertical-align: top;\n",
       "    }\n",
       "\n",
       "    .dataframe thead th {\n",
       "        text-align: right;\n",
       "    }\n",
       "</style>\n",
       "<table border=\"1\" class=\"dataframe\">\n",
       "  <thead>\n",
       "    <tr style=\"text-align: right;\">\n",
       "      <th></th>\n",
       "      <th>DBCODE</th>\n",
       "      <th>ENTITY</th>\n",
       "      <th>COMPLEX</th>\n",
       "      <th>MEADOW</th>\n",
       "      <th>PLOT_ID</th>\n",
       "      <th>YEAR</th>\n",
       "      <th>SAMPLEDATE</th>\n",
       "      <th>WATCH</th>\n",
       "      <th>OBSERVER</th>\n",
       "      <th>PLOT</th>\n",
       "      <th>...</th>\n",
       "      <th>VISSP_NAME</th>\n",
       "      <th>VISSP_TYPE</th>\n",
       "      <th>REF_NO</th>\n",
       "      <th>VISSP_NO</th>\n",
       "      <th>QC_NOTES</th>\n",
       "      <th>Date</th>\n",
       "      <th>DATETIME</th>\n",
       "      <th>MY</th>\n",
       "      <th>month</th>\n",
       "      <th>year</th>\n",
       "    </tr>\n",
       "  </thead>\n",
       "  <tbody>\n",
       "    <tr>\n",
       "      <th>0</th>\n",
       "      <td>SA026</td>\n",
       "      <td>1</td>\n",
       "      <td>Bunchgrass</td>\n",
       "      <td>BD</td>\n",
       "      <td>BGD01</td>\n",
       "      <td>2011</td>\n",
       "      <td>2011-07-24</td>\n",
       "      <td>2.0</td>\n",
       "      <td>NaN</td>\n",
       "      <td>1</td>\n",
       "      <td>...</td>\n",
       "      <td>Epicauta puncticollis</td>\n",
       "      <td>predaceous beetle</td>\n",
       "      <td>NaN</td>\n",
       "      <td>1</td>\n",
       "      <td>NaN</td>\n",
       "      <td>2011-07-24</td>\n",
       "      <td>2011-07-24</td>\n",
       "      <td>2011-07</td>\n",
       "      <td>7</td>\n",
       "      <td>2011</td>\n",
       "    </tr>\n",
       "    <tr>\n",
       "      <th>1</th>\n",
       "      <td>SA026</td>\n",
       "      <td>1</td>\n",
       "      <td>Bunchgrass</td>\n",
       "      <td>BD</td>\n",
       "      <td>BGD01</td>\n",
       "      <td>2011</td>\n",
       "      <td>2011-07-24</td>\n",
       "      <td>2.0</td>\n",
       "      <td>NaN</td>\n",
       "      <td>1</td>\n",
       "      <td>...</td>\n",
       "      <td>Evylaeus sp 5M</td>\n",
       "      <td>halictine bee</td>\n",
       "      <td>NaN</td>\n",
       "      <td>1</td>\n",
       "      <td>NaN</td>\n",
       "      <td>2011-07-24</td>\n",
       "      <td>2011-07-24</td>\n",
       "      <td>2011-07</td>\n",
       "      <td>7</td>\n",
       "      <td>2011</td>\n",
       "    </tr>\n",
       "    <tr>\n",
       "      <th>2</th>\n",
       "      <td>SA026</td>\n",
       "      <td>1</td>\n",
       "      <td>Bunchgrass</td>\n",
       "      <td>BD</td>\n",
       "      <td>BGD01</td>\n",
       "      <td>2011</td>\n",
       "      <td>2011-07-24</td>\n",
       "      <td>2.0</td>\n",
       "      <td>NaN</td>\n",
       "      <td>1</td>\n",
       "      <td>...</td>\n",
       "      <td>Muscoid genus 3</td>\n",
       "      <td>herbivorous muscoid fly</td>\n",
       "      <td>NaN</td>\n",
       "      <td>1</td>\n",
       "      <td>NaN</td>\n",
       "      <td>2011-07-24</td>\n",
       "      <td>2011-07-24</td>\n",
       "      <td>2011-07</td>\n",
       "      <td>7</td>\n",
       "      <td>2011</td>\n",
       "    </tr>\n",
       "    <tr>\n",
       "      <th>3</th>\n",
       "      <td>SA026</td>\n",
       "      <td>1</td>\n",
       "      <td>Bunchgrass</td>\n",
       "      <td>BD</td>\n",
       "      <td>BGD01</td>\n",
       "      <td>2011</td>\n",
       "      <td>2011-07-24</td>\n",
       "      <td>2.0</td>\n",
       "      <td>NaN</td>\n",
       "      <td>1</td>\n",
       "      <td>...</td>\n",
       "      <td>Muscoid genus 3</td>\n",
       "      <td>herbivorous muscoid fly</td>\n",
       "      <td>NaN</td>\n",
       "      <td>2</td>\n",
       "      <td>NaN</td>\n",
       "      <td>2011-07-24</td>\n",
       "      <td>2011-07-24</td>\n",
       "      <td>2011-07</td>\n",
       "      <td>7</td>\n",
       "      <td>2011</td>\n",
       "    </tr>\n",
       "    <tr>\n",
       "      <th>4</th>\n",
       "      <td>SA026</td>\n",
       "      <td>1</td>\n",
       "      <td>Bunchgrass</td>\n",
       "      <td>BD</td>\n",
       "      <td>BGD01</td>\n",
       "      <td>2011</td>\n",
       "      <td>2011-07-24</td>\n",
       "      <td>2.0</td>\n",
       "      <td>NaN</td>\n",
       "      <td>1</td>\n",
       "      <td>...</td>\n",
       "      <td>Trichodes ornatus</td>\n",
       "      <td>bee-parasitic beetle</td>\n",
       "      <td>NaN</td>\n",
       "      <td>1</td>\n",
       "      <td>NaN</td>\n",
       "      <td>2011-07-24</td>\n",
       "      <td>2011-07-24</td>\n",
       "      <td>2011-07</td>\n",
       "      <td>7</td>\n",
       "      <td>2011</td>\n",
       "    </tr>\n",
       "    <tr>\n",
       "      <th>...</th>\n",
       "      <td>...</td>\n",
       "      <td>...</td>\n",
       "      <td>...</td>\n",
       "      <td>...</td>\n",
       "      <td>...</td>\n",
       "      <td>...</td>\n",
       "      <td>...</td>\n",
       "      <td>...</td>\n",
       "      <td>...</td>\n",
       "      <td>...</td>\n",
       "      <td>...</td>\n",
       "      <td>...</td>\n",
       "      <td>...</td>\n",
       "      <td>...</td>\n",
       "      <td>...</td>\n",
       "      <td>...</td>\n",
       "      <td>...</td>\n",
       "      <td>...</td>\n",
       "      <td>...</td>\n",
       "      <td>...</td>\n",
       "      <td>...</td>\n",
       "    </tr>\n",
       "    <tr>\n",
       "      <th>74126</th>\n",
       "      <td>SA026</td>\n",
       "      <td>1</td>\n",
       "      <td>Frissell</td>\n",
       "      <td>RP2</td>\n",
       "      <td>RP210</td>\n",
       "      <td>2018</td>\n",
       "      <td>2018-07-09</td>\n",
       "      <td>2.0</td>\n",
       "      <td>RCT</td>\n",
       "      <td>10</td>\n",
       "      <td>...</td>\n",
       "      <td>Bombus mixtus</td>\n",
       "      <td>NaN</td>\n",
       "      <td>NaN</td>\n",
       "      <td>1</td>\n",
       "      <td>NaN</td>\n",
       "      <td>2018-07-09</td>\n",
       "      <td>2018-07-09</td>\n",
       "      <td>2018-07</td>\n",
       "      <td>7</td>\n",
       "      <td>2018</td>\n",
       "    </tr>\n",
       "    <tr>\n",
       "      <th>74127</th>\n",
       "      <td>SA026</td>\n",
       "      <td>1</td>\n",
       "      <td>Frissell</td>\n",
       "      <td>RP2</td>\n",
       "      <td>RP210</td>\n",
       "      <td>2018</td>\n",
       "      <td>2018-07-09</td>\n",
       "      <td>2.0</td>\n",
       "      <td>RCT</td>\n",
       "      <td>10</td>\n",
       "      <td>...</td>\n",
       "      <td>Apis mellifera</td>\n",
       "      <td>NaN</td>\n",
       "      <td>NaN</td>\n",
       "      <td>1</td>\n",
       "      <td>NaN</td>\n",
       "      <td>2018-07-09</td>\n",
       "      <td>2018-07-09</td>\n",
       "      <td>2018-07</td>\n",
       "      <td>7</td>\n",
       "      <td>2018</td>\n",
       "    </tr>\n",
       "    <tr>\n",
       "      <th>74128</th>\n",
       "      <td>SA026</td>\n",
       "      <td>1</td>\n",
       "      <td>Frissell</td>\n",
       "      <td>RP2</td>\n",
       "      <td>RP210</td>\n",
       "      <td>2018</td>\n",
       "      <td>2018-07-09</td>\n",
       "      <td>2.0</td>\n",
       "      <td>RCT</td>\n",
       "      <td>10</td>\n",
       "      <td>...</td>\n",
       "      <td>Apis mellifera</td>\n",
       "      <td>NaN</td>\n",
       "      <td>NaN</td>\n",
       "      <td>2</td>\n",
       "      <td>NaN</td>\n",
       "      <td>2018-07-09</td>\n",
       "      <td>2018-07-09</td>\n",
       "      <td>2018-07</td>\n",
       "      <td>7</td>\n",
       "      <td>2018</td>\n",
       "    </tr>\n",
       "    <tr>\n",
       "      <th>74129</th>\n",
       "      <td>SA026</td>\n",
       "      <td>1</td>\n",
       "      <td>Frissell</td>\n",
       "      <td>RP2</td>\n",
       "      <td>RP210</td>\n",
       "      <td>2018</td>\n",
       "      <td>2018-07-09</td>\n",
       "      <td>2.0</td>\n",
       "      <td>RCT</td>\n",
       "      <td>10</td>\n",
       "      <td>...</td>\n",
       "      <td>Conophorus sp</td>\n",
       "      <td>NaN</td>\n",
       "      <td>NaN</td>\n",
       "      <td>1</td>\n",
       "      <td>NaN</td>\n",
       "      <td>2018-07-09</td>\n",
       "      <td>2018-07-09</td>\n",
       "      <td>2018-07</td>\n",
       "      <td>7</td>\n",
       "      <td>2018</td>\n",
       "    </tr>\n",
       "    <tr>\n",
       "      <th>74130</th>\n",
       "      <td>SA026</td>\n",
       "      <td>1</td>\n",
       "      <td>Frissell</td>\n",
       "      <td>RP2</td>\n",
       "      <td>RP210</td>\n",
       "      <td>2018</td>\n",
       "      <td>2018-07-09</td>\n",
       "      <td>2.0</td>\n",
       "      <td>RCT</td>\n",
       "      <td>10</td>\n",
       "      <td>...</td>\n",
       "      <td>Apis mellifera</td>\n",
       "      <td>NaN</td>\n",
       "      <td>NaN</td>\n",
       "      <td>1</td>\n",
       "      <td>NaN</td>\n",
       "      <td>2018-07-09</td>\n",
       "      <td>2018-07-09</td>\n",
       "      <td>2018-07</td>\n",
       "      <td>7</td>\n",
       "      <td>2018</td>\n",
       "    </tr>\n",
       "  </tbody>\n",
       "</table>\n",
       "<p>74131 rows × 31 columns</p>\n",
       "</div>"
      ],
      "text/plain": [
       "      DBCODE  ENTITY     COMPLEX MEADOW PLOT_ID  YEAR  SAMPLEDATE  WATCH  \\\n",
       "0      SA026       1  Bunchgrass     BD   BGD01  2011  2011-07-24    2.0   \n",
       "1      SA026       1  Bunchgrass     BD   BGD01  2011  2011-07-24    2.0   \n",
       "2      SA026       1  Bunchgrass     BD   BGD01  2011  2011-07-24    2.0   \n",
       "3      SA026       1  Bunchgrass     BD   BGD01  2011  2011-07-24    2.0   \n",
       "4      SA026       1  Bunchgrass     BD   BGD01  2011  2011-07-24    2.0   \n",
       "...      ...     ...         ...    ...     ...   ...         ...    ...   \n",
       "74126  SA026       1    Frissell    RP2   RP210  2018  2018-07-09    2.0   \n",
       "74127  SA026       1    Frissell    RP2   RP210  2018  2018-07-09    2.0   \n",
       "74128  SA026       1    Frissell    RP2   RP210  2018  2018-07-09    2.0   \n",
       "74129  SA026       1    Frissell    RP2   RP210  2018  2018-07-09    2.0   \n",
       "74130  SA026       1    Frissell    RP2   RP210  2018  2018-07-09    2.0   \n",
       "\n",
       "      OBSERVER  PLOT  ...             VISSP_NAME               VISSP_TYPE  \\\n",
       "0          NaN     1  ...  Epicauta puncticollis        predaceous beetle   \n",
       "1          NaN     1  ...         Evylaeus sp 5M            halictine bee   \n",
       "2          NaN     1  ...        Muscoid genus 3  herbivorous muscoid fly   \n",
       "3          NaN     1  ...        Muscoid genus 3  herbivorous muscoid fly   \n",
       "4          NaN     1  ...      Trichodes ornatus     bee-parasitic beetle   \n",
       "...        ...   ...  ...                    ...                      ...   \n",
       "74126      RCT    10  ...          Bombus mixtus                      NaN   \n",
       "74127      RCT    10  ...         Apis mellifera                      NaN   \n",
       "74128      RCT    10  ...         Apis mellifera                      NaN   \n",
       "74129      RCT    10  ...          Conophorus sp                      NaN   \n",
       "74130      RCT    10  ...         Apis mellifera                      NaN   \n",
       "\n",
       "       REF_NO VISSP_NO QC_NOTES       Date   DATETIME       MY month  year  \n",
       "0         NaN        1      NaN 2011-07-24 2011-07-24  2011-07     7  2011  \n",
       "1         NaN        1      NaN 2011-07-24 2011-07-24  2011-07     7  2011  \n",
       "2         NaN        1      NaN 2011-07-24 2011-07-24  2011-07     7  2011  \n",
       "3         NaN        2      NaN 2011-07-24 2011-07-24  2011-07     7  2011  \n",
       "4         NaN        1      NaN 2011-07-24 2011-07-24  2011-07     7  2011  \n",
       "...       ...      ...      ...        ...        ...      ...   ...   ...  \n",
       "74126     NaN        1      NaN 2018-07-09 2018-07-09  2018-07     7  2018  \n",
       "74127     NaN        1      NaN 2018-07-09 2018-07-09  2018-07     7  2018  \n",
       "74128     NaN        2      NaN 2018-07-09 2018-07-09  2018-07     7  2018  \n",
       "74129     NaN        1      NaN 2018-07-09 2018-07-09  2018-07     7  2018  \n",
       "74130     NaN        1      NaN 2018-07-09 2018-07-09  2018-07     7  2018  \n",
       "\n",
       "[74131 rows x 31 columns]"
      ]
     },
     "execution_count": 14,
     "metadata": {},
     "output_type": "execute_result"
    }
   ],
   "source": [
    "df['DATETIME'] = pd.to_datetime(df['SAMPLEDATE'])\n",
    "\n",
    "df['MY'] = df['DATETIME'].dt.to_period('M')\n",
    "# Create a month and year variable \n",
    "df['month'] = df['DATETIME'].dt.month\n",
    "df['year'] = df['DATETIME'].dt.year\n",
    "\n",
    "df"
   ]
  },
  {
   "cell_type": "code",
   "execution_count": 19,
   "metadata": {},
   "outputs": [],
   "source": [
    "# create the result table by grouping by year, then month, then plot of land\n",
    "result = df[['year','month', 'PLOT', 'VISSP_NAME']].groupby(['year','month', 'PLOT']).count()\n",
    "result = result.reset_index()"
   ]
  },
  {
   "cell_type": "code",
   "execution_count": 20,
   "metadata": {},
   "outputs": [
    {
     "data": {
      "text/html": [
       "<div>\n",
       "<style scoped>\n",
       "    .dataframe tbody tr th:only-of-type {\n",
       "        vertical-align: middle;\n",
       "    }\n",
       "\n",
       "    .dataframe tbody tr th {\n",
       "        vertical-align: top;\n",
       "    }\n",
       "\n",
       "    .dataframe thead th {\n",
       "        text-align: right;\n",
       "    }\n",
       "</style>\n",
       "<table border=\"1\" class=\"dataframe\">\n",
       "  <thead>\n",
       "    <tr style=\"text-align: right;\">\n",
       "      <th></th>\n",
       "      <th>year</th>\n",
       "      <th>month</th>\n",
       "      <th>PLOT</th>\n",
       "      <th>VISSP_NAME</th>\n",
       "    </tr>\n",
       "  </thead>\n",
       "  <tbody>\n",
       "    <tr>\n",
       "      <th>0</th>\n",
       "      <td>2011</td>\n",
       "      <td>7</td>\n",
       "      <td>1</td>\n",
       "      <td>277</td>\n",
       "    </tr>\n",
       "    <tr>\n",
       "      <th>10</th>\n",
       "      <td>2011</td>\n",
       "      <td>8</td>\n",
       "      <td>1</td>\n",
       "      <td>773</td>\n",
       "    </tr>\n",
       "    <tr>\n",
       "      <th>20</th>\n",
       "      <td>2011</td>\n",
       "      <td>9</td>\n",
       "      <td>1</td>\n",
       "      <td>3</td>\n",
       "    </tr>\n",
       "    <tr>\n",
       "      <th>30</th>\n",
       "      <td>2012</td>\n",
       "      <td>6</td>\n",
       "      <td>1</td>\n",
       "      <td>16</td>\n",
       "    </tr>\n",
       "    <tr>\n",
       "      <th>40</th>\n",
       "      <td>2012</td>\n",
       "      <td>7</td>\n",
       "      <td>1</td>\n",
       "      <td>430</td>\n",
       "    </tr>\n",
       "    <tr>\n",
       "      <th>50</th>\n",
       "      <td>2012</td>\n",
       "      <td>8</td>\n",
       "      <td>1</td>\n",
       "      <td>384</td>\n",
       "    </tr>\n",
       "    <tr>\n",
       "      <th>60</th>\n",
       "      <td>2013</td>\n",
       "      <td>6</td>\n",
       "      <td>1</td>\n",
       "      <td>12</td>\n",
       "    </tr>\n",
       "    <tr>\n",
       "      <th>69</th>\n",
       "      <td>2013</td>\n",
       "      <td>7</td>\n",
       "      <td>1</td>\n",
       "      <td>379</td>\n",
       "    </tr>\n",
       "    <tr>\n",
       "      <th>79</th>\n",
       "      <td>2013</td>\n",
       "      <td>8</td>\n",
       "      <td>1</td>\n",
       "      <td>73</td>\n",
       "    </tr>\n",
       "    <tr>\n",
       "      <th>89</th>\n",
       "      <td>2014</td>\n",
       "      <td>6</td>\n",
       "      <td>1</td>\n",
       "      <td>46</td>\n",
       "    </tr>\n",
       "    <tr>\n",
       "      <th>99</th>\n",
       "      <td>2014</td>\n",
       "      <td>7</td>\n",
       "      <td>1</td>\n",
       "      <td>404</td>\n",
       "    </tr>\n",
       "    <tr>\n",
       "      <th>109</th>\n",
       "      <td>2014</td>\n",
       "      <td>8</td>\n",
       "      <td>1</td>\n",
       "      <td>24</td>\n",
       "    </tr>\n",
       "    <tr>\n",
       "      <th>119</th>\n",
       "      <td>2015</td>\n",
       "      <td>6</td>\n",
       "      <td>1</td>\n",
       "      <td>120</td>\n",
       "    </tr>\n",
       "    <tr>\n",
       "      <th>129</th>\n",
       "      <td>2015</td>\n",
       "      <td>7</td>\n",
       "      <td>1</td>\n",
       "      <td>152</td>\n",
       "    </tr>\n",
       "    <tr>\n",
       "      <th>139</th>\n",
       "      <td>2016</td>\n",
       "      <td>6</td>\n",
       "      <td>1</td>\n",
       "      <td>228</td>\n",
       "    </tr>\n",
       "    <tr>\n",
       "      <th>149</th>\n",
       "      <td>2016</td>\n",
       "      <td>7</td>\n",
       "      <td>1</td>\n",
       "      <td>443</td>\n",
       "    </tr>\n",
       "    <tr>\n",
       "      <th>159</th>\n",
       "      <td>2016</td>\n",
       "      <td>8</td>\n",
       "      <td>1</td>\n",
       "      <td>48</td>\n",
       "    </tr>\n",
       "    <tr>\n",
       "      <th>169</th>\n",
       "      <td>2017</td>\n",
       "      <td>6</td>\n",
       "      <td>1</td>\n",
       "      <td>138</td>\n",
       "    </tr>\n",
       "    <tr>\n",
       "      <th>179</th>\n",
       "      <td>2017</td>\n",
       "      <td>7</td>\n",
       "      <td>1</td>\n",
       "      <td>947</td>\n",
       "    </tr>\n",
       "    <tr>\n",
       "      <th>189</th>\n",
       "      <td>2017</td>\n",
       "      <td>8</td>\n",
       "      <td>1</td>\n",
       "      <td>113</td>\n",
       "    </tr>\n",
       "    <tr>\n",
       "      <th>199</th>\n",
       "      <td>2018</td>\n",
       "      <td>6</td>\n",
       "      <td>1</td>\n",
       "      <td>287</td>\n",
       "    </tr>\n",
       "    <tr>\n",
       "      <th>209</th>\n",
       "      <td>2018</td>\n",
       "      <td>7</td>\n",
       "      <td>1</td>\n",
       "      <td>904</td>\n",
       "    </tr>\n",
       "    <tr>\n",
       "      <th>219</th>\n",
       "      <td>2018</td>\n",
       "      <td>8</td>\n",
       "      <td>1</td>\n",
       "      <td>62</td>\n",
       "    </tr>\n",
       "  </tbody>\n",
       "</table>\n",
       "</div>"
      ],
      "text/plain": [
       "     year  month  PLOT  VISSP_NAME\n",
       "0    2011      7     1         277\n",
       "10   2011      8     1         773\n",
       "20   2011      9     1           3\n",
       "30   2012      6     1          16\n",
       "40   2012      7     1         430\n",
       "50   2012      8     1         384\n",
       "60   2013      6     1          12\n",
       "69   2013      7     1         379\n",
       "79   2013      8     1          73\n",
       "89   2014      6     1          46\n",
       "99   2014      7     1         404\n",
       "109  2014      8     1          24\n",
       "119  2015      6     1         120\n",
       "129  2015      7     1         152\n",
       "139  2016      6     1         228\n",
       "149  2016      7     1         443\n",
       "159  2016      8     1          48\n",
       "169  2017      6     1         138\n",
       "179  2017      7     1         947\n",
       "189  2017      8     1         113\n",
       "199  2018      6     1         287\n",
       "209  2018      7     1         904\n",
       "219  2018      8     1          62"
      ]
     },
     "execution_count": 20,
     "metadata": {},
     "output_type": "execute_result"
    }
   ],
   "source": [
    "plot1 = result[result['PLOT']==1]\n",
    "plot1"
   ]
  },
  {
   "cell_type": "code",
   "execution_count": 21,
   "metadata": {},
   "outputs": [
    {
     "data": {
      "application/vnd.plotly.v1+json": {
       "config": {
        "plotlyServerURL": "https://plot.ly"
       },
       "data": [
        {
         "alignmentgroup": "True",
         "hovertemplate": "month=6<br>year=2012<br>PLOT=%{marker.color}<br>VISSP_NAME=%{y}<extra></extra>",
         "legendgroup": "",
         "marker": {
          "color": [
           1,
           2,
           3,
           4,
           5,
           6,
           7,
           8,
           9,
           10
          ],
          "coloraxis": "coloraxis",
          "line": {
           "width": 1e-08
          }
         },
         "name": "",
         "offsetgroup": "",
         "orientation": "v",
         "showlegend": false,
         "textposition": "auto",
         "type": "bar",
         "x": [
          1,
          2,
          3,
          4,
          5,
          6,
          7,
          8,
          9,
          10
         ],
         "xaxis": "x26",
         "y": [
          16,
          2,
          13,
          12,
          1,
          28,
          4,
          9,
          24,
          7
         ],
         "yaxis": "y26"
        },
        {
         "alignmentgroup": "True",
         "hovertemplate": "month=6<br>year=2013<br>PLOT=%{marker.color}<br>VISSP_NAME=%{y}<extra></extra>",
         "legendgroup": "",
         "marker": {
          "color": [
           1,
           2,
           3,
           4,
           6,
           7,
           8,
           9,
           10
          ],
          "coloraxis": "coloraxis",
          "line": {
           "width": 1e-08
          }
         },
         "name": "",
         "offsetgroup": "",
         "orientation": "v",
         "showlegend": false,
         "textposition": "auto",
         "type": "bar",
         "x": [
          1,
          2,
          3,
          4,
          6,
          7,
          8,
          9,
          10
         ],
         "xaxis": "x27",
         "y": [
          12,
          6,
          2,
          2,
          1,
          2,
          3,
          1,
          1
         ],
         "yaxis": "y27"
        },
        {
         "alignmentgroup": "True",
         "hovertemplate": "month=6<br>year=2014<br>PLOT=%{marker.color}<br>VISSP_NAME=%{y}<extra></extra>",
         "legendgroup": "",
         "marker": {
          "color": [
           1,
           2,
           3,
           4,
           5,
           6,
           7,
           8,
           9,
           10
          ],
          "coloraxis": "coloraxis",
          "line": {
           "width": 1e-08
          }
         },
         "name": "",
         "offsetgroup": "",
         "orientation": "v",
         "showlegend": false,
         "textposition": "auto",
         "type": "bar",
         "x": [
          1,
          2,
          3,
          4,
          5,
          6,
          7,
          8,
          9,
          10
         ],
         "xaxis": "x28",
         "y": [
          46,
          16,
          23,
          13,
          13,
          0,
          6,
          30,
          14,
          8
         ],
         "yaxis": "y28"
        },
        {
         "alignmentgroup": "True",
         "hovertemplate": "month=6<br>year=2015<br>PLOT=%{marker.color}<br>VISSP_NAME=%{y}<extra></extra>",
         "legendgroup": "",
         "marker": {
          "color": [
           1,
           2,
           3,
           4,
           5,
           6,
           7,
           8,
           9,
           10
          ],
          "coloraxis": "coloraxis",
          "line": {
           "width": 1e-08
          }
         },
         "name": "",
         "offsetgroup": "",
         "orientation": "v",
         "showlegend": false,
         "textposition": "auto",
         "type": "bar",
         "x": [
          1,
          2,
          3,
          4,
          5,
          6,
          7,
          8,
          9,
          10
         ],
         "xaxis": "x29",
         "y": [
          120,
          198,
          168,
          153,
          111,
          102,
          147,
          191,
          196,
          132
         ],
         "yaxis": "y29"
        },
        {
         "alignmentgroup": "True",
         "hovertemplate": "month=6<br>year=2016<br>PLOT=%{marker.color}<br>VISSP_NAME=%{y}<extra></extra>",
         "legendgroup": "",
         "marker": {
          "color": [
           1,
           2,
           3,
           4,
           5,
           6,
           7,
           8,
           9,
           10
          ],
          "coloraxis": "coloraxis",
          "line": {
           "width": 1e-08
          }
         },
         "name": "",
         "offsetgroup": "",
         "orientation": "v",
         "showlegend": false,
         "textposition": "auto",
         "type": "bar",
         "x": [
          1,
          2,
          3,
          4,
          5,
          6,
          7,
          8,
          9,
          10
         ],
         "xaxis": "x30",
         "y": [
          228,
          255,
          118,
          111,
          117,
          195,
          57,
          186,
          166,
          100
         ],
         "yaxis": "y30"
        },
        {
         "alignmentgroup": "True",
         "hovertemplate": "month=6<br>year=2017<br>PLOT=%{marker.color}<br>VISSP_NAME=%{y}<extra></extra>",
         "legendgroup": "",
         "marker": {
          "color": [
           1,
           2,
           3,
           4,
           5,
           6,
           7,
           8,
           9,
           10
          ],
          "coloraxis": "coloraxis",
          "line": {
           "width": 1e-08
          }
         },
         "name": "",
         "offsetgroup": "",
         "orientation": "v",
         "showlegend": false,
         "textposition": "auto",
         "type": "bar",
         "x": [
          1,
          2,
          3,
          4,
          5,
          6,
          7,
          8,
          9,
          10
         ],
         "xaxis": "x31",
         "y": [
          138,
          277,
          201,
          126,
          77,
          146,
          95,
          115,
          41,
          87
         ],
         "yaxis": "y31"
        },
        {
         "alignmentgroup": "True",
         "hovertemplate": "month=6<br>year=2018<br>PLOT=%{marker.color}<br>VISSP_NAME=%{y}<extra></extra>",
         "legendgroup": "",
         "marker": {
          "color": [
           1,
           2,
           3,
           4,
           5,
           6,
           7,
           8,
           9,
           10
          ],
          "coloraxis": "coloraxis",
          "line": {
           "width": 1e-08
          }
         },
         "name": "",
         "offsetgroup": "",
         "orientation": "v",
         "showlegend": false,
         "textposition": "auto",
         "type": "bar",
         "x": [
          1,
          2,
          3,
          4,
          5,
          6,
          7,
          8,
          9,
          10
         ],
         "xaxis": "x32",
         "y": [
          287,
          295,
          277,
          489,
          301,
          266,
          391,
          311,
          280,
          139
         ],
         "yaxis": "y32"
        },
        {
         "alignmentgroup": "True",
         "hovertemplate": "month=7<br>year=2011<br>PLOT=%{marker.color}<br>VISSP_NAME=%{y}<extra></extra>",
         "legendgroup": "",
         "marker": {
          "color": [
           1,
           2,
           3,
           4,
           5,
           6,
           7,
           8,
           9,
           10
          ],
          "coloraxis": "coloraxis",
          "line": {
           "width": 1e-08
          }
         },
         "name": "",
         "offsetgroup": "",
         "orientation": "v",
         "showlegend": false,
         "textposition": "auto",
         "type": "bar",
         "x": [
          1,
          2,
          3,
          4,
          5,
          6,
          7,
          8,
          9,
          10
         ],
         "xaxis": "x17",
         "y": [
          277,
          512,
          362,
          171,
          357,
          358,
          336,
          418,
          556,
          323
         ],
         "yaxis": "y17"
        },
        {
         "alignmentgroup": "True",
         "hovertemplate": "month=7<br>year=2012<br>PLOT=%{marker.color}<br>VISSP_NAME=%{y}<extra></extra>",
         "legendgroup": "",
         "marker": {
          "color": [
           1,
           2,
           3,
           4,
           5,
           6,
           7,
           8,
           9,
           10
          ],
          "coloraxis": "coloraxis",
          "line": {
           "width": 1e-08
          }
         },
         "name": "",
         "offsetgroup": "",
         "orientation": "v",
         "showlegend": false,
         "textposition": "auto",
         "type": "bar",
         "x": [
          1,
          2,
          3,
          4,
          5,
          6,
          7,
          8,
          9,
          10
         ],
         "xaxis": "x18",
         "y": [
          430,
          579,
          498,
          523,
          529,
          409,
          321,
          389,
          390,
          510
         ],
         "yaxis": "y18"
        },
        {
         "alignmentgroup": "True",
         "hovertemplate": "month=7<br>year=2013<br>PLOT=%{marker.color}<br>VISSP_NAME=%{y}<extra></extra>",
         "legendgroup": "",
         "marker": {
          "color": [
           1,
           2,
           3,
           4,
           5,
           6,
           7,
           8,
           9,
           10
          ],
          "coloraxis": "coloraxis",
          "line": {
           "width": 1e-08
          }
         },
         "name": "",
         "offsetgroup": "",
         "orientation": "v",
         "showlegend": false,
         "textposition": "auto",
         "type": "bar",
         "x": [
          1,
          2,
          3,
          4,
          5,
          6,
          7,
          8,
          9,
          10
         ],
         "xaxis": "x19",
         "y": [
          379,
          612,
          487,
          715,
          563,
          500,
          526,
          548,
          772,
          448
         ],
         "yaxis": "y19"
        },
        {
         "alignmentgroup": "True",
         "hovertemplate": "month=7<br>year=2014<br>PLOT=%{marker.color}<br>VISSP_NAME=%{y}<extra></extra>",
         "legendgroup": "",
         "marker": {
          "color": [
           1,
           2,
           3,
           4,
           5,
           6,
           7,
           8,
           9,
           10
          ],
          "coloraxis": "coloraxis",
          "line": {
           "width": 1e-08
          }
         },
         "name": "",
         "offsetgroup": "",
         "orientation": "v",
         "showlegend": false,
         "textposition": "auto",
         "type": "bar",
         "x": [
          1,
          2,
          3,
          4,
          5,
          6,
          7,
          8,
          9,
          10
         ],
         "xaxis": "x20",
         "y": [
          404,
          508,
          301,
          433,
          277,
          316,
          510,
          541,
          506,
          325
         ],
         "yaxis": "y20"
        },
        {
         "alignmentgroup": "True",
         "hovertemplate": "month=7<br>year=2015<br>PLOT=%{marker.color}<br>VISSP_NAME=%{y}<extra></extra>",
         "legendgroup": "",
         "marker": {
          "color": [
           1,
           2,
           3,
           4,
           5,
           6,
           7,
           8,
           9,
           10
          ],
          "coloraxis": "coloraxis",
          "line": {
           "width": 1e-08
          }
         },
         "name": "",
         "offsetgroup": "",
         "orientation": "v",
         "showlegend": false,
         "textposition": "auto",
         "type": "bar",
         "x": [
          1,
          2,
          3,
          4,
          5,
          6,
          7,
          8,
          9,
          10
         ],
         "xaxis": "x21",
         "y": [
          152,
          112,
          106,
          127,
          70,
          170,
          172,
          108,
          157,
          220
         ],
         "yaxis": "y21"
        },
        {
         "alignmentgroup": "True",
         "hovertemplate": "month=7<br>year=2016<br>PLOT=%{marker.color}<br>VISSP_NAME=%{y}<extra></extra>",
         "legendgroup": "",
         "marker": {
          "color": [
           1,
           2,
           3,
           4,
           5,
           6,
           7,
           8,
           9,
           10
          ],
          "coloraxis": "coloraxis",
          "line": {
           "width": 1e-08
          }
         },
         "name": "",
         "offsetgroup": "",
         "orientation": "v",
         "showlegend": false,
         "textposition": "auto",
         "type": "bar",
         "x": [
          1,
          2,
          3,
          4,
          5,
          6,
          7,
          8,
          9,
          10
         ],
         "xaxis": "x22",
         "y": [
          443,
          437,
          356,
          935,
          216,
          399,
          436,
          339,
          362,
          310
         ],
         "yaxis": "y22"
        },
        {
         "alignmentgroup": "True",
         "hovertemplate": "month=7<br>year=2017<br>PLOT=%{marker.color}<br>VISSP_NAME=%{y}<extra></extra>",
         "legendgroup": "",
         "marker": {
          "color": [
           1,
           2,
           3,
           4,
           5,
           6,
           7,
           8,
           9,
           10
          ],
          "coloraxis": "coloraxis",
          "line": {
           "width": 1e-08
          }
         },
         "name": "",
         "offsetgroup": "",
         "orientation": "v",
         "showlegend": false,
         "textposition": "auto",
         "type": "bar",
         "x": [
          1,
          2,
          3,
          4,
          5,
          6,
          7,
          8,
          9,
          10
         ],
         "xaxis": "x23",
         "y": [
          947,
          1166,
          597,
          726,
          516,
          672,
          964,
          641,
          699,
          634
         ],
         "yaxis": "y23"
        },
        {
         "alignmentgroup": "True",
         "hovertemplate": "month=7<br>year=2018<br>PLOT=%{marker.color}<br>VISSP_NAME=%{y}<extra></extra>",
         "legendgroup": "",
         "marker": {
          "color": [
           1,
           2,
           3,
           4,
           5,
           6,
           7,
           8,
           9,
           10
          ],
          "coloraxis": "coloraxis",
          "line": {
           "width": 1e-08
          }
         },
         "name": "",
         "offsetgroup": "",
         "orientation": "v",
         "showlegend": false,
         "textposition": "auto",
         "type": "bar",
         "x": [
          1,
          2,
          3,
          4,
          5,
          6,
          7,
          8,
          9,
          10
         ],
         "xaxis": "x24",
         "y": [
          904,
          967,
          653,
          710,
          839,
          686,
          748,
          1082,
          1135,
          837
         ],
         "yaxis": "y24"
        },
        {
         "alignmentgroup": "True",
         "hovertemplate": "month=8<br>year=2011<br>PLOT=%{marker.color}<br>VISSP_NAME=%{y}<extra></extra>",
         "legendgroup": "",
         "marker": {
          "color": [
           1,
           2,
           3,
           4,
           5,
           6,
           7,
           8,
           9,
           10
          ],
          "coloraxis": "coloraxis",
          "line": {
           "width": 1e-08
          }
         },
         "name": "",
         "offsetgroup": "",
         "orientation": "v",
         "showlegend": false,
         "textposition": "auto",
         "type": "bar",
         "x": [
          1,
          2,
          3,
          4,
          5,
          6,
          7,
          8,
          9,
          10
         ],
         "xaxis": "x9",
         "y": [
          773,
          742,
          637,
          523,
          681,
          803,
          561,
          744,
          418,
          510
         ],
         "yaxis": "y9"
        },
        {
         "alignmentgroup": "True",
         "hovertemplate": "month=8<br>year=2012<br>PLOT=%{marker.color}<br>VISSP_NAME=%{y}<extra></extra>",
         "legendgroup": "",
         "marker": {
          "color": [
           1,
           2,
           3,
           4,
           5,
           6,
           7,
           8,
           9,
           10
          ],
          "coloraxis": "coloraxis",
          "line": {
           "width": 1e-08
          }
         },
         "name": "",
         "offsetgroup": "",
         "orientation": "v",
         "showlegend": false,
         "textposition": "auto",
         "type": "bar",
         "x": [
          1,
          2,
          3,
          4,
          5,
          6,
          7,
          8,
          9,
          10
         ],
         "xaxis": "x10",
         "y": [
          384,
          404,
          370,
          693,
          371,
          150,
          253,
          255,
          327,
          284
         ],
         "yaxis": "y10"
        },
        {
         "alignmentgroup": "True",
         "hovertemplate": "month=8<br>year=2013<br>PLOT=%{marker.color}<br>VISSP_NAME=%{y}<extra></extra>",
         "legendgroup": "",
         "marker": {
          "color": [
           1,
           2,
           3,
           4,
           5,
           6,
           7,
           8,
           9,
           10
          ],
          "coloraxis": "coloraxis",
          "line": {
           "width": 1e-08
          }
         },
         "name": "",
         "offsetgroup": "",
         "orientation": "v",
         "showlegend": false,
         "textposition": "auto",
         "type": "bar",
         "x": [
          1,
          2,
          3,
          4,
          5,
          6,
          7,
          8,
          9,
          10
         ],
         "xaxis": "x11",
         "y": [
          73,
          63,
          53,
          80,
          68,
          245,
          62,
          84,
          101,
          156
         ],
         "yaxis": "y11"
        },
        {
         "alignmentgroup": "True",
         "hovertemplate": "month=8<br>year=2014<br>PLOT=%{marker.color}<br>VISSP_NAME=%{y}<extra></extra>",
         "legendgroup": "",
         "marker": {
          "color": [
           1,
           2,
           3,
           4,
           5,
           6,
           7,
           8,
           9,
           10
          ],
          "coloraxis": "coloraxis",
          "line": {
           "width": 1e-08
          }
         },
         "name": "",
         "offsetgroup": "",
         "orientation": "v",
         "showlegend": false,
         "textposition": "auto",
         "type": "bar",
         "x": [
          1,
          2,
          3,
          4,
          5,
          6,
          7,
          8,
          9,
          10
         ],
         "xaxis": "x12",
         "y": [
          24,
          32,
          14,
          22,
          17,
          37,
          19,
          34,
          65,
          119
         ],
         "yaxis": "y12"
        },
        {
         "alignmentgroup": "True",
         "hovertemplate": "month=8<br>year=2016<br>PLOT=%{marker.color}<br>VISSP_NAME=%{y}<extra></extra>",
         "legendgroup": "",
         "marker": {
          "color": [
           1,
           2,
           3,
           4,
           5,
           6,
           7,
           8,
           9,
           10
          ],
          "coloraxis": "coloraxis",
          "line": {
           "width": 1e-08
          }
         },
         "name": "",
         "offsetgroup": "",
         "orientation": "v",
         "showlegend": false,
         "textposition": "auto",
         "type": "bar",
         "x": [
          1,
          2,
          3,
          4,
          5,
          6,
          7,
          8,
          9,
          10
         ],
         "xaxis": "x14",
         "y": [
          48,
          29,
          43,
          11,
          2,
          26,
          1,
          2,
          5,
          2
         ],
         "yaxis": "y14"
        },
        {
         "alignmentgroup": "True",
         "hovertemplate": "month=8<br>year=2017<br>PLOT=%{marker.color}<br>VISSP_NAME=%{y}<extra></extra>",
         "legendgroup": "",
         "marker": {
          "color": [
           1,
           2,
           3,
           4,
           5,
           6,
           7,
           8,
           9,
           10
          ],
          "coloraxis": "coloraxis",
          "line": {
           "width": 1e-08
          }
         },
         "name": "",
         "offsetgroup": "",
         "orientation": "v",
         "showlegend": false,
         "textposition": "auto",
         "type": "bar",
         "x": [
          1,
          2,
          3,
          4,
          5,
          6,
          7,
          8,
          9,
          10
         ],
         "xaxis": "x15",
         "y": [
          113,
          27,
          90,
          9,
          11,
          24,
          16,
          43,
          103,
          206
         ],
         "yaxis": "y15"
        },
        {
         "alignmentgroup": "True",
         "hovertemplate": "month=8<br>year=2018<br>PLOT=%{marker.color}<br>VISSP_NAME=%{y}<extra></extra>",
         "legendgroup": "",
         "marker": {
          "color": [
           1,
           2,
           3,
           4,
           5,
           6,
           7,
           8,
           9,
           10
          ],
          "coloraxis": "coloraxis",
          "line": {
           "width": 1e-08
          }
         },
         "name": "",
         "offsetgroup": "",
         "orientation": "v",
         "showlegend": false,
         "textposition": "auto",
         "type": "bar",
         "x": [
          1,
          2,
          3,
          4,
          5,
          6,
          7,
          8,
          9,
          10
         ],
         "xaxis": "x16",
         "y": [
          62,
          22,
          20,
          45,
          121,
          140,
          56,
          21,
          47,
          88
         ],
         "yaxis": "y16"
        },
        {
         "alignmentgroup": "True",
         "hovertemplate": "month=9<br>year=2011<br>PLOT=%{marker.color}<br>VISSP_NAME=%{y}<extra></extra>",
         "legendgroup": "",
         "marker": {
          "color": [
           1,
           2,
           3,
           4,
           5,
           6,
           7,
           8,
           9,
           10
          ],
          "coloraxis": "coloraxis",
          "line": {
           "width": 1e-08
          }
         },
         "name": "",
         "offsetgroup": "",
         "orientation": "v",
         "showlegend": false,
         "textposition": "auto",
         "type": "bar",
         "x": [
          1,
          2,
          3,
          4,
          5,
          6,
          7,
          8,
          9,
          10
         ],
         "xaxis": "x",
         "y": [
          3,
          34,
          51,
          16,
          4,
          45,
          17,
          9,
          9,
          25
         ],
         "yaxis": "y"
        }
       ],
       "layout": {
        "annotations": [
         {
          "font": {},
          "showarrow": false,
          "text": "year=2011",
          "x": 0.0525,
          "xanchor": "center",
          "xref": "paper",
          "y": 1,
          "yanchor": "bottom",
          "yref": "paper"
         },
         {
          "font": {},
          "showarrow": false,
          "text": "year=2012",
          "x": 0.1775,
          "xanchor": "center",
          "xref": "paper",
          "y": 1,
          "yanchor": "bottom",
          "yref": "paper"
         },
         {
          "font": {},
          "showarrow": false,
          "text": "year=2013",
          "x": 0.3025,
          "xanchor": "center",
          "xref": "paper",
          "y": 1,
          "yanchor": "bottom",
          "yref": "paper"
         },
         {
          "font": {},
          "showarrow": false,
          "text": "year=2014",
          "x": 0.4275,
          "xanchor": "center",
          "xref": "paper",
          "y": 1,
          "yanchor": "bottom",
          "yref": "paper"
         },
         {
          "font": {},
          "showarrow": false,
          "text": "year=2015",
          "x": 0.5525,
          "xanchor": "center",
          "xref": "paper",
          "y": 1,
          "yanchor": "bottom",
          "yref": "paper"
         },
         {
          "font": {},
          "showarrow": false,
          "text": "year=2016",
          "x": 0.6775,
          "xanchor": "center",
          "xref": "paper",
          "y": 1,
          "yanchor": "bottom",
          "yref": "paper"
         },
         {
          "font": {},
          "showarrow": false,
          "text": "year=2017",
          "x": 0.8025,
          "xanchor": "center",
          "xref": "paper",
          "y": 1,
          "yanchor": "bottom",
          "yref": "paper"
         },
         {
          "font": {},
          "showarrow": false,
          "text": "year=2018",
          "x": 0.9275,
          "xanchor": "center",
          "xref": "paper",
          "y": 1,
          "yanchor": "bottom",
          "yref": "paper"
         },
         {
          "font": {},
          "showarrow": false,
          "text": "month=9",
          "textangle": 90,
          "x": 0.98,
          "xanchor": "left",
          "xref": "paper",
          "y": 0.11375,
          "yanchor": "middle",
          "yref": "paper"
         },
         {
          "font": {},
          "showarrow": false,
          "text": "month=8",
          "textangle": 90,
          "x": 0.98,
          "xanchor": "left",
          "xref": "paper",
          "y": 0.37124999999999997,
          "yanchor": "middle",
          "yref": "paper"
         },
         {
          "font": {},
          "showarrow": false,
          "text": "month=7",
          "textangle": 90,
          "x": 0.98,
          "xanchor": "left",
          "xref": "paper",
          "y": 0.62875,
          "yanchor": "middle",
          "yref": "paper"
         },
         {
          "font": {},
          "showarrow": false,
          "text": "month=6",
          "textangle": 90,
          "x": 0.98,
          "xanchor": "left",
          "xref": "paper",
          "y": 0.88625,
          "yanchor": "middle",
          "yref": "paper"
         }
        ],
        "barmode": "group",
        "coloraxis": {
         "colorbar": {
          "title": {
           "text": "PLOT"
          }
         },
         "colorscale": [
          [
           0,
           "#0d0887"
          ],
          [
           0.1111111111111111,
           "#46039f"
          ],
          [
           0.2222222222222222,
           "#7201a8"
          ],
          [
           0.3333333333333333,
           "#9c179e"
          ],
          [
           0.4444444444444444,
           "#bd3786"
          ],
          [
           0.5555555555555556,
           "#d8576b"
          ],
          [
           0.6666666666666666,
           "#ed7953"
          ],
          [
           0.7777777777777778,
           "#fb9f3a"
          ],
          [
           0.8888888888888888,
           "#fdca26"
          ],
          [
           1,
           "#f0f921"
          ]
         ]
        },
        "legend": {
         "tracegroupgap": 0
        },
        "margin": {
         "t": 60
        },
        "template": {
         "data": {
          "bar": [
           {
            "error_x": {
             "color": "#2a3f5f"
            },
            "error_y": {
             "color": "#2a3f5f"
            },
            "marker": {
             "line": {
              "color": "#E5ECF6",
              "width": 0.5
             }
            },
            "type": "bar"
           }
          ],
          "barpolar": [
           {
            "marker": {
             "line": {
              "color": "#E5ECF6",
              "width": 0.5
             }
            },
            "type": "barpolar"
           }
          ],
          "carpet": [
           {
            "aaxis": {
             "endlinecolor": "#2a3f5f",
             "gridcolor": "white",
             "linecolor": "white",
             "minorgridcolor": "white",
             "startlinecolor": "#2a3f5f"
            },
            "baxis": {
             "endlinecolor": "#2a3f5f",
             "gridcolor": "white",
             "linecolor": "white",
             "minorgridcolor": "white",
             "startlinecolor": "#2a3f5f"
            },
            "type": "carpet"
           }
          ],
          "choropleth": [
           {
            "colorbar": {
             "outlinewidth": 0,
             "ticks": ""
            },
            "type": "choropleth"
           }
          ],
          "contour": [
           {
            "colorbar": {
             "outlinewidth": 0,
             "ticks": ""
            },
            "colorscale": [
             [
              0,
              "#0d0887"
             ],
             [
              0.1111111111111111,
              "#46039f"
             ],
             [
              0.2222222222222222,
              "#7201a8"
             ],
             [
              0.3333333333333333,
              "#9c179e"
             ],
             [
              0.4444444444444444,
              "#bd3786"
             ],
             [
              0.5555555555555556,
              "#d8576b"
             ],
             [
              0.6666666666666666,
              "#ed7953"
             ],
             [
              0.7777777777777778,
              "#fb9f3a"
             ],
             [
              0.8888888888888888,
              "#fdca26"
             ],
             [
              1,
              "#f0f921"
             ]
            ],
            "type": "contour"
           }
          ],
          "contourcarpet": [
           {
            "colorbar": {
             "outlinewidth": 0,
             "ticks": ""
            },
            "type": "contourcarpet"
           }
          ],
          "heatmap": [
           {
            "colorbar": {
             "outlinewidth": 0,
             "ticks": ""
            },
            "colorscale": [
             [
              0,
              "#0d0887"
             ],
             [
              0.1111111111111111,
              "#46039f"
             ],
             [
              0.2222222222222222,
              "#7201a8"
             ],
             [
              0.3333333333333333,
              "#9c179e"
             ],
             [
              0.4444444444444444,
              "#bd3786"
             ],
             [
              0.5555555555555556,
              "#d8576b"
             ],
             [
              0.6666666666666666,
              "#ed7953"
             ],
             [
              0.7777777777777778,
              "#fb9f3a"
             ],
             [
              0.8888888888888888,
              "#fdca26"
             ],
             [
              1,
              "#f0f921"
             ]
            ],
            "type": "heatmap"
           }
          ],
          "heatmapgl": [
           {
            "colorbar": {
             "outlinewidth": 0,
             "ticks": ""
            },
            "colorscale": [
             [
              0,
              "#0d0887"
             ],
             [
              0.1111111111111111,
              "#46039f"
             ],
             [
              0.2222222222222222,
              "#7201a8"
             ],
             [
              0.3333333333333333,
              "#9c179e"
             ],
             [
              0.4444444444444444,
              "#bd3786"
             ],
             [
              0.5555555555555556,
              "#d8576b"
             ],
             [
              0.6666666666666666,
              "#ed7953"
             ],
             [
              0.7777777777777778,
              "#fb9f3a"
             ],
             [
              0.8888888888888888,
              "#fdca26"
             ],
             [
              1,
              "#f0f921"
             ]
            ],
            "type": "heatmapgl"
           }
          ],
          "histogram": [
           {
            "marker": {
             "colorbar": {
              "outlinewidth": 0,
              "ticks": ""
             }
            },
            "type": "histogram"
           }
          ],
          "histogram2d": [
           {
            "colorbar": {
             "outlinewidth": 0,
             "ticks": ""
            },
            "colorscale": [
             [
              0,
              "#0d0887"
             ],
             [
              0.1111111111111111,
              "#46039f"
             ],
             [
              0.2222222222222222,
              "#7201a8"
             ],
             [
              0.3333333333333333,
              "#9c179e"
             ],
             [
              0.4444444444444444,
              "#bd3786"
             ],
             [
              0.5555555555555556,
              "#d8576b"
             ],
             [
              0.6666666666666666,
              "#ed7953"
             ],
             [
              0.7777777777777778,
              "#fb9f3a"
             ],
             [
              0.8888888888888888,
              "#fdca26"
             ],
             [
              1,
              "#f0f921"
             ]
            ],
            "type": "histogram2d"
           }
          ],
          "histogram2dcontour": [
           {
            "colorbar": {
             "outlinewidth": 0,
             "ticks": ""
            },
            "colorscale": [
             [
              0,
              "#0d0887"
             ],
             [
              0.1111111111111111,
              "#46039f"
             ],
             [
              0.2222222222222222,
              "#7201a8"
             ],
             [
              0.3333333333333333,
              "#9c179e"
             ],
             [
              0.4444444444444444,
              "#bd3786"
             ],
             [
              0.5555555555555556,
              "#d8576b"
             ],
             [
              0.6666666666666666,
              "#ed7953"
             ],
             [
              0.7777777777777778,
              "#fb9f3a"
             ],
             [
              0.8888888888888888,
              "#fdca26"
             ],
             [
              1,
              "#f0f921"
             ]
            ],
            "type": "histogram2dcontour"
           }
          ],
          "mesh3d": [
           {
            "colorbar": {
             "outlinewidth": 0,
             "ticks": ""
            },
            "type": "mesh3d"
           }
          ],
          "parcoords": [
           {
            "line": {
             "colorbar": {
              "outlinewidth": 0,
              "ticks": ""
             }
            },
            "type": "parcoords"
           }
          ],
          "pie": [
           {
            "automargin": true,
            "type": "pie"
           }
          ],
          "scatter": [
           {
            "marker": {
             "colorbar": {
              "outlinewidth": 0,
              "ticks": ""
             }
            },
            "type": "scatter"
           }
          ],
          "scatter3d": [
           {
            "line": {
             "colorbar": {
              "outlinewidth": 0,
              "ticks": ""
             }
            },
            "marker": {
             "colorbar": {
              "outlinewidth": 0,
              "ticks": ""
             }
            },
            "type": "scatter3d"
           }
          ],
          "scattercarpet": [
           {
            "marker": {
             "colorbar": {
              "outlinewidth": 0,
              "ticks": ""
             }
            },
            "type": "scattercarpet"
           }
          ],
          "scattergeo": [
           {
            "marker": {
             "colorbar": {
              "outlinewidth": 0,
              "ticks": ""
             }
            },
            "type": "scattergeo"
           }
          ],
          "scattergl": [
           {
            "marker": {
             "colorbar": {
              "outlinewidth": 0,
              "ticks": ""
             }
            },
            "type": "scattergl"
           }
          ],
          "scattermapbox": [
           {
            "marker": {
             "colorbar": {
              "outlinewidth": 0,
              "ticks": ""
             }
            },
            "type": "scattermapbox"
           }
          ],
          "scatterpolar": [
           {
            "marker": {
             "colorbar": {
              "outlinewidth": 0,
              "ticks": ""
             }
            },
            "type": "scatterpolar"
           }
          ],
          "scatterpolargl": [
           {
            "marker": {
             "colorbar": {
              "outlinewidth": 0,
              "ticks": ""
             }
            },
            "type": "scatterpolargl"
           }
          ],
          "scatterternary": [
           {
            "marker": {
             "colorbar": {
              "outlinewidth": 0,
              "ticks": ""
             }
            },
            "type": "scatterternary"
           }
          ],
          "surface": [
           {
            "colorbar": {
             "outlinewidth": 0,
             "ticks": ""
            },
            "colorscale": [
             [
              0,
              "#0d0887"
             ],
             [
              0.1111111111111111,
              "#46039f"
             ],
             [
              0.2222222222222222,
              "#7201a8"
             ],
             [
              0.3333333333333333,
              "#9c179e"
             ],
             [
              0.4444444444444444,
              "#bd3786"
             ],
             [
              0.5555555555555556,
              "#d8576b"
             ],
             [
              0.6666666666666666,
              "#ed7953"
             ],
             [
              0.7777777777777778,
              "#fb9f3a"
             ],
             [
              0.8888888888888888,
              "#fdca26"
             ],
             [
              1,
              "#f0f921"
             ]
            ],
            "type": "surface"
           }
          ],
          "table": [
           {
            "cells": {
             "fill": {
              "color": "#EBF0F8"
             },
             "line": {
              "color": "white"
             }
            },
            "header": {
             "fill": {
              "color": "#C8D4E3"
             },
             "line": {
              "color": "white"
             }
            },
            "type": "table"
           }
          ]
         },
         "layout": {
          "annotationdefaults": {
           "arrowcolor": "#2a3f5f",
           "arrowhead": 0,
           "arrowwidth": 1
          },
          "autotypenumbers": "strict",
          "coloraxis": {
           "colorbar": {
            "outlinewidth": 0,
            "ticks": ""
           }
          },
          "colorscale": {
           "diverging": [
            [
             0,
             "#8e0152"
            ],
            [
             0.1,
             "#c51b7d"
            ],
            [
             0.2,
             "#de77ae"
            ],
            [
             0.3,
             "#f1b6da"
            ],
            [
             0.4,
             "#fde0ef"
            ],
            [
             0.5,
             "#f7f7f7"
            ],
            [
             0.6,
             "#e6f5d0"
            ],
            [
             0.7,
             "#b8e186"
            ],
            [
             0.8,
             "#7fbc41"
            ],
            [
             0.9,
             "#4d9221"
            ],
            [
             1,
             "#276419"
            ]
           ],
           "sequential": [
            [
             0,
             "#0d0887"
            ],
            [
             0.1111111111111111,
             "#46039f"
            ],
            [
             0.2222222222222222,
             "#7201a8"
            ],
            [
             0.3333333333333333,
             "#9c179e"
            ],
            [
             0.4444444444444444,
             "#bd3786"
            ],
            [
             0.5555555555555556,
             "#d8576b"
            ],
            [
             0.6666666666666666,
             "#ed7953"
            ],
            [
             0.7777777777777778,
             "#fb9f3a"
            ],
            [
             0.8888888888888888,
             "#fdca26"
            ],
            [
             1,
             "#f0f921"
            ]
           ],
           "sequentialminus": [
            [
             0,
             "#0d0887"
            ],
            [
             0.1111111111111111,
             "#46039f"
            ],
            [
             0.2222222222222222,
             "#7201a8"
            ],
            [
             0.3333333333333333,
             "#9c179e"
            ],
            [
             0.4444444444444444,
             "#bd3786"
            ],
            [
             0.5555555555555556,
             "#d8576b"
            ],
            [
             0.6666666666666666,
             "#ed7953"
            ],
            [
             0.7777777777777778,
             "#fb9f3a"
            ],
            [
             0.8888888888888888,
             "#fdca26"
            ],
            [
             1,
             "#f0f921"
            ]
           ]
          },
          "colorway": [
           "#636efa",
           "#EF553B",
           "#00cc96",
           "#ab63fa",
           "#FFA15A",
           "#19d3f3",
           "#FF6692",
           "#B6E880",
           "#FF97FF",
           "#FECB52"
          ],
          "font": {
           "color": "#2a3f5f"
          },
          "geo": {
           "bgcolor": "white",
           "lakecolor": "white",
           "landcolor": "#E5ECF6",
           "showlakes": true,
           "showland": true,
           "subunitcolor": "white"
          },
          "hoverlabel": {
           "align": "left"
          },
          "hovermode": "closest",
          "mapbox": {
           "style": "light"
          },
          "paper_bgcolor": "white",
          "plot_bgcolor": "#E5ECF6",
          "polar": {
           "angularaxis": {
            "gridcolor": "white",
            "linecolor": "white",
            "ticks": ""
           },
           "bgcolor": "#E5ECF6",
           "radialaxis": {
            "gridcolor": "white",
            "linecolor": "white",
            "ticks": ""
           }
          },
          "scene": {
           "xaxis": {
            "backgroundcolor": "#E5ECF6",
            "gridcolor": "white",
            "gridwidth": 2,
            "linecolor": "white",
            "showbackground": true,
            "ticks": "",
            "zerolinecolor": "white"
           },
           "yaxis": {
            "backgroundcolor": "#E5ECF6",
            "gridcolor": "white",
            "gridwidth": 2,
            "linecolor": "white",
            "showbackground": true,
            "ticks": "",
            "zerolinecolor": "white"
           },
           "zaxis": {
            "backgroundcolor": "#E5ECF6",
            "gridcolor": "white",
            "gridwidth": 2,
            "linecolor": "white",
            "showbackground": true,
            "ticks": "",
            "zerolinecolor": "white"
           }
          },
          "shapedefaults": {
           "line": {
            "color": "#2a3f5f"
           }
          },
          "ternary": {
           "aaxis": {
            "gridcolor": "white",
            "linecolor": "white",
            "ticks": ""
           },
           "baxis": {
            "gridcolor": "white",
            "linecolor": "white",
            "ticks": ""
           },
           "bgcolor": "#E5ECF6",
           "caxis": {
            "gridcolor": "white",
            "linecolor": "white",
            "ticks": ""
           }
          },
          "title": {
           "x": 0.05
          },
          "xaxis": {
           "automargin": true,
           "gridcolor": "white",
           "linecolor": "white",
           "ticks": "",
           "title": {
            "standoff": 15
           },
           "zerolinecolor": "white",
           "zerolinewidth": 2
          },
          "yaxis": {
           "automargin": true,
           "gridcolor": "white",
           "linecolor": "white",
           "ticks": "",
           "title": {
            "standoff": 15
           },
           "zerolinecolor": "white",
           "zerolinewidth": 2
          }
         }
        },
        "xaxis": {
         "anchor": "y",
         "domain": [
          0,
          0.105
         ],
         "title": {
          "text": "PLOT"
         }
        },
        "xaxis10": {
         "anchor": "y10",
         "domain": [
          0.125,
          0.22999999999999998
         ],
         "matches": "x",
         "showticklabels": false
        },
        "xaxis11": {
         "anchor": "y11",
         "domain": [
          0.25,
          0.355
         ],
         "matches": "x",
         "showticklabels": false
        },
        "xaxis12": {
         "anchor": "y12",
         "domain": [
          0.375,
          0.48
         ],
         "matches": "x",
         "showticklabels": false
        },
        "xaxis13": {
         "anchor": "y13",
         "domain": [
          0.5,
          0.605
         ],
         "matches": "x",
         "showticklabels": false
        },
        "xaxis14": {
         "anchor": "y14",
         "domain": [
          0.625,
          0.73
         ],
         "matches": "x",
         "showticklabels": false
        },
        "xaxis15": {
         "anchor": "y15",
         "domain": [
          0.75,
          0.855
         ],
         "matches": "x",
         "showticklabels": false
        },
        "xaxis16": {
         "anchor": "y16",
         "domain": [
          0.875,
          0.98
         ],
         "matches": "x",
         "showticklabels": false
        },
        "xaxis17": {
         "anchor": "y17",
         "domain": [
          0,
          0.105
         ],
         "matches": "x",
         "showticklabels": false
        },
        "xaxis18": {
         "anchor": "y18",
         "domain": [
          0.125,
          0.22999999999999998
         ],
         "matches": "x",
         "showticklabels": false
        },
        "xaxis19": {
         "anchor": "y19",
         "domain": [
          0.25,
          0.355
         ],
         "matches": "x",
         "showticklabels": false
        },
        "xaxis2": {
         "anchor": "y2",
         "domain": [
          0.125,
          0.22999999999999998
         ],
         "matches": "x",
         "title": {
          "text": "PLOT"
         }
        },
        "xaxis20": {
         "anchor": "y20",
         "domain": [
          0.375,
          0.48
         ],
         "matches": "x",
         "showticklabels": false
        },
        "xaxis21": {
         "anchor": "y21",
         "domain": [
          0.5,
          0.605
         ],
         "matches": "x",
         "showticklabels": false
        },
        "xaxis22": {
         "anchor": "y22",
         "domain": [
          0.625,
          0.73
         ],
         "matches": "x",
         "showticklabels": false
        },
        "xaxis23": {
         "anchor": "y23",
         "domain": [
          0.75,
          0.855
         ],
         "matches": "x",
         "showticklabels": false
        },
        "xaxis24": {
         "anchor": "y24",
         "domain": [
          0.875,
          0.98
         ],
         "matches": "x",
         "showticklabels": false
        },
        "xaxis25": {
         "anchor": "y25",
         "domain": [
          0,
          0.105
         ],
         "matches": "x",
         "showticklabels": false
        },
        "xaxis26": {
         "anchor": "y26",
         "domain": [
          0.125,
          0.22999999999999998
         ],
         "matches": "x",
         "showticklabels": false
        },
        "xaxis27": {
         "anchor": "y27",
         "domain": [
          0.25,
          0.355
         ],
         "matches": "x",
         "showticklabels": false
        },
        "xaxis28": {
         "anchor": "y28",
         "domain": [
          0.375,
          0.48
         ],
         "matches": "x",
         "showticklabels": false
        },
        "xaxis29": {
         "anchor": "y29",
         "domain": [
          0.5,
          0.605
         ],
         "matches": "x",
         "showticklabels": false
        },
        "xaxis3": {
         "anchor": "y3",
         "domain": [
          0.25,
          0.355
         ],
         "matches": "x",
         "title": {
          "text": "PLOT"
         }
        },
        "xaxis30": {
         "anchor": "y30",
         "domain": [
          0.625,
          0.73
         ],
         "matches": "x",
         "showticklabels": false
        },
        "xaxis31": {
         "anchor": "y31",
         "domain": [
          0.75,
          0.855
         ],
         "matches": "x",
         "showticklabels": false
        },
        "xaxis32": {
         "anchor": "y32",
         "domain": [
          0.875,
          0.98
         ],
         "matches": "x",
         "showticklabels": false
        },
        "xaxis4": {
         "anchor": "y4",
         "domain": [
          0.375,
          0.48
         ],
         "matches": "x",
         "title": {
          "text": "PLOT"
         }
        },
        "xaxis5": {
         "anchor": "y5",
         "domain": [
          0.5,
          0.605
         ],
         "matches": "x",
         "title": {
          "text": "PLOT"
         }
        },
        "xaxis6": {
         "anchor": "y6",
         "domain": [
          0.625,
          0.73
         ],
         "matches": "x",
         "title": {
          "text": "PLOT"
         }
        },
        "xaxis7": {
         "anchor": "y7",
         "domain": [
          0.75,
          0.855
         ],
         "matches": "x",
         "title": {
          "text": "PLOT"
         }
        },
        "xaxis8": {
         "anchor": "y8",
         "domain": [
          0.875,
          0.98
         ],
         "matches": "x",
         "title": {
          "text": "PLOT"
         }
        },
        "xaxis9": {
         "anchor": "y9",
         "domain": [
          0,
          0.105
         ],
         "matches": "x",
         "showticklabels": false
        },
        "yaxis": {
         "anchor": "x",
         "domain": [
          0,
          0.2275
         ],
         "title": {
          "text": "VISSP_NAME"
         }
        },
        "yaxis10": {
         "anchor": "x10",
         "domain": [
          0.2575,
          0.485
         ],
         "matches": "y",
         "showticklabels": false
        },
        "yaxis11": {
         "anchor": "x11",
         "domain": [
          0.2575,
          0.485
         ],
         "matches": "y",
         "showticklabels": false
        },
        "yaxis12": {
         "anchor": "x12",
         "domain": [
          0.2575,
          0.485
         ],
         "matches": "y",
         "showticklabels": false
        },
        "yaxis13": {
         "anchor": "x13",
         "domain": [
          0.2575,
          0.485
         ],
         "matches": "y",
         "showticklabels": false
        },
        "yaxis14": {
         "anchor": "x14",
         "domain": [
          0.2575,
          0.485
         ],
         "matches": "y",
         "showticklabels": false
        },
        "yaxis15": {
         "anchor": "x15",
         "domain": [
          0.2575,
          0.485
         ],
         "matches": "y",
         "showticklabels": false
        },
        "yaxis16": {
         "anchor": "x16",
         "domain": [
          0.2575,
          0.485
         ],
         "matches": "y",
         "showticklabels": false
        },
        "yaxis17": {
         "anchor": "x17",
         "domain": [
          0.515,
          0.7425
         ],
         "matches": "y",
         "title": {
          "text": "VISSP_NAME"
         }
        },
        "yaxis18": {
         "anchor": "x18",
         "domain": [
          0.515,
          0.7425
         ],
         "matches": "y",
         "showticklabels": false
        },
        "yaxis19": {
         "anchor": "x19",
         "domain": [
          0.515,
          0.7425
         ],
         "matches": "y",
         "showticklabels": false
        },
        "yaxis2": {
         "anchor": "x2",
         "domain": [
          0,
          0.2275
         ],
         "matches": "y",
         "showticklabels": false
        },
        "yaxis20": {
         "anchor": "x20",
         "domain": [
          0.515,
          0.7425
         ],
         "matches": "y",
         "showticklabels": false
        },
        "yaxis21": {
         "anchor": "x21",
         "domain": [
          0.515,
          0.7425
         ],
         "matches": "y",
         "showticklabels": false
        },
        "yaxis22": {
         "anchor": "x22",
         "domain": [
          0.515,
          0.7425
         ],
         "matches": "y",
         "showticklabels": false
        },
        "yaxis23": {
         "anchor": "x23",
         "domain": [
          0.515,
          0.7425
         ],
         "matches": "y",
         "showticklabels": false
        },
        "yaxis24": {
         "anchor": "x24",
         "domain": [
          0.515,
          0.7425
         ],
         "matches": "y",
         "showticklabels": false
        },
        "yaxis25": {
         "anchor": "x25",
         "domain": [
          0.7725,
          1
         ],
         "matches": "y",
         "title": {
          "text": "VISSP_NAME"
         }
        },
        "yaxis26": {
         "anchor": "x26",
         "domain": [
          0.7725,
          1
         ],
         "matches": "y",
         "showticklabels": false
        },
        "yaxis27": {
         "anchor": "x27",
         "domain": [
          0.7725,
          1
         ],
         "matches": "y",
         "showticklabels": false
        },
        "yaxis28": {
         "anchor": "x28",
         "domain": [
          0.7725,
          1
         ],
         "matches": "y",
         "showticklabels": false
        },
        "yaxis29": {
         "anchor": "x29",
         "domain": [
          0.7725,
          1
         ],
         "matches": "y",
         "showticklabels": false
        },
        "yaxis3": {
         "anchor": "x3",
         "domain": [
          0,
          0.2275
         ],
         "matches": "y",
         "showticklabels": false
        },
        "yaxis30": {
         "anchor": "x30",
         "domain": [
          0.7725,
          1
         ],
         "matches": "y",
         "showticklabels": false
        },
        "yaxis31": {
         "anchor": "x31",
         "domain": [
          0.7725,
          1
         ],
         "matches": "y",
         "showticklabels": false
        },
        "yaxis32": {
         "anchor": "x32",
         "domain": [
          0.7725,
          1
         ],
         "matches": "y",
         "showticklabels": false
        },
        "yaxis4": {
         "anchor": "x4",
         "domain": [
          0,
          0.2275
         ],
         "matches": "y",
         "showticklabels": false
        },
        "yaxis5": {
         "anchor": "x5",
         "domain": [
          0,
          0.2275
         ],
         "matches": "y",
         "showticklabels": false
        },
        "yaxis6": {
         "anchor": "x6",
         "domain": [
          0,
          0.2275
         ],
         "matches": "y",
         "showticklabels": false
        },
        "yaxis7": {
         "anchor": "x7",
         "domain": [
          0,
          0.2275
         ],
         "matches": "y",
         "showticklabels": false
        },
        "yaxis8": {
         "anchor": "x8",
         "domain": [
          0,
          0.2275
         ],
         "matches": "y",
         "showticklabels": false
        },
        "yaxis9": {
         "anchor": "x9",
         "domain": [
          0.2575,
          0.485
         ],
         "matches": "y",
         "title": {
          "text": "VISSP_NAME"
         }
        }
       }
      },
      "text/html": [
       "<div>                            <div id=\"7ad75bf5-0df1-4df3-ac54-2726d457567b\" class=\"plotly-graph-div\" style=\"height:525px; width:100%;\"></div>            <script type=\"text/javascript\">                require([\"plotly\"], function(Plotly) {                    window.PLOTLYENV=window.PLOTLYENV || {};                                    if (document.getElementById(\"7ad75bf5-0df1-4df3-ac54-2726d457567b\")) {                    Plotly.newPlot(                        \"7ad75bf5-0df1-4df3-ac54-2726d457567b\",                        [{\"alignmentgroup\": \"True\", \"hovertemplate\": \"month=6<br>year=2012<br>PLOT=%{marker.color}<br>VISSP_NAME=%{y}<extra></extra>\", \"legendgroup\": \"\", \"marker\": {\"color\": [1, 2, 3, 4, 5, 6, 7, 8, 9, 10], \"coloraxis\": \"coloraxis\", \"line\": {\"width\": 1e-08}}, \"name\": \"\", \"offsetgroup\": \"\", \"orientation\": \"v\", \"showlegend\": false, \"textposition\": \"auto\", \"type\": \"bar\", \"x\": [1, 2, 3, 4, 5, 6, 7, 8, 9, 10], \"xaxis\": \"x26\", \"y\": [16, 2, 13, 12, 1, 28, 4, 9, 24, 7], \"yaxis\": \"y26\"}, {\"alignmentgroup\": \"True\", \"hovertemplate\": \"month=6<br>year=2013<br>PLOT=%{marker.color}<br>VISSP_NAME=%{y}<extra></extra>\", \"legendgroup\": \"\", \"marker\": {\"color\": [1, 2, 3, 4, 6, 7, 8, 9, 10], \"coloraxis\": \"coloraxis\", \"line\": {\"width\": 1e-08}}, \"name\": \"\", \"offsetgroup\": \"\", \"orientation\": \"v\", \"showlegend\": false, \"textposition\": \"auto\", \"type\": \"bar\", \"x\": [1, 2, 3, 4, 6, 7, 8, 9, 10], \"xaxis\": \"x27\", \"y\": [12, 6, 2, 2, 1, 2, 3, 1, 1], \"yaxis\": \"y27\"}, {\"alignmentgroup\": \"True\", \"hovertemplate\": \"month=6<br>year=2014<br>PLOT=%{marker.color}<br>VISSP_NAME=%{y}<extra></extra>\", \"legendgroup\": \"\", \"marker\": {\"color\": [1, 2, 3, 4, 5, 6, 7, 8, 9, 10], \"coloraxis\": \"coloraxis\", \"line\": {\"width\": 1e-08}}, \"name\": \"\", \"offsetgroup\": \"\", \"orientation\": \"v\", \"showlegend\": false, \"textposition\": \"auto\", \"type\": \"bar\", \"x\": [1, 2, 3, 4, 5, 6, 7, 8, 9, 10], \"xaxis\": \"x28\", \"y\": [46, 16, 23, 13, 13, 0, 6, 30, 14, 8], \"yaxis\": \"y28\"}, {\"alignmentgroup\": \"True\", \"hovertemplate\": \"month=6<br>year=2015<br>PLOT=%{marker.color}<br>VISSP_NAME=%{y}<extra></extra>\", \"legendgroup\": \"\", \"marker\": {\"color\": [1, 2, 3, 4, 5, 6, 7, 8, 9, 10], \"coloraxis\": \"coloraxis\", \"line\": {\"width\": 1e-08}}, \"name\": \"\", \"offsetgroup\": \"\", \"orientation\": \"v\", \"showlegend\": false, \"textposition\": \"auto\", \"type\": \"bar\", \"x\": [1, 2, 3, 4, 5, 6, 7, 8, 9, 10], \"xaxis\": \"x29\", \"y\": [120, 198, 168, 153, 111, 102, 147, 191, 196, 132], \"yaxis\": \"y29\"}, {\"alignmentgroup\": \"True\", \"hovertemplate\": \"month=6<br>year=2016<br>PLOT=%{marker.color}<br>VISSP_NAME=%{y}<extra></extra>\", \"legendgroup\": \"\", \"marker\": {\"color\": [1, 2, 3, 4, 5, 6, 7, 8, 9, 10], \"coloraxis\": \"coloraxis\", \"line\": {\"width\": 1e-08}}, \"name\": \"\", \"offsetgroup\": \"\", \"orientation\": \"v\", \"showlegend\": false, \"textposition\": \"auto\", \"type\": \"bar\", \"x\": [1, 2, 3, 4, 5, 6, 7, 8, 9, 10], \"xaxis\": \"x30\", \"y\": [228, 255, 118, 111, 117, 195, 57, 186, 166, 100], \"yaxis\": \"y30\"}, {\"alignmentgroup\": \"True\", \"hovertemplate\": \"month=6<br>year=2017<br>PLOT=%{marker.color}<br>VISSP_NAME=%{y}<extra></extra>\", \"legendgroup\": \"\", \"marker\": {\"color\": [1, 2, 3, 4, 5, 6, 7, 8, 9, 10], \"coloraxis\": \"coloraxis\", \"line\": {\"width\": 1e-08}}, \"name\": \"\", \"offsetgroup\": \"\", \"orientation\": \"v\", \"showlegend\": false, \"textposition\": \"auto\", \"type\": \"bar\", \"x\": [1, 2, 3, 4, 5, 6, 7, 8, 9, 10], \"xaxis\": \"x31\", \"y\": [138, 277, 201, 126, 77, 146, 95, 115, 41, 87], \"yaxis\": \"y31\"}, {\"alignmentgroup\": \"True\", \"hovertemplate\": \"month=6<br>year=2018<br>PLOT=%{marker.color}<br>VISSP_NAME=%{y}<extra></extra>\", \"legendgroup\": \"\", \"marker\": {\"color\": [1, 2, 3, 4, 5, 6, 7, 8, 9, 10], \"coloraxis\": \"coloraxis\", \"line\": {\"width\": 1e-08}}, \"name\": \"\", \"offsetgroup\": \"\", \"orientation\": \"v\", \"showlegend\": false, \"textposition\": \"auto\", \"type\": \"bar\", \"x\": [1, 2, 3, 4, 5, 6, 7, 8, 9, 10], \"xaxis\": \"x32\", \"y\": [287, 295, 277, 489, 301, 266, 391, 311, 280, 139], \"yaxis\": \"y32\"}, {\"alignmentgroup\": \"True\", \"hovertemplate\": \"month=7<br>year=2011<br>PLOT=%{marker.color}<br>VISSP_NAME=%{y}<extra></extra>\", \"legendgroup\": \"\", \"marker\": {\"color\": [1, 2, 3, 4, 5, 6, 7, 8, 9, 10], \"coloraxis\": \"coloraxis\", \"line\": {\"width\": 1e-08}}, \"name\": \"\", \"offsetgroup\": \"\", \"orientation\": \"v\", \"showlegend\": false, \"textposition\": \"auto\", \"type\": \"bar\", \"x\": [1, 2, 3, 4, 5, 6, 7, 8, 9, 10], \"xaxis\": \"x17\", \"y\": [277, 512, 362, 171, 357, 358, 336, 418, 556, 323], \"yaxis\": \"y17\"}, {\"alignmentgroup\": \"True\", \"hovertemplate\": \"month=7<br>year=2012<br>PLOT=%{marker.color}<br>VISSP_NAME=%{y}<extra></extra>\", \"legendgroup\": \"\", \"marker\": {\"color\": [1, 2, 3, 4, 5, 6, 7, 8, 9, 10], \"coloraxis\": \"coloraxis\", \"line\": {\"width\": 1e-08}}, \"name\": \"\", \"offsetgroup\": \"\", \"orientation\": \"v\", \"showlegend\": false, \"textposition\": \"auto\", \"type\": \"bar\", \"x\": [1, 2, 3, 4, 5, 6, 7, 8, 9, 10], \"xaxis\": \"x18\", \"y\": [430, 579, 498, 523, 529, 409, 321, 389, 390, 510], \"yaxis\": \"y18\"}, {\"alignmentgroup\": \"True\", \"hovertemplate\": \"month=7<br>year=2013<br>PLOT=%{marker.color}<br>VISSP_NAME=%{y}<extra></extra>\", \"legendgroup\": \"\", \"marker\": {\"color\": [1, 2, 3, 4, 5, 6, 7, 8, 9, 10], \"coloraxis\": \"coloraxis\", \"line\": {\"width\": 1e-08}}, \"name\": \"\", \"offsetgroup\": \"\", \"orientation\": \"v\", \"showlegend\": false, \"textposition\": \"auto\", \"type\": \"bar\", \"x\": [1, 2, 3, 4, 5, 6, 7, 8, 9, 10], \"xaxis\": \"x19\", \"y\": [379, 612, 487, 715, 563, 500, 526, 548, 772, 448], \"yaxis\": \"y19\"}, {\"alignmentgroup\": \"True\", \"hovertemplate\": \"month=7<br>year=2014<br>PLOT=%{marker.color}<br>VISSP_NAME=%{y}<extra></extra>\", \"legendgroup\": \"\", \"marker\": {\"color\": [1, 2, 3, 4, 5, 6, 7, 8, 9, 10], \"coloraxis\": \"coloraxis\", \"line\": {\"width\": 1e-08}}, \"name\": \"\", \"offsetgroup\": \"\", \"orientation\": \"v\", \"showlegend\": false, \"textposition\": \"auto\", \"type\": \"bar\", \"x\": [1, 2, 3, 4, 5, 6, 7, 8, 9, 10], \"xaxis\": \"x20\", \"y\": [404, 508, 301, 433, 277, 316, 510, 541, 506, 325], \"yaxis\": \"y20\"}, {\"alignmentgroup\": \"True\", \"hovertemplate\": \"month=7<br>year=2015<br>PLOT=%{marker.color}<br>VISSP_NAME=%{y}<extra></extra>\", \"legendgroup\": \"\", \"marker\": {\"color\": [1, 2, 3, 4, 5, 6, 7, 8, 9, 10], \"coloraxis\": \"coloraxis\", \"line\": {\"width\": 1e-08}}, \"name\": \"\", \"offsetgroup\": \"\", \"orientation\": \"v\", \"showlegend\": false, \"textposition\": \"auto\", \"type\": \"bar\", \"x\": [1, 2, 3, 4, 5, 6, 7, 8, 9, 10], \"xaxis\": \"x21\", \"y\": [152, 112, 106, 127, 70, 170, 172, 108, 157, 220], \"yaxis\": \"y21\"}, {\"alignmentgroup\": \"True\", \"hovertemplate\": \"month=7<br>year=2016<br>PLOT=%{marker.color}<br>VISSP_NAME=%{y}<extra></extra>\", \"legendgroup\": \"\", \"marker\": {\"color\": [1, 2, 3, 4, 5, 6, 7, 8, 9, 10], \"coloraxis\": \"coloraxis\", \"line\": {\"width\": 1e-08}}, \"name\": \"\", \"offsetgroup\": \"\", \"orientation\": \"v\", \"showlegend\": false, \"textposition\": \"auto\", \"type\": \"bar\", \"x\": [1, 2, 3, 4, 5, 6, 7, 8, 9, 10], \"xaxis\": \"x22\", \"y\": [443, 437, 356, 935, 216, 399, 436, 339, 362, 310], \"yaxis\": \"y22\"}, {\"alignmentgroup\": \"True\", \"hovertemplate\": \"month=7<br>year=2017<br>PLOT=%{marker.color}<br>VISSP_NAME=%{y}<extra></extra>\", \"legendgroup\": \"\", \"marker\": {\"color\": [1, 2, 3, 4, 5, 6, 7, 8, 9, 10], \"coloraxis\": \"coloraxis\", \"line\": {\"width\": 1e-08}}, \"name\": \"\", \"offsetgroup\": \"\", \"orientation\": \"v\", \"showlegend\": false, \"textposition\": \"auto\", \"type\": \"bar\", \"x\": [1, 2, 3, 4, 5, 6, 7, 8, 9, 10], \"xaxis\": \"x23\", \"y\": [947, 1166, 597, 726, 516, 672, 964, 641, 699, 634], \"yaxis\": \"y23\"}, {\"alignmentgroup\": \"True\", \"hovertemplate\": \"month=7<br>year=2018<br>PLOT=%{marker.color}<br>VISSP_NAME=%{y}<extra></extra>\", \"legendgroup\": \"\", \"marker\": {\"color\": [1, 2, 3, 4, 5, 6, 7, 8, 9, 10], \"coloraxis\": \"coloraxis\", \"line\": {\"width\": 1e-08}}, \"name\": \"\", \"offsetgroup\": \"\", \"orientation\": \"v\", \"showlegend\": false, \"textposition\": \"auto\", \"type\": \"bar\", \"x\": [1, 2, 3, 4, 5, 6, 7, 8, 9, 10], \"xaxis\": \"x24\", \"y\": [904, 967, 653, 710, 839, 686, 748, 1082, 1135, 837], \"yaxis\": \"y24\"}, {\"alignmentgroup\": \"True\", \"hovertemplate\": \"month=8<br>year=2011<br>PLOT=%{marker.color}<br>VISSP_NAME=%{y}<extra></extra>\", \"legendgroup\": \"\", \"marker\": {\"color\": [1, 2, 3, 4, 5, 6, 7, 8, 9, 10], \"coloraxis\": \"coloraxis\", \"line\": {\"width\": 1e-08}}, \"name\": \"\", \"offsetgroup\": \"\", \"orientation\": \"v\", \"showlegend\": false, \"textposition\": \"auto\", \"type\": \"bar\", \"x\": [1, 2, 3, 4, 5, 6, 7, 8, 9, 10], \"xaxis\": \"x9\", \"y\": [773, 742, 637, 523, 681, 803, 561, 744, 418, 510], \"yaxis\": \"y9\"}, {\"alignmentgroup\": \"True\", \"hovertemplate\": \"month=8<br>year=2012<br>PLOT=%{marker.color}<br>VISSP_NAME=%{y}<extra></extra>\", \"legendgroup\": \"\", \"marker\": {\"color\": [1, 2, 3, 4, 5, 6, 7, 8, 9, 10], \"coloraxis\": \"coloraxis\", \"line\": {\"width\": 1e-08}}, \"name\": \"\", \"offsetgroup\": \"\", \"orientation\": \"v\", \"showlegend\": false, \"textposition\": \"auto\", \"type\": \"bar\", \"x\": [1, 2, 3, 4, 5, 6, 7, 8, 9, 10], \"xaxis\": \"x10\", \"y\": [384, 404, 370, 693, 371, 150, 253, 255, 327, 284], \"yaxis\": \"y10\"}, {\"alignmentgroup\": \"True\", \"hovertemplate\": \"month=8<br>year=2013<br>PLOT=%{marker.color}<br>VISSP_NAME=%{y}<extra></extra>\", \"legendgroup\": \"\", \"marker\": {\"color\": [1, 2, 3, 4, 5, 6, 7, 8, 9, 10], \"coloraxis\": \"coloraxis\", \"line\": {\"width\": 1e-08}}, \"name\": \"\", \"offsetgroup\": \"\", \"orientation\": \"v\", \"showlegend\": false, \"textposition\": \"auto\", \"type\": \"bar\", \"x\": [1, 2, 3, 4, 5, 6, 7, 8, 9, 10], \"xaxis\": \"x11\", \"y\": [73, 63, 53, 80, 68, 245, 62, 84, 101, 156], \"yaxis\": \"y11\"}, {\"alignmentgroup\": \"True\", \"hovertemplate\": \"month=8<br>year=2014<br>PLOT=%{marker.color}<br>VISSP_NAME=%{y}<extra></extra>\", \"legendgroup\": \"\", \"marker\": {\"color\": [1, 2, 3, 4, 5, 6, 7, 8, 9, 10], \"coloraxis\": \"coloraxis\", \"line\": {\"width\": 1e-08}}, \"name\": \"\", \"offsetgroup\": \"\", \"orientation\": \"v\", \"showlegend\": false, \"textposition\": \"auto\", \"type\": \"bar\", \"x\": [1, 2, 3, 4, 5, 6, 7, 8, 9, 10], \"xaxis\": \"x12\", \"y\": [24, 32, 14, 22, 17, 37, 19, 34, 65, 119], \"yaxis\": \"y12\"}, {\"alignmentgroup\": \"True\", \"hovertemplate\": \"month=8<br>year=2016<br>PLOT=%{marker.color}<br>VISSP_NAME=%{y}<extra></extra>\", \"legendgroup\": \"\", \"marker\": {\"color\": [1, 2, 3, 4, 5, 6, 7, 8, 9, 10], \"coloraxis\": \"coloraxis\", \"line\": {\"width\": 1e-08}}, \"name\": \"\", \"offsetgroup\": \"\", \"orientation\": \"v\", \"showlegend\": false, \"textposition\": \"auto\", \"type\": \"bar\", \"x\": [1, 2, 3, 4, 5, 6, 7, 8, 9, 10], \"xaxis\": \"x14\", \"y\": [48, 29, 43, 11, 2, 26, 1, 2, 5, 2], \"yaxis\": \"y14\"}, {\"alignmentgroup\": \"True\", \"hovertemplate\": \"month=8<br>year=2017<br>PLOT=%{marker.color}<br>VISSP_NAME=%{y}<extra></extra>\", \"legendgroup\": \"\", \"marker\": {\"color\": [1, 2, 3, 4, 5, 6, 7, 8, 9, 10], \"coloraxis\": \"coloraxis\", \"line\": {\"width\": 1e-08}}, \"name\": \"\", \"offsetgroup\": \"\", \"orientation\": \"v\", \"showlegend\": false, \"textposition\": \"auto\", \"type\": \"bar\", \"x\": [1, 2, 3, 4, 5, 6, 7, 8, 9, 10], \"xaxis\": \"x15\", \"y\": [113, 27, 90, 9, 11, 24, 16, 43, 103, 206], \"yaxis\": \"y15\"}, {\"alignmentgroup\": \"True\", \"hovertemplate\": \"month=8<br>year=2018<br>PLOT=%{marker.color}<br>VISSP_NAME=%{y}<extra></extra>\", \"legendgroup\": \"\", \"marker\": {\"color\": [1, 2, 3, 4, 5, 6, 7, 8, 9, 10], \"coloraxis\": \"coloraxis\", \"line\": {\"width\": 1e-08}}, \"name\": \"\", \"offsetgroup\": \"\", \"orientation\": \"v\", \"showlegend\": false, \"textposition\": \"auto\", \"type\": \"bar\", \"x\": [1, 2, 3, 4, 5, 6, 7, 8, 9, 10], \"xaxis\": \"x16\", \"y\": [62, 22, 20, 45, 121, 140, 56, 21, 47, 88], \"yaxis\": \"y16\"}, {\"alignmentgroup\": \"True\", \"hovertemplate\": \"month=9<br>year=2011<br>PLOT=%{marker.color}<br>VISSP_NAME=%{y}<extra></extra>\", \"legendgroup\": \"\", \"marker\": {\"color\": [1, 2, 3, 4, 5, 6, 7, 8, 9, 10], \"coloraxis\": \"coloraxis\", \"line\": {\"width\": 1e-08}}, \"name\": \"\", \"offsetgroup\": \"\", \"orientation\": \"v\", \"showlegend\": false, \"textposition\": \"auto\", \"type\": \"bar\", \"x\": [1, 2, 3, 4, 5, 6, 7, 8, 9, 10], \"xaxis\": \"x\", \"y\": [3, 34, 51, 16, 4, 45, 17, 9, 9, 25], \"yaxis\": \"y\"}],                        {\"annotations\": [{\"font\": {}, \"showarrow\": false, \"text\": \"year=2011\", \"x\": 0.0525, \"xanchor\": \"center\", \"xref\": \"paper\", \"y\": 1.0, \"yanchor\": \"bottom\", \"yref\": \"paper\"}, {\"font\": {}, \"showarrow\": false, \"text\": \"year=2012\", \"x\": 0.1775, \"xanchor\": \"center\", \"xref\": \"paper\", \"y\": 1.0, \"yanchor\": \"bottom\", \"yref\": \"paper\"}, {\"font\": {}, \"showarrow\": false, \"text\": \"year=2013\", \"x\": 0.3025, \"xanchor\": \"center\", \"xref\": \"paper\", \"y\": 1.0, \"yanchor\": \"bottom\", \"yref\": \"paper\"}, {\"font\": {}, \"showarrow\": false, \"text\": \"year=2014\", \"x\": 0.4275, \"xanchor\": \"center\", \"xref\": \"paper\", \"y\": 1.0, \"yanchor\": \"bottom\", \"yref\": \"paper\"}, {\"font\": {}, \"showarrow\": false, \"text\": \"year=2015\", \"x\": 0.5525, \"xanchor\": \"center\", \"xref\": \"paper\", \"y\": 1.0, \"yanchor\": \"bottom\", \"yref\": \"paper\"}, {\"font\": {}, \"showarrow\": false, \"text\": \"year=2016\", \"x\": 0.6775, \"xanchor\": \"center\", \"xref\": \"paper\", \"y\": 1.0, \"yanchor\": \"bottom\", \"yref\": \"paper\"}, {\"font\": {}, \"showarrow\": false, \"text\": \"year=2017\", \"x\": 0.8025, \"xanchor\": \"center\", \"xref\": \"paper\", \"y\": 1.0, \"yanchor\": \"bottom\", \"yref\": \"paper\"}, {\"font\": {}, \"showarrow\": false, \"text\": \"year=2018\", \"x\": 0.9275, \"xanchor\": \"center\", \"xref\": \"paper\", \"y\": 1.0, \"yanchor\": \"bottom\", \"yref\": \"paper\"}, {\"font\": {}, \"showarrow\": false, \"text\": \"month=9\", \"textangle\": 90, \"x\": 0.98, \"xanchor\": \"left\", \"xref\": \"paper\", \"y\": 0.11375, \"yanchor\": \"middle\", \"yref\": \"paper\"}, {\"font\": {}, \"showarrow\": false, \"text\": \"month=8\", \"textangle\": 90, \"x\": 0.98, \"xanchor\": \"left\", \"xref\": \"paper\", \"y\": 0.37124999999999997, \"yanchor\": \"middle\", \"yref\": \"paper\"}, {\"font\": {}, \"showarrow\": false, \"text\": \"month=7\", \"textangle\": 90, \"x\": 0.98, \"xanchor\": \"left\", \"xref\": \"paper\", \"y\": 0.62875, \"yanchor\": \"middle\", \"yref\": \"paper\"}, {\"font\": {}, \"showarrow\": false, \"text\": \"month=6\", \"textangle\": 90, \"x\": 0.98, \"xanchor\": \"left\", \"xref\": \"paper\", \"y\": 0.88625, \"yanchor\": \"middle\", \"yref\": \"paper\"}], \"barmode\": \"group\", \"coloraxis\": {\"colorbar\": {\"title\": {\"text\": \"PLOT\"}}, \"colorscale\": [[0.0, \"#0d0887\"], [0.1111111111111111, \"#46039f\"], [0.2222222222222222, \"#7201a8\"], [0.3333333333333333, \"#9c179e\"], [0.4444444444444444, \"#bd3786\"], [0.5555555555555556, \"#d8576b\"], [0.6666666666666666, \"#ed7953\"], [0.7777777777777778, \"#fb9f3a\"], [0.8888888888888888, \"#fdca26\"], [1.0, \"#f0f921\"]]}, \"legend\": {\"tracegroupgap\": 0}, \"margin\": {\"t\": 60}, \"template\": {\"data\": {\"bar\": [{\"error_x\": {\"color\": \"#2a3f5f\"}, \"error_y\": {\"color\": \"#2a3f5f\"}, \"marker\": {\"line\": {\"color\": \"#E5ECF6\", \"width\": 0.5}}, \"type\": \"bar\"}], \"barpolar\": [{\"marker\": {\"line\": {\"color\": \"#E5ECF6\", \"width\": 0.5}}, \"type\": \"barpolar\"}], \"carpet\": [{\"aaxis\": {\"endlinecolor\": \"#2a3f5f\", \"gridcolor\": \"white\", \"linecolor\": \"white\", \"minorgridcolor\": \"white\", \"startlinecolor\": \"#2a3f5f\"}, \"baxis\": {\"endlinecolor\": \"#2a3f5f\", \"gridcolor\": \"white\", \"linecolor\": \"white\", \"minorgridcolor\": \"white\", \"startlinecolor\": \"#2a3f5f\"}, \"type\": \"carpet\"}], \"choropleth\": [{\"colorbar\": {\"outlinewidth\": 0, \"ticks\": \"\"}, \"type\": \"choropleth\"}], \"contour\": [{\"colorbar\": {\"outlinewidth\": 0, \"ticks\": \"\"}, \"colorscale\": [[0.0, \"#0d0887\"], [0.1111111111111111, \"#46039f\"], [0.2222222222222222, \"#7201a8\"], [0.3333333333333333, \"#9c179e\"], [0.4444444444444444, \"#bd3786\"], [0.5555555555555556, \"#d8576b\"], [0.6666666666666666, \"#ed7953\"], [0.7777777777777778, \"#fb9f3a\"], [0.8888888888888888, \"#fdca26\"], [1.0, \"#f0f921\"]], \"type\": \"contour\"}], \"contourcarpet\": [{\"colorbar\": {\"outlinewidth\": 0, \"ticks\": \"\"}, \"type\": \"contourcarpet\"}], \"heatmap\": [{\"colorbar\": {\"outlinewidth\": 0, \"ticks\": \"\"}, \"colorscale\": [[0.0, \"#0d0887\"], [0.1111111111111111, \"#46039f\"], [0.2222222222222222, \"#7201a8\"], [0.3333333333333333, \"#9c179e\"], [0.4444444444444444, \"#bd3786\"], [0.5555555555555556, \"#d8576b\"], [0.6666666666666666, \"#ed7953\"], [0.7777777777777778, \"#fb9f3a\"], [0.8888888888888888, \"#fdca26\"], [1.0, \"#f0f921\"]], \"type\": \"heatmap\"}], \"heatmapgl\": [{\"colorbar\": {\"outlinewidth\": 0, \"ticks\": \"\"}, \"colorscale\": [[0.0, \"#0d0887\"], [0.1111111111111111, \"#46039f\"], [0.2222222222222222, \"#7201a8\"], [0.3333333333333333, \"#9c179e\"], [0.4444444444444444, \"#bd3786\"], [0.5555555555555556, \"#d8576b\"], [0.6666666666666666, \"#ed7953\"], [0.7777777777777778, \"#fb9f3a\"], [0.8888888888888888, \"#fdca26\"], [1.0, \"#f0f921\"]], \"type\": \"heatmapgl\"}], \"histogram\": [{\"marker\": {\"colorbar\": {\"outlinewidth\": 0, \"ticks\": \"\"}}, \"type\": \"histogram\"}], \"histogram2d\": [{\"colorbar\": {\"outlinewidth\": 0, \"ticks\": \"\"}, \"colorscale\": [[0.0, \"#0d0887\"], [0.1111111111111111, \"#46039f\"], [0.2222222222222222, \"#7201a8\"], [0.3333333333333333, \"#9c179e\"], [0.4444444444444444, \"#bd3786\"], [0.5555555555555556, \"#d8576b\"], [0.6666666666666666, \"#ed7953\"], [0.7777777777777778, \"#fb9f3a\"], [0.8888888888888888, \"#fdca26\"], [1.0, \"#f0f921\"]], \"type\": \"histogram2d\"}], \"histogram2dcontour\": [{\"colorbar\": {\"outlinewidth\": 0, \"ticks\": \"\"}, \"colorscale\": [[0.0, \"#0d0887\"], [0.1111111111111111, \"#46039f\"], [0.2222222222222222, \"#7201a8\"], [0.3333333333333333, \"#9c179e\"], [0.4444444444444444, \"#bd3786\"], [0.5555555555555556, \"#d8576b\"], [0.6666666666666666, \"#ed7953\"], [0.7777777777777778, \"#fb9f3a\"], [0.8888888888888888, \"#fdca26\"], [1.0, \"#f0f921\"]], \"type\": \"histogram2dcontour\"}], \"mesh3d\": [{\"colorbar\": {\"outlinewidth\": 0, \"ticks\": \"\"}, \"type\": \"mesh3d\"}], \"parcoords\": [{\"line\": {\"colorbar\": {\"outlinewidth\": 0, \"ticks\": \"\"}}, \"type\": \"parcoords\"}], \"pie\": [{\"automargin\": true, \"type\": \"pie\"}], \"scatter\": [{\"marker\": {\"colorbar\": {\"outlinewidth\": 0, \"ticks\": \"\"}}, \"type\": \"scatter\"}], \"scatter3d\": [{\"line\": {\"colorbar\": {\"outlinewidth\": 0, \"ticks\": \"\"}}, \"marker\": {\"colorbar\": {\"outlinewidth\": 0, \"ticks\": \"\"}}, \"type\": \"scatter3d\"}], \"scattercarpet\": [{\"marker\": {\"colorbar\": {\"outlinewidth\": 0, \"ticks\": \"\"}}, \"type\": \"scattercarpet\"}], \"scattergeo\": [{\"marker\": {\"colorbar\": {\"outlinewidth\": 0, \"ticks\": \"\"}}, \"type\": \"scattergeo\"}], \"scattergl\": [{\"marker\": {\"colorbar\": {\"outlinewidth\": 0, \"ticks\": \"\"}}, \"type\": \"scattergl\"}], \"scattermapbox\": [{\"marker\": {\"colorbar\": {\"outlinewidth\": 0, \"ticks\": \"\"}}, \"type\": \"scattermapbox\"}], \"scatterpolar\": [{\"marker\": {\"colorbar\": {\"outlinewidth\": 0, \"ticks\": \"\"}}, \"type\": \"scatterpolar\"}], \"scatterpolargl\": [{\"marker\": {\"colorbar\": {\"outlinewidth\": 0, \"ticks\": \"\"}}, \"type\": \"scatterpolargl\"}], \"scatterternary\": [{\"marker\": {\"colorbar\": {\"outlinewidth\": 0, \"ticks\": \"\"}}, \"type\": \"scatterternary\"}], \"surface\": [{\"colorbar\": {\"outlinewidth\": 0, \"ticks\": \"\"}, \"colorscale\": [[0.0, \"#0d0887\"], [0.1111111111111111, \"#46039f\"], [0.2222222222222222, \"#7201a8\"], [0.3333333333333333, \"#9c179e\"], [0.4444444444444444, \"#bd3786\"], [0.5555555555555556, \"#d8576b\"], [0.6666666666666666, \"#ed7953\"], [0.7777777777777778, \"#fb9f3a\"], [0.8888888888888888, \"#fdca26\"], [1.0, \"#f0f921\"]], \"type\": \"surface\"}], \"table\": [{\"cells\": {\"fill\": {\"color\": \"#EBF0F8\"}, \"line\": {\"color\": \"white\"}}, \"header\": {\"fill\": {\"color\": \"#C8D4E3\"}, \"line\": {\"color\": \"white\"}}, \"type\": \"table\"}]}, \"layout\": {\"annotationdefaults\": {\"arrowcolor\": \"#2a3f5f\", \"arrowhead\": 0, \"arrowwidth\": 1}, \"autotypenumbers\": \"strict\", \"coloraxis\": {\"colorbar\": {\"outlinewidth\": 0, \"ticks\": \"\"}}, \"colorscale\": {\"diverging\": [[0, \"#8e0152\"], [0.1, \"#c51b7d\"], [0.2, \"#de77ae\"], [0.3, \"#f1b6da\"], [0.4, \"#fde0ef\"], [0.5, \"#f7f7f7\"], [0.6, \"#e6f5d0\"], [0.7, \"#b8e186\"], [0.8, \"#7fbc41\"], [0.9, \"#4d9221\"], [1, \"#276419\"]], \"sequential\": [[0.0, \"#0d0887\"], [0.1111111111111111, \"#46039f\"], [0.2222222222222222, \"#7201a8\"], [0.3333333333333333, \"#9c179e\"], [0.4444444444444444, \"#bd3786\"], [0.5555555555555556, \"#d8576b\"], [0.6666666666666666, \"#ed7953\"], [0.7777777777777778, \"#fb9f3a\"], [0.8888888888888888, \"#fdca26\"], [1.0, \"#f0f921\"]], \"sequentialminus\": [[0.0, \"#0d0887\"], [0.1111111111111111, \"#46039f\"], [0.2222222222222222, \"#7201a8\"], [0.3333333333333333, \"#9c179e\"], [0.4444444444444444, \"#bd3786\"], [0.5555555555555556, \"#d8576b\"], [0.6666666666666666, \"#ed7953\"], [0.7777777777777778, \"#fb9f3a\"], [0.8888888888888888, \"#fdca26\"], [1.0, \"#f0f921\"]]}, \"colorway\": [\"#636efa\", \"#EF553B\", \"#00cc96\", \"#ab63fa\", \"#FFA15A\", \"#19d3f3\", \"#FF6692\", \"#B6E880\", \"#FF97FF\", \"#FECB52\"], \"font\": {\"color\": \"#2a3f5f\"}, \"geo\": {\"bgcolor\": \"white\", \"lakecolor\": \"white\", \"landcolor\": \"#E5ECF6\", \"showlakes\": true, \"showland\": true, \"subunitcolor\": \"white\"}, \"hoverlabel\": {\"align\": \"left\"}, \"hovermode\": \"closest\", \"mapbox\": {\"style\": \"light\"}, \"paper_bgcolor\": \"white\", \"plot_bgcolor\": \"#E5ECF6\", \"polar\": {\"angularaxis\": {\"gridcolor\": \"white\", \"linecolor\": \"white\", \"ticks\": \"\"}, \"bgcolor\": \"#E5ECF6\", \"radialaxis\": {\"gridcolor\": \"white\", \"linecolor\": \"white\", \"ticks\": \"\"}}, \"scene\": {\"xaxis\": {\"backgroundcolor\": \"#E5ECF6\", \"gridcolor\": \"white\", \"gridwidth\": 2, \"linecolor\": \"white\", \"showbackground\": true, \"ticks\": \"\", \"zerolinecolor\": \"white\"}, \"yaxis\": {\"backgroundcolor\": \"#E5ECF6\", \"gridcolor\": \"white\", \"gridwidth\": 2, \"linecolor\": \"white\", \"showbackground\": true, \"ticks\": \"\", \"zerolinecolor\": \"white\"}, \"zaxis\": {\"backgroundcolor\": \"#E5ECF6\", \"gridcolor\": \"white\", \"gridwidth\": 2, \"linecolor\": \"white\", \"showbackground\": true, \"ticks\": \"\", \"zerolinecolor\": \"white\"}}, \"shapedefaults\": {\"line\": {\"color\": \"#2a3f5f\"}}, \"ternary\": {\"aaxis\": {\"gridcolor\": \"white\", \"linecolor\": \"white\", \"ticks\": \"\"}, \"baxis\": {\"gridcolor\": \"white\", \"linecolor\": \"white\", \"ticks\": \"\"}, \"bgcolor\": \"#E5ECF6\", \"caxis\": {\"gridcolor\": \"white\", \"linecolor\": \"white\", \"ticks\": \"\"}}, \"title\": {\"x\": 0.05}, \"xaxis\": {\"automargin\": true, \"gridcolor\": \"white\", \"linecolor\": \"white\", \"ticks\": \"\", \"title\": {\"standoff\": 15}, \"zerolinecolor\": \"white\", \"zerolinewidth\": 2}, \"yaxis\": {\"automargin\": true, \"gridcolor\": \"white\", \"linecolor\": \"white\", \"ticks\": \"\", \"title\": {\"standoff\": 15}, \"zerolinecolor\": \"white\", \"zerolinewidth\": 2}}}, \"xaxis\": {\"anchor\": \"y\", \"domain\": [0.0, 0.105], \"title\": {\"text\": \"PLOT\"}}, \"xaxis10\": {\"anchor\": \"y10\", \"domain\": [0.125, 0.22999999999999998], \"matches\": \"x\", \"showticklabels\": false}, \"xaxis11\": {\"anchor\": \"y11\", \"domain\": [0.25, 0.355], \"matches\": \"x\", \"showticklabels\": false}, \"xaxis12\": {\"anchor\": \"y12\", \"domain\": [0.375, 0.48], \"matches\": \"x\", \"showticklabels\": false}, \"xaxis13\": {\"anchor\": \"y13\", \"domain\": [0.5, 0.605], \"matches\": \"x\", \"showticklabels\": false}, \"xaxis14\": {\"anchor\": \"y14\", \"domain\": [0.625, 0.73], \"matches\": \"x\", \"showticklabels\": false}, \"xaxis15\": {\"anchor\": \"y15\", \"domain\": [0.75, 0.855], \"matches\": \"x\", \"showticklabels\": false}, \"xaxis16\": {\"anchor\": \"y16\", \"domain\": [0.875, 0.98], \"matches\": \"x\", \"showticklabels\": false}, \"xaxis17\": {\"anchor\": \"y17\", \"domain\": [0.0, 0.105], \"matches\": \"x\", \"showticklabels\": false}, \"xaxis18\": {\"anchor\": \"y18\", \"domain\": [0.125, 0.22999999999999998], \"matches\": \"x\", \"showticklabels\": false}, \"xaxis19\": {\"anchor\": \"y19\", \"domain\": [0.25, 0.355], \"matches\": \"x\", \"showticklabels\": false}, \"xaxis2\": {\"anchor\": \"y2\", \"domain\": [0.125, 0.22999999999999998], \"matches\": \"x\", \"title\": {\"text\": \"PLOT\"}}, \"xaxis20\": {\"anchor\": \"y20\", \"domain\": [0.375, 0.48], \"matches\": \"x\", \"showticklabels\": false}, \"xaxis21\": {\"anchor\": \"y21\", \"domain\": [0.5, 0.605], \"matches\": \"x\", \"showticklabels\": false}, \"xaxis22\": {\"anchor\": \"y22\", \"domain\": [0.625, 0.73], \"matches\": \"x\", \"showticklabels\": false}, \"xaxis23\": {\"anchor\": \"y23\", \"domain\": [0.75, 0.855], \"matches\": \"x\", \"showticklabels\": false}, \"xaxis24\": {\"anchor\": \"y24\", \"domain\": [0.875, 0.98], \"matches\": \"x\", \"showticklabels\": false}, \"xaxis25\": {\"anchor\": \"y25\", \"domain\": [0.0, 0.105], \"matches\": \"x\", \"showticklabels\": false}, \"xaxis26\": {\"anchor\": \"y26\", \"domain\": [0.125, 0.22999999999999998], \"matches\": \"x\", \"showticklabels\": false}, \"xaxis27\": {\"anchor\": \"y27\", \"domain\": [0.25, 0.355], \"matches\": \"x\", \"showticklabels\": false}, \"xaxis28\": {\"anchor\": \"y28\", \"domain\": [0.375, 0.48], \"matches\": \"x\", \"showticklabels\": false}, \"xaxis29\": {\"anchor\": \"y29\", \"domain\": [0.5, 0.605], \"matches\": \"x\", \"showticklabels\": false}, \"xaxis3\": {\"anchor\": \"y3\", \"domain\": [0.25, 0.355], \"matches\": \"x\", \"title\": {\"text\": \"PLOT\"}}, \"xaxis30\": {\"anchor\": \"y30\", \"domain\": [0.625, 0.73], \"matches\": \"x\", \"showticklabels\": false}, \"xaxis31\": {\"anchor\": \"y31\", \"domain\": [0.75, 0.855], \"matches\": \"x\", \"showticklabels\": false}, \"xaxis32\": {\"anchor\": \"y32\", \"domain\": [0.875, 0.98], \"matches\": \"x\", \"showticklabels\": false}, \"xaxis4\": {\"anchor\": \"y4\", \"domain\": [0.375, 0.48], \"matches\": \"x\", \"title\": {\"text\": \"PLOT\"}}, \"xaxis5\": {\"anchor\": \"y5\", \"domain\": [0.5, 0.605], \"matches\": \"x\", \"title\": {\"text\": \"PLOT\"}}, \"xaxis6\": {\"anchor\": \"y6\", \"domain\": [0.625, 0.73], \"matches\": \"x\", \"title\": {\"text\": \"PLOT\"}}, \"xaxis7\": {\"anchor\": \"y7\", \"domain\": [0.75, 0.855], \"matches\": \"x\", \"title\": {\"text\": \"PLOT\"}}, \"xaxis8\": {\"anchor\": \"y8\", \"domain\": [0.875, 0.98], \"matches\": \"x\", \"title\": {\"text\": \"PLOT\"}}, \"xaxis9\": {\"anchor\": \"y9\", \"domain\": [0.0, 0.105], \"matches\": \"x\", \"showticklabels\": false}, \"yaxis\": {\"anchor\": \"x\", \"domain\": [0.0, 0.2275], \"title\": {\"text\": \"VISSP_NAME\"}}, \"yaxis10\": {\"anchor\": \"x10\", \"domain\": [0.2575, 0.485], \"matches\": \"y\", \"showticklabels\": false}, \"yaxis11\": {\"anchor\": \"x11\", \"domain\": [0.2575, 0.485], \"matches\": \"y\", \"showticklabels\": false}, \"yaxis12\": {\"anchor\": \"x12\", \"domain\": [0.2575, 0.485], \"matches\": \"y\", \"showticklabels\": false}, \"yaxis13\": {\"anchor\": \"x13\", \"domain\": [0.2575, 0.485], \"matches\": \"y\", \"showticklabels\": false}, \"yaxis14\": {\"anchor\": \"x14\", \"domain\": [0.2575, 0.485], \"matches\": \"y\", \"showticklabels\": false}, \"yaxis15\": {\"anchor\": \"x15\", \"domain\": [0.2575, 0.485], \"matches\": \"y\", \"showticklabels\": false}, \"yaxis16\": {\"anchor\": \"x16\", \"domain\": [0.2575, 0.485], \"matches\": \"y\", \"showticklabels\": false}, \"yaxis17\": {\"anchor\": \"x17\", \"domain\": [0.515, 0.7425], \"matches\": \"y\", \"title\": {\"text\": \"VISSP_NAME\"}}, \"yaxis18\": {\"anchor\": \"x18\", \"domain\": [0.515, 0.7425], \"matches\": \"y\", \"showticklabels\": false}, \"yaxis19\": {\"anchor\": \"x19\", \"domain\": [0.515, 0.7425], \"matches\": \"y\", \"showticklabels\": false}, \"yaxis2\": {\"anchor\": \"x2\", \"domain\": [0.0, 0.2275], \"matches\": \"y\", \"showticklabels\": false}, \"yaxis20\": {\"anchor\": \"x20\", \"domain\": [0.515, 0.7425], \"matches\": \"y\", \"showticklabels\": false}, \"yaxis21\": {\"anchor\": \"x21\", \"domain\": [0.515, 0.7425], \"matches\": \"y\", \"showticklabels\": false}, \"yaxis22\": {\"anchor\": \"x22\", \"domain\": [0.515, 0.7425], \"matches\": \"y\", \"showticklabels\": false}, \"yaxis23\": {\"anchor\": \"x23\", \"domain\": [0.515, 0.7425], \"matches\": \"y\", \"showticklabels\": false}, \"yaxis24\": {\"anchor\": \"x24\", \"domain\": [0.515, 0.7425], \"matches\": \"y\", \"showticklabels\": false}, \"yaxis25\": {\"anchor\": \"x25\", \"domain\": [0.7725, 1.0], \"matches\": \"y\", \"title\": {\"text\": \"VISSP_NAME\"}}, \"yaxis26\": {\"anchor\": \"x26\", \"domain\": [0.7725, 1.0], \"matches\": \"y\", \"showticklabels\": false}, \"yaxis27\": {\"anchor\": \"x27\", \"domain\": [0.7725, 1.0], \"matches\": \"y\", \"showticklabels\": false}, \"yaxis28\": {\"anchor\": \"x28\", \"domain\": [0.7725, 1.0], \"matches\": \"y\", \"showticklabels\": false}, \"yaxis29\": {\"anchor\": \"x29\", \"domain\": [0.7725, 1.0], \"matches\": \"y\", \"showticklabels\": false}, \"yaxis3\": {\"anchor\": \"x3\", \"domain\": [0.0, 0.2275], \"matches\": \"y\", \"showticklabels\": false}, \"yaxis30\": {\"anchor\": \"x30\", \"domain\": [0.7725, 1.0], \"matches\": \"y\", \"showticklabels\": false}, \"yaxis31\": {\"anchor\": \"x31\", \"domain\": [0.7725, 1.0], \"matches\": \"y\", \"showticklabels\": false}, \"yaxis32\": {\"anchor\": \"x32\", \"domain\": [0.7725, 1.0], \"matches\": \"y\", \"showticklabels\": false}, \"yaxis4\": {\"anchor\": \"x4\", \"domain\": [0.0, 0.2275], \"matches\": \"y\", \"showticklabels\": false}, \"yaxis5\": {\"anchor\": \"x5\", \"domain\": [0.0, 0.2275], \"matches\": \"y\", \"showticklabels\": false}, \"yaxis6\": {\"anchor\": \"x6\", \"domain\": [0.0, 0.2275], \"matches\": \"y\", \"showticklabels\": false}, \"yaxis7\": {\"anchor\": \"x7\", \"domain\": [0.0, 0.2275], \"matches\": \"y\", \"showticklabels\": false}, \"yaxis8\": {\"anchor\": \"x8\", \"domain\": [0.0, 0.2275], \"matches\": \"y\", \"showticklabels\": false}, \"yaxis9\": {\"anchor\": \"x9\", \"domain\": [0.2575, 0.485], \"matches\": \"y\", \"title\": {\"text\": \"VISSP_NAME\"}}},                        {\"responsive\": true}                    ).then(function(){\n",
       "                            \n",
       "var gd = document.getElementById('7ad75bf5-0df1-4df3-ac54-2726d457567b');\n",
       "var x = new MutationObserver(function (mutations, observer) {{\n",
       "        var display = window.getComputedStyle(gd).display;\n",
       "        if (!display || display === 'none') {{\n",
       "            console.log([gd, 'removed!']);\n",
       "            Plotly.purge(gd);\n",
       "            observer.disconnect();\n",
       "        }}\n",
       "}});\n",
       "\n",
       "// Listen for the removal of the full notebook cells\n",
       "var notebookContainer = gd.closest('#notebook-container');\n",
       "if (notebookContainer) {{\n",
       "    x.observe(notebookContainer, {childList: true});\n",
       "}}\n",
       "\n",
       "// Listen for the clearing of the current output cell\n",
       "var outputEl = gd.closest('.output');\n",
       "if (outputEl) {{\n",
       "    x.observe(outputEl, {childList: true});\n",
       "}}\n",
       "\n",
       "                        })                };                });            </script>        </div>"
      ]
     },
     "metadata": {},
     "output_type": "display_data"
    }
   ],
   "source": [
    "#result['PLOT'] = result['PLOT'].astype(str)\n",
    "\n",
    "fig = px.bar(result, x=\"PLOT\", y=\"VISSP_NAME\",  barmode=\"group\",color='PLOT',\n",
    "             facet_row=\"month\", facet_col=\"year\",\n",
    "             category_orders={\"month\": [6,7,8,9]}\n",
    "            )\n",
    "fig.update_traces(marker_line_width=.00000001)\n",
    "fig.show()"
   ]
  },
  {
   "cell_type": "code",
   "execution_count": 22,
   "metadata": {},
   "outputs": [],
   "source": [
    "plant_diversity = pd.read_csv('data/bioCON_plant_diversity.txt', delimiter = \"\\t\")"
   ]
  },
  {
   "cell_type": "code",
   "execution_count": 23,
   "metadata": {},
   "outputs": [
    {
     "data": {
      "text/html": [
       "<div>\n",
       "<style scoped>\n",
       "    .dataframe tbody tr th:only-of-type {\n",
       "        vertical-align: middle;\n",
       "    }\n",
       "\n",
       "    .dataframe tbody tr th {\n",
       "        vertical-align: top;\n",
       "    }\n",
       "\n",
       "    .dataframe thead th {\n",
       "        text-align: right;\n",
       "    }\n",
       "</style>\n",
       "<table border=\"1\" class=\"dataframe\">\n",
       "  <thead>\n",
       "    <tr style=\"text-align: right;\">\n",
       "      <th></th>\n",
       "      <th>Year</th>\n",
       "      <th>Plot</th>\n",
       "      <th>Ring</th>\n",
       "      <th>CO2 Treatment</th>\n",
       "      <th>Nitrogen Treatment</th>\n",
       "      <th>CountOfSpecies</th>\n",
       "      <th>CountOfGroup</th>\n",
       "      <th>Experiment</th>\n",
       "      <th>monospecies</th>\n",
       "      <th>Monogroup</th>\n",
       "      <th>Water Treatment</th>\n",
       "      <th>Temp Treatment</th>\n",
       "      <th>Depth</th>\n",
       "      <th>Carbon(%)</th>\n",
       "      <th>Nitrogen(%)</th>\n",
       "      <th>C/N Ratio</th>\n",
       "    </tr>\n",
       "  </thead>\n",
       "  <tbody>\n",
       "    <tr>\n",
       "      <th>0</th>\n",
       "      <td>2002</td>\n",
       "      <td>1</td>\n",
       "      <td>1</td>\n",
       "      <td>Cenrich</td>\n",
       "      <td>Namb</td>\n",
       "      <td>4</td>\n",
       "      <td>2</td>\n",
       "      <td>M</td>\n",
       "      <td></td>\n",
       "      <td></td>\n",
       "      <td></td>\n",
       "      <td></td>\n",
       "      <td>0-10</td>\n",
       "      <td>0.618</td>\n",
       "      <td>0.074</td>\n",
       "      <td>8.351351351</td>\n",
       "    </tr>\n",
       "    <tr>\n",
       "      <th>1</th>\n",
       "      <td>2002</td>\n",
       "      <td>1</td>\n",
       "      <td>1</td>\n",
       "      <td>Cenrich</td>\n",
       "      <td>Namb</td>\n",
       "      <td>4</td>\n",
       "      <td>2</td>\n",
       "      <td>M</td>\n",
       "      <td></td>\n",
       "      <td></td>\n",
       "      <td></td>\n",
       "      <td></td>\n",
       "      <td>10-20</td>\n",
       "      <td>0.515</td>\n",
       "      <td>0.057</td>\n",
       "      <td>9.035087719</td>\n",
       "    </tr>\n",
       "    <tr>\n",
       "      <th>2</th>\n",
       "      <td>2002</td>\n",
       "      <td>1</td>\n",
       "      <td>1</td>\n",
       "      <td>Cenrich</td>\n",
       "      <td>Namb</td>\n",
       "      <td>4</td>\n",
       "      <td>2</td>\n",
       "      <td>M</td>\n",
       "      <td></td>\n",
       "      <td></td>\n",
       "      <td></td>\n",
       "      <td></td>\n",
       "      <td>20-40</td>\n",
       "      <td>0.142</td>\n",
       "      <td>0.023</td>\n",
       "      <td>6.173913043</td>\n",
       "    </tr>\n",
       "    <tr>\n",
       "      <th>3</th>\n",
       "      <td>2002</td>\n",
       "      <td>1</td>\n",
       "      <td>1</td>\n",
       "      <td>Cenrich</td>\n",
       "      <td>Namb</td>\n",
       "      <td>4</td>\n",
       "      <td>2</td>\n",
       "      <td>M</td>\n",
       "      <td></td>\n",
       "      <td></td>\n",
       "      <td></td>\n",
       "      <td></td>\n",
       "      <td>40-60</td>\n",
       "      <td>0.132</td>\n",
       "      <td>0.016</td>\n",
       "      <td>8.25</td>\n",
       "    </tr>\n",
       "    <tr>\n",
       "      <th>4</th>\n",
       "      <td>2002</td>\n",
       "      <td>2</td>\n",
       "      <td>1</td>\n",
       "      <td>Cenrich</td>\n",
       "      <td>Namb</td>\n",
       "      <td>1</td>\n",
       "      <td>1</td>\n",
       "      <td>M</td>\n",
       "      <td>Bouteloua gracilis</td>\n",
       "      <td>C-4</td>\n",
       "      <td></td>\n",
       "      <td></td>\n",
       "      <td>0-10</td>\n",
       "      <td>0.55</td>\n",
       "      <td>0.07</td>\n",
       "      <td>7.857142857</td>\n",
       "    </tr>\n",
       "    <tr>\n",
       "      <th>...</th>\n",
       "      <td>...</td>\n",
       "      <td>...</td>\n",
       "      <td>...</td>\n",
       "      <td>...</td>\n",
       "      <td>...</td>\n",
       "      <td>...</td>\n",
       "      <td>...</td>\n",
       "      <td>...</td>\n",
       "      <td>...</td>\n",
       "      <td>...</td>\n",
       "      <td>...</td>\n",
       "      <td>...</td>\n",
       "      <td>...</td>\n",
       "      <td>...</td>\n",
       "      <td>...</td>\n",
       "      <td>...</td>\n",
       "    </tr>\n",
       "    <tr>\n",
       "      <th>5628</th>\n",
       "      <td>2016</td>\n",
       "      <td>365</td>\n",
       "      <td>6</td>\n",
       "      <td>Camb</td>\n",
       "      <td>Nenrich</td>\n",
       "      <td>4</td>\n",
       "      <td>2</td>\n",
       "      <td>M</td>\n",
       "      <td></td>\n",
       "      <td></td>\n",
       "      <td></td>\n",
       "      <td></td>\n",
       "      <td>40-60</td>\n",
       "      <td>0.329</td>\n",
       "      <td>0.027</td>\n",
       "      <td>12.18518519</td>\n",
       "    </tr>\n",
       "    <tr>\n",
       "      <th>5629</th>\n",
       "      <td>2016</td>\n",
       "      <td>366</td>\n",
       "      <td>6</td>\n",
       "      <td>Camb</td>\n",
       "      <td>Nenrich</td>\n",
       "      <td>1</td>\n",
       "      <td>1</td>\n",
       "      <td>M</td>\n",
       "      <td>Achillea millefolium</td>\n",
       "      <td>Forb</td>\n",
       "      <td></td>\n",
       "      <td></td>\n",
       "      <td>0-10</td>\n",
       "      <td>0.85</td>\n",
       "      <td>0.066</td>\n",
       "      <td>12.87878788</td>\n",
       "    </tr>\n",
       "    <tr>\n",
       "      <th>5630</th>\n",
       "      <td>2016</td>\n",
       "      <td>366</td>\n",
       "      <td>6</td>\n",
       "      <td>Camb</td>\n",
       "      <td>Nenrich</td>\n",
       "      <td>1</td>\n",
       "      <td>1</td>\n",
       "      <td>M</td>\n",
       "      <td>Achillea millefolium</td>\n",
       "      <td>Forb</td>\n",
       "      <td></td>\n",
       "      <td></td>\n",
       "      <td>10-20</td>\n",
       "      <td>0.57</td>\n",
       "      <td>0.05</td>\n",
       "      <td>11.4</td>\n",
       "    </tr>\n",
       "    <tr>\n",
       "      <th>5631</th>\n",
       "      <td>2016</td>\n",
       "      <td>366</td>\n",
       "      <td>6</td>\n",
       "      <td>Camb</td>\n",
       "      <td>Nenrich</td>\n",
       "      <td>1</td>\n",
       "      <td>1</td>\n",
       "      <td>M</td>\n",
       "      <td>Achillea millefolium</td>\n",
       "      <td>Forb</td>\n",
       "      <td></td>\n",
       "      <td></td>\n",
       "      <td>20-40</td>\n",
       "      <td>0.454</td>\n",
       "      <td>0.036</td>\n",
       "      <td>12.61111111</td>\n",
       "    </tr>\n",
       "    <tr>\n",
       "      <th>5632</th>\n",
       "      <td>2016</td>\n",
       "      <td>366</td>\n",
       "      <td>6</td>\n",
       "      <td>Camb</td>\n",
       "      <td>Nenrich</td>\n",
       "      <td>1</td>\n",
       "      <td>1</td>\n",
       "      <td>M</td>\n",
       "      <td>Achillea millefolium</td>\n",
       "      <td>Forb</td>\n",
       "      <td></td>\n",
       "      <td></td>\n",
       "      <td>40-60</td>\n",
       "      <td>0.38</td>\n",
       "      <td>0.03</td>\n",
       "      <td>12.66666667</td>\n",
       "    </tr>\n",
       "  </tbody>\n",
       "</table>\n",
       "<p>5633 rows × 16 columns</p>\n",
       "</div>"
      ],
      "text/plain": [
       "      Year  Plot Ring CO2 Treatment Nitrogen Treatment  CountOfSpecies  \\\n",
       "0     2002     1    1       Cenrich               Namb               4   \n",
       "1     2002     1    1       Cenrich               Namb               4   \n",
       "2     2002     1    1       Cenrich               Namb               4   \n",
       "3     2002     1    1       Cenrich               Namb               4   \n",
       "4     2002     2    1       Cenrich               Namb               1   \n",
       "...    ...   ...  ...           ...                ...             ...   \n",
       "5628  2016   365    6          Camb            Nenrich               4   \n",
       "5629  2016   366    6          Camb            Nenrich               1   \n",
       "5630  2016   366    6          Camb            Nenrich               1   \n",
       "5631  2016   366    6          Camb            Nenrich               1   \n",
       "5632  2016   366    6          Camb            Nenrich               1   \n",
       "\n",
       "      CountOfGroup Experiment           monospecies Monogroup Water Treatment  \\\n",
       "0                2          M                                                   \n",
       "1                2          M                                                   \n",
       "2                2          M                                                   \n",
       "3                2          M                                                   \n",
       "4                1          M    Bouteloua gracilis       C-4                   \n",
       "...            ...        ...                   ...       ...             ...   \n",
       "5628             2          M                                                   \n",
       "5629             1          M  Achillea millefolium      Forb                   \n",
       "5630             1          M  Achillea millefolium      Forb                   \n",
       "5631             1          M  Achillea millefolium      Forb                   \n",
       "5632             1          M  Achillea millefolium      Forb                   \n",
       "\n",
       "     Temp Treatment  Depth Carbon(%) Nitrogen(%)    C/N Ratio  \n",
       "0                     0-10     0.618       0.074  8.351351351  \n",
       "1                    10-20     0.515       0.057  9.035087719  \n",
       "2                    20-40     0.142       0.023  6.173913043  \n",
       "3                    40-60     0.132       0.016         8.25  \n",
       "4                     0-10      0.55        0.07  7.857142857  \n",
       "...             ...    ...       ...         ...          ...  \n",
       "5628                 40-60     0.329       0.027  12.18518519  \n",
       "5629                  0-10      0.85       0.066  12.87878788  \n",
       "5630                 10-20      0.57        0.05         11.4  \n",
       "5631                 20-40     0.454       0.036  12.61111111  \n",
       "5632                 40-60      0.38        0.03  12.66666667  \n",
       "\n",
       "[5633 rows x 16 columns]"
      ]
     },
     "execution_count": 23,
     "metadata": {},
     "output_type": "execute_result"
    }
   ],
   "source": [
    "plant_diversity"
   ]
  },
  {
   "cell_type": "code",
   "execution_count": 37,
   "metadata": {},
   "outputs": [
    {
     "data": {
      "text/html": [
       "<div>\n",
       "<style scoped>\n",
       "    .dataframe tbody tr th:only-of-type {\n",
       "        vertical-align: middle;\n",
       "    }\n",
       "\n",
       "    .dataframe tbody tr th {\n",
       "        vertical-align: top;\n",
       "    }\n",
       "\n",
       "    .dataframe thead th {\n",
       "        text-align: right;\n",
       "    }\n",
       "</style>\n",
       "<table border=\"1\" class=\"dataframe\">\n",
       "  <thead>\n",
       "    <tr style=\"text-align: right;\">\n",
       "      <th></th>\n",
       "      <th>Year</th>\n",
       "      <th>Plot</th>\n",
       "      <th>Ring</th>\n",
       "      <th>CO2 Treatment</th>\n",
       "      <th>Nitrogen Treatment</th>\n",
       "      <th>CountOfSpecies</th>\n",
       "      <th>CountOfGroup</th>\n",
       "      <th>Experiment</th>\n",
       "      <th>monospecies</th>\n",
       "      <th>Monogroup</th>\n",
       "      <th>Water Treatment</th>\n",
       "      <th>Temp Treatment</th>\n",
       "      <th>Depth</th>\n",
       "      <th>Carbon(%)</th>\n",
       "      <th>Nitrogen(%)</th>\n",
       "      <th>C/N Ratio</th>\n",
       "    </tr>\n",
       "  </thead>\n",
       "  <tbody>\n",
       "    <tr>\n",
       "      <th>3008</th>\n",
       "      <td>2012</td>\n",
       "      <td>11</td>\n",
       "      <td>1</td>\n",
       "      <td>Cenrich</td>\n",
       "      <td>Nenrich</td>\n",
       "      <td>9</td>\n",
       "      <td>4</td>\n",
       "      <td>M</td>\n",
       "      <td></td>\n",
       "      <td></td>\n",
       "      <td>H2Oamb</td>\n",
       "      <td>HTelv</td>\n",
       "      <td>10-20</td>\n",
       "      <td>0.484</td>\n",
       "      <td>0.046</td>\n",
       "      <td>10.52173913</td>\n",
       "    </tr>\n",
       "    <tr>\n",
       "      <th>3009</th>\n",
       "      <td>2012</td>\n",
       "      <td>11</td>\n",
       "      <td>1</td>\n",
       "      <td>Cenrich</td>\n",
       "      <td>Nenrich</td>\n",
       "      <td>9</td>\n",
       "      <td>4</td>\n",
       "      <td>M</td>\n",
       "      <td></td>\n",
       "      <td></td>\n",
       "      <td>H2Oamb</td>\n",
       "      <td>HTelv</td>\n",
       "      <td>0-10</td>\n",
       "      <td>1.056</td>\n",
       "      <td>0.088</td>\n",
       "      <td>12</td>\n",
       "    </tr>\n",
       "    <tr>\n",
       "      <th>3010</th>\n",
       "      <td>2012</td>\n",
       "      <td>11</td>\n",
       "      <td>1</td>\n",
       "      <td>Cenrich</td>\n",
       "      <td>Nenrich</td>\n",
       "      <td>9</td>\n",
       "      <td>4</td>\n",
       "      <td>M</td>\n",
       "      <td></td>\n",
       "      <td></td>\n",
       "      <td>H2Oamb</td>\n",
       "      <td>HTelv</td>\n",
       "      <td>20-40</td>\n",
       "      <td>0.633</td>\n",
       "      <td>0.065</td>\n",
       "      <td>9.738461538</td>\n",
       "    </tr>\n",
       "    <tr>\n",
       "      <th>3011</th>\n",
       "      <td>2012</td>\n",
       "      <td>11</td>\n",
       "      <td>1</td>\n",
       "      <td>Cenrich</td>\n",
       "      <td>Nenrich</td>\n",
       "      <td>9</td>\n",
       "      <td>4</td>\n",
       "      <td>M</td>\n",
       "      <td></td>\n",
       "      <td></td>\n",
       "      <td>H2Oamb</td>\n",
       "      <td>HTelv</td>\n",
       "      <td>40-60</td>\n",
       "      <td>0.43</td>\n",
       "      <td>0.044</td>\n",
       "      <td>9.772727273</td>\n",
       "    </tr>\n",
       "    <tr>\n",
       "      <th>3032</th>\n",
       "      <td>2012</td>\n",
       "      <td>17</td>\n",
       "      <td>1</td>\n",
       "      <td>Cenrich</td>\n",
       "      <td>Namb</td>\n",
       "      <td>9</td>\n",
       "      <td>4</td>\n",
       "      <td>M</td>\n",
       "      <td></td>\n",
       "      <td></td>\n",
       "      <td>H2Oneg</td>\n",
       "      <td>HTelv</td>\n",
       "      <td>10-20</td>\n",
       "      <td>0.535</td>\n",
       "      <td>0.056</td>\n",
       "      <td>9.553571429</td>\n",
       "    </tr>\n",
       "    <tr>\n",
       "      <th>...</th>\n",
       "      <td>...</td>\n",
       "      <td>...</td>\n",
       "      <td>...</td>\n",
       "      <td>...</td>\n",
       "      <td>...</td>\n",
       "      <td>...</td>\n",
       "      <td>...</td>\n",
       "      <td>...</td>\n",
       "      <td>...</td>\n",
       "      <td>...</td>\n",
       "      <td>...</td>\n",
       "      <td>...</td>\n",
       "      <td>...</td>\n",
       "      <td>...</td>\n",
       "      <td>...</td>\n",
       "      <td>...</td>\n",
       "    </tr>\n",
       "    <tr>\n",
       "      <th>4263</th>\n",
       "      <td>2012</td>\n",
       "      <td>324</td>\n",
       "      <td>6</td>\n",
       "      <td>Camb</td>\n",
       "      <td>Nenrich</td>\n",
       "      <td>9</td>\n",
       "      <td>4</td>\n",
       "      <td>M</td>\n",
       "      <td></td>\n",
       "      <td></td>\n",
       "      <td>H2Oamb</td>\n",
       "      <td>HTelv</td>\n",
       "      <td>40-60</td>\n",
       "      <td>0.416</td>\n",
       "      <td>0.035</td>\n",
       "      <td>11.88571429</td>\n",
       "    </tr>\n",
       "    <tr>\n",
       "      <th>4404</th>\n",
       "      <td>2012</td>\n",
       "      <td>360</td>\n",
       "      <td>6</td>\n",
       "      <td>Camb</td>\n",
       "      <td>Nenrich</td>\n",
       "      <td>9</td>\n",
       "      <td>4</td>\n",
       "      <td>M</td>\n",
       "      <td></td>\n",
       "      <td></td>\n",
       "      <td>H2Oneg</td>\n",
       "      <td>HTelv</td>\n",
       "      <td>10-20</td>\n",
       "      <td>0.714</td>\n",
       "      <td>0.058</td>\n",
       "      <td>12.31034483</td>\n",
       "    </tr>\n",
       "    <tr>\n",
       "      <th>4405</th>\n",
       "      <td>2012</td>\n",
       "      <td>360</td>\n",
       "      <td>6</td>\n",
       "      <td>Camb</td>\n",
       "      <td>Nenrich</td>\n",
       "      <td>9</td>\n",
       "      <td>4</td>\n",
       "      <td>M</td>\n",
       "      <td></td>\n",
       "      <td></td>\n",
       "      <td>H2Oneg</td>\n",
       "      <td>HTelv</td>\n",
       "      <td>0-10</td>\n",
       "      <td>1.492</td>\n",
       "      <td>0.117</td>\n",
       "      <td>12.75213675</td>\n",
       "    </tr>\n",
       "    <tr>\n",
       "      <th>4406</th>\n",
       "      <td>2012</td>\n",
       "      <td>360</td>\n",
       "      <td>6</td>\n",
       "      <td>Camb</td>\n",
       "      <td>Nenrich</td>\n",
       "      <td>9</td>\n",
       "      <td>4</td>\n",
       "      <td>M</td>\n",
       "      <td></td>\n",
       "      <td></td>\n",
       "      <td>H2Oneg</td>\n",
       "      <td>HTelv</td>\n",
       "      <td>20-40</td>\n",
       "      <td>0.61</td>\n",
       "      <td>0.047</td>\n",
       "      <td>12.9787234</td>\n",
       "    </tr>\n",
       "    <tr>\n",
       "      <th>4407</th>\n",
       "      <td>2012</td>\n",
       "      <td>360</td>\n",
       "      <td>6</td>\n",
       "      <td>Camb</td>\n",
       "      <td>Nenrich</td>\n",
       "      <td>9</td>\n",
       "      <td>4</td>\n",
       "      <td>M</td>\n",
       "      <td></td>\n",
       "      <td></td>\n",
       "      <td>H2Oneg</td>\n",
       "      <td>HTelv</td>\n",
       "      <td>40-60</td>\n",
       "      <td>0.36</td>\n",
       "      <td>0.029</td>\n",
       "      <td>12.4137931</td>\n",
       "    </tr>\n",
       "  </tbody>\n",
       "</table>\n",
       "<p>96 rows × 16 columns</p>\n",
       "</div>"
      ],
      "text/plain": [
       "      Year  Plot Ring CO2 Treatment Nitrogen Treatment  CountOfSpecies  \\\n",
       "3008  2012    11    1       Cenrich            Nenrich               9   \n",
       "3009  2012    11    1       Cenrich            Nenrich               9   \n",
       "3010  2012    11    1       Cenrich            Nenrich               9   \n",
       "3011  2012    11    1       Cenrich            Nenrich               9   \n",
       "3032  2012    17    1       Cenrich               Namb               9   \n",
       "...    ...   ...  ...           ...                ...             ...   \n",
       "4263  2012   324    6          Camb            Nenrich               9   \n",
       "4404  2012   360    6          Camb            Nenrich               9   \n",
       "4405  2012   360    6          Camb            Nenrich               9   \n",
       "4406  2012   360    6          Camb            Nenrich               9   \n",
       "4407  2012   360    6          Camb            Nenrich               9   \n",
       "\n",
       "      CountOfGroup Experiment monospecies Monogroup Water Treatment  \\\n",
       "3008             4          M                                H2Oamb   \n",
       "3009             4          M                                H2Oamb   \n",
       "3010             4          M                                H2Oamb   \n",
       "3011             4          M                                H2Oamb   \n",
       "3032             4          M                                H2Oneg   \n",
       "...            ...        ...         ...       ...             ...   \n",
       "4263             4          M                                H2Oamb   \n",
       "4404             4          M                                H2Oneg   \n",
       "4405             4          M                                H2Oneg   \n",
       "4406             4          M                                H2Oneg   \n",
       "4407             4          M                                H2Oneg   \n",
       "\n",
       "     Temp Treatment  Depth Carbon(%) Nitrogen(%)    C/N Ratio  \n",
       "3008          HTelv  10-20     0.484       0.046  10.52173913  \n",
       "3009          HTelv   0-10     1.056       0.088           12  \n",
       "3010          HTelv  20-40     0.633       0.065  9.738461538  \n",
       "3011          HTelv  40-60      0.43       0.044  9.772727273  \n",
       "3032          HTelv  10-20     0.535       0.056  9.553571429  \n",
       "...             ...    ...       ...         ...          ...  \n",
       "4263          HTelv  40-60     0.416       0.035  11.88571429  \n",
       "4404          HTelv  10-20     0.714       0.058  12.31034483  \n",
       "4405          HTelv   0-10     1.492       0.117  12.75213675  \n",
       "4406          HTelv  20-40      0.61       0.047   12.9787234  \n",
       "4407          HTelv  40-60      0.36       0.029   12.4137931  \n",
       "\n",
       "[96 rows x 16 columns]"
      ]
     },
     "execution_count": 37,
     "metadata": {},
     "output_type": "execute_result"
    }
   ],
   "source": [
    "plant_diversity[(plant_diversity['Temp Treatment']=='HTelv') & (plant_diversity['Year']==2012)]"
   ]
  },
  {
   "cell_type": "code",
   "execution_count": null,
   "metadata": {},
   "outputs": [],
   "source": []
  }
 ],
 "metadata": {
  "kernelspec": {
   "display_name": "Python 3",
   "language": "python",
   "name": "python3"
  },
  "language_info": {
   "codemirror_mode": {
    "name": "ipython",
    "version": 3
   },
   "file_extension": ".py",
   "mimetype": "text/x-python",
   "name": "python",
   "nbconvert_exporter": "python",
   "pygments_lexer": "ipython3",
   "version": "3.7.9"
  }
 },
 "nbformat": 4,
 "nbformat_minor": 4
}
