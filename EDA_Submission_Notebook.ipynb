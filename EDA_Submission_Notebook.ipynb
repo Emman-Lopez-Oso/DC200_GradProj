{
 "cells": [
  {
   "cell_type": "code",
   "execution_count": 2,
   "metadata": {},
   "outputs": [],
   "source": [
    "import numpy as np\n",
    "import pandas as pd\n",
    "import seaborn as sns\n",
    "\n",
    "import matplotlib.pyplot as plt\n",
    "%matplotlib inline\n",
    "import plotly.express as px\n",
    "\n",
    "\n",
    "import seaborn as sns\n",
    "sns.set(style = \"whitegrid\", \n",
    "        color_codes = True,\n",
    "        font_scale = 1.5)"
   ]
  },
  {
   "cell_type": "code",
   "execution_count": 4,
   "metadata": {},
   "outputs": [],
   "source": [
    "df = pd.read_csv('data/plant_pollinator_diversity_set1.csv')\n",
    "#plant_pollinator_2 = pd.read_csv('data/plant_pollinator_diversity_set2.csv')"
   ]
  },
  {
   "cell_type": "markdown",
   "metadata": {},
   "source": [
    "# Shit we gotta do:\n",
    "\n",
    "### Estimation \n",
    "\n",
    "An evaluation of the report based on the Data Science Lifecycle (10 points, 2 points per component). The review should include at least one strong point and one suggestion for improvement for each of the following components in the project:\n",
    "\n",
    "    Data collection and sampling\n",
    "    Data cleaning\n",
    "    Exploratory data analysis (including data wrangling and visualization)\n",
    "    Data modeling (including feature engineering, selection of the model, and evaluation of the model’s performance)\n",
    "    Inference (do the results from the model sufficiently support the conclusion within the report?)"
   ]
  },
  {
   "cell_type": "markdown",
   "metadata": {},
   "source": [
    "# Data Sampling and Collection\n",
    "\n",
    "## How were the data collected?\n",
    "\n",
    "Give a quick write-up of the explanations that the data dictionaries for the data that we are using. \n",
    "\n",
    "For reference, we are using primarily pollinator 1 and the weather data sampled from 2011-2018\n",
    "\n",
    "## Was there any potential bias introduced in the sampling process?\n",
    "\n",
    "1. Biologist Fatigue \n",
    "2. Biologist Accuracy - The biologist who took these samples may have not been as well trained as others \n",
    "3. According to (**RESEARCH THAT ZACH MENTIONS**) some biologists will not know the plant or pollinator species off-hand and may increase the likelihood of misclassifying them. "
   ]
  },
  {
   "cell_type": "markdown",
   "metadata": {},
   "source": [
    "# Data Dictionary \n",
    "\n",
    "## `CLOUDS`\n",
    "\n",
    "1. S = Sunny\n",
    "2. SH = Shade\n",
    "3. PC = Partly Cloudy\n",
    "4. C = Cloudy\n",
    "\n",
    "## `WIND`\n",
    "\n",
    "1. BR = Breezy\n",
    "2. ST = Still\n",
    "\n",
    "## `MINUTE`\n",
    "\n",
    "On a given sample date, an observer will be there for 15 minutes, which is why the numbers in this variable are from 1-15\n",
    "\n",
    "## `PLOT_ID`\n",
    "\n",
    "Plot ID for a plot in a given meadow. There are 180 individual plots.\n",
    "\n",
    "## `PLOT`\n",
    "\n",
    "Plots in a given meadow. They are numbered 1-10. There are 180 individual plots.\n",
    "\n",
    "## `WATCH`\n",
    "\n",
    "* Code\t\n",
    "    * Definition\n",
    "* 0.5\t\n",
    "    * Phenological period 0.5 (The cone peak complex was sampled an extra time in 2011 during the first week 0.5, 1.5 were used)\t\n",
    "* 1\t\n",
    "    * Phenological period 1\t\n",
    "* 1.5\t\n",
    "    * Phenological period 1.5 (The cone peak complex was sampled an extra time in 2011 during the first week 0.5, 1.5 were used)\t\n",
    "* 2\t\n",
    "    * Phenological period 2\t\n",
    "* 3\t\n",
    "    * Phenological period 3\t\n",
    "* 4\t\n",
    "    * Phenological period 4\t\n",
    "* 5\t\n",
    "    * Phenological period 5\t\n",
    "* 6\t\n",
    "    * Phenological period 6\t\n",
    "* 7\t\n",
    "    * Phenological period 7\n",
    "\n",
    "## Observations \n",
    "\n",
    "1. Dataset covers years 2011-2018\n",
    "2. Plant Pollinators 1 is the number of pollinator interactions with flowers in the area. \n",
    "3. "
   ]
  },
  {
   "cell_type": "code",
   "execution_count": null,
   "metadata": {},
   "outputs": [],
   "source": []
  },
  {
   "cell_type": "markdown",
   "metadata": {},
   "source": [
    "# Data Cleaning\n",
    "\n",
    "## What type of data are you currently exploring?\n",
    "\n",
    "We are currently exploring the `plant_pollinator_diversity_set1.csv` which contains ecological data collected from a long-term observation study from 2011 to 2018 that focuses on plant-pollinator interaction and its impact on local biodiversity. We joined this data with weather station data that collected average temperature and precipitation from three weather stations that surround the forest (H. J. Andrews Experimental Forest)\n",
    "\n",
    "## What is the granularity of the data?\n",
    "\n",
    "VERY. Just kidding. Each observation is a \"minute\" in a 15-minute time window where a researcher is collecting the total number of pollinator-plant interactions within a particular plot of land, within a meadow within a complex (general region in the forest).  \n",
    "\n",
    "## What does the distribution of the data look like? \n",
    "### Are there any outliers? \n",
    "### Are there any missing or invalid entries?"
   ]
  },
  {
   "cell_type": "code",
   "execution_count": 6,
   "metadata": {},
   "outputs": [
    {
     "data": {
      "text/html": [
       "<div>\n",
       "<style scoped>\n",
       "    .dataframe tbody tr th:only-of-type {\n",
       "        vertical-align: middle;\n",
       "    }\n",
       "\n",
       "    .dataframe tbody tr th {\n",
       "        vertical-align: top;\n",
       "    }\n",
       "\n",
       "    .dataframe thead th {\n",
       "        text-align: right;\n",
       "    }\n",
       "</style>\n",
       "<table border=\"1\" class=\"dataframe\">\n",
       "  <thead>\n",
       "    <tr style=\"text-align: right;\">\n",
       "      <th></th>\n",
       "      <th>DBCODE</th>\n",
       "      <th>ENTITY</th>\n",
       "      <th>COMPLEX</th>\n",
       "      <th>MEADOW</th>\n",
       "      <th>PLOT_ID</th>\n",
       "      <th>YEAR</th>\n",
       "      <th>SAMPLEDATE</th>\n",
       "      <th>WATCH</th>\n",
       "      <th>OBSERVER</th>\n",
       "      <th>PLOT</th>\n",
       "      <th>...</th>\n",
       "      <th>PPI_STATUS</th>\n",
       "      <th>NO_INT</th>\n",
       "      <th>PLTSP_CODE</th>\n",
       "      <th>PLTSP_NAME</th>\n",
       "      <th>VISSP_CODE</th>\n",
       "      <th>VISSP_NAME</th>\n",
       "      <th>VISSP_TYPE</th>\n",
       "      <th>REF_NO</th>\n",
       "      <th>VISSP_NO</th>\n",
       "      <th>QC_NOTES</th>\n",
       "    </tr>\n",
       "  </thead>\n",
       "  <tbody>\n",
       "    <tr>\n",
       "      <th>0</th>\n",
       "      <td>SA026</td>\n",
       "      <td>1</td>\n",
       "      <td>Bunchgrass</td>\n",
       "      <td>BD</td>\n",
       "      <td>BGD01</td>\n",
       "      <td>2011</td>\n",
       "      <td>2011-07-24</td>\n",
       "      <td>2.0</td>\n",
       "      <td>NaN</td>\n",
       "      <td>1</td>\n",
       "      <td>...</td>\n",
       "      <td>1</td>\n",
       "      <td>2.0</td>\n",
       "      <td>ACHIMILL</td>\n",
       "      <td>Achillea millefolium</td>\n",
       "      <td>EPICPUNC</td>\n",
       "      <td>Epicauta puncticollis</td>\n",
       "      <td>predaceous beetle</td>\n",
       "      <td>NaN</td>\n",
       "      <td>1</td>\n",
       "      <td>NaN</td>\n",
       "    </tr>\n",
       "    <tr>\n",
       "      <th>1</th>\n",
       "      <td>SA026</td>\n",
       "      <td>1</td>\n",
       "      <td>Bunchgrass</td>\n",
       "      <td>BD</td>\n",
       "      <td>BGD01</td>\n",
       "      <td>2011</td>\n",
       "      <td>2011-07-24</td>\n",
       "      <td>2.0</td>\n",
       "      <td>NaN</td>\n",
       "      <td>1</td>\n",
       "      <td>...</td>\n",
       "      <td>1</td>\n",
       "      <td>1.0</td>\n",
       "      <td>ACHIMILL</td>\n",
       "      <td>Achillea millefolium</td>\n",
       "      <td>EVYLS5M</td>\n",
       "      <td>Evylaeus sp 5M</td>\n",
       "      <td>halictine bee</td>\n",
       "      <td>NaN</td>\n",
       "      <td>1</td>\n",
       "      <td>NaN</td>\n",
       "    </tr>\n",
       "    <tr>\n",
       "      <th>2</th>\n",
       "      <td>SA026</td>\n",
       "      <td>1</td>\n",
       "      <td>Bunchgrass</td>\n",
       "      <td>BD</td>\n",
       "      <td>BGD01</td>\n",
       "      <td>2011</td>\n",
       "      <td>2011-07-24</td>\n",
       "      <td>2.0</td>\n",
       "      <td>NaN</td>\n",
       "      <td>1</td>\n",
       "      <td>...</td>\n",
       "      <td>1</td>\n",
       "      <td>2.0</td>\n",
       "      <td>ERIGFOLI</td>\n",
       "      <td>Erigeron foliosus</td>\n",
       "      <td>MUSCGEN3</td>\n",
       "      <td>Muscoid genus 3</td>\n",
       "      <td>herbivorous muscoid fly</td>\n",
       "      <td>NaN</td>\n",
       "      <td>1</td>\n",
       "      <td>NaN</td>\n",
       "    </tr>\n",
       "    <tr>\n",
       "      <th>3</th>\n",
       "      <td>SA026</td>\n",
       "      <td>1</td>\n",
       "      <td>Bunchgrass</td>\n",
       "      <td>BD</td>\n",
       "      <td>BGD01</td>\n",
       "      <td>2011</td>\n",
       "      <td>2011-07-24</td>\n",
       "      <td>2.0</td>\n",
       "      <td>NaN</td>\n",
       "      <td>1</td>\n",
       "      <td>...</td>\n",
       "      <td>1</td>\n",
       "      <td>2.0</td>\n",
       "      <td>ERIGFOLI</td>\n",
       "      <td>Erigeron foliosus</td>\n",
       "      <td>MUSCGEN3</td>\n",
       "      <td>Muscoid genus 3</td>\n",
       "      <td>herbivorous muscoid fly</td>\n",
       "      <td>NaN</td>\n",
       "      <td>2</td>\n",
       "      <td>NaN</td>\n",
       "    </tr>\n",
       "    <tr>\n",
       "      <th>4</th>\n",
       "      <td>SA026</td>\n",
       "      <td>1</td>\n",
       "      <td>Bunchgrass</td>\n",
       "      <td>BD</td>\n",
       "      <td>BGD01</td>\n",
       "      <td>2011</td>\n",
       "      <td>2011-07-24</td>\n",
       "      <td>2.0</td>\n",
       "      <td>NaN</td>\n",
       "      <td>1</td>\n",
       "      <td>...</td>\n",
       "      <td>1</td>\n",
       "      <td>2.0</td>\n",
       "      <td>ERIGFOLI</td>\n",
       "      <td>Erigeron foliosus</td>\n",
       "      <td>TRICORNA</td>\n",
       "      <td>Trichodes ornatus</td>\n",
       "      <td>bee-parasitic beetle</td>\n",
       "      <td>NaN</td>\n",
       "      <td>1</td>\n",
       "      <td>NaN</td>\n",
       "    </tr>\n",
       "  </tbody>\n",
       "</table>\n",
       "<p>5 rows × 26 columns</p>\n",
       "</div>"
      ],
      "text/plain": [
       "  DBCODE  ENTITY     COMPLEX MEADOW PLOT_ID  YEAR  SAMPLEDATE  WATCH OBSERVER  \\\n",
       "0  SA026       1  Bunchgrass     BD   BGD01  2011  2011-07-24    2.0      NaN   \n",
       "1  SA026       1  Bunchgrass     BD   BGD01  2011  2011-07-24    2.0      NaN   \n",
       "2  SA026       1  Bunchgrass     BD   BGD01  2011  2011-07-24    2.0      NaN   \n",
       "3  SA026       1  Bunchgrass     BD   BGD01  2011  2011-07-24    2.0      NaN   \n",
       "4  SA026       1  Bunchgrass     BD   BGD01  2011  2011-07-24    2.0      NaN   \n",
       "\n",
       "   PLOT  ...  PPI_STATUS  NO_INT  PLTSP_CODE            PLTSP_NAME VISSP_CODE  \\\n",
       "0     1  ...           1     2.0    ACHIMILL  Achillea millefolium   EPICPUNC   \n",
       "1     1  ...           1     1.0    ACHIMILL  Achillea millefolium    EVYLS5M   \n",
       "2     1  ...           1     2.0    ERIGFOLI     Erigeron foliosus   MUSCGEN3   \n",
       "3     1  ...           1     2.0    ERIGFOLI     Erigeron foliosus   MUSCGEN3   \n",
       "4     1  ...           1     2.0    ERIGFOLI     Erigeron foliosus   TRICORNA   \n",
       "\n",
       "              VISSP_NAME               VISSP_TYPE  REF_NO VISSP_NO QC_NOTES  \n",
       "0  Epicauta puncticollis        predaceous beetle     NaN        1      NaN  \n",
       "1         Evylaeus sp 5M            halictine bee     NaN        1      NaN  \n",
       "2        Muscoid genus 3  herbivorous muscoid fly     NaN        1      NaN  \n",
       "3        Muscoid genus 3  herbivorous muscoid fly     NaN        2      NaN  \n",
       "4      Trichodes ornatus     bee-parasitic beetle     NaN        1      NaN  \n",
       "\n",
       "[5 rows x 26 columns]"
      ]
     },
     "execution_count": 6,
     "metadata": {},
     "output_type": "execute_result"
    }
   ],
   "source": [
    "df.head()"
   ]
  },
  {
   "cell_type": "code",
   "execution_count": 99,
   "metadata": {},
   "outputs": [],
   "source": [
    "# Create date time values for the dataset\n",
    "df['DATETIME'] = pd.to_datetime(df['SAMPLEDATE'])\n",
    "\n",
    "df['Date'] = pd.to_datetime(df['SAMPLEDATE'], format='%Y-%m-%d')\n",
    "\n",
    "df['MY'] = df['DATETIME'].dt.to_period('M')\n",
    "# Create a month and year variable \n",
    "df['month'] = df['DATETIME'].dt.month\n"
   ]
  },
  {
   "cell_type": "markdown",
   "metadata": {},
   "source": [
    "## Missing or invalid entries \n",
    "\n",
    "There are a total of 74,131 observations in our data. The highest number of missing values comes from the `QC_NOTES` column, which has 68743 null values. The following table outlines which variables have missing values and how important they are to our project's mission.\n",
    "\n",
    "Column Name  | # of Missing Entries| Importance \n",
    "------------- | -------------| -------------|\n",
    "OBSERVER  | 11,786| Medium |\n",
    "START_TIME  | 10,850| Low|\n",
    "END_TIME | 66,630 | Low|\n",
    "MINUTE | 153 | Low |\n",
    "CLOUDS | 394 | Medium | \n",
    "WIND | 271 | Medium |\n",
    "TEMP | 27,692 | High | \n",
    "NO_INT | 53 | Medium| \n",
    "PLTSP_CODE | 13,860 | Med|\n",
    "PLTSP_NAME | 13,860 | Med|\n",
    "VISSP_CODE | 13,860 | Med|\n",
    "VISSP_NAME | 13,860 | Med|\n",
    "VISSP_TYPE | 35,537 | Low| \n",
    "REF_NO | 58,956 | Low | \n",
    "QC_NOTES | 68,743 | Low|"
   ]
  },
  {
   "cell_type": "markdown",
   "metadata": {},
   "source": [
    "### Why `PLTSP_CODE`, `PLTSP_NAME`, `VISSP_CODE`, `VISSP_NAME`, and `VISSP_TYPE` are missing data\n",
    "\n",
    "Each one of these variables describe the type of plant (PLTSP = Plant species) and insect/pollinator (Visitor Species) that were seen in one of the interactions. \n",
    "\n",
    "One peculiar instance is that the `VISSP_NO` variable all came out to 1 even though there are no plant species or visitor species identified. We are going to remove these data from the dataset to remove any outliers, however, this takes out a very large chunk from out sample. Not only is the total removed come out to being ~19% of our data, but it removes over 60% of the observations from 2014, 70% for 2015, and 25% of the data from 2016 as seen in the histogram below. The month of July contains most of the values form this distribution with 9,731 of the 13,860, which is also 20% of the data from the month of July.\n",
    "\n",
    "We can also use the `PPI_STATUS` variable to use as a proxy that tells us that there were no plant-pollinator interactions caught during those observation minutes.\n",
    "\n"
   ]
  },
  {
   "cell_type": "code",
   "execution_count": 71,
   "metadata": {},
   "outputs": [
    {
     "data": {
      "image/png": "[encoded data removed]",
      "text/plain": [
       "<Figure size 432x288 with 1 Axes>"
      ]
     },
     "metadata": {},
     "output_type": "display_data"
    }
   ],
   "source": [
    "plt.bar(df.loc[df['PLTSP_CODE'].isna(),'year'].value_counts().index,\n",
    "        df.loc[df['PLTSP_CODE'].isna(),'year'].value_counts())\n",
    "plt.xlabel('Year')\n",
    "plt.ylabel('Count of Null Values')\n",
    "plt.title('Count of Missing values from Plant Code by Year');"
   ]
  },
  {
   "cell_type": "code",
   "execution_count": 75,
   "metadata": {},
   "outputs": [
    {
     "name": "stdout",
     "output_type": "stream",
     "text": [
      "Distribution of missing data by month\n"
     ]
    },
    {
     "data": {
      "text/plain": [
       "7    9731\n",
       "6    2187\n",
       "8    1942\n",
       "Name: month, dtype: int64"
      ]
     },
     "metadata": {},
     "output_type": "display_data"
    },
    {
     "data": {
      "image/png": "[encoded data removed]",
      "text/plain": [
       "<Figure size 432x288 with 1 Axes>"
      ]
     },
     "metadata": {},
     "output_type": "display_data"
    }
   ],
   "source": [
    "# show the observations that will be gone from each month\n",
    "plt.bar(df.loc[df['PLTSP_CODE'].isna(),'month'].value_counts().index,\n",
    "        df.loc[df['PLTSP_CODE'].isna(),'month'].value_counts())\n",
    "plt.xlabel('Month')\n",
    "plt.ylabel('Count of Null Values')\n",
    "plt.title('Count of Missing Values from Plant Code by Month');\n",
    "\n",
    "print(\"Distribution of missing data by month\")\n",
    "display(df.loc[df['PLTSP_CODE'].isna(),'month'].value_counts())"
   ]
  },
  {
   "cell_type": "code",
   "execution_count": 55,
   "metadata": {},
   "outputs": [
    {
     "data": {
      "text/plain": [
       "0    13860\n",
       "Name: PPI_STATUS, dtype: int64"
      ]
     },
     "execution_count": 55,
     "metadata": {},
     "output_type": "execute_result"
    }
   ],
   "source": [
    "# Plant-Pollinator Status indicating missing plant species along with \n",
    "# whether or not a plant-pollinator interaction was perceived\n",
    "df.loc[df['PLTSP_CODE'].isna(),'PPI_STATUS'].value_counts()"
   ]
  },
  {
   "cell_type": "code",
   "execution_count": 77,
   "metadata": {},
   "outputs": [],
   "source": [
    "# Drop the missing values from the entire dataset \n",
    "df.drop(df.loc[df['PLTSP_CODE'].isna()].index,inplace=True)"
   ]
  },
  {
   "cell_type": "markdown",
   "metadata": {},
   "source": [
    "### Invalid Entries\n",
    "\n",
    "From our search of the rest of the variables there did not appear to be any outliers in the data. "
   ]
  },
  {
   "cell_type": "code",
   "execution_count": 83,
   "metadata": {},
   "outputs": [],
   "source": [
    "# values in clouds are fine based on the data dictionary\n",
    "df['CLOUDS'].value_counts()\n",
    "# Replace the values so that we can read them when we use them as a categorical variable\n",
    "#df['CLOUDS'].replace({'S':'sunny','PC':'p_cloudy','SH':'shade','C':'cloudy'},inplace=True)"
   ]
  },
  {
   "cell_type": "code",
   "execution_count": 96,
   "metadata": {},
   "outputs": [
    {
     "data": {
      "text/plain": [
       "array(['ST', 'BR', nan], dtype=object)"
      ]
     },
     "execution_count": 96,
     "metadata": {},
     "output_type": "execute_result"
    }
   ],
   "source": [
    "df['WIND'].unique()"
   ]
  },
  {
   "cell_type": "code",
   "execution_count": 89,
   "metadata": {},
   "outputs": [
    {
     "data": {
      "text/plain": [
       "Frissell      26291\n",
       "Lookout       15200\n",
       "Carpenter     12040\n",
       "Bunchgrass     3470\n",
       "Cone           3270\n",
       "Name: COMPLEX, dtype: int64"
      ]
     },
     "execution_count": 89,
     "metadata": {},
     "output_type": "execute_result"
    }
   ],
   "source": [
    "# Complex values are fine based on the data dictionary\n",
    "df['COMPLEX'].value_counts()"
   ]
  },
  {
   "cell_type": "code",
   "execution_count": 90,
   "metadata": {},
   "outputs": [
    {
     "data": {
      "text/plain": [
       "M2     11271\n",
       "RP1     6594\n",
       "LM      4675\n",
       "NE      4285\n",
       "LO      4226\n",
       "RP2     4141\n",
       "LS      4091\n",
       "CPB     3929\n",
       "CPM     3772\n",
       "CPS     2684\n",
       "LB      2208\n",
       "CNM     1818\n",
       "CPR     1655\n",
       "BH      1534\n",
       "BD      1380\n",
       "CNT     1018\n",
       "BS       556\n",
       "CNE      434\n",
       "Name: MEADOW, dtype: int64"
      ]
     },
     "execution_count": 90,
     "metadata": {},
     "output_type": "execute_result"
    }
   ],
   "source": [
    "# MEADOW values are fine based on the data dictionary\n",
    "df['MEADOW'].value_counts()"
   ]
  },
  {
   "cell_type": "code",
   "execution_count": 91,
   "metadata": {},
   "outputs": [
    {
     "data": {
      "text/plain": [
       "2018    12219\n",
       "2011    10275\n",
       "2017     9507\n",
       "2012     8185\n",
       "2013     6565\n",
       "2016     5935\n",
       "2014     4673\n",
       "2015     2912\n",
       "Name: YEAR, dtype: int64"
      ]
     },
     "execution_count": 91,
     "metadata": {},
     "output_type": "execute_result"
    }
   ],
   "source": [
    "# YEAR values are fine based on the data dictionary\n",
    "df['YEAR'].value_counts()"
   ]
  },
  {
   "cell_type": "code",
   "execution_count": 94,
   "metadata": {},
   "outputs": [
    {
     "data": {
      "text/plain": [
       "array([ 1.,  2.,  3.,  5.,  6.,  7.,  8.,  9., 10., 12., 14., 15.,  4.,\n",
       "       13., 11., nan])"
      ]
     },
     "execution_count": 94,
     "metadata": {},
     "output_type": "execute_result"
    }
   ],
   "source": [
    "# MINUTE values are fine based on the data dictionary\n",
    "df['MINUTE'].unique()"
   ]
  },
  {
   "cell_type": "code",
   "execution_count": 101,
   "metadata": {},
   "outputs": [
    {
     "data": {
      "text/plain": [
       "count    35505.000000\n",
       "mean        74.480000\n",
       "std          8.422431\n",
       "min         50.000000\n",
       "25%         68.000000\n",
       "50%         73.400000\n",
       "75%         80.600000\n",
       "max        102.200000\n",
       "Name: temp_f, dtype: float64"
      ]
     },
     "execution_count": 101,
     "metadata": {},
     "output_type": "execute_result"
    }
   ],
   "source": [
    "# Temperature falls within normal bounds \n",
    "df['temp_f'].describe()"
   ]
  },
  {
   "cell_type": "markdown",
   "metadata": {},
   "source": [
    "# Exploratory Data Analysis\n",
    "## Is there any correlation between the variables you are interested in exploring?\n",
    "## How would you cleanly and accurately visualize the relationship among variables?"
   ]
  },
  {
   "cell_type": "code",
   "execution_count": 100,
   "metadata": {},
   "outputs": [],
   "source": [
    "# Create temperature in farenheit\n",
    "df['temp_f'] = df['TEMP']* 1.8000 + 32.00"
   ]
  },
  {
   "cell_type": "code",
   "execution_count": null,
   "metadata": {},
   "outputs": [],
   "source": []
  },
  {
   "cell_type": "markdown",
   "metadata": {},
   "source": [
    "# Data Modeling and Inferences\n",
    "\n",
    "Please note that the following datasets have a data modeling requirement, i.e. you need to utilize at least 1 machine learning model we teach in this class in your project: \n",
    "* Topic 1 \n",
    "    * Dataset A, \n",
    "    * Dataset C \n",
    "* Topic 2 - Dataset A \n",
    "* Topic 3 \n",
    "    * Dataset A\n",
    "    * Dataset B. \n",
    "    \n",
    "For datasets not mentioned above, you are welcome to continue building machine learning model(s). Otherwise, we will be placing more emphasis on the inference part instead.\n",
    "\n",
    "    Here are a few components your notebook must address:\n",
    "        What type of machine learning problem are you investigating?\n",
    "        What model do you plan on using and why?\n",
    "        Does your model require hyperparameter tuning? If so, how do you approach it?\n",
    "        How do you engineer the features for your model? What are the rationales behind selecting these features?\n",
    "        How do you perform cross validation on your model?\n",
    "        What loss metrics are you using to evaluate your model?\n",
    "        From a bias-variance tradeoff standpoint, how do you assess the performance of your model? How do you check if it is overfitting?\n",
    "        How would you improve your model based on the outcome?\n",
    "        \n",
    "# IDEAS: \n",
    "\n",
    "Potentially call out the biologists through a cluster analysis "
   ]
  },
  {
   "cell_type": "code",
   "execution_count": null,
   "metadata": {},
   "outputs": [],
   "source": []
  },
  {
   "cell_type": "code",
   "execution_count": 13,
   "metadata": {},
   "outputs": [
    {
     "data": {
      "text/plain": [
       "Bombus mixtus                       21\n",
       "Chrysotoxum fasciatum               17\n",
       "Eristalis hirtus                    14\n",
       "Bombylius major                     14\n",
       "Platycheirus stegnus                14\n",
       "Muscoid genus 2                     11\n",
       "Bombus bifarius                      7\n",
       "Muscoid genus 1                      7\n",
       "Apis mellifera                       6\n",
       "Conophorus sp 3                      6\n",
       "Muscoid genus 3                      5\n",
       "Euphilotes enoptes                   5\n",
       "Bombus melanopygus                   4\n",
       "Eschatocrepis constrictus            4\n",
       "Poecilanthrax sp 1                   3\n",
       "Osmia sp 27                          3\n",
       "Eupeodes volucris                    2\n",
       "Anthrax sp X1                        2\n",
       "Osmia sp 6M                          2\n",
       "Syrphus ribesii                      2\n",
       "Toxomerus occidentalis               1\n",
       "Chrysidid sp 2                       1\n",
       "Epicauta puncticollis                1\n",
       "Calypte anna                         1\n",
       "Osmia sp 23                          1\n",
       "Bombus vosnesenskii                  1\n",
       "Geometrid sp L1                      1\n",
       "Hemaris diffinis                     1\n",
       "Dufourea versatilis rubriventris     1\n",
       "Dialictus sp 4                       1\n",
       "Syrphus opinator                     1\n",
       "Villa lateralis                      1\n",
       "Chrysotoxum derivatum                1\n",
       "Calliphorid genus 1                  1\n",
       "Sphecodes sp 7                       1\n",
       "Evylaeus sp 2                        1\n",
       "Dufourea calochorti                  1\n",
       "Bombus californicus                  1\n",
       "Tapinoma sessile                     1\n",
       "Frankliniella occidentalis           1\n",
       "Halictus rubicundus                  1\n",
       "Formica fusca                        1\n",
       "Name: VISSP_NAME, dtype: int64"
      ]
     },
     "execution_count": 13,
     "metadata": {},
     "output_type": "execute_result"
    }
   ],
   "source": [
    "df[(df['Date'].dt.month==7) & (df['PLOT']==4)&(df['Date'].dt.year==2011)]['VISSP_NAME'].value_counts()"
   ]
  },
  {
   "cell_type": "code",
   "execution_count": 78,
   "metadata": {},
   "outputs": [],
   "source": [
    "# create the result table by grouping by year, then month, then plot of land\n",
    "result = df[['year','month', 'COMPLEX', 'VISSP_NAME']].groupby(['year','month', 'COMPLEX']).count()\n",
    "result = result.reset_index()\n",
    "result.replace({'Bunchgrass':1,'Carpenter':2,'Cone':3,'Frissell':4,'Lookout':5},inplace=True)"
   ]
  },
  {
   "cell_type": "code",
   "execution_count": 61,
   "metadata": {},
   "outputs": [
    {
     "data": {
      "text/plain": [
       "<AxesSubplot:xlabel='temp_f', ylabel='NO_INT'>"
      ]
     },
     "execution_count": 61,
     "metadata": {},
     "output_type": "execute_result"
    },
    {
     "data": {
      "image/png": "[encoded data removed]",
      "text/plain": [
       "<Figure size 432x288 with 1 Axes>"
      ]
     },
     "metadata": {},
     "output_type": "display_data"
    }
   ],
   "source": [
    "temp_count = df.groupby('SAMPLEDATE').agg({'NO_INT':np.sum,'temp_f':np.mean}).reset_index().dropna()\n",
    "temp_count.describe()\n",
    "temp_count = temp_count.loc[temp_count['NO_INT']<=3500]\n",
    "sns.scatterplot(x=temp_count['temp_f'],y=temp_count['NO_INT'])"
   ]
  },
  {
   "cell_type": "code",
   "execution_count": 79,
   "metadata": {},
   "outputs": [
    {
     "data": {
      "application/vnd.plotly.v1+json": {
       "config": {
        "plotlyServerURL": "https://plot.ly"
       },
       "data": [
        {
         "alignmentgroup": "True",
         "hovertemplate": "month=6<br>year=2012<br>COMPLEX=%{marker.color}<br>VISSP_NAME=%{y}<extra></extra>",
         "legendgroup": "",
         "marker": {
          "color": [
           1
          ],
          "coloraxis": "coloraxis"
         },
         "name": "",
         "offsetgroup": "",
         "orientation": "v",
         "showlegend": false,
         "textposition": "auto",
         "type": "bar",
         "x": [
          1
         ],
         "xaxis": "x26",
         "y": [
          116
         ],
         "yaxis": "y26"
        },
        {
         "alignmentgroup": "True",
         "hovertemplate": "month=6<br>year=2013<br>COMPLEX=%{marker.color}<br>VISSP_NAME=%{y}<extra></extra>",
         "legendgroup": "",
         "marker": {
          "color": [
           2
          ],
          "coloraxis": "coloraxis"
         },
         "name": "",
         "offsetgroup": "",
         "orientation": "v",
         "showlegend": false,
         "textposition": "auto",
         "type": "bar",
         "x": [
          2
         ],
         "xaxis": "x27",
         "y": [
          30
         ],
         "yaxis": "y27"
        },
        {
         "alignmentgroup": "True",
         "hovertemplate": "month=6<br>year=2014<br>COMPLEX=%{marker.color}<br>VISSP_NAME=%{y}<extra></extra>",
         "legendgroup": "",
         "marker": {
          "color": [
           5
          ],
          "coloraxis": "coloraxis"
         },
         "name": "",
         "offsetgroup": "",
         "orientation": "v",
         "showlegend": false,
         "textposition": "auto",
         "type": "bar",
         "x": [
          5
         ],
         "xaxis": "x28",
         "y": [
          169
         ],
         "yaxis": "y28"
        },
        {
         "alignmentgroup": "True",
         "hovertemplate": "month=6<br>year=2015<br>COMPLEX=%{marker.color}<br>VISSP_NAME=%{y}<extra></extra>",
         "legendgroup": "",
         "marker": {
          "color": [
           2,
           4,
           5
          ],
          "coloraxis": "coloraxis"
         },
         "name": "",
         "offsetgroup": "",
         "orientation": "v",
         "showlegend": false,
         "textposition": "auto",
         "type": "bar",
         "x": [
          2,
          4,
          5
         ],
         "xaxis": "x29",
         "y": [
          225,
          1025,
          268
         ],
         "yaxis": "y29"
        },
        {
         "alignmentgroup": "True",
         "hovertemplate": "month=6<br>year=2016<br>COMPLEX=%{marker.color}<br>VISSP_NAME=%{y}<extra></extra>",
         "legendgroup": "",
         "marker": {
          "color": [
           2,
           4,
           5
          ],
          "coloraxis": "coloraxis"
         },
         "name": "",
         "offsetgroup": "",
         "orientation": "v",
         "showlegend": false,
         "textposition": "auto",
         "type": "bar",
         "x": [
          2,
          4,
          5
         ],
         "xaxis": "x30",
         "y": [
          357,
          501,
          675
         ],
         "yaxis": "y30"
        },
        {
         "alignmentgroup": "True",
         "hovertemplate": "month=6<br>year=2017<br>COMPLEX=%{marker.color}<br>VISSP_NAME=%{y}<extra></extra>",
         "legendgroup": "",
         "marker": {
          "color": [
           2,
           4,
           5
          ],
          "coloraxis": "coloraxis"
         },
         "name": "",
         "offsetgroup": "",
         "orientation": "v",
         "showlegend": false,
         "textposition": "auto",
         "type": "bar",
         "x": [
          2,
          4,
          5
         ],
         "xaxis": "x31",
         "y": [
          178,
          955,
          170
         ],
         "yaxis": "y31"
        },
        {
         "alignmentgroup": "True",
         "hovertemplate": "month=6<br>year=2018<br>COMPLEX=%{marker.color}<br>VISSP_NAME=%{y}<extra></extra>",
         "legendgroup": "",
         "marker": {
          "color": [
           2,
           4,
           5
          ],
          "coloraxis": "coloraxis"
         },
         "name": "",
         "offsetgroup": "",
         "orientation": "v",
         "showlegend": false,
         "textposition": "auto",
         "type": "bar",
         "x": [
          2,
          4,
          5
         ],
         "xaxis": "x32",
         "y": [
          943,
          1840,
          253
         ],
         "yaxis": "y32"
        },
        {
         "alignmentgroup": "True",
         "hovertemplate": "month=7<br>year=2011<br>COMPLEX=%{marker.color}<br>VISSP_NAME=%{y}<extra></extra>",
         "legendgroup": "",
         "marker": {
          "color": [
           1,
           2,
           3,
           4,
           5
          ],
          "coloraxis": "coloraxis"
         },
         "name": "",
         "offsetgroup": "",
         "orientation": "v",
         "showlegend": false,
         "textposition": "auto",
         "type": "bar",
         "x": [
          1,
          2,
          3,
          4,
          5
         ],
         "xaxis": "x17",
         "y": [
          678,
          344,
          799,
          1264,
          585
         ],
         "yaxis": "y17"
        },
        {
         "alignmentgroup": "True",
         "hovertemplate": "month=7<br>year=2012<br>COMPLEX=%{marker.color}<br>VISSP_NAME=%{y}<extra></extra>",
         "legendgroup": "",
         "marker": {
          "color": [
           1,
           2,
           3,
           4,
           5
          ],
          "coloraxis": "coloraxis"
         },
         "name": "",
         "offsetgroup": "",
         "orientation": "v",
         "showlegend": false,
         "textposition": "auto",
         "type": "bar",
         "x": [
          1,
          2,
          3,
          4,
          5
         ],
         "xaxis": "x18",
         "y": [
          772,
          851,
          700,
          1331,
          924
         ],
         "yaxis": "y18"
        },
        {
         "alignmentgroup": "True",
         "hovertemplate": "month=7<br>year=2013<br>COMPLEX=%{marker.color}<br>VISSP_NAME=%{y}<extra></extra>",
         "legendgroup": "",
         "marker": {
          "color": [
           2,
           4,
           5
          ],
          "coloraxis": "coloraxis"
         },
         "name": "",
         "offsetgroup": "",
         "orientation": "v",
         "showlegend": false,
         "textposition": "auto",
         "type": "bar",
         "x": [
          2,
          4,
          5
         ],
         "xaxis": "x19",
         "y": [
          1153,
          2091,
          2306
         ],
         "yaxis": "y19"
        },
        {
         "alignmentgroup": "True",
         "hovertemplate": "month=7<br>year=2014<br>COMPLEX=%{marker.color}<br>VISSP_NAME=%{y}<extra></extra>",
         "legendgroup": "",
         "marker": {
          "color": [
           2,
           4,
           5
          ],
          "coloraxis": "coloraxis"
         },
         "name": "",
         "offsetgroup": "",
         "orientation": "v",
         "showlegend": false,
         "textposition": "auto",
         "type": "bar",
         "x": [
          2,
          4,
          5
         ],
         "xaxis": "x20",
         "y": [
          813,
          1991,
          1317
         ],
         "yaxis": "y20"
        },
        {
         "alignmentgroup": "True",
         "hovertemplate": "month=7<br>year=2015<br>COMPLEX=%{marker.color}<br>VISSP_NAME=%{y}<extra></extra>",
         "legendgroup": "",
         "marker": {
          "color": [
           2,
           4,
           5
          ],
          "coloraxis": "coloraxis"
         },
         "name": "",
         "offsetgroup": "",
         "orientation": "v",
         "showlegend": false,
         "textposition": "auto",
         "type": "bar",
         "x": [
          2,
          4,
          5
         ],
         "xaxis": "x21",
         "y": [
          425,
          421,
          548
         ],
         "yaxis": "y21"
        },
        {
         "alignmentgroup": "True",
         "hovertemplate": "month=7<br>year=2016<br>COMPLEX=%{marker.color}<br>VISSP_NAME=%{y}<extra></extra>",
         "legendgroup": "",
         "marker": {
          "color": [
           2,
           4,
           5
          ],
          "coloraxis": "coloraxis"
         },
         "name": "",
         "offsetgroup": "",
         "orientation": "v",
         "showlegend": false,
         "textposition": "auto",
         "type": "bar",
         "x": [
          2,
          4,
          5
         ],
         "xaxis": "x22",
         "y": [
          448,
          2657,
          1128
         ],
         "yaxis": "y22"
        },
        {
         "alignmentgroup": "True",
         "hovertemplate": "month=7<br>year=2017<br>COMPLEX=%{marker.color}<br>VISSP_NAME=%{y}<extra></extra>",
         "legendgroup": "",
         "marker": {
          "color": [
           2,
           4,
           5
          ],
          "coloraxis": "coloraxis"
         },
         "name": "",
         "offsetgroup": "",
         "orientation": "v",
         "showlegend": false,
         "textposition": "auto",
         "type": "bar",
         "x": [
          2,
          4,
          5
         ],
         "xaxis": "x23",
         "y": [
          1443,
          4204,
          1915
         ],
         "yaxis": "y23"
        },
        {
         "alignmentgroup": "True",
         "hovertemplate": "month=7<br>year=2018<br>COMPLEX=%{marker.color}<br>VISSP_NAME=%{y}<extra></extra>",
         "legendgroup": "",
         "marker": {
          "color": [
           2,
           4,
           5
          ],
          "coloraxis": "coloraxis"
         },
         "name": "",
         "offsetgroup": "",
         "orientation": "v",
         "showlegend": false,
         "textposition": "auto",
         "type": "bar",
         "x": [
          2,
          4,
          5
         ],
         "xaxis": "x24",
         "y": [
          1585,
          4750,
          2226
         ],
         "yaxis": "y24"
        },
        {
         "alignmentgroup": "True",
         "hovertemplate": "month=8<br>year=2011<br>COMPLEX=%{marker.color}<br>VISSP_NAME=%{y}<extra></extra>",
         "legendgroup": "",
         "marker": {
          "color": [
           1,
           2,
           3,
           4,
           5
          ],
          "coloraxis": "coloraxis"
         },
         "name": "",
         "offsetgroup": "",
         "orientation": "v",
         "showlegend": false,
         "textposition": "auto",
         "type": "bar",
         "x": [
          1,
          2,
          3,
          4,
          5
         ],
         "xaxis": "x9",
         "y": [
          587,
          1932,
          1336,
          1606,
          931
         ],
         "yaxis": "y9"
        },
        {
         "alignmentgroup": "True",
         "hovertemplate": "month=8<br>year=2012<br>COMPLEX=%{marker.color}<br>VISSP_NAME=%{y}<extra></extra>",
         "legendgroup": "",
         "marker": {
          "color": [
           1,
           2,
           3,
           4,
           5
          ],
          "coloraxis": "coloraxis"
         },
         "name": "",
         "offsetgroup": "",
         "orientation": "v",
         "showlegend": false,
         "textposition": "auto",
         "type": "bar",
         "x": [
          1,
          2,
          3,
          4,
          5
         ],
         "xaxis": "x10",
         "y": [
          1314,
          518,
          387,
          982,
          290
         ],
         "yaxis": "y10"
        },
        {
         "alignmentgroup": "True",
         "hovertemplate": "month=8<br>year=2013<br>COMPLEX=%{marker.color}<br>VISSP_NAME=%{y}<extra></extra>",
         "legendgroup": "",
         "marker": {
          "color": [
           2,
           4,
           5
          ],
          "coloraxis": "coloraxis"
         },
         "name": "",
         "offsetgroup": "",
         "orientation": "v",
         "showlegend": false,
         "textposition": "auto",
         "type": "bar",
         "x": [
          2,
          4,
          5
         ],
         "xaxis": "x11",
         "y": [
          265,
          341,
          379
         ],
         "yaxis": "y11"
        },
        {
         "alignmentgroup": "True",
         "hovertemplate": "month=8<br>year=2014<br>COMPLEX=%{marker.color}<br>VISSP_NAME=%{y}<extra></extra>",
         "legendgroup": "",
         "marker": {
          "color": [
           2,
           4,
           5
          ],
          "coloraxis": "coloraxis"
         },
         "name": "",
         "offsetgroup": "",
         "orientation": "v",
         "showlegend": false,
         "textposition": "auto",
         "type": "bar",
         "x": [
          2,
          4,
          5
         ],
         "xaxis": "x12",
         "y": [
          58,
          175,
          150
         ],
         "yaxis": "y12"
        },
        {
         "alignmentgroup": "True",
         "hovertemplate": "month=8<br>year=2016<br>COMPLEX=%{marker.color}<br>VISSP_NAME=%{y}<extra></extra>",
         "legendgroup": "",
         "marker": {
          "color": [
           2
          ],
          "coloraxis": "coloraxis"
         },
         "name": "",
         "offsetgroup": "",
         "orientation": "v",
         "showlegend": false,
         "textposition": "auto",
         "type": "bar",
         "x": [
          2
         ],
         "xaxis": "x14",
         "y": [
          169
         ],
         "yaxis": "y14"
        },
        {
         "alignmentgroup": "True",
         "hovertemplate": "month=8<br>year=2017<br>COMPLEX=%{marker.color}<br>VISSP_NAME=%{y}<extra></extra>",
         "legendgroup": "",
         "marker": {
          "color": [
           2,
           5
          ],
          "coloraxis": "coloraxis"
         },
         "name": "",
         "offsetgroup": "",
         "orientation": "v",
         "showlegend": false,
         "textposition": "auto",
         "type": "bar",
         "x": [
          2,
          5
         ],
         "xaxis": "x15",
         "y": [
          70,
          572
         ],
         "yaxis": "y15"
        },
        {
         "alignmentgroup": "True",
         "hovertemplate": "month=8<br>year=2018<br>COMPLEX=%{marker.color}<br>VISSP_NAME=%{y}<extra></extra>",
         "legendgroup": "",
         "marker": {
          "color": [
           2,
           4,
           5
          ],
          "coloraxis": "coloraxis"
         },
         "name": "",
         "offsetgroup": "",
         "orientation": "v",
         "showlegend": false,
         "textposition": "auto",
         "type": "bar",
         "x": [
          2,
          4,
          5
         ],
         "xaxis": "x16",
         "y": [
          141,
          129,
          352
         ],
         "yaxis": "y16"
        },
        {
         "alignmentgroup": "True",
         "hovertemplate": "month=9<br>year=2011<br>COMPLEX=%{marker.color}<br>VISSP_NAME=%{y}<extra></extra>",
         "legendgroup": "",
         "marker": {
          "color": [
           1,
           2,
           3,
           4,
           5
          ],
          "coloraxis": "coloraxis"
         },
         "name": "",
         "offsetgroup": "",
         "orientation": "v",
         "showlegend": false,
         "textposition": "auto",
         "type": "bar",
         "x": [
          1,
          2,
          3,
          4,
          5
         ],
         "xaxis": "x",
         "y": [
          3,
          92,
          48,
          28,
          42
         ],
         "yaxis": "y"
        }
       ],
       "layout": {
        "annotations": [
         {
          "font": {},
          "showarrow": false,
          "text": "year=2011",
          "x": 0.0525,
          "xanchor": "center",
          "xref": "paper",
          "y": 1,
          "yanchor": "bottom",
          "yref": "paper"
         },
         {
          "font": {},
          "showarrow": false,
          "text": "year=2012",
          "x": 0.1775,
          "xanchor": "center",
          "xref": "paper",
          "y": 1,
          "yanchor": "bottom",
          "yref": "paper"
         },
         {
          "font": {},
          "showarrow": false,
          "text": "year=2013",
          "x": 0.3025,
          "xanchor": "center",
          "xref": "paper",
          "y": 1,
          "yanchor": "bottom",
          "yref": "paper"
         },
         {
          "font": {},
          "showarrow": false,
          "text": "year=2014",
          "x": 0.4275,
          "xanchor": "center",
          "xref": "paper",
          "y": 1,
          "yanchor": "bottom",
          "yref": "paper"
         },
         {
          "font": {},
          "showarrow": false,
          "text": "year=2015",
          "x": 0.5525,
          "xanchor": "center",
          "xref": "paper",
          "y": 1,
          "yanchor": "bottom",
          "yref": "paper"
         },
         {
          "font": {},
          "showarrow": false,
          "text": "year=2016",
          "x": 0.6775,
          "xanchor": "center",
          "xref": "paper",
          "y": 1,
          "yanchor": "bottom",
          "yref": "paper"
         },
         {
          "font": {},
          "showarrow": false,
          "text": "year=2017",
          "x": 0.8025,
          "xanchor": "center",
          "xref": "paper",
          "y": 1,
          "yanchor": "bottom",
          "yref": "paper"
         },
         {
          "font": {},
          "showarrow": false,
          "text": "year=2018",
          "x": 0.9275,
          "xanchor": "center",
          "xref": "paper",
          "y": 1,
          "yanchor": "bottom",
          "yref": "paper"
         },
         {
          "font": {},
          "showarrow": false,
          "text": "month=9",
          "textangle": 90,
          "x": 0.98,
          "xanchor": "left",
          "xref": "paper",
          "y": 0.11375,
          "yanchor": "middle",
          "yref": "paper"
         },
         {
          "font": {},
          "showarrow": false,
          "text": "month=8",
          "textangle": 90,
          "x": 0.98,
          "xanchor": "left",
          "xref": "paper",
          "y": 0.37124999999999997,
          "yanchor": "middle",
          "yref": "paper"
         },
         {
          "font": {},
          "showarrow": false,
          "text": "month=7",
          "textangle": 90,
          "x": 0.98,
          "xanchor": "left",
          "xref": "paper",
          "y": 0.62875,
          "yanchor": "middle",
          "yref": "paper"
         },
         {
          "font": {},
          "showarrow": false,
          "text": "month=6",
          "textangle": 90,
          "x": 0.98,
          "xanchor": "left",
          "xref": "paper",
          "y": 0.88625,
          "yanchor": "middle",
          "yref": "paper"
         }
        ],
        "barmode": "group",
        "coloraxis": {
         "colorbar": {
          "title": {
           "text": "COMPLEX"
          }
         },
         "colorscale": [
          [
           0,
           "#0d0887"
          ],
          [
           0.1111111111111111,
           "#46039f"
          ],
          [
           0.2222222222222222,
           "#7201a8"
          ],
          [
           0.3333333333333333,
           "#9c179e"
          ],
          [
           0.4444444444444444,
           "#bd3786"
          ],
          [
           0.5555555555555556,
           "#d8576b"
          ],
          [
           0.6666666666666666,
           "#ed7953"
          ],
          [
           0.7777777777777778,
           "#fb9f3a"
          ],
          [
           0.8888888888888888,
           "#fdca26"
          ],
          [
           1,
           "#f0f921"
          ]
         ]
        },
        "legend": {
         "tracegroupgap": 0
        },
        "margin": {
         "t": 60
        },
        "template": {
         "data": {
          "bar": [
           {
            "error_x": {
             "color": "#2a3f5f"
            },
            "error_y": {
             "color": "#2a3f5f"
            },
            "marker": {
             "line": {
              "color": "#E5ECF6",
              "width": 0.5
             }
            },
            "type": "bar"
           }
          ],
          "barpolar": [
           {
            "marker": {
             "line": {
              "color": "#E5ECF6",
              "width": 0.5
             }
            },
            "type": "barpolar"
           }
          ],
          "carpet": [
           {
            "aaxis": {
             "endlinecolor": "#2a3f5f",
             "gridcolor": "white",
             "linecolor": "white",
             "minorgridcolor": "white",
             "startlinecolor": "#2a3f5f"
            },
            "baxis": {
             "endlinecolor": "#2a3f5f",
             "gridcolor": "white",
             "linecolor": "white",
             "minorgridcolor": "white",
             "startlinecolor": "#2a3f5f"
            },
            "type": "carpet"
           }
          ],
          "choropleth": [
           {
            "colorbar": {
             "outlinewidth": 0,
             "ticks": ""
            },
            "type": "choropleth"
           }
          ],
          "contour": [
           {
            "colorbar": {
             "outlinewidth": 0,
             "ticks": ""
            },
            "colorscale": [
             [
              0,
              "#0d0887"
             ],
             [
              0.1111111111111111,
              "#46039f"
             ],
             [
              0.2222222222222222,
              "#7201a8"
             ],
             [
              0.3333333333333333,
              "#9c179e"
             ],
             [
              0.4444444444444444,
              "#bd3786"
             ],
             [
              0.5555555555555556,
              "#d8576b"
             ],
             [
              0.6666666666666666,
              "#ed7953"
             ],
             [
              0.7777777777777778,
              "#fb9f3a"
             ],
             [
              0.8888888888888888,
              "#fdca26"
             ],
             [
              1,
              "#f0f921"
             ]
            ],
            "type": "contour"
           }
          ],
          "contourcarpet": [
           {
            "colorbar": {
             "outlinewidth": 0,
             "ticks": ""
            },
            "type": "contourcarpet"
           }
          ],
          "heatmap": [
           {
            "colorbar": {
             "outlinewidth": 0,
             "ticks": ""
            },
            "colorscale": [
             [
              0,
              "#0d0887"
             ],
             [
              0.1111111111111111,
              "#46039f"
             ],
             [
              0.2222222222222222,
              "#7201a8"
             ],
             [
              0.3333333333333333,
              "#9c179e"
             ],
             [
              0.4444444444444444,
              "#bd3786"
             ],
             [
              0.5555555555555556,
              "#d8576b"
             ],
             [
              0.6666666666666666,
              "#ed7953"
             ],
             [
              0.7777777777777778,
              "#fb9f3a"
             ],
             [
              0.8888888888888888,
              "#fdca26"
             ],
             [
              1,
              "#f0f921"
             ]
            ],
            "type": "heatmap"
           }
          ],
          "heatmapgl": [
           {
            "colorbar": {
             "outlinewidth": 0,
             "ticks": ""
            },
            "colorscale": [
             [
              0,
              "#0d0887"
             ],
             [
              0.1111111111111111,
              "#46039f"
             ],
             [
              0.2222222222222222,
              "#7201a8"
             ],
             [
              0.3333333333333333,
              "#9c179e"
             ],
             [
              0.4444444444444444,
              "#bd3786"
             ],
             [
              0.5555555555555556,
              "#d8576b"
             ],
             [
              0.6666666666666666,
              "#ed7953"
             ],
             [
              0.7777777777777778,
              "#fb9f3a"
             ],
             [
              0.8888888888888888,
              "#fdca26"
             ],
             [
              1,
              "#f0f921"
             ]
            ],
            "type": "heatmapgl"
           }
          ],
          "histogram": [
           {
            "marker": {
             "colorbar": {
              "outlinewidth": 0,
              "ticks": ""
             }
            },
            "type": "histogram"
           }
          ],
          "histogram2d": [
           {
            "colorbar": {
             "outlinewidth": 0,
             "ticks": ""
            },
            "colorscale": [
             [
              0,
              "#0d0887"
             ],
             [
              0.1111111111111111,
              "#46039f"
             ],
             [
              0.2222222222222222,
              "#7201a8"
             ],
             [
              0.3333333333333333,
              "#9c179e"
             ],
             [
              0.4444444444444444,
              "#bd3786"
             ],
             [
              0.5555555555555556,
              "#d8576b"
             ],
             [
              0.6666666666666666,
              "#ed7953"
             ],
             [
              0.7777777777777778,
              "#fb9f3a"
             ],
             [
              0.8888888888888888,
              "#fdca26"
             ],
             [
              1,
              "#f0f921"
             ]
            ],
            "type": "histogram2d"
           }
          ],
          "histogram2dcontour": [
           {
            "colorbar": {
             "outlinewidth": 0,
             "ticks": ""
            },
            "colorscale": [
             [
              0,
              "#0d0887"
             ],
             [
              0.1111111111111111,
              "#46039f"
             ],
             [
              0.2222222222222222,
              "#7201a8"
             ],
             [
              0.3333333333333333,
              "#9c179e"
             ],
             [
              0.4444444444444444,
              "#bd3786"
             ],
             [
              0.5555555555555556,
              "#d8576b"
             ],
             [
              0.6666666666666666,
              "#ed7953"
             ],
             [
              0.7777777777777778,
              "#fb9f3a"
             ],
             [
              0.8888888888888888,
              "#fdca26"
             ],
             [
              1,
              "#f0f921"
             ]
            ],
            "type": "histogram2dcontour"
           }
          ],
          "mesh3d": [
           {
            "colorbar": {
             "outlinewidth": 0,
             "ticks": ""
            },
            "type": "mesh3d"
           }
          ],
          "parcoords": [
           {
            "line": {
             "colorbar": {
              "outlinewidth": 0,
              "ticks": ""
             }
            },
            "type": "parcoords"
           }
          ],
          "pie": [
           {
            "automargin": true,
            "type": "pie"
           }
          ],
          "scatter": [
           {
            "marker": {
             "colorbar": {
              "outlinewidth": 0,
              "ticks": ""
             }
            },
            "type": "scatter"
           }
          ],
          "scatter3d": [
           {
            "line": {
             "colorbar": {
              "outlinewidth": 0,
              "ticks": ""
             }
            },
            "marker": {
             "colorbar": {
              "outlinewidth": 0,
              "ticks": ""
             }
            },
            "type": "scatter3d"
           }
          ],
          "scattercarpet": [
           {
            "marker": {
             "colorbar": {
              "outlinewidth": 0,
              "ticks": ""
             }
            },
            "type": "scattercarpet"
           }
          ],
          "scattergeo": [
           {
            "marker": {
             "colorbar": {
              "outlinewidth": 0,
              "ticks": ""
             }
            },
            "type": "scattergeo"
           }
          ],
          "scattergl": [
           {
            "marker": {
             "colorbar": {
              "outlinewidth": 0,
              "ticks": ""
             }
            },
            "type": "scattergl"
           }
          ],
          "scattermapbox": [
           {
            "marker": {
             "colorbar": {
              "outlinewidth": 0,
              "ticks": ""
             }
            },
            "type": "scattermapbox"
           }
          ],
          "scatterpolar": [
           {
            "marker": {
             "colorbar": {
              "outlinewidth": 0,
              "ticks": ""
             }
            },
            "type": "scatterpolar"
           }
          ],
          "scatterpolargl": [
           {
            "marker": {
             "colorbar": {
              "outlinewidth": 0,
              "ticks": ""
             }
            },
            "type": "scatterpolargl"
           }
          ],
          "scatterternary": [
           {
            "marker": {
             "colorbar": {
              "outlinewidth": 0,
              "ticks": ""
             }
            },
            "type": "scatterternary"
           }
          ],
          "surface": [
           {
            "colorbar": {
             "outlinewidth": 0,
             "ticks": ""
            },
            "colorscale": [
             [
              0,
              "#0d0887"
             ],
             [
              0.1111111111111111,
              "#46039f"
             ],
             [
              0.2222222222222222,
              "#7201a8"
             ],
             [
              0.3333333333333333,
              "#9c179e"
             ],
             [
              0.4444444444444444,
              "#bd3786"
             ],
             [
              0.5555555555555556,
              "#d8576b"
             ],
             [
              0.6666666666666666,
              "#ed7953"
             ],
             [
              0.7777777777777778,
              "#fb9f3a"
             ],
             [
              0.8888888888888888,
              "#fdca26"
             ],
             [
              1,
              "#f0f921"
             ]
            ],
            "type": "surface"
           }
          ],
          "table": [
           {
            "cells": {
             "fill": {
              "color": "#EBF0F8"
             },
             "line": {
              "color": "white"
             }
            },
            "header": {
             "fill": {
              "color": "#C8D4E3"
             },
             "line": {
              "color": "white"
             }
            },
            "type": "table"
           }
          ]
         },
         "layout": {
          "annotationdefaults": {
           "arrowcolor": "#2a3f5f",
           "arrowhead": 0,
           "arrowwidth": 1
          },
          "autotypenumbers": "strict",
          "coloraxis": {
           "colorbar": {
            "outlinewidth": 0,
            "ticks": ""
           }
          },
          "colorscale": {
           "diverging": [
            [
             0,
             "#8e0152"
            ],
            [
             0.1,
             "#c51b7d"
            ],
            [
             0.2,
             "#de77ae"
            ],
            [
             0.3,
             "#f1b6da"
            ],
            [
             0.4,
             "#fde0ef"
            ],
            [
             0.5,
             "#f7f7f7"
            ],
            [
             0.6,
             "#e6f5d0"
            ],
            [
             0.7,
             "#b8e186"
            ],
            [
             0.8,
             "#7fbc41"
            ],
            [
             0.9,
             "#4d9221"
            ],
            [
             1,
             "#276419"
            ]
           ],
           "sequential": [
            [
             0,
             "#0d0887"
            ],
            [
             0.1111111111111111,
             "#46039f"
            ],
            [
             0.2222222222222222,
             "#7201a8"
            ],
            [
             0.3333333333333333,
             "#9c179e"
            ],
            [
             0.4444444444444444,
             "#bd3786"
            ],
            [
             0.5555555555555556,
             "#d8576b"
            ],
            [
             0.6666666666666666,
             "#ed7953"
            ],
            [
             0.7777777777777778,
             "#fb9f3a"
            ],
            [
             0.8888888888888888,
             "#fdca26"
            ],
            [
             1,
             "#f0f921"
            ]
           ],
           "sequentialminus": [
            [
             0,
             "#0d0887"
            ],
            [
             0.1111111111111111,
             "#46039f"
            ],
            [
             0.2222222222222222,
             "#7201a8"
            ],
            [
             0.3333333333333333,
             "#9c179e"
            ],
            [
             0.4444444444444444,
             "#bd3786"
            ],
            [
             0.5555555555555556,
             "#d8576b"
            ],
            [
             0.6666666666666666,
             "#ed7953"
            ],
            [
             0.7777777777777778,
             "#fb9f3a"
            ],
            [
             0.8888888888888888,
             "#fdca26"
            ],
            [
             1,
             "#f0f921"
            ]
           ]
          },
          "colorway": [
           "#636efa",
           "#EF553B",
           "#00cc96",
           "#ab63fa",
           "#FFA15A",
           "#19d3f3",
           "#FF6692",
           "#B6E880",
           "#FF97FF",
           "#FECB52"
          ],
          "font": {
           "color": "#2a3f5f"
          },
          "geo": {
           "bgcolor": "white",
           "lakecolor": "white",
           "landcolor": "#E5ECF6",
           "showlakes": true,
           "showland": true,
           "subunitcolor": "white"
          },
          "hoverlabel": {
           "align": "left"
          },
          "hovermode": "closest",
          "mapbox": {
           "style": "light"
          },
          "paper_bgcolor": "white",
          "plot_bgcolor": "#E5ECF6",
          "polar": {
           "angularaxis": {
            "gridcolor": "white",
            "linecolor": "white",
            "ticks": ""
           },
           "bgcolor": "#E5ECF6",
           "radialaxis": {
            "gridcolor": "white",
            "linecolor": "white",
            "ticks": ""
           }
          },
          "scene": {
           "xaxis": {
            "backgroundcolor": "#E5ECF6",
            "gridcolor": "white",
            "gridwidth": 2,
            "linecolor": "white",
            "showbackground": true,
            "ticks": "",
            "zerolinecolor": "white"
           },
           "yaxis": {
            "backgroundcolor": "#E5ECF6",
            "gridcolor": "white",
            "gridwidth": 2,
            "linecolor": "white",
            "showbackground": true,
            "ticks": "",
            "zerolinecolor": "white"
           },
           "zaxis": {
            "backgroundcolor": "#E5ECF6",
            "gridcolor": "white",
            "gridwidth": 2,
            "linecolor": "white",
            "showbackground": true,
            "ticks": "",
            "zerolinecolor": "white"
           }
          },
          "shapedefaults": {
           "line": {
            "color": "#2a3f5f"
           }
          },
          "ternary": {
           "aaxis": {
            "gridcolor": "white",
            "linecolor": "white",
            "ticks": ""
           },
           "baxis": {
            "gridcolor": "white",
            "linecolor": "white",
            "ticks": ""
           },
           "bgcolor": "#E5ECF6",
           "caxis": {
            "gridcolor": "white",
            "linecolor": "white",
            "ticks": ""
           }
          },
          "title": {
           "x": 0.05
          },
          "xaxis": {
           "automargin": true,
           "gridcolor": "white",
           "linecolor": "white",
           "ticks": "",
           "title": {
            "standoff": 15
           },
           "zerolinecolor": "white",
           "zerolinewidth": 2
          },
          "yaxis": {
           "automargin": true,
           "gridcolor": "white",
           "linecolor": "white",
           "ticks": "",
           "title": {
            "standoff": 15
           },
           "zerolinecolor": "white",
           "zerolinewidth": 2
          }
         }
        },
        "xaxis": {
         "anchor": "y",
         "domain": [
          0,
          0.105
         ],
         "title": {
          "text": "COMPLEX"
         }
        },
        "xaxis10": {
         "anchor": "y10",
         "domain": [
          0.125,
          0.22999999999999998
         ],
         "matches": "x",
         "showticklabels": false
        },
        "xaxis11": {
         "anchor": "y11",
         "domain": [
          0.25,
          0.355
         ],
         "matches": "x",
         "showticklabels": false
        },
        "xaxis12": {
         "anchor": "y12",
         "domain": [
          0.375,
          0.48
         ],
         "matches": "x",
         "showticklabels": false
        },
        "xaxis13": {
         "anchor": "y13",
         "domain": [
          0.5,
          0.605
         ],
         "matches": "x",
         "showticklabels": false
        },
        "xaxis14": {
         "anchor": "y14",
         "domain": [
          0.625,
          0.73
         ],
         "matches": "x",
         "showticklabels": false
        },
        "xaxis15": {
         "anchor": "y15",
         "domain": [
          0.75,
          0.855
         ],
         "matches": "x",
         "showticklabels": false
        },
        "xaxis16": {
         "anchor": "y16",
         "domain": [
          0.875,
          0.98
         ],
         "matches": "x",
         "showticklabels": false
        },
        "xaxis17": {
         "anchor": "y17",
         "domain": [
          0,
          0.105
         ],
         "matches": "x",
         "showticklabels": false
        },
        "xaxis18": {
         "anchor": "y18",
         "domain": [
          0.125,
          0.22999999999999998
         ],
         "matches": "x",
         "showticklabels": false
        },
        "xaxis19": {
         "anchor": "y19",
         "domain": [
          0.25,
          0.355
         ],
         "matches": "x",
         "showticklabels": false
        },
        "xaxis2": {
         "anchor": "y2",
         "domain": [
          0.125,
          0.22999999999999998
         ],
         "matches": "x",
         "title": {
          "text": "COMPLEX"
         }
        },
        "xaxis20": {
         "anchor": "y20",
         "domain": [
          0.375,
          0.48
         ],
         "matches": "x",
         "showticklabels": false
        },
        "xaxis21": {
         "anchor": "y21",
         "domain": [
          0.5,
          0.605
         ],
         "matches": "x",
         "showticklabels": false
        },
        "xaxis22": {
         "anchor": "y22",
         "domain": [
          0.625,
          0.73
         ],
         "matches": "x",
         "showticklabels": false
        },
        "xaxis23": {
         "anchor": "y23",
         "domain": [
          0.75,
          0.855
         ],
         "matches": "x",
         "showticklabels": false
        },
        "xaxis24": {
         "anchor": "y24",
         "domain": [
          0.875,
          0.98
         ],
         "matches": "x",
         "showticklabels": false
        },
        "xaxis25": {
         "anchor": "y25",
         "domain": [
          0,
          0.105
         ],
         "matches": "x",
         "showticklabels": false
        },
        "xaxis26": {
         "anchor": "y26",
         "domain": [
          0.125,
          0.22999999999999998
         ],
         "matches": "x",
         "showticklabels": false
        },
        "xaxis27": {
         "anchor": "y27",
         "domain": [
          0.25,
          0.355
         ],
         "matches": "x",
         "showticklabels": false
        },
        "xaxis28": {
         "anchor": "y28",
         "domain": [
          0.375,
          0.48
         ],
         "matches": "x",
         "showticklabels": false
        },
        "xaxis29": {
         "anchor": "y29",
         "domain": [
          0.5,
          0.605
         ],
         "matches": "x",
         "showticklabels": false
        },
        "xaxis3": {
         "anchor": "y3",
         "domain": [
          0.25,
          0.355
         ],
         "matches": "x",
         "title": {
          "text": "COMPLEX"
         }
        },
        "xaxis30": {
         "anchor": "y30",
         "domain": [
          0.625,
          0.73
         ],
         "matches": "x",
         "showticklabels": false
        },
        "xaxis31": {
         "anchor": "y31",
         "domain": [
          0.75,
          0.855
         ],
         "matches": "x",
         "showticklabels": false
        },
        "xaxis32": {
         "anchor": "y32",
         "domain": [
          0.875,
          0.98
         ],
         "matches": "x",
         "showticklabels": false
        },
        "xaxis4": {
         "anchor": "y4",
         "domain": [
          0.375,
          0.48
         ],
         "matches": "x",
         "title": {
          "text": "COMPLEX"
         }
        },
        "xaxis5": {
         "anchor": "y5",
         "domain": [
          0.5,
          0.605
         ],
         "matches": "x",
         "title": {
          "text": "COMPLEX"
         }
        },
        "xaxis6": {
         "anchor": "y6",
         "domain": [
          0.625,
          0.73
         ],
         "matches": "x",
         "title": {
          "text": "COMPLEX"
         }
        },
        "xaxis7": {
         "anchor": "y7",
         "domain": [
          0.75,
          0.855
         ],
         "matches": "x",
         "title": {
          "text": "COMPLEX"
         }
        },
        "xaxis8": {
         "anchor": "y8",
         "domain": [
          0.875,
          0.98
         ],
         "matches": "x",
         "title": {
          "text": "COMPLEX"
         }
        },
        "xaxis9": {
         "anchor": "y9",
         "domain": [
          0,
          0.105
         ],
         "matches": "x",
         "showticklabels": false
        },
        "yaxis": {
         "anchor": "x",
         "domain": [
          0,
          0.2275
         ],
         "title": {
          "text": "VISSP_NAME"
         }
        },
        "yaxis10": {
         "anchor": "x10",
         "domain": [
          0.2575,
          0.485
         ],
         "matches": "y",
         "showticklabels": false
        },
        "yaxis11": {
         "anchor": "x11",
         "domain": [
          0.2575,
          0.485
         ],
         "matches": "y",
         "showticklabels": false
        },
        "yaxis12": {
         "anchor": "x12",
         "domain": [
          0.2575,
          0.485
         ],
         "matches": "y",
         "showticklabels": false
        },
        "yaxis13": {
         "anchor": "x13",
         "domain": [
          0.2575,
          0.485
         ],
         "matches": "y",
         "showticklabels": false
        },
        "yaxis14": {
         "anchor": "x14",
         "domain": [
          0.2575,
          0.485
         ],
         "matches": "y",
         "showticklabels": false
        },
        "yaxis15": {
         "anchor": "x15",
         "domain": [
          0.2575,
          0.485
         ],
         "matches": "y",
         "showticklabels": false
        },
        "yaxis16": {
         "anchor": "x16",
         "domain": [
          0.2575,
          0.485
         ],
         "matches": "y",
         "showticklabels": false
        },
        "yaxis17": {
         "anchor": "x17",
         "domain": [
          0.515,
          0.7425
         ],
         "matches": "y",
         "title": {
          "text": "VISSP_NAME"
         }
        },
        "yaxis18": {
         "anchor": "x18",
         "domain": [
          0.515,
          0.7425
         ],
         "matches": "y",
         "showticklabels": false
        },
        "yaxis19": {
         "anchor": "x19",
         "domain": [
          0.515,
          0.7425
         ],
         "matches": "y",
         "showticklabels": false
        },
        "yaxis2": {
         "anchor": "x2",
         "domain": [
          0,
          0.2275
         ],
         "matches": "y",
         "showticklabels": false
        },
        "yaxis20": {
         "anchor": "x20",
         "domain": [
          0.515,
          0.7425
         ],
         "matches": "y",
         "showticklabels": false
        },
        "yaxis21": {
         "anchor": "x21",
         "domain": [
          0.515,
          0.7425
         ],
         "matches": "y",
         "showticklabels": false
        },
        "yaxis22": {
         "anchor": "x22",
         "domain": [
          0.515,
          0.7425
         ],
         "matches": "y",
         "showticklabels": false
        },
        "yaxis23": {
         "anchor": "x23",
         "domain": [
          0.515,
          0.7425
         ],
         "matches": "y",
         "showticklabels": false
        },
        "yaxis24": {
         "anchor": "x24",
         "domain": [
          0.515,
          0.7425
         ],
         "matches": "y",
         "showticklabels": false
        },
        "yaxis25": {
         "anchor": "x25",
         "domain": [
          0.7725,
          1
         ],
         "matches": "y",
         "title": {
          "text": "VISSP_NAME"
         }
        },
        "yaxis26": {
         "anchor": "x26",
         "domain": [
          0.7725,
          1
         ],
         "matches": "y",
         "showticklabels": false
        },
        "yaxis27": {
         "anchor": "x27",
         "domain": [
          0.7725,
          1
         ],
         "matches": "y",
         "showticklabels": false
        },
        "yaxis28": {
         "anchor": "x28",
         "domain": [
          0.7725,
          1
         ],
         "matches": "y",
         "showticklabels": false
        },
        "yaxis29": {
         "anchor": "x29",
         "domain": [
          0.7725,
          1
         ],
         "matches": "y",
         "showticklabels": false
        },
        "yaxis3": {
         "anchor": "x3",
         "domain": [
          0,
          0.2275
         ],
         "matches": "y",
         "showticklabels": false
        },
        "yaxis30": {
         "anchor": "x30",
         "domain": [
          0.7725,
          1
         ],
         "matches": "y",
         "showticklabels": false
        },
        "yaxis31": {
         "anchor": "x31",
         "domain": [
          0.7725,
          1
         ],
         "matches": "y",
         "showticklabels": false
        },
        "yaxis32": {
         "anchor": "x32",
         "domain": [
          0.7725,
          1
         ],
         "matches": "y",
         "showticklabels": false
        },
        "yaxis4": {
         "anchor": "x4",
         "domain": [
          0,
          0.2275
         ],
         "matches": "y",
         "showticklabels": false
        },
        "yaxis5": {
         "anchor": "x5",
         "domain": [
          0,
          0.2275
         ],
         "matches": "y",
         "showticklabels": false
        },
        "yaxis6": {
         "anchor": "x6",
         "domain": [
          0,
          0.2275
         ],
         "matches": "y",
         "showticklabels": false
        },
        "yaxis7": {
         "anchor": "x7",
         "domain": [
          0,
          0.2275
         ],
         "matches": "y",
         "showticklabels": false
        },
        "yaxis8": {
         "anchor": "x8",
         "domain": [
          0,
          0.2275
         ],
         "matches": "y",
         "showticklabels": false
        },
        "yaxis9": {
         "anchor": "x9",
         "domain": [
          0.2575,
          0.485
         ],
         "matches": "y",
         "title": {
          "text": "VISSP_NAME"
         }
        }
       }
      },
      "text/html": [
       "<div>                            <div id=\"853ccc2d-011b-4291-8860-87404e81cd2b\" class=\"plotly-graph-div\" style=\"height:525px; width:100%;\"></div>            <script type=\"text/javascript\">                require([\"plotly\"], function(Plotly) {                    window.PLOTLYENV=window.PLOTLYENV || {};                                    if (document.getElementById(\"853ccc2d-011b-4291-8860-87404e81cd2b\")) {                    Plotly.newPlot(                        \"853ccc2d-011b-4291-8860-87404e81cd2b\",                        [{\"alignmentgroup\": \"True\", \"hovertemplate\": \"month=6<br>year=2012<br>COMPLEX=%{marker.color}<br>VISSP_NAME=%{y}<extra></extra>\", \"legendgroup\": \"\", \"marker\": {\"color\": [1], \"coloraxis\": \"coloraxis\"}, \"name\": \"\", \"offsetgroup\": \"\", \"orientation\": \"v\", \"showlegend\": false, \"textposition\": \"auto\", \"type\": \"bar\", \"x\": [1], \"xaxis\": \"x26\", \"y\": [116], \"yaxis\": \"y26\"}, {\"alignmentgroup\": \"True\", \"hovertemplate\": \"month=6<br>year=2013<br>COMPLEX=%{marker.color}<br>VISSP_NAME=%{y}<extra></extra>\", \"legendgroup\": \"\", \"marker\": {\"color\": [2], \"coloraxis\": \"coloraxis\"}, \"name\": \"\", \"offsetgroup\": \"\", \"orientation\": \"v\", \"showlegend\": false, \"textposition\": \"auto\", \"type\": \"bar\", \"x\": [2], \"xaxis\": \"x27\", \"y\": [30], \"yaxis\": \"y27\"}, {\"alignmentgroup\": \"True\", \"hovertemplate\": \"month=6<br>year=2014<br>COMPLEX=%{marker.color}<br>VISSP_NAME=%{y}<extra></extra>\", \"legendgroup\": \"\", \"marker\": {\"color\": [5], \"coloraxis\": \"coloraxis\"}, \"name\": \"\", \"offsetgroup\": \"\", \"orientation\": \"v\", \"showlegend\": false, \"textposition\": \"auto\", \"type\": \"bar\", \"x\": [5], \"xaxis\": \"x28\", \"y\": [169], \"yaxis\": \"y28\"}, {\"alignmentgroup\": \"True\", \"hovertemplate\": \"month=6<br>year=2015<br>COMPLEX=%{marker.color}<br>VISSP_NAME=%{y}<extra></extra>\", \"legendgroup\": \"\", \"marker\": {\"color\": [2, 4, 5], \"coloraxis\": \"coloraxis\"}, \"name\": \"\", \"offsetgroup\": \"\", \"orientation\": \"v\", \"showlegend\": false, \"textposition\": \"auto\", \"type\": \"bar\", \"x\": [2, 4, 5], \"xaxis\": \"x29\", \"y\": [225, 1025, 268], \"yaxis\": \"y29\"}, {\"alignmentgroup\": \"True\", \"hovertemplate\": \"month=6<br>year=2016<br>COMPLEX=%{marker.color}<br>VISSP_NAME=%{y}<extra></extra>\", \"legendgroup\": \"\", \"marker\": {\"color\": [2, 4, 5], \"coloraxis\": \"coloraxis\"}, \"name\": \"\", \"offsetgroup\": \"\", \"orientation\": \"v\", \"showlegend\": false, \"textposition\": \"auto\", \"type\": \"bar\", \"x\": [2, 4, 5], \"xaxis\": \"x30\", \"y\": [357, 501, 675], \"yaxis\": \"y30\"}, {\"alignmentgroup\": \"True\", \"hovertemplate\": \"month=6<br>year=2017<br>COMPLEX=%{marker.color}<br>VISSP_NAME=%{y}<extra></extra>\", \"legendgroup\": \"\", \"marker\": {\"color\": [2, 4, 5], \"coloraxis\": \"coloraxis\"}, \"name\": \"\", \"offsetgroup\": \"\", \"orientation\": \"v\", \"showlegend\": false, \"textposition\": \"auto\", \"type\": \"bar\", \"x\": [2, 4, 5], \"xaxis\": \"x31\", \"y\": [178, 955, 170], \"yaxis\": \"y31\"}, {\"alignmentgroup\": \"True\", \"hovertemplate\": \"month=6<br>year=2018<br>COMPLEX=%{marker.color}<br>VISSP_NAME=%{y}<extra></extra>\", \"legendgroup\": \"\", \"marker\": {\"color\": [2, 4, 5], \"coloraxis\": \"coloraxis\"}, \"name\": \"\", \"offsetgroup\": \"\", \"orientation\": \"v\", \"showlegend\": false, \"textposition\": \"auto\", \"type\": \"bar\", \"x\": [2, 4, 5], \"xaxis\": \"x32\", \"y\": [943, 1840, 253], \"yaxis\": \"y32\"}, {\"alignmentgroup\": \"True\", \"hovertemplate\": \"month=7<br>year=2011<br>COMPLEX=%{marker.color}<br>VISSP_NAME=%{y}<extra></extra>\", \"legendgroup\": \"\", \"marker\": {\"color\": [1, 2, 3, 4, 5], \"coloraxis\": \"coloraxis\"}, \"name\": \"\", \"offsetgroup\": \"\", \"orientation\": \"v\", \"showlegend\": false, \"textposition\": \"auto\", \"type\": \"bar\", \"x\": [1, 2, 3, 4, 5], \"xaxis\": \"x17\", \"y\": [678, 344, 799, 1264, 585], \"yaxis\": \"y17\"}, {\"alignmentgroup\": \"True\", \"hovertemplate\": \"month=7<br>year=2012<br>COMPLEX=%{marker.color}<br>VISSP_NAME=%{y}<extra></extra>\", \"legendgroup\": \"\", \"marker\": {\"color\": [1, 2, 3, 4, 5], \"coloraxis\": \"coloraxis\"}, \"name\": \"\", \"offsetgroup\": \"\", \"orientation\": \"v\", \"showlegend\": false, \"textposition\": \"auto\", \"type\": \"bar\", \"x\": [1, 2, 3, 4, 5], \"xaxis\": \"x18\", \"y\": [772, 851, 700, 1331, 924], \"yaxis\": \"y18\"}, {\"alignmentgroup\": \"True\", \"hovertemplate\": \"month=7<br>year=2013<br>COMPLEX=%{marker.color}<br>VISSP_NAME=%{y}<extra></extra>\", \"legendgroup\": \"\", \"marker\": {\"color\": [2, 4, 5], \"coloraxis\": \"coloraxis\"}, \"name\": \"\", \"offsetgroup\": \"\", \"orientation\": \"v\", \"showlegend\": false, \"textposition\": \"auto\", \"type\": \"bar\", \"x\": [2, 4, 5], \"xaxis\": \"x19\", \"y\": [1153, 2091, 2306], \"yaxis\": \"y19\"}, {\"alignmentgroup\": \"True\", \"hovertemplate\": \"month=7<br>year=2014<br>COMPLEX=%{marker.color}<br>VISSP_NAME=%{y}<extra></extra>\", \"legendgroup\": \"\", \"marker\": {\"color\": [2, 4, 5], \"coloraxis\": \"coloraxis\"}, \"name\": \"\", \"offsetgroup\": \"\", \"orientation\": \"v\", \"showlegend\": false, \"textposition\": \"auto\", \"type\": \"bar\", \"x\": [2, 4, 5], \"xaxis\": \"x20\", \"y\": [813, 1991, 1317], \"yaxis\": \"y20\"}, {\"alignmentgroup\": \"True\", \"hovertemplate\": \"month=7<br>year=2015<br>COMPLEX=%{marker.color}<br>VISSP_NAME=%{y}<extra></extra>\", \"legendgroup\": \"\", \"marker\": {\"color\": [2, 4, 5], \"coloraxis\": \"coloraxis\"}, \"name\": \"\", \"offsetgroup\": \"\", \"orientation\": \"v\", \"showlegend\": false, \"textposition\": \"auto\", \"type\": \"bar\", \"x\": [2, 4, 5], \"xaxis\": \"x21\", \"y\": [425, 421, 548], \"yaxis\": \"y21\"}, {\"alignmentgroup\": \"True\", \"hovertemplate\": \"month=7<br>year=2016<br>COMPLEX=%{marker.color}<br>VISSP_NAME=%{y}<extra></extra>\", \"legendgroup\": \"\", \"marker\": {\"color\": [2, 4, 5], \"coloraxis\": \"coloraxis\"}, \"name\": \"\", \"offsetgroup\": \"\", \"orientation\": \"v\", \"showlegend\": false, \"textposition\": \"auto\", \"type\": \"bar\", \"x\": [2, 4, 5], \"xaxis\": \"x22\", \"y\": [448, 2657, 1128], \"yaxis\": \"y22\"}, {\"alignmentgroup\": \"True\", \"hovertemplate\": \"month=7<br>year=2017<br>COMPLEX=%{marker.color}<br>VISSP_NAME=%{y}<extra></extra>\", \"legendgroup\": \"\", \"marker\": {\"color\": [2, 4, 5], \"coloraxis\": \"coloraxis\"}, \"name\": \"\", \"offsetgroup\": \"\", \"orientation\": \"v\", \"showlegend\": false, \"textposition\": \"auto\", \"type\": \"bar\", \"x\": [2, 4, 5], \"xaxis\": \"x23\", \"y\": [1443, 4204, 1915], \"yaxis\": \"y23\"}, {\"alignmentgroup\": \"True\", \"hovertemplate\": \"month=7<br>year=2018<br>COMPLEX=%{marker.color}<br>VISSP_NAME=%{y}<extra></extra>\", \"legendgroup\": \"\", \"marker\": {\"color\": [2, 4, 5], \"coloraxis\": \"coloraxis\"}, \"name\": \"\", \"offsetgroup\": \"\", \"orientation\": \"v\", \"showlegend\": false, \"textposition\": \"auto\", \"type\": \"bar\", \"x\": [2, 4, 5], \"xaxis\": \"x24\", \"y\": [1585, 4750, 2226], \"yaxis\": \"y24\"}, {\"alignmentgroup\": \"True\", \"hovertemplate\": \"month=8<br>year=2011<br>COMPLEX=%{marker.color}<br>VISSP_NAME=%{y}<extra></extra>\", \"legendgroup\": \"\", \"marker\": {\"color\": [1, 2, 3, 4, 5], \"coloraxis\": \"coloraxis\"}, \"name\": \"\", \"offsetgroup\": \"\", \"orientation\": \"v\", \"showlegend\": false, \"textposition\": \"auto\", \"type\": \"bar\", \"x\": [1, 2, 3, 4, 5], \"xaxis\": \"x9\", \"y\": [587, 1932, 1336, 1606, 931], \"yaxis\": \"y9\"}, {\"alignmentgroup\": \"True\", \"hovertemplate\": \"month=8<br>year=2012<br>COMPLEX=%{marker.color}<br>VISSP_NAME=%{y}<extra></extra>\", \"legendgroup\": \"\", \"marker\": {\"color\": [1, 2, 3, 4, 5], \"coloraxis\": \"coloraxis\"}, \"name\": \"\", \"offsetgroup\": \"\", \"orientation\": \"v\", \"showlegend\": false, \"textposition\": \"auto\", \"type\": \"bar\", \"x\": [1, 2, 3, 4, 5], \"xaxis\": \"x10\", \"y\": [1314, 518, 387, 982, 290], \"yaxis\": \"y10\"}, {\"alignmentgroup\": \"True\", \"hovertemplate\": \"month=8<br>year=2013<br>COMPLEX=%{marker.color}<br>VISSP_NAME=%{y}<extra></extra>\", \"legendgroup\": \"\", \"marker\": {\"color\": [2, 4, 5], \"coloraxis\": \"coloraxis\"}, \"name\": \"\", \"offsetgroup\": \"\", \"orientation\": \"v\", \"showlegend\": false, \"textposition\": \"auto\", \"type\": \"bar\", \"x\": [2, 4, 5], \"xaxis\": \"x11\", \"y\": [265, 341, 379], \"yaxis\": \"y11\"}, {\"alignmentgroup\": \"True\", \"hovertemplate\": \"month=8<br>year=2014<br>COMPLEX=%{marker.color}<br>VISSP_NAME=%{y}<extra></extra>\", \"legendgroup\": \"\", \"marker\": {\"color\": [2, 4, 5], \"coloraxis\": \"coloraxis\"}, \"name\": \"\", \"offsetgroup\": \"\", \"orientation\": \"v\", \"showlegend\": false, \"textposition\": \"auto\", \"type\": \"bar\", \"x\": [2, 4, 5], \"xaxis\": \"x12\", \"y\": [58, 175, 150], \"yaxis\": \"y12\"}, {\"alignmentgroup\": \"True\", \"hovertemplate\": \"month=8<br>year=2016<br>COMPLEX=%{marker.color}<br>VISSP_NAME=%{y}<extra></extra>\", \"legendgroup\": \"\", \"marker\": {\"color\": [2], \"coloraxis\": \"coloraxis\"}, \"name\": \"\", \"offsetgroup\": \"\", \"orientation\": \"v\", \"showlegend\": false, \"textposition\": \"auto\", \"type\": \"bar\", \"x\": [2], \"xaxis\": \"x14\", \"y\": [169], \"yaxis\": \"y14\"}, {\"alignmentgroup\": \"True\", \"hovertemplate\": \"month=8<br>year=2017<br>COMPLEX=%{marker.color}<br>VISSP_NAME=%{y}<extra></extra>\", \"legendgroup\": \"\", \"marker\": {\"color\": [2, 5], \"coloraxis\": \"coloraxis\"}, \"name\": \"\", \"offsetgroup\": \"\", \"orientation\": \"v\", \"showlegend\": false, \"textposition\": \"auto\", \"type\": \"bar\", \"x\": [2, 5], \"xaxis\": \"x15\", \"y\": [70, 572], \"yaxis\": \"y15\"}, {\"alignmentgroup\": \"True\", \"hovertemplate\": \"month=8<br>year=2018<br>COMPLEX=%{marker.color}<br>VISSP_NAME=%{y}<extra></extra>\", \"legendgroup\": \"\", \"marker\": {\"color\": [2, 4, 5], \"coloraxis\": \"coloraxis\"}, \"name\": \"\", \"offsetgroup\": \"\", \"orientation\": \"v\", \"showlegend\": false, \"textposition\": \"auto\", \"type\": \"bar\", \"x\": [2, 4, 5], \"xaxis\": \"x16\", \"y\": [141, 129, 352], \"yaxis\": \"y16\"}, {\"alignmentgroup\": \"True\", \"hovertemplate\": \"month=9<br>year=2011<br>COMPLEX=%{marker.color}<br>VISSP_NAME=%{y}<extra></extra>\", \"legendgroup\": \"\", \"marker\": {\"color\": [1, 2, 3, 4, 5], \"coloraxis\": \"coloraxis\"}, \"name\": \"\", \"offsetgroup\": \"\", \"orientation\": \"v\", \"showlegend\": false, \"textposition\": \"auto\", \"type\": \"bar\", \"x\": [1, 2, 3, 4, 5], \"xaxis\": \"x\", \"y\": [3, 92, 48, 28, 42], \"yaxis\": \"y\"}],                        {\"annotations\": [{\"font\": {}, \"showarrow\": false, \"text\": \"year=2011\", \"x\": 0.0525, \"xanchor\": \"center\", \"xref\": \"paper\", \"y\": 1.0, \"yanchor\": \"bottom\", \"yref\": \"paper\"}, {\"font\": {}, \"showarrow\": false, \"text\": \"year=2012\", \"x\": 0.1775, \"xanchor\": \"center\", \"xref\": \"paper\", \"y\": 1.0, \"yanchor\": \"bottom\", \"yref\": \"paper\"}, {\"font\": {}, \"showarrow\": false, \"text\": \"year=2013\", \"x\": 0.3025, \"xanchor\": \"center\", \"xref\": \"paper\", \"y\": 1.0, \"yanchor\": \"bottom\", \"yref\": \"paper\"}, {\"font\": {}, \"showarrow\": false, \"text\": \"year=2014\", \"x\": 0.4275, \"xanchor\": \"center\", \"xref\": \"paper\", \"y\": 1.0, \"yanchor\": \"bottom\", \"yref\": \"paper\"}, {\"font\": {}, \"showarrow\": false, \"text\": \"year=2015\", \"x\": 0.5525, \"xanchor\": \"center\", \"xref\": \"paper\", \"y\": 1.0, \"yanchor\": \"bottom\", \"yref\": \"paper\"}, {\"font\": {}, \"showarrow\": false, \"text\": \"year=2016\", \"x\": 0.6775, \"xanchor\": \"center\", \"xref\": \"paper\", \"y\": 1.0, \"yanchor\": \"bottom\", \"yref\": \"paper\"}, {\"font\": {}, \"showarrow\": false, \"text\": \"year=2017\", \"x\": 0.8025, \"xanchor\": \"center\", \"xref\": \"paper\", \"y\": 1.0, \"yanchor\": \"bottom\", \"yref\": \"paper\"}, {\"font\": {}, \"showarrow\": false, \"text\": \"year=2018\", \"x\": 0.9275, \"xanchor\": \"center\", \"xref\": \"paper\", \"y\": 1.0, \"yanchor\": \"bottom\", \"yref\": \"paper\"}, {\"font\": {}, \"showarrow\": false, \"text\": \"month=9\", \"textangle\": 90, \"x\": 0.98, \"xanchor\": \"left\", \"xref\": \"paper\", \"y\": 0.11375, \"yanchor\": \"middle\", \"yref\": \"paper\"}, {\"font\": {}, \"showarrow\": false, \"text\": \"month=8\", \"textangle\": 90, \"x\": 0.98, \"xanchor\": \"left\", \"xref\": \"paper\", \"y\": 0.37124999999999997, \"yanchor\": \"middle\", \"yref\": \"paper\"}, {\"font\": {}, \"showarrow\": false, \"text\": \"month=7\", \"textangle\": 90, \"x\": 0.98, \"xanchor\": \"left\", \"xref\": \"paper\", \"y\": 0.62875, \"yanchor\": \"middle\", \"yref\": \"paper\"}, {\"font\": {}, \"showarrow\": false, \"text\": \"month=6\", \"textangle\": 90, \"x\": 0.98, \"xanchor\": \"left\", \"xref\": \"paper\", \"y\": 0.88625, \"yanchor\": \"middle\", \"yref\": \"paper\"}], \"barmode\": \"group\", \"coloraxis\": {\"colorbar\": {\"title\": {\"text\": \"COMPLEX\"}}, \"colorscale\": [[0.0, \"#0d0887\"], [0.1111111111111111, \"#46039f\"], [0.2222222222222222, \"#7201a8\"], [0.3333333333333333, \"#9c179e\"], [0.4444444444444444, \"#bd3786\"], [0.5555555555555556, \"#d8576b\"], [0.6666666666666666, \"#ed7953\"], [0.7777777777777778, \"#fb9f3a\"], [0.8888888888888888, \"#fdca26\"], [1.0, \"#f0f921\"]]}, \"legend\": {\"tracegroupgap\": 0}, \"margin\": {\"t\": 60}, \"template\": {\"data\": {\"bar\": [{\"error_x\": {\"color\": \"#2a3f5f\"}, \"error_y\": {\"color\": \"#2a3f5f\"}, \"marker\": {\"line\": {\"color\": \"#E5ECF6\", \"width\": 0.5}}, \"type\": \"bar\"}], \"barpolar\": [{\"marker\": {\"line\": {\"color\": \"#E5ECF6\", \"width\": 0.5}}, \"type\": \"barpolar\"}], \"carpet\": [{\"aaxis\": {\"endlinecolor\": \"#2a3f5f\", \"gridcolor\": \"white\", \"linecolor\": \"white\", \"minorgridcolor\": \"white\", \"startlinecolor\": \"#2a3f5f\"}, \"baxis\": {\"endlinecolor\": \"#2a3f5f\", \"gridcolor\": \"white\", \"linecolor\": \"white\", \"minorgridcolor\": \"white\", \"startlinecolor\": \"#2a3f5f\"}, \"type\": \"carpet\"}], \"choropleth\": [{\"colorbar\": {\"outlinewidth\": 0, \"ticks\": \"\"}, \"type\": \"choropleth\"}], \"contour\": [{\"colorbar\": {\"outlinewidth\": 0, \"ticks\": \"\"}, \"colorscale\": [[0.0, \"#0d0887\"], [0.1111111111111111, \"#46039f\"], [0.2222222222222222, \"#7201a8\"], [0.3333333333333333, \"#9c179e\"], [0.4444444444444444, \"#bd3786\"], [0.5555555555555556, \"#d8576b\"], [0.6666666666666666, \"#ed7953\"], [0.7777777777777778, \"#fb9f3a\"], [0.8888888888888888, \"#fdca26\"], [1.0, \"#f0f921\"]], \"type\": \"contour\"}], \"contourcarpet\": [{\"colorbar\": {\"outlinewidth\": 0, \"ticks\": \"\"}, \"type\": \"contourcarpet\"}], \"heatmap\": [{\"colorbar\": {\"outlinewidth\": 0, \"ticks\": \"\"}, \"colorscale\": [[0.0, \"#0d0887\"], [0.1111111111111111, \"#46039f\"], [0.2222222222222222, \"#7201a8\"], [0.3333333333333333, \"#9c179e\"], [0.4444444444444444, \"#bd3786\"], [0.5555555555555556, \"#d8576b\"], [0.6666666666666666, \"#ed7953\"], [0.7777777777777778, \"#fb9f3a\"], [0.8888888888888888, \"#fdca26\"], [1.0, \"#f0f921\"]], \"type\": \"heatmap\"}], \"heatmapgl\": [{\"colorbar\": {\"outlinewidth\": 0, \"ticks\": \"\"}, \"colorscale\": [[0.0, \"#0d0887\"], [0.1111111111111111, \"#46039f\"], [0.2222222222222222, \"#7201a8\"], [0.3333333333333333, \"#9c179e\"], [0.4444444444444444, \"#bd3786\"], [0.5555555555555556, \"#d8576b\"], [0.6666666666666666, \"#ed7953\"], [0.7777777777777778, \"#fb9f3a\"], [0.8888888888888888, \"#fdca26\"], [1.0, \"#f0f921\"]], \"type\": \"heatmapgl\"}], \"histogram\": [{\"marker\": {\"colorbar\": {\"outlinewidth\": 0, \"ticks\": \"\"}}, \"type\": \"histogram\"}], \"histogram2d\": [{\"colorbar\": {\"outlinewidth\": 0, \"ticks\": \"\"}, \"colorscale\": [[0.0, \"#0d0887\"], [0.1111111111111111, \"#46039f\"], [0.2222222222222222, \"#7201a8\"], [0.3333333333333333, \"#9c179e\"], [0.4444444444444444, \"#bd3786\"], [0.5555555555555556, \"#d8576b\"], [0.6666666666666666, \"#ed7953\"], [0.7777777777777778, \"#fb9f3a\"], [0.8888888888888888, \"#fdca26\"], [1.0, \"#f0f921\"]], \"type\": \"histogram2d\"}], \"histogram2dcontour\": [{\"colorbar\": {\"outlinewidth\": 0, \"ticks\": \"\"}, \"colorscale\": [[0.0, \"#0d0887\"], [0.1111111111111111, \"#46039f\"], [0.2222222222222222, \"#7201a8\"], [0.3333333333333333, \"#9c179e\"], [0.4444444444444444, \"#bd3786\"], [0.5555555555555556, \"#d8576b\"], [0.6666666666666666, \"#ed7953\"], [0.7777777777777778, \"#fb9f3a\"], [0.8888888888888888, \"#fdca26\"], [1.0, \"#f0f921\"]], \"type\": \"histogram2dcontour\"}], \"mesh3d\": [{\"colorbar\": {\"outlinewidth\": 0, \"ticks\": \"\"}, \"type\": \"mesh3d\"}], \"parcoords\": [{\"line\": {\"colorbar\": {\"outlinewidth\": 0, \"ticks\": \"\"}}, \"type\": \"parcoords\"}], \"pie\": [{\"automargin\": true, \"type\": \"pie\"}], \"scatter\": [{\"marker\": {\"colorbar\": {\"outlinewidth\": 0, \"ticks\": \"\"}}, \"type\": \"scatter\"}], \"scatter3d\": [{\"line\": {\"colorbar\": {\"outlinewidth\": 0, \"ticks\": \"\"}}, \"marker\": {\"colorbar\": {\"outlinewidth\": 0, \"ticks\": \"\"}}, \"type\": \"scatter3d\"}], \"scattercarpet\": [{\"marker\": {\"colorbar\": {\"outlinewidth\": 0, \"ticks\": \"\"}}, \"type\": \"scattercarpet\"}], \"scattergeo\": [{\"marker\": {\"colorbar\": {\"outlinewidth\": 0, \"ticks\": \"\"}}, \"type\": \"scattergeo\"}], \"scattergl\": [{\"marker\": {\"colorbar\": {\"outlinewidth\": 0, \"ticks\": \"\"}}, \"type\": \"scattergl\"}], \"scattermapbox\": [{\"marker\": {\"colorbar\": {\"outlinewidth\": 0, \"ticks\": \"\"}}, \"type\": \"scattermapbox\"}], \"scatterpolar\": [{\"marker\": {\"colorbar\": {\"outlinewidth\": 0, \"ticks\": \"\"}}, \"type\": \"scatterpolar\"}], \"scatterpolargl\": [{\"marker\": {\"colorbar\": {\"outlinewidth\": 0, \"ticks\": \"\"}}, \"type\": \"scatterpolargl\"}], \"scatterternary\": [{\"marker\": {\"colorbar\": {\"outlinewidth\": 0, \"ticks\": \"\"}}, \"type\": \"scatterternary\"}], \"surface\": [{\"colorbar\": {\"outlinewidth\": 0, \"ticks\": \"\"}, \"colorscale\": [[0.0, \"#0d0887\"], [0.1111111111111111, \"#46039f\"], [0.2222222222222222, \"#7201a8\"], [0.3333333333333333, \"#9c179e\"], [0.4444444444444444, \"#bd3786\"], [0.5555555555555556, \"#d8576b\"], [0.6666666666666666, \"#ed7953\"], [0.7777777777777778, \"#fb9f3a\"], [0.8888888888888888, \"#fdca26\"], [1.0, \"#f0f921\"]], \"type\": \"surface\"}], \"table\": [{\"cells\": {\"fill\": {\"color\": \"#EBF0F8\"}, \"line\": {\"color\": \"white\"}}, \"header\": {\"fill\": {\"color\": \"#C8D4E3\"}, \"line\": {\"color\": \"white\"}}, \"type\": \"table\"}]}, \"layout\": {\"annotationdefaults\": {\"arrowcolor\": \"#2a3f5f\", \"arrowhead\": 0, \"arrowwidth\": 1}, \"autotypenumbers\": \"strict\", \"coloraxis\": {\"colorbar\": {\"outlinewidth\": 0, \"ticks\": \"\"}}, \"colorscale\": {\"diverging\": [[0, \"#8e0152\"], [0.1, \"#c51b7d\"], [0.2, \"#de77ae\"], [0.3, \"#f1b6da\"], [0.4, \"#fde0ef\"], [0.5, \"#f7f7f7\"], [0.6, \"#e6f5d0\"], [0.7, \"#b8e186\"], [0.8, \"#7fbc41\"], [0.9, \"#4d9221\"], [1, \"#276419\"]], \"sequential\": [[0.0, \"#0d0887\"], [0.1111111111111111, \"#46039f\"], [0.2222222222222222, \"#7201a8\"], [0.3333333333333333, \"#9c179e\"], [0.4444444444444444, \"#bd3786\"], [0.5555555555555556, \"#d8576b\"], [0.6666666666666666, \"#ed7953\"], [0.7777777777777778, \"#fb9f3a\"], [0.8888888888888888, \"#fdca26\"], [1.0, \"#f0f921\"]], \"sequentialminus\": [[0.0, \"#0d0887\"], [0.1111111111111111, \"#46039f\"], [0.2222222222222222, \"#7201a8\"], [0.3333333333333333, \"#9c179e\"], [0.4444444444444444, \"#bd3786\"], [0.5555555555555556, \"#d8576b\"], [0.6666666666666666, \"#ed7953\"], [0.7777777777777778, \"#fb9f3a\"], [0.8888888888888888, \"#fdca26\"], [1.0, \"#f0f921\"]]}, \"colorway\": [\"#636efa\", \"#EF553B\", \"#00cc96\", \"#ab63fa\", \"#FFA15A\", \"#19d3f3\", \"#FF6692\", \"#B6E880\", \"#FF97FF\", \"#FECB52\"], \"font\": {\"color\": \"#2a3f5f\"}, \"geo\": {\"bgcolor\": \"white\", \"lakecolor\": \"white\", \"landcolor\": \"#E5ECF6\", \"showlakes\": true, \"showland\": true, \"subunitcolor\": \"white\"}, \"hoverlabel\": {\"align\": \"left\"}, \"hovermode\": \"closest\", \"mapbox\": {\"style\": \"light\"}, \"paper_bgcolor\": \"white\", \"plot_bgcolor\": \"#E5ECF6\", \"polar\": {\"angularaxis\": {\"gridcolor\": \"white\", \"linecolor\": \"white\", \"ticks\": \"\"}, \"bgcolor\": \"#E5ECF6\", \"radialaxis\": {\"gridcolor\": \"white\", \"linecolor\": \"white\", \"ticks\": \"\"}}, \"scene\": {\"xaxis\": {\"backgroundcolor\": \"#E5ECF6\", \"gridcolor\": \"white\", \"gridwidth\": 2, \"linecolor\": \"white\", \"showbackground\": true, \"ticks\": \"\", \"zerolinecolor\": \"white\"}, \"yaxis\": {\"backgroundcolor\": \"#E5ECF6\", \"gridcolor\": \"white\", \"gridwidth\": 2, \"linecolor\": \"white\", \"showbackground\": true, \"ticks\": \"\", \"zerolinecolor\": \"white\"}, \"zaxis\": {\"backgroundcolor\": \"#E5ECF6\", \"gridcolor\": \"white\", \"gridwidth\": 2, \"linecolor\": \"white\", \"showbackground\": true, \"ticks\": \"\", \"zerolinecolor\": \"white\"}}, \"shapedefaults\": {\"line\": {\"color\": \"#2a3f5f\"}}, \"ternary\": {\"aaxis\": {\"gridcolor\": \"white\", \"linecolor\": \"white\", \"ticks\": \"\"}, \"baxis\": {\"gridcolor\": \"white\", \"linecolor\": \"white\", \"ticks\": \"\"}, \"bgcolor\": \"#E5ECF6\", \"caxis\": {\"gridcolor\": \"white\", \"linecolor\": \"white\", \"ticks\": \"\"}}, \"title\": {\"x\": 0.05}, \"xaxis\": {\"automargin\": true, \"gridcolor\": \"white\", \"linecolor\": \"white\", \"ticks\": \"\", \"title\": {\"standoff\": 15}, \"zerolinecolor\": \"white\", \"zerolinewidth\": 2}, \"yaxis\": {\"automargin\": true, \"gridcolor\": \"white\", \"linecolor\": \"white\", \"ticks\": \"\", \"title\": {\"standoff\": 15}, \"zerolinecolor\": \"white\", \"zerolinewidth\": 2}}}, \"xaxis\": {\"anchor\": \"y\", \"domain\": [0.0, 0.105], \"title\": {\"text\": \"COMPLEX\"}}, \"xaxis10\": {\"anchor\": \"y10\", \"domain\": [0.125, 0.22999999999999998], \"matches\": \"x\", \"showticklabels\": false}, \"xaxis11\": {\"anchor\": \"y11\", \"domain\": [0.25, 0.355], \"matches\": \"x\", \"showticklabels\": false}, \"xaxis12\": {\"anchor\": \"y12\", \"domain\": [0.375, 0.48], \"matches\": \"x\", \"showticklabels\": false}, \"xaxis13\": {\"anchor\": \"y13\", \"domain\": [0.5, 0.605], \"matches\": \"x\", \"showticklabels\": false}, \"xaxis14\": {\"anchor\": \"y14\", \"domain\": [0.625, 0.73], \"matches\": \"x\", \"showticklabels\": false}, \"xaxis15\": {\"anchor\": \"y15\", \"domain\": [0.75, 0.855], \"matches\": \"x\", \"showticklabels\": false}, \"xaxis16\": {\"anchor\": \"y16\", \"domain\": [0.875, 0.98], \"matches\": \"x\", \"showticklabels\": false}, \"xaxis17\": {\"anchor\": \"y17\", \"domain\": [0.0, 0.105], \"matches\": \"x\", \"showticklabels\": false}, \"xaxis18\": {\"anchor\": \"y18\", \"domain\": [0.125, 0.22999999999999998], \"matches\": \"x\", \"showticklabels\": false}, \"xaxis19\": {\"anchor\": \"y19\", \"domain\": [0.25, 0.355], \"matches\": \"x\", \"showticklabels\": false}, \"xaxis2\": {\"anchor\": \"y2\", \"domain\": [0.125, 0.22999999999999998], \"matches\": \"x\", \"title\": {\"text\": \"COMPLEX\"}}, \"xaxis20\": {\"anchor\": \"y20\", \"domain\": [0.375, 0.48], \"matches\": \"x\", \"showticklabels\": false}, \"xaxis21\": {\"anchor\": \"y21\", \"domain\": [0.5, 0.605], \"matches\": \"x\", \"showticklabels\": false}, \"xaxis22\": {\"anchor\": \"y22\", \"domain\": [0.625, 0.73], \"matches\": \"x\", \"showticklabels\": false}, \"xaxis23\": {\"anchor\": \"y23\", \"domain\": [0.75, 0.855], \"matches\": \"x\", \"showticklabels\": false}, \"xaxis24\": {\"anchor\": \"y24\", \"domain\": [0.875, 0.98], \"matches\": \"x\", \"showticklabels\": false}, \"xaxis25\": {\"anchor\": \"y25\", \"domain\": [0.0, 0.105], \"matches\": \"x\", \"showticklabels\": false}, \"xaxis26\": {\"anchor\": \"y26\", \"domain\": [0.125, 0.22999999999999998], \"matches\": \"x\", \"showticklabels\": false}, \"xaxis27\": {\"anchor\": \"y27\", \"domain\": [0.25, 0.355], \"matches\": \"x\", \"showticklabels\": false}, \"xaxis28\": {\"anchor\": \"y28\", \"domain\": [0.375, 0.48], \"matches\": \"x\", \"showticklabels\": false}, \"xaxis29\": {\"anchor\": \"y29\", \"domain\": [0.5, 0.605], \"matches\": \"x\", \"showticklabels\": false}, \"xaxis3\": {\"anchor\": \"y3\", \"domain\": [0.25, 0.355], \"matches\": \"x\", \"title\": {\"text\": \"COMPLEX\"}}, \"xaxis30\": {\"anchor\": \"y30\", \"domain\": [0.625, 0.73], \"matches\": \"x\", \"showticklabels\": false}, \"xaxis31\": {\"anchor\": \"y31\", \"domain\": [0.75, 0.855], \"matches\": \"x\", \"showticklabels\": false}, \"xaxis32\": {\"anchor\": \"y32\", \"domain\": [0.875, 0.98], \"matches\": \"x\", \"showticklabels\": false}, \"xaxis4\": {\"anchor\": \"y4\", \"domain\": [0.375, 0.48], \"matches\": \"x\", \"title\": {\"text\": \"COMPLEX\"}}, \"xaxis5\": {\"anchor\": \"y5\", \"domain\": [0.5, 0.605], \"matches\": \"x\", \"title\": {\"text\": \"COMPLEX\"}}, \"xaxis6\": {\"anchor\": \"y6\", \"domain\": [0.625, 0.73], \"matches\": \"x\", \"title\": {\"text\": \"COMPLEX\"}}, \"xaxis7\": {\"anchor\": \"y7\", \"domain\": [0.75, 0.855], \"matches\": \"x\", \"title\": {\"text\": \"COMPLEX\"}}, \"xaxis8\": {\"anchor\": \"y8\", \"domain\": [0.875, 0.98], \"matches\": \"x\", \"title\": {\"text\": \"COMPLEX\"}}, \"xaxis9\": {\"anchor\": \"y9\", \"domain\": [0.0, 0.105], \"matches\": \"x\", \"showticklabels\": false}, \"yaxis\": {\"anchor\": \"x\", \"domain\": [0.0, 0.2275], \"title\": {\"text\": \"VISSP_NAME\"}}, \"yaxis10\": {\"anchor\": \"x10\", \"domain\": [0.2575, 0.485], \"matches\": \"y\", \"showticklabels\": false}, \"yaxis11\": {\"anchor\": \"x11\", \"domain\": [0.2575, 0.485], \"matches\": \"y\", \"showticklabels\": false}, \"yaxis12\": {\"anchor\": \"x12\", \"domain\": [0.2575, 0.485], \"matches\": \"y\", \"showticklabels\": false}, \"yaxis13\": {\"anchor\": \"x13\", \"domain\": [0.2575, 0.485], \"matches\": \"y\", \"showticklabels\": false}, \"yaxis14\": {\"anchor\": \"x14\", \"domain\": [0.2575, 0.485], \"matches\": \"y\", \"showticklabels\": false}, \"yaxis15\": {\"anchor\": \"x15\", \"domain\": [0.2575, 0.485], \"matches\": \"y\", \"showticklabels\": false}, \"yaxis16\": {\"anchor\": \"x16\", \"domain\": [0.2575, 0.485], \"matches\": \"y\", \"showticklabels\": false}, \"yaxis17\": {\"anchor\": \"x17\", \"domain\": [0.515, 0.7425], \"matches\": \"y\", \"title\": {\"text\": \"VISSP_NAME\"}}, \"yaxis18\": {\"anchor\": \"x18\", \"domain\": [0.515, 0.7425], \"matches\": \"y\", \"showticklabels\": false}, \"yaxis19\": {\"anchor\": \"x19\", \"domain\": [0.515, 0.7425], \"matches\": \"y\", \"showticklabels\": false}, \"yaxis2\": {\"anchor\": \"x2\", \"domain\": [0.0, 0.2275], \"matches\": \"y\", \"showticklabels\": false}, \"yaxis20\": {\"anchor\": \"x20\", \"domain\": [0.515, 0.7425], \"matches\": \"y\", \"showticklabels\": false}, \"yaxis21\": {\"anchor\": \"x21\", \"domain\": [0.515, 0.7425], \"matches\": \"y\", \"showticklabels\": false}, \"yaxis22\": {\"anchor\": \"x22\", \"domain\": [0.515, 0.7425], \"matches\": \"y\", \"showticklabels\": false}, \"yaxis23\": {\"anchor\": \"x23\", \"domain\": [0.515, 0.7425], \"matches\": \"y\", \"showticklabels\": false}, \"yaxis24\": {\"anchor\": \"x24\", \"domain\": [0.515, 0.7425], \"matches\": \"y\", \"showticklabels\": false}, \"yaxis25\": {\"anchor\": \"x25\", \"domain\": [0.7725, 1.0], \"matches\": \"y\", \"title\": {\"text\": \"VISSP_NAME\"}}, \"yaxis26\": {\"anchor\": \"x26\", \"domain\": [0.7725, 1.0], \"matches\": \"y\", \"showticklabels\": false}, \"yaxis27\": {\"anchor\": \"x27\", \"domain\": [0.7725, 1.0], \"matches\": \"y\", \"showticklabels\": false}, \"yaxis28\": {\"anchor\": \"x28\", \"domain\": [0.7725, 1.0], \"matches\": \"y\", \"showticklabels\": false}, \"yaxis29\": {\"anchor\": \"x29\", \"domain\": [0.7725, 1.0], \"matches\": \"y\", \"showticklabels\": false}, \"yaxis3\": {\"anchor\": \"x3\", \"domain\": [0.0, 0.2275], \"matches\": \"y\", \"showticklabels\": false}, \"yaxis30\": {\"anchor\": \"x30\", \"domain\": [0.7725, 1.0], \"matches\": \"y\", \"showticklabels\": false}, \"yaxis31\": {\"anchor\": \"x31\", \"domain\": [0.7725, 1.0], \"matches\": \"y\", \"showticklabels\": false}, \"yaxis32\": {\"anchor\": \"x32\", \"domain\": [0.7725, 1.0], \"matches\": \"y\", \"showticklabels\": false}, \"yaxis4\": {\"anchor\": \"x4\", \"domain\": [0.0, 0.2275], \"matches\": \"y\", \"showticklabels\": false}, \"yaxis5\": {\"anchor\": \"x5\", \"domain\": [0.0, 0.2275], \"matches\": \"y\", \"showticklabels\": false}, \"yaxis6\": {\"anchor\": \"x6\", \"domain\": [0.0, 0.2275], \"matches\": \"y\", \"showticklabels\": false}, \"yaxis7\": {\"anchor\": \"x7\", \"domain\": [0.0, 0.2275], \"matches\": \"y\", \"showticklabels\": false}, \"yaxis8\": {\"anchor\": \"x8\", \"domain\": [0.0, 0.2275], \"matches\": \"y\", \"showticklabels\": false}, \"yaxis9\": {\"anchor\": \"x9\", \"domain\": [0.2575, 0.485], \"matches\": \"y\", \"title\": {\"text\": \"VISSP_NAME\"}}},                        {\"responsive\": true}                    ).then(function(){\n",
       "                            \n",
       "var gd = document.getElementById('853ccc2d-011b-4291-8860-87404e81cd2b');\n",
       "var x = new MutationObserver(function (mutations, observer) {{\n",
       "        var display = window.getComputedStyle(gd).display;\n",
       "        if (!display || display === 'none') {{\n",
       "            console.log([gd, 'removed!']);\n",
       "            Plotly.purge(gd);\n",
       "            observer.disconnect();\n",
       "        }}\n",
       "}});\n",
       "\n",
       "// Listen for the removal of the full notebook cells\n",
       "var notebookContainer = gd.closest('#notebook-container');\n",
       "if (notebookContainer) {{\n",
       "    x.observe(notebookContainer, {childList: true});\n",
       "}}\n",
       "\n",
       "// Listen for the clearing of the current output cell\n",
       "var outputEl = gd.closest('.output');\n",
       "if (outputEl) {{\n",
       "    x.observe(outputEl, {childList: true});\n",
       "}}\n",
       "\n",
       "                        })                };                });            </script>        </div>"
      ]
     },
     "metadata": {},
     "output_type": "display_data"
    }
   ],
   "source": [
    "#result['PLOT'] = result['PLOT'].astype(str)\n",
    "\n",
    "fig = px.bar(result, x=\"COMPLEX\", y=\"VISSP_NAME\",  barmode=\"group\",color='COMPLEX',\n",
    "             facet_row=\"month\", facet_col=\"year\",\n",
    "             category_orders={\"month\": [6,7,8,9]}\n",
    "            )\n",
    "fig.update_traces()\n",
    "fig.show()"
   ]
  },
  {
   "cell_type": "code",
   "execution_count": 21,
   "metadata": {
    "scrolled": false
   },
   "outputs": [
    {
     "data": {
      "text/plain": [
       "count    46439.000000\n",
       "mean        74.708943\n",
       "std          8.392481\n",
       "min         50.000000\n",
       "25%         68.000000\n",
       "50%         75.200000\n",
       "75%         80.600000\n",
       "max        111.200000\n",
       "Name: temp_f, dtype: float64"
      ]
     },
     "execution_count": 21,
     "metadata": {},
     "output_type": "execute_result"
    }
   ],
   "source": [
    "df['temp_f'].describe()"
   ]
  },
  {
   "cell_type": "code",
   "execution_count": null,
   "metadata": {},
   "outputs": [],
   "source": []
  },
  {
   "cell_type": "code",
   "execution_count": null,
   "metadata": {},
   "outputs": [],
   "source": []
  }
 ],
 "metadata": {
  "kernelspec": {
   "display_name": "Python 3",
   "language": "python",
   "name": "python3"
  },
  "language_info": {
   "codemirror_mode": {
    "name": "ipython",
    "version": 3
   },
   "file_extension": ".py",
   "mimetype": "text/x-python",
   "name": "python",
   "nbconvert_exporter": "python",
   "pygments_lexer": "ipython3",
   "version": "3.7.9"
  }
 },
 "nbformat": 4,
 "nbformat_minor": 4
}
