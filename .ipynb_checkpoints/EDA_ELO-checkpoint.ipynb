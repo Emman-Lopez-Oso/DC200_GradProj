{
 "cells": [
  {
   "cell_type": "code",
   "execution_count": 1,
   "metadata": {},
   "outputs": [],
   "source": [
    "import numpy as np\n",
    "import pandas as pd\n",
    "import seaborn as sns\n",
    "\n",
    "import matplotlib.pyplot as plt\n",
    "%matplotlib inline\n",
    "import plotly.express as px\n",
    "\n",
    "\n",
    "import seaborn as sns\n",
    "sns.set(style = \"whitegrid\", \n",
    "        color_codes = True,\n",
    "        font_scale = 1.5)"
   ]
  },
  {
   "cell_type": "markdown",
   "metadata": {},
   "source": [
    "# Shit we gotta do:\n",
    "\n",
    "### Estimation \n",
    "\n",
    "An evaluation of the report based on the Data Science Lifecycle (10 points, 2 points per component). The review should include at least one strong point and one suggestion for improvement for each of the following components in the project:\n",
    "\n",
    "    Data collection and sampling\n",
    "    Data cleaning\n",
    "    Exploratory data analysis (including data wrangling and visualization)\n",
    "    Data modeling (including feature engineering, selection of the model, and evaluation of the model’s performance)\n",
    "    Inference (do the results from the model sufficiently support the conclusion within the report?)"
   ]
  },
  {
   "cell_type": "markdown",
   "metadata": {},
   "source": [
    "# Data Sampling and Collection\n",
    "\n",
    "## How were the data collected?\n",
    "\n",
    "Give a quick write-up of the explanations that the data dictionaries for the data that we are using. \n",
    "\n",
    "For reference, we are using primarily pollinator 1 and the weather data sampled from 2011-2018\n",
    "\n",
    "## Was there any potential bias introduced in the sampling process?\n",
    "\n",
    "1. Biologist Fatigue \n",
    "2. Biologist Accuracy - The biologist who took these samples may have not been as well trained as others "
   ]
  },
  {
   "cell_type": "markdown",
   "metadata": {},
   "source": [
    "# Data Dictionary \n",
    "\n",
    "## `CLOUDS`\n",
    "\n",
    "1. S = Sunny\n",
    "2. SH = Shade\n",
    "3. PC = Partly Cloudy\n",
    "4. C = Cloudy\n",
    "\n",
    "## `WIND`\n",
    "\n",
    "1. BR = Breezy\n",
    "2. ST = Still\n",
    "\n",
    "## `MINUTE`\n",
    "\n",
    "On a given sample date, an observer will be there for 15 minutes, which is why the numbers in this variable are from 1-15\n",
    "\n",
    "## `PLOT_ID`\n",
    "\n",
    "Plot ID for a plot in a given meadow. There are 180 individual plots.\n",
    "\n",
    "## `PLOT`\n",
    "\n",
    "Plots in a given meadow. They are numbered 1-10. There are 180 individual plots.\n",
    "\n",
    "## `WATCH`\n",
    "\n",
    "* Code\t\n",
    "    * Definition\n",
    "* 0.5\t\n",
    "    * Phenological period 0.5 (The cone peak complex was sampled an extra time in 2011 during the first week 0.5, 1.5 were used)\t\n",
    "* 1\t\n",
    "    * Phenological period 1\t\n",
    "* 1.5\t\n",
    "    * Phenological period 1.5 (The cone peak complex was sampled an extra time in 2011 during the first week 0.5, 1.5 were used)\t\n",
    "* 2\t\n",
    "    * Phenological period 2\t\n",
    "* 3\t\n",
    "    * Phenological period 3\t\n",
    "* 4\t\n",
    "    * Phenological period 4\t\n",
    "* 5\t\n",
    "    * Phenological period 5\t\n",
    "* 6\t\n",
    "    * Phenological period 6\t\n",
    "* 7\t\n",
    "    * Phenological period 7\n",
    "\n",
    "## Observations \n",
    "\n",
    "1. Dataset covers years 2011-2018\n",
    "2. Plant Pollinators 1 is the number of pollinator interactions with flowers in the area. \n",
    "3. "
   ]
  },
  {
   "cell_type": "code",
   "execution_count": null,
   "metadata": {},
   "outputs": [],
   "source": []
  },
  {
   "cell_type": "markdown",
   "metadata": {},
   "source": [
    "# Data Cleaning\n",
    "\n",
    "## What type of data are you currently exploring?\n",
    "## What is the granularity of the data?\n",
    "## What does the distribution of the data look like? \n",
    "### Are there any outliers? \n",
    "### Are there any missing or invalid entries?"
   ]
  },
  {
   "cell_type": "code",
   "execution_count": null,
   "metadata": {},
   "outputs": [],
   "source": []
  },
  {
   "cell_type": "markdown",
   "metadata": {},
   "source": [
    "# Exploratory Data Analysis\n",
    "## Is there any correlation between the variables you are interested in exploring?\n",
    "## How would you cleanly and accurately visualize the relationship among variables?"
   ]
  },
  {
   "cell_type": "code",
   "execution_count": null,
   "metadata": {},
   "outputs": [],
   "source": []
  },
  {
   "cell_type": "markdown",
   "metadata": {},
   "source": [
    "# Data Modeling and Inferences\n",
    "\n",
    "Please note that the following datasets have a data modeling requirement, i.e. you need to utilize at least 1 machine learning model we teach in this class in your project: \n",
    "* Topic 1 \n",
    "    * Dataset A, \n",
    "    * Dataset C \n",
    "* Topic 2 - Dataset A \n",
    "* Topic 3 \n",
    "    * Dataset A\n",
    "    * Dataset B. \n",
    "    \n",
    "For datasets not mentioned above, you are welcome to continue building machine learning model(s). Otherwise, we will be placing more emphasis on the inference part instead.\n",
    "\n",
    "    Here are a few components your notebook must address:\n",
    "        What type of machine learning problem are you investigating?\n",
    "        What model do you plan on using and why?\n",
    "        Does your model require hyperparameter tuning? If so, how do you approach it?\n",
    "        How do you engineer the features for your model? What are the rationales behind selecting these features?\n",
    "        How do you perform cross validation on your model?\n",
    "        What loss metrics are you using to evaluate your model?\n",
    "        From a bias-variance tradeoff standpoint, how do you assess the performance of your model? How do you check if it is overfitting?\n",
    "        How would you improve your model based on the outcome?\n",
    "        \n",
    "# IDEAS: \n",
    "\n",
    "Potentially call out the biologists through a cluster analysis "
   ]
  },
  {
   "cell_type": "code",
   "execution_count": null,
   "metadata": {},
   "outputs": [],
   "source": []
  },
  {
   "cell_type": "code",
   "execution_count": 7,
   "metadata": {},
   "outputs": [],
   "source": [
    "plant_pollinator_1 = pd.read_csv('data/plant_pollinator_diversity_set1.csv')\n",
    "plant_pollinator_2 = pd.read_csv('data/plant_pollinator_diversity_set2.csv')"
   ]
  },
  {
   "cell_type": "code",
   "execution_count": 63,
   "metadata": {},
   "outputs": [
    {
     "name": "stdout",
     "output_type": "stream",
     "text": [
      "<class 'pandas.core.frame.DataFrame'>\n",
      "RangeIndex: 74131 entries, 0 to 74130\n",
      "Data columns (total 32 columns):\n",
      " #   Column      Non-Null Count  Dtype         \n",
      "---  ------      --------------  -----         \n",
      " 0   DBCODE      74131 non-null  object        \n",
      " 1   ENTITY      74131 non-null  int64         \n",
      " 2   COMPLEX     74131 non-null  object        \n",
      " 3   MEADOW      74131 non-null  object        \n",
      " 4   PLOT_ID     74131 non-null  object        \n",
      " 5   YEAR        74131 non-null  int64         \n",
      " 6   SAMPLEDATE  74131 non-null  object        \n",
      " 7   WATCH       74131 non-null  float64       \n",
      " 8   OBSERVER    62345 non-null  object        \n",
      " 9   PLOT        74131 non-null  int64         \n",
      " 10  START_TIME  63281 non-null  float64       \n",
      " 11  END_TIME    7501 non-null   float64       \n",
      " 12  MINUTE      73978 non-null  float64       \n",
      " 13  CLOUDS      73737 non-null  object        \n",
      " 14  WIND        73860 non-null  object        \n",
      " 15  TEMP        46439 non-null  float64       \n",
      " 16  PPI_STATUS  74131 non-null  int64         \n",
      " 17  NO_INT      74078 non-null  float64       \n",
      " 18  PLTSP_CODE  60271 non-null  object        \n",
      " 19  PLTSP_NAME  60271 non-null  object        \n",
      " 20  VISSP_CODE  60271 non-null  object        \n",
      " 21  VISSP_NAME  60271 non-null  object        \n",
      " 22  VISSP_TYPE  38594 non-null  object        \n",
      " 23  REF_NO      15175 non-null  object        \n",
      " 24  VISSP_NO    74131 non-null  int64         \n",
      " 25  QC_NOTES    3588 non-null   object        \n",
      " 26  Date        74131 non-null  datetime64[ns]\n",
      " 27  DATETIME    74131 non-null  datetime64[ns]\n",
      " 28  MY          74131 non-null  period[M]     \n",
      " 29  month       74131 non-null  int64         \n",
      " 30  year        74131 non-null  int64         \n",
      " 31  temp_f      46439 non-null  float64       \n",
      "dtypes: datetime64[ns](2), float64(7), int64(7), object(15), period[M](1)\n",
      "memory usage: 18.1+ MB\n"
     ]
    }
   ],
   "source": [
    "#both datasets cover observations from 2011 to 2018\n",
    "plant_pollinator_1.info()"
   ]
  },
  {
   "cell_type": "code",
   "execution_count": 11,
   "metadata": {},
   "outputs": [
    {
     "data": {
      "text/html": [
       "<div>\n",
       "<style scoped>\n",
       "    .dataframe tbody tr th:only-of-type {\n",
       "        vertical-align: middle;\n",
       "    }\n",
       "\n",
       "    .dataframe tbody tr th {\n",
       "        vertical-align: top;\n",
       "    }\n",
       "\n",
       "    .dataframe thead th {\n",
       "        text-align: right;\n",
       "    }\n",
       "</style>\n",
       "<table border=\"1\" class=\"dataframe\">\n",
       "  <thead>\n",
       "    <tr style=\"text-align: right;\">\n",
       "      <th></th>\n",
       "      <th>DBCODE</th>\n",
       "      <th>ENTITY</th>\n",
       "      <th>COMPLEX</th>\n",
       "      <th>MEADOW</th>\n",
       "      <th>PLOT_ID</th>\n",
       "      <th>YEAR</th>\n",
       "      <th>SAMPLEDATE</th>\n",
       "      <th>WATCH</th>\n",
       "      <th>OBSERVER</th>\n",
       "      <th>PLOT</th>\n",
       "      <th>...</th>\n",
       "      <th>PPI_STATUS</th>\n",
       "      <th>NO_INT</th>\n",
       "      <th>PLTSP_CODE</th>\n",
       "      <th>PLTSP_NAME</th>\n",
       "      <th>VISSP_CODE</th>\n",
       "      <th>VISSP_NAME</th>\n",
       "      <th>VISSP_TYPE</th>\n",
       "      <th>REF_NO</th>\n",
       "      <th>VISSP_NO</th>\n",
       "      <th>QC_NOTES</th>\n",
       "    </tr>\n",
       "  </thead>\n",
       "  <tbody>\n",
       "    <tr>\n",
       "      <th>0</th>\n",
       "      <td>SA026</td>\n",
       "      <td>1</td>\n",
       "      <td>Bunchgrass</td>\n",
       "      <td>BD</td>\n",
       "      <td>BGD01</td>\n",
       "      <td>2011</td>\n",
       "      <td>2011-07-24</td>\n",
       "      <td>2.0</td>\n",
       "      <td>NaN</td>\n",
       "      <td>1</td>\n",
       "      <td>...</td>\n",
       "      <td>1</td>\n",
       "      <td>2.0</td>\n",
       "      <td>ACHIMILL</td>\n",
       "      <td>Achillea millefolium</td>\n",
       "      <td>EPICPUNC</td>\n",
       "      <td>Epicauta puncticollis</td>\n",
       "      <td>predaceous beetle</td>\n",
       "      <td>NaN</td>\n",
       "      <td>1</td>\n",
       "      <td>NaN</td>\n",
       "    </tr>\n",
       "    <tr>\n",
       "      <th>1</th>\n",
       "      <td>SA026</td>\n",
       "      <td>1</td>\n",
       "      <td>Bunchgrass</td>\n",
       "      <td>BD</td>\n",
       "      <td>BGD01</td>\n",
       "      <td>2011</td>\n",
       "      <td>2011-07-24</td>\n",
       "      <td>2.0</td>\n",
       "      <td>NaN</td>\n",
       "      <td>1</td>\n",
       "      <td>...</td>\n",
       "      <td>1</td>\n",
       "      <td>1.0</td>\n",
       "      <td>ACHIMILL</td>\n",
       "      <td>Achillea millefolium</td>\n",
       "      <td>EVYLS5M</td>\n",
       "      <td>Evylaeus sp 5M</td>\n",
       "      <td>halictine bee</td>\n",
       "      <td>NaN</td>\n",
       "      <td>1</td>\n",
       "      <td>NaN</td>\n",
       "    </tr>\n",
       "    <tr>\n",
       "      <th>2</th>\n",
       "      <td>SA026</td>\n",
       "      <td>1</td>\n",
       "      <td>Bunchgrass</td>\n",
       "      <td>BD</td>\n",
       "      <td>BGD01</td>\n",
       "      <td>2011</td>\n",
       "      <td>2011-07-24</td>\n",
       "      <td>2.0</td>\n",
       "      <td>NaN</td>\n",
       "      <td>1</td>\n",
       "      <td>...</td>\n",
       "      <td>1</td>\n",
       "      <td>2.0</td>\n",
       "      <td>ERIGFOLI</td>\n",
       "      <td>Erigeron foliosus</td>\n",
       "      <td>MUSCGEN3</td>\n",
       "      <td>Muscoid genus 3</td>\n",
       "      <td>herbivorous muscoid fly</td>\n",
       "      <td>NaN</td>\n",
       "      <td>1</td>\n",
       "      <td>NaN</td>\n",
       "    </tr>\n",
       "    <tr>\n",
       "      <th>3</th>\n",
       "      <td>SA026</td>\n",
       "      <td>1</td>\n",
       "      <td>Bunchgrass</td>\n",
       "      <td>BD</td>\n",
       "      <td>BGD01</td>\n",
       "      <td>2011</td>\n",
       "      <td>2011-07-24</td>\n",
       "      <td>2.0</td>\n",
       "      <td>NaN</td>\n",
       "      <td>1</td>\n",
       "      <td>...</td>\n",
       "      <td>1</td>\n",
       "      <td>2.0</td>\n",
       "      <td>ERIGFOLI</td>\n",
       "      <td>Erigeron foliosus</td>\n",
       "      <td>MUSCGEN3</td>\n",
       "      <td>Muscoid genus 3</td>\n",
       "      <td>herbivorous muscoid fly</td>\n",
       "      <td>NaN</td>\n",
       "      <td>2</td>\n",
       "      <td>NaN</td>\n",
       "    </tr>\n",
       "    <tr>\n",
       "      <th>4</th>\n",
       "      <td>SA026</td>\n",
       "      <td>1</td>\n",
       "      <td>Bunchgrass</td>\n",
       "      <td>BD</td>\n",
       "      <td>BGD01</td>\n",
       "      <td>2011</td>\n",
       "      <td>2011-07-24</td>\n",
       "      <td>2.0</td>\n",
       "      <td>NaN</td>\n",
       "      <td>1</td>\n",
       "      <td>...</td>\n",
       "      <td>1</td>\n",
       "      <td>2.0</td>\n",
       "      <td>ERIGFOLI</td>\n",
       "      <td>Erigeron foliosus</td>\n",
       "      <td>TRICORNA</td>\n",
       "      <td>Trichodes ornatus</td>\n",
       "      <td>bee-parasitic beetle</td>\n",
       "      <td>NaN</td>\n",
       "      <td>1</td>\n",
       "      <td>NaN</td>\n",
       "    </tr>\n",
       "  </tbody>\n",
       "</table>\n",
       "<p>5 rows × 26 columns</p>\n",
       "</div>"
      ],
      "text/plain": [
       "  DBCODE  ENTITY     COMPLEX MEADOW PLOT_ID  YEAR  SAMPLEDATE  WATCH OBSERVER  \\\n",
       "0  SA026       1  Bunchgrass     BD   BGD01  2011  2011-07-24    2.0      NaN   \n",
       "1  SA026       1  Bunchgrass     BD   BGD01  2011  2011-07-24    2.0      NaN   \n",
       "2  SA026       1  Bunchgrass     BD   BGD01  2011  2011-07-24    2.0      NaN   \n",
       "3  SA026       1  Bunchgrass     BD   BGD01  2011  2011-07-24    2.0      NaN   \n",
       "4  SA026       1  Bunchgrass     BD   BGD01  2011  2011-07-24    2.0      NaN   \n",
       "\n",
       "   PLOT  ...  PPI_STATUS  NO_INT  PLTSP_CODE            PLTSP_NAME VISSP_CODE  \\\n",
       "0     1  ...           1     2.0    ACHIMILL  Achillea millefolium   EPICPUNC   \n",
       "1     1  ...           1     1.0    ACHIMILL  Achillea millefolium    EVYLS5M   \n",
       "2     1  ...           1     2.0    ERIGFOLI     Erigeron foliosus   MUSCGEN3   \n",
       "3     1  ...           1     2.0    ERIGFOLI     Erigeron foliosus   MUSCGEN3   \n",
       "4     1  ...           1     2.0    ERIGFOLI     Erigeron foliosus   TRICORNA   \n",
       "\n",
       "              VISSP_NAME               VISSP_TYPE  REF_NO VISSP_NO QC_NOTES  \n",
       "0  Epicauta puncticollis        predaceous beetle     NaN        1      NaN  \n",
       "1         Evylaeus sp 5M            halictine bee     NaN        1      NaN  \n",
       "2        Muscoid genus 3  herbivorous muscoid fly     NaN        1      NaN  \n",
       "3        Muscoid genus 3  herbivorous muscoid fly     NaN        2      NaN  \n",
       "4      Trichodes ornatus     bee-parasitic beetle     NaN        1      NaN  \n",
       "\n",
       "[5 rows x 26 columns]"
      ]
     },
     "execution_count": 11,
     "metadata": {},
     "output_type": "execute_result"
    }
   ],
   "source": [
    "plant_pollinator_1.head()"
   ]
  },
  {
   "cell_type": "code",
   "execution_count": null,
   "metadata": {},
   "outputs": [],
   "source": [
    "df = plant_pollinator_1"
   ]
  },
  {
   "cell_type": "code",
   "execution_count": null,
   "metadata": {},
   "outputs": [],
   "source": [
    "plant_pollinator_1['CLOUDS'].replace({'S':'sunny','PC':'p_cloudy','SH':'shade','C':'cloudy'})"
   ]
  },
  {
   "cell_type": "code",
   "execution_count": 54,
   "metadata": {},
   "outputs": [
    {
     "data": {
      "text/plain": [
       "S     63236\n",
       "PC     4344\n",
       "SH     4036\n",
       "C      2121\n",
       "Name: CLOUDS, dtype: int64"
      ]
     },
     "execution_count": 54,
     "metadata": {},
     "output_type": "execute_result"
    }
   ],
   "source": [
    "plant_pollinator_1['CLOUDS'].value_counts()"
   ]
  },
  {
   "cell_type": "code",
   "execution_count": 53,
   "metadata": {},
   "outputs": [
    {
     "name": "stdout",
     "output_type": "stream",
     "text": [
      "<class 'pandas.core.frame.DataFrame'>\n",
      "RangeIndex: 74131 entries, 0 to 74130\n",
      "Data columns (total 32 columns):\n",
      " #   Column      Non-Null Count  Dtype         \n",
      "---  ------      --------------  -----         \n",
      " 0   DBCODE      74131 non-null  object        \n",
      " 1   ENTITY      74131 non-null  int64         \n",
      " 2   COMPLEX     74131 non-null  object        \n",
      " 3   MEADOW      74131 non-null  object        \n",
      " 4   PLOT_ID     74131 non-null  object        \n",
      " 5   YEAR        74131 non-null  int64         \n",
      " 6   SAMPLEDATE  74131 non-null  object        \n",
      " 7   WATCH       74131 non-null  float64       \n",
      " 8   OBSERVER    62345 non-null  object        \n",
      " 9   PLOT        74131 non-null  int64         \n",
      " 10  START_TIME  63281 non-null  float64       \n",
      " 11  END_TIME    7501 non-null   float64       \n",
      " 12  MINUTE      73978 non-null  float64       \n",
      " 13  CLOUDS      73737 non-null  object        \n",
      " 14  WIND        73860 non-null  object        \n",
      " 15  TEMP        46439 non-null  float64       \n",
      " 16  PPI_STATUS  74131 non-null  int64         \n",
      " 17  NO_INT      74078 non-null  float64       \n",
      " 18  PLTSP_CODE  60271 non-null  object        \n",
      " 19  PLTSP_NAME  60271 non-null  object        \n",
      " 20  VISSP_CODE  60271 non-null  object        \n",
      " 21  VISSP_NAME  60271 non-null  object        \n",
      " 22  VISSP_TYPE  38594 non-null  object        \n",
      " 23  REF_NO      15175 non-null  object        \n",
      " 24  VISSP_NO    74131 non-null  int64         \n",
      " 25  QC_NOTES    3588 non-null   object        \n",
      " 26  Date        74131 non-null  datetime64[ns]\n",
      " 27  DATETIME    74131 non-null  datetime64[ns]\n",
      " 28  MY          74131 non-null  period[M]     \n",
      " 29  month       74131 non-null  int64         \n",
      " 30  year        74131 non-null  int64         \n",
      " 31  temp_f      46439 non-null  float64       \n",
      "dtypes: datetime64[ns](2), float64(7), int64(7), object(15), period[M](1)\n",
      "memory usage: 18.1+ MB\n"
     ]
    }
   ],
   "source": [
    "plant_pollinator_1.info()"
   ]
  },
  {
   "cell_type": "code",
   "execution_count": null,
   "metadata": {},
   "outputs": [],
   "source": []
  },
  {
   "cell_type": "code",
   "execution_count": 47,
   "metadata": {},
   "outputs": [
    {
     "name": "stdout",
     "output_type": "stream",
     "text": [
      "<class 'pandas.core.frame.DataFrame'>\n",
      "RangeIndex: 22619 entries, 0 to 22618\n",
      "Data columns (total 16 columns):\n",
      " #   Column      Non-Null Count  Dtype  \n",
      "---  ------      --------------  -----  \n",
      " 0   DBCODE      22619 non-null  object \n",
      " 1   ENTITY      22619 non-null  int64  \n",
      " 2   COMPLEX     22619 non-null  object \n",
      " 3   MEADOW      22619 non-null  object \n",
      " 4   PLOT_ID     22619 non-null  object \n",
      " 5   YEAR        22619 non-null  int64  \n",
      " 6   SAMPLEDATE  22619 non-null  object \n",
      " 7   WATCH       22619 non-null  float64\n",
      " 8   OBSERVER    21934 non-null  object \n",
      " 9   PLOT        22619 non-null  int64  \n",
      " 10  FLW_STATUS  21843 non-null  object \n",
      " 11  PLTSP_CODE  22059 non-null  object \n",
      " 12  PLTSP_NAME  22059 non-null  object \n",
      " 13  NO_STALK    21452 non-null  float64\n",
      " 14  NO_FLWS     21455 non-null  float64\n",
      " 15  QC_NOTES    5395 non-null   object \n",
      "dtypes: float64(3), int64(3), object(10)\n",
      "memory usage: 2.8+ MB\n"
     ]
    }
   ],
   "source": [
    "plant_pollinator_2.info()"
   ]
  },
  {
   "cell_type": "code",
   "execution_count": 52,
   "metadata": {},
   "outputs": [
    {
     "data": {
      "text/plain": [
       "array(['BGD01', 'BGD02', 'BGD03', 'BGD04', 'BGD05', 'BGD06', 'BGD07',\n",
       "       'BGD08', 'BGD09', 'BGD10', 'BGH01', 'BGH02', 'BGH03', 'BGH04',\n",
       "       'BGH05', 'BGH06', 'BGH07', 'BGH08', 'BGH09', 'BGH10', 'BGS01',\n",
       "       'BGS02', 'BGS03', 'BGS04', 'BGS05', 'BGS06', 'BGS07', 'BGS08',\n",
       "       'BGS09', 'BGS10', 'CNE01', 'CNE02', 'CNE03', 'CNE04', 'CNE05',\n",
       "       'CNE06', 'CNE07', 'CNE08', 'CNE09', 'CNE10', 'CNM01', 'CNM02',\n",
       "       'CNM03', 'CNM04', 'CNM05', 'CNM06', 'CNM07', 'CNM08', 'CNM09',\n",
       "       'CNM10', 'CNT01', 'CNT02', 'CNT03', 'CNT04', 'CNT05', 'CNT06',\n",
       "       'CNT07', 'CNT08', 'CNT09', 'CNT10', 'CPB01', 'CPB02', 'CPB03',\n",
       "       'CPB04', 'CPB05', 'CPB06', 'CPB07', 'CPB08', 'CPB09', 'CPB10',\n",
       "       'CPM01', 'CPM02', 'CPM03', 'CPM04', 'CPM05', 'CPM06', 'CPM07',\n",
       "       'CPM08', 'CPM09', 'CPM10', 'CPR01', 'CPR02', 'CPR03', 'CPR04',\n",
       "       'CPR05', 'CPR06', 'CPR07', 'CPR08', 'CPR09', 'CPR10', 'CPS01',\n",
       "       'CPS02', 'CPS03', 'CPS04', 'CPS05', 'CPS06', 'CPS07', 'CPS08',\n",
       "       'CPS09', 'CPS10', 'FM201', 'FM202', 'FM203', 'FM204', 'FM205',\n",
       "       'FM206', 'FM207', 'FM208', 'FM209', 'FM210', 'FNE01', 'FNE02',\n",
       "       'FNE03', 'FNE04', 'FNE05', 'FNE06', 'FNE07', 'FNE08', 'FNE09',\n",
       "       'FNE10', 'LOB01', 'LOB02', 'LOB03', 'LOB04', 'LOB05', 'LOB06',\n",
       "       'LOB07', 'LOB08', 'LOB09', 'LOB10', 'LOM01', 'LOM02', 'LOM03',\n",
       "       'LOM04', 'LOM05', 'LOM06', 'LOM07', 'LOM08', 'LOM09', 'LOM10',\n",
       "       'LOO01', 'LOO02', 'LOO03', 'LOO04', 'LOO05', 'LOO06', 'LOO07',\n",
       "       'LOO08', 'LOO09', 'LOO10', 'LOS01', 'LOS02', 'LOS03', 'LOS04',\n",
       "       'LOS05', 'LOS06', 'LOS07', 'LOS08', 'LOS09', 'LOS10', 'RP101',\n",
       "       'RP102', 'RP103', 'RP104', 'RP105', 'RP106', 'RP107', 'RP108',\n",
       "       'RP109', 'RP110', 'RP201', 'RP202', 'RP203', 'RP204', 'RP205',\n",
       "       'RP206', 'RP207', 'RP208', 'RP209', 'RP210'], dtype=object)"
      ]
     },
     "execution_count": 52,
     "metadata": {},
     "output_type": "execute_result"
    }
   ],
   "source": [
    "plant_pollinator_1['PLOT_ID'].unique()"
   ]
  },
  {
   "cell_type": "code",
   "execution_count": 45,
   "metadata": {},
   "outputs": [
    {
     "data": {
      "text/html": [
       "<div>\n",
       "<style scoped>\n",
       "    .dataframe tbody tr th:only-of-type {\n",
       "        vertical-align: middle;\n",
       "    }\n",
       "\n",
       "    .dataframe tbody tr th {\n",
       "        vertical-align: top;\n",
       "    }\n",
       "\n",
       "    .dataframe thead th {\n",
       "        text-align: right;\n",
       "    }\n",
       "</style>\n",
       "<table border=\"1\" class=\"dataframe\">\n",
       "  <thead>\n",
       "    <tr style=\"text-align: right;\">\n",
       "      <th></th>\n",
       "      <th>DBCODE</th>\n",
       "      <th>ENTITY</th>\n",
       "      <th>COMPLEX</th>\n",
       "      <th>MEADOW</th>\n",
       "      <th>PLOT_ID</th>\n",
       "      <th>YEAR</th>\n",
       "      <th>SAMPLEDATE</th>\n",
       "      <th>WATCH</th>\n",
       "      <th>OBSERVER</th>\n",
       "      <th>PLOT</th>\n",
       "      <th>...</th>\n",
       "      <th>QC_NOTES</th>\n",
       "      <th>Date</th>\n",
       "      <th>DATETIME</th>\n",
       "      <th>MY</th>\n",
       "      <th>month</th>\n",
       "      <th>year</th>\n",
       "      <th>temp_f</th>\n",
       "      <th>FLW_STATUS</th>\n",
       "      <th>NO_STALK</th>\n",
       "      <th>NO_FLWS</th>\n",
       "    </tr>\n",
       "  </thead>\n",
       "  <tbody>\n",
       "    <tr>\n",
       "      <th>0</th>\n",
       "      <td>SA026</td>\n",
       "      <td>1</td>\n",
       "      <td>Bunchgrass</td>\n",
       "      <td>BD</td>\n",
       "      <td>BGD01</td>\n",
       "      <td>2011</td>\n",
       "      <td>2011-07-24</td>\n",
       "      <td>2.0</td>\n",
       "      <td>NaN</td>\n",
       "      <td>1</td>\n",
       "      <td>...</td>\n",
       "      <td>NaN</td>\n",
       "      <td>2011-07-24</td>\n",
       "      <td>2011-07-24</td>\n",
       "      <td>2011-07</td>\n",
       "      <td>7.0</td>\n",
       "      <td>2011.0</td>\n",
       "      <td>NaN</td>\n",
       "      <td>NaN</td>\n",
       "      <td>NaN</td>\n",
       "      <td>NaN</td>\n",
       "    </tr>\n",
       "    <tr>\n",
       "      <th>1</th>\n",
       "      <td>SA026</td>\n",
       "      <td>1</td>\n",
       "      <td>Bunchgrass</td>\n",
       "      <td>BD</td>\n",
       "      <td>BGD01</td>\n",
       "      <td>2011</td>\n",
       "      <td>2011-07-24</td>\n",
       "      <td>2.0</td>\n",
       "      <td>NaN</td>\n",
       "      <td>1</td>\n",
       "      <td>...</td>\n",
       "      <td>NaN</td>\n",
       "      <td>2011-07-24</td>\n",
       "      <td>2011-07-24</td>\n",
       "      <td>2011-07</td>\n",
       "      <td>7.0</td>\n",
       "      <td>2011.0</td>\n",
       "      <td>NaN</td>\n",
       "      <td>NaN</td>\n",
       "      <td>NaN</td>\n",
       "      <td>NaN</td>\n",
       "    </tr>\n",
       "    <tr>\n",
       "      <th>2</th>\n",
       "      <td>SA026</td>\n",
       "      <td>1</td>\n",
       "      <td>Bunchgrass</td>\n",
       "      <td>BD</td>\n",
       "      <td>BGD01</td>\n",
       "      <td>2011</td>\n",
       "      <td>2011-07-24</td>\n",
       "      <td>2.0</td>\n",
       "      <td>NaN</td>\n",
       "      <td>1</td>\n",
       "      <td>...</td>\n",
       "      <td>NaN</td>\n",
       "      <td>2011-07-24</td>\n",
       "      <td>2011-07-24</td>\n",
       "      <td>2011-07</td>\n",
       "      <td>7.0</td>\n",
       "      <td>2011.0</td>\n",
       "      <td>NaN</td>\n",
       "      <td>NaN</td>\n",
       "      <td>NaN</td>\n",
       "      <td>NaN</td>\n",
       "    </tr>\n",
       "    <tr>\n",
       "      <th>3</th>\n",
       "      <td>SA026</td>\n",
       "      <td>1</td>\n",
       "      <td>Bunchgrass</td>\n",
       "      <td>BD</td>\n",
       "      <td>BGD01</td>\n",
       "      <td>2011</td>\n",
       "      <td>2011-07-24</td>\n",
       "      <td>2.0</td>\n",
       "      <td>NaN</td>\n",
       "      <td>1</td>\n",
       "      <td>...</td>\n",
       "      <td>NaN</td>\n",
       "      <td>2011-07-24</td>\n",
       "      <td>2011-07-24</td>\n",
       "      <td>2011-07</td>\n",
       "      <td>7.0</td>\n",
       "      <td>2011.0</td>\n",
       "      <td>NaN</td>\n",
       "      <td>NaN</td>\n",
       "      <td>NaN</td>\n",
       "      <td>NaN</td>\n",
       "    </tr>\n",
       "    <tr>\n",
       "      <th>4</th>\n",
       "      <td>SA026</td>\n",
       "      <td>1</td>\n",
       "      <td>Bunchgrass</td>\n",
       "      <td>BD</td>\n",
       "      <td>BGD01</td>\n",
       "      <td>2011</td>\n",
       "      <td>2011-07-24</td>\n",
       "      <td>2.0</td>\n",
       "      <td>NaN</td>\n",
       "      <td>1</td>\n",
       "      <td>...</td>\n",
       "      <td>NaN</td>\n",
       "      <td>2011-07-24</td>\n",
       "      <td>2011-07-24</td>\n",
       "      <td>2011-07</td>\n",
       "      <td>7.0</td>\n",
       "      <td>2011.0</td>\n",
       "      <td>NaN</td>\n",
       "      <td>NaN</td>\n",
       "      <td>NaN</td>\n",
       "      <td>NaN</td>\n",
       "    </tr>\n",
       "    <tr>\n",
       "      <th>...</th>\n",
       "      <td>...</td>\n",
       "      <td>...</td>\n",
       "      <td>...</td>\n",
       "      <td>...</td>\n",
       "      <td>...</td>\n",
       "      <td>...</td>\n",
       "      <td>...</td>\n",
       "      <td>...</td>\n",
       "      <td>...</td>\n",
       "      <td>...</td>\n",
       "      <td>...</td>\n",
       "      <td>...</td>\n",
       "      <td>...</td>\n",
       "      <td>...</td>\n",
       "      <td>...</td>\n",
       "      <td>...</td>\n",
       "      <td>...</td>\n",
       "      <td>...</td>\n",
       "      <td>...</td>\n",
       "      <td>...</td>\n",
       "      <td>...</td>\n",
       "    </tr>\n",
       "    <tr>\n",
       "      <th>22614</th>\n",
       "      <td>SA026</td>\n",
       "      <td>2</td>\n",
       "      <td>Frissell</td>\n",
       "      <td>RP2</td>\n",
       "      <td>RP210</td>\n",
       "      <td>2018</td>\n",
       "      <td>2018-07-19</td>\n",
       "      <td>3.0</td>\n",
       "      <td>GRJ</td>\n",
       "      <td>10</td>\n",
       "      <td>...</td>\n",
       "      <td>NA change on flw_status: to be FLW because bot...</td>\n",
       "      <td>NaT</td>\n",
       "      <td>NaT</td>\n",
       "      <td>NaT</td>\n",
       "      <td>NaN</td>\n",
       "      <td>NaN</td>\n",
       "      <td>NaN</td>\n",
       "      <td>FLW</td>\n",
       "      <td>3.0</td>\n",
       "      <td>9.6</td>\n",
       "    </tr>\n",
       "    <tr>\n",
       "      <th>22615</th>\n",
       "      <td>SA026</td>\n",
       "      <td>2</td>\n",
       "      <td>Frissell</td>\n",
       "      <td>RP2</td>\n",
       "      <td>RP210</td>\n",
       "      <td>2018</td>\n",
       "      <td>2018-07-24</td>\n",
       "      <td>4.0</td>\n",
       "      <td>GRJ</td>\n",
       "      <td>10</td>\n",
       "      <td>...</td>\n",
       "      <td>NA change on flw_status: to be FLW because bot...</td>\n",
       "      <td>NaT</td>\n",
       "      <td>NaT</td>\n",
       "      <td>NaT</td>\n",
       "      <td>NaN</td>\n",
       "      <td>NaN</td>\n",
       "      <td>NaN</td>\n",
       "      <td>FLW</td>\n",
       "      <td>1.0</td>\n",
       "      <td>5.0</td>\n",
       "    </tr>\n",
       "    <tr>\n",
       "      <th>22616</th>\n",
       "      <td>SA026</td>\n",
       "      <td>2</td>\n",
       "      <td>Frissell</td>\n",
       "      <td>RP2</td>\n",
       "      <td>RP210</td>\n",
       "      <td>2018</td>\n",
       "      <td>2018-07-24</td>\n",
       "      <td>4.0</td>\n",
       "      <td>GRJ</td>\n",
       "      <td>10</td>\n",
       "      <td>...</td>\n",
       "      <td>NA change on flw_status: to be FLW because bot...</td>\n",
       "      <td>NaT</td>\n",
       "      <td>NaT</td>\n",
       "      <td>NaT</td>\n",
       "      <td>NaN</td>\n",
       "      <td>NaN</td>\n",
       "      <td>NaN</td>\n",
       "      <td>FLW</td>\n",
       "      <td>4.0</td>\n",
       "      <td>4.0</td>\n",
       "    </tr>\n",
       "    <tr>\n",
       "      <th>22617</th>\n",
       "      <td>SA026</td>\n",
       "      <td>2</td>\n",
       "      <td>Frissell</td>\n",
       "      <td>RP2</td>\n",
       "      <td>RP210</td>\n",
       "      <td>2018</td>\n",
       "      <td>2018-07-24</td>\n",
       "      <td>4.0</td>\n",
       "      <td>GRJ</td>\n",
       "      <td>10</td>\n",
       "      <td>...</td>\n",
       "      <td>NA change on flw_status: to be FLW because bot...</td>\n",
       "      <td>NaT</td>\n",
       "      <td>NaT</td>\n",
       "      <td>NaT</td>\n",
       "      <td>NaN</td>\n",
       "      <td>NaN</td>\n",
       "      <td>NaN</td>\n",
       "      <td>FLW</td>\n",
       "      <td>2.0</td>\n",
       "      <td>1.5</td>\n",
       "    </tr>\n",
       "    <tr>\n",
       "      <th>22618</th>\n",
       "      <td>SA026</td>\n",
       "      <td>2</td>\n",
       "      <td>Frissell</td>\n",
       "      <td>RP2</td>\n",
       "      <td>RP210</td>\n",
       "      <td>2018</td>\n",
       "      <td>2018-08-02</td>\n",
       "      <td>5.0</td>\n",
       "      <td>RCT</td>\n",
       "      <td>10</td>\n",
       "      <td>...</td>\n",
       "      <td>NA change on flw_status: to be FLW because bot...</td>\n",
       "      <td>NaT</td>\n",
       "      <td>NaT</td>\n",
       "      <td>NaT</td>\n",
       "      <td>NaN</td>\n",
       "      <td>NaN</td>\n",
       "      <td>NaN</td>\n",
       "      <td>FLW</td>\n",
       "      <td>6.0</td>\n",
       "      <td>1.6</td>\n",
       "    </tr>\n",
       "  </tbody>\n",
       "</table>\n",
       "<p>96750 rows × 35 columns</p>\n",
       "</div>"
      ],
      "text/plain": [
       "      DBCODE  ENTITY     COMPLEX MEADOW PLOT_ID  YEAR  SAMPLEDATE  WATCH  \\\n",
       "0      SA026       1  Bunchgrass     BD   BGD01  2011  2011-07-24    2.0   \n",
       "1      SA026       1  Bunchgrass     BD   BGD01  2011  2011-07-24    2.0   \n",
       "2      SA026       1  Bunchgrass     BD   BGD01  2011  2011-07-24    2.0   \n",
       "3      SA026       1  Bunchgrass     BD   BGD01  2011  2011-07-24    2.0   \n",
       "4      SA026       1  Bunchgrass     BD   BGD01  2011  2011-07-24    2.0   \n",
       "...      ...     ...         ...    ...     ...   ...         ...    ...   \n",
       "22614  SA026       2    Frissell    RP2   RP210  2018  2018-07-19    3.0   \n",
       "22615  SA026       2    Frissell    RP2   RP210  2018  2018-07-24    4.0   \n",
       "22616  SA026       2    Frissell    RP2   RP210  2018  2018-07-24    4.0   \n",
       "22617  SA026       2    Frissell    RP2   RP210  2018  2018-07-24    4.0   \n",
       "22618  SA026       2    Frissell    RP2   RP210  2018  2018-08-02    5.0   \n",
       "\n",
       "      OBSERVER  PLOT  ...                                           QC_NOTES  \\\n",
       "0          NaN     1  ...                                                NaN   \n",
       "1          NaN     1  ...                                                NaN   \n",
       "2          NaN     1  ...                                                NaN   \n",
       "3          NaN     1  ...                                                NaN   \n",
       "4          NaN     1  ...                                                NaN   \n",
       "...        ...   ...  ...                                                ...   \n",
       "22614      GRJ    10  ...  NA change on flw_status: to be FLW because bot...   \n",
       "22615      GRJ    10  ...  NA change on flw_status: to be FLW because bot...   \n",
       "22616      GRJ    10  ...  NA change on flw_status: to be FLW because bot...   \n",
       "22617      GRJ    10  ...  NA change on flw_status: to be FLW because bot...   \n",
       "22618      RCT    10  ...  NA change on flw_status: to be FLW because bot...   \n",
       "\n",
       "            Date   DATETIME       MY month    year  temp_f  FLW_STATUS  \\\n",
       "0     2011-07-24 2011-07-24  2011-07   7.0  2011.0     NaN         NaN   \n",
       "1     2011-07-24 2011-07-24  2011-07   7.0  2011.0     NaN         NaN   \n",
       "2     2011-07-24 2011-07-24  2011-07   7.0  2011.0     NaN         NaN   \n",
       "3     2011-07-24 2011-07-24  2011-07   7.0  2011.0     NaN         NaN   \n",
       "4     2011-07-24 2011-07-24  2011-07   7.0  2011.0     NaN         NaN   \n",
       "...          ...        ...      ...   ...     ...     ...         ...   \n",
       "22614        NaT        NaT      NaT   NaN     NaN     NaN         FLW   \n",
       "22615        NaT        NaT      NaT   NaN     NaN     NaN         FLW   \n",
       "22616        NaT        NaT      NaT   NaN     NaN     NaN         FLW   \n",
       "22617        NaT        NaT      NaT   NaN     NaN     NaN         FLW   \n",
       "22618        NaT        NaT      NaT   NaN     NaN     NaN         FLW   \n",
       "\n",
       "      NO_STALK NO_FLWS  \n",
       "0          NaN     NaN  \n",
       "1          NaN     NaN  \n",
       "2          NaN     NaN  \n",
       "3          NaN     NaN  \n",
       "4          NaN     NaN  \n",
       "...        ...     ...  \n",
       "22614      3.0     9.6  \n",
       "22615      1.0     5.0  \n",
       "22616      4.0     4.0  \n",
       "22617      2.0     1.5  \n",
       "22618      6.0     1.6  \n",
       "\n",
       "[96750 rows x 35 columns]"
      ]
     },
     "execution_count": 45,
     "metadata": {},
     "output_type": "execute_result"
    }
   ],
   "source": [
    "pd.concat([plant_pollinator_1,plant_pollinator_2],axis=0)"
   ]
  },
  {
   "cell_type": "code",
   "execution_count": null,
   "metadata": {},
   "outputs": [],
   "source": []
  },
  {
   "cell_type": "code",
   "execution_count": null,
   "metadata": {},
   "outputs": [],
   "source": []
  },
  {
   "cell_type": "code",
   "execution_count": 12,
   "metadata": {},
   "outputs": [],
   "source": [
    "df['Date'] = pd.to_datetime(df['SAMPLEDATE'], format='%Y-%m-%d')"
   ]
  },
  {
   "cell_type": "code",
   "execution_count": 13,
   "metadata": {},
   "outputs": [
    {
     "data": {
      "text/plain": [
       "Bombus mixtus                       21\n",
       "Chrysotoxum fasciatum               17\n",
       "Eristalis hirtus                    14\n",
       "Bombylius major                     14\n",
       "Platycheirus stegnus                14\n",
       "Muscoid genus 2                     11\n",
       "Bombus bifarius                      7\n",
       "Muscoid genus 1                      7\n",
       "Apis mellifera                       6\n",
       "Conophorus sp 3                      6\n",
       "Muscoid genus 3                      5\n",
       "Euphilotes enoptes                   5\n",
       "Bombus melanopygus                   4\n",
       "Eschatocrepis constrictus            4\n",
       "Poecilanthrax sp 1                   3\n",
       "Osmia sp 27                          3\n",
       "Eupeodes volucris                    2\n",
       "Anthrax sp X1                        2\n",
       "Osmia sp 6M                          2\n",
       "Syrphus ribesii                      2\n",
       "Toxomerus occidentalis               1\n",
       "Chrysidid sp 2                       1\n",
       "Epicauta puncticollis                1\n",
       "Calypte anna                         1\n",
       "Osmia sp 23                          1\n",
       "Bombus vosnesenskii                  1\n",
       "Geometrid sp L1                      1\n",
       "Hemaris diffinis                     1\n",
       "Dufourea versatilis rubriventris     1\n",
       "Dialictus sp 4                       1\n",
       "Syrphus opinator                     1\n",
       "Villa lateralis                      1\n",
       "Chrysotoxum derivatum                1\n",
       "Calliphorid genus 1                  1\n",
       "Sphecodes sp 7                       1\n",
       "Evylaeus sp 2                        1\n",
       "Dufourea calochorti                  1\n",
       "Bombus californicus                  1\n",
       "Tapinoma sessile                     1\n",
       "Frankliniella occidentalis           1\n",
       "Halictus rubicundus                  1\n",
       "Formica fusca                        1\n",
       "Name: VISSP_NAME, dtype: int64"
      ]
     },
     "execution_count": 13,
     "metadata": {},
     "output_type": "execute_result"
    }
   ],
   "source": [
    "df[(df['Date'].dt.month==7) & (df['PLOT']==4)&(df['Date'].dt.year==2011)]['VISSP_NAME'].value_counts()"
   ]
  },
  {
   "cell_type": "code",
   "execution_count": 64,
   "metadata": {},
   "outputs": [
    {
     "data": {
      "text/plain": [
       "M2     12139\n",
       "RP1     7610\n",
       "LM      5789\n",
       "LO      5379\n",
       "NE      5354\n",
       "LS      5267\n",
       "RP2     5175\n",
       "CPB     5152\n",
       "CPM     4946\n",
       "CPS     3987\n",
       "LB      3627\n",
       "CPR     2966\n",
       "CNM     1818\n",
       "BH      1534\n",
       "BD      1380\n",
       "CNT     1018\n",
       "BS       556\n",
       "CNE      434\n",
       "Name: MEADOW, dtype: int64"
      ]
     },
     "execution_count": 64,
     "metadata": {},
     "output_type": "execute_result"
    }
   ],
   "source": [
    "df['DATETIME'] = pd.to_datetime(df['SAMPLEDATE'])\n",
    "\n",
    "df['MY'] = df['DATETIME'].dt.to_period('M')\n",
    "# Create a month and year variable \n",
    "df['month'] = df['DATETIME'].dt.month\n",
    "df['year'] = df['DATETIME'].dt.year\n",
    "\n"
   ]
  },
  {
   "cell_type": "code",
   "execution_count": 78,
   "metadata": {},
   "outputs": [],
   "source": [
    "# create the result table by grouping by year, then month, then plot of land\n",
    "result = df[['year','month', 'COMPLEX', 'VISSP_NAME']].groupby(['year','month', 'COMPLEX']).count()\n",
    "result = result.reset_index()\n",
    "result.replace({'Bunchgrass':1,'Carpenter':2,'Cone':3,'Frissell':4,'Lookout':5},inplace=True)"
   ]
  },
  {
   "cell_type": "code",
   "execution_count": 79,
   "metadata": {},
   "outputs": [
    {
     "data": {
      "application/vnd.plotly.v1+json": {
       "config": {
        "plotlyServerURL": "https://plot.ly"
       },
       "data": [
        {
         "alignmentgroup": "True",
         "hovertemplate": "month=6<br>year=2012<br>COMPLEX=%{marker.color}<br>VISSP_NAME=%{y}<extra></extra>",
         "legendgroup": "",
         "marker": {
          "color": [
           1
          ],
          "coloraxis": "coloraxis"
         },
         "name": "",
         "offsetgroup": "",
         "orientation": "v",
         "showlegend": false,
         "textposition": "auto",
         "type": "bar",
         "x": [
          1
         ],
         "xaxis": "x26",
         "y": [
          116
         ],
         "yaxis": "y26"
        },
        {
         "alignmentgroup": "True",
         "hovertemplate": "month=6<br>year=2013<br>COMPLEX=%{marker.color}<br>VISSP_NAME=%{y}<extra></extra>",
         "legendgroup": "",
         "marker": {
          "color": [
           2
          ],
          "coloraxis": "coloraxis"
         },
         "name": "",
         "offsetgroup": "",
         "orientation": "v",
         "showlegend": false,
         "textposition": "auto",
         "type": "bar",
         "x": [
          2
         ],
         "xaxis": "x27",
         "y": [
          30
         ],
         "yaxis": "y27"
        },
        {
         "alignmentgroup": "True",
         "hovertemplate": "month=6<br>year=2014<br>COMPLEX=%{marker.color}<br>VISSP_NAME=%{y}<extra></extra>",
         "legendgroup": "",
         "marker": {
          "color": [
           5
          ],
          "coloraxis": "coloraxis"
         },
         "name": "",
         "offsetgroup": "",
         "orientation": "v",
         "showlegend": false,
         "textposition": "auto",
         "type": "bar",
         "x": [
          5
         ],
         "xaxis": "x28",
         "y": [
          169
         ],
         "yaxis": "y28"
        },
        {
         "alignmentgroup": "True",
         "hovertemplate": "month=6<br>year=2015<br>COMPLEX=%{marker.color}<br>VISSP_NAME=%{y}<extra></extra>",
         "legendgroup": "",
         "marker": {
          "color": [
           2,
           4,
           5
          ],
          "coloraxis": "coloraxis"
         },
         "name": "",
         "offsetgroup": "",
         "orientation": "v",
         "showlegend": false,
         "textposition": "auto",
         "type": "bar",
         "x": [
          2,
          4,
          5
         ],
         "xaxis": "x29",
         "y": [
          225,
          1025,
          268
         ],
         "yaxis": "y29"
        },
        {
         "alignmentgroup": "True",
         "hovertemplate": "month=6<br>year=2016<br>COMPLEX=%{marker.color}<br>VISSP_NAME=%{y}<extra></extra>",
         "legendgroup": "",
         "marker": {
          "color": [
           2,
           4,
           5
          ],
          "coloraxis": "coloraxis"
         },
         "name": "",
         "offsetgroup": "",
         "orientation": "v",
         "showlegend": false,
         "textposition": "auto",
         "type": "bar",
         "x": [
          2,
          4,
          5
         ],
         "xaxis": "x30",
         "y": [
          357,
          501,
          675
         ],
         "yaxis": "y30"
        },
        {
         "alignmentgroup": "True",
         "hovertemplate": "month=6<br>year=2017<br>COMPLEX=%{marker.color}<br>VISSP_NAME=%{y}<extra></extra>",
         "legendgroup": "",
         "marker": {
          "color": [
           2,
           4,
           5
          ],
          "coloraxis": "coloraxis"
         },
         "name": "",
         "offsetgroup": "",
         "orientation": "v",
         "showlegend": false,
         "textposition": "auto",
         "type": "bar",
         "x": [
          2,
          4,
          5
         ],
         "xaxis": "x31",
         "y": [
          178,
          955,
          170
         ],
         "yaxis": "y31"
        },
        {
         "alignmentgroup": "True",
         "hovertemplate": "month=6<br>year=2018<br>COMPLEX=%{marker.color}<br>VISSP_NAME=%{y}<extra></extra>",
         "legendgroup": "",
         "marker": {
          "color": [
           2,
           4,
           5
          ],
          "coloraxis": "coloraxis"
         },
         "name": "",
         "offsetgroup": "",
         "orientation": "v",
         "showlegend": false,
         "textposition": "auto",
         "type": "bar",
         "x": [
          2,
          4,
          5
         ],
         "xaxis": "x32",
         "y": [
          943,
          1840,
          253
         ],
         "yaxis": "y32"
        },
        {
         "alignmentgroup": "True",
         "hovertemplate": "month=7<br>year=2011<br>COMPLEX=%{marker.color}<br>VISSP_NAME=%{y}<extra></extra>",
         "legendgroup": "",
         "marker": {
          "color": [
           1,
           2,
           3,
           4,
           5
          ],
          "coloraxis": "coloraxis"
         },
         "name": "",
         "offsetgroup": "",
         "orientation": "v",
         "showlegend": false,
         "textposition": "auto",
         "type": "bar",
         "x": [
          1,
          2,
          3,
          4,
          5
         ],
         "xaxis": "x17",
         "y": [
          678,
          344,
          799,
          1264,
          585
         ],
         "yaxis": "y17"
        },
        {
         "alignmentgroup": "True",
         "hovertemplate": "month=7<br>year=2012<br>COMPLEX=%{marker.color}<br>VISSP_NAME=%{y}<extra></extra>",
         "legendgroup": "",
         "marker": {
          "color": [
           1,
           2,
           3,
           4,
           5
          ],
          "coloraxis": "coloraxis"
         },
         "name": "",
         "offsetgroup": "",
         "orientation": "v",
         "showlegend": false,
         "textposition": "auto",
         "type": "bar",
         "x": [
          1,
          2,
          3,
          4,
          5
         ],
         "xaxis": "x18",
         "y": [
          772,
          851,
          700,
          1331,
          924
         ],
         "yaxis": "y18"
        },
        {
         "alignmentgroup": "True",
         "hovertemplate": "month=7<br>year=2013<br>COMPLEX=%{marker.color}<br>VISSP_NAME=%{y}<extra></extra>",
         "legendgroup": "",
         "marker": {
          "color": [
           2,
           4,
           5
          ],
          "coloraxis": "coloraxis"
         },
         "name": "",
         "offsetgroup": "",
         "orientation": "v",
         "showlegend": false,
         "textposition": "auto",
         "type": "bar",
         "x": [
          2,
          4,
          5
         ],
         "xaxis": "x19",
         "y": [
          1153,
          2091,
          2306
         ],
         "yaxis": "y19"
        },
        {
         "alignmentgroup": "True",
         "hovertemplate": "month=7<br>year=2014<br>COMPLEX=%{marker.color}<br>VISSP_NAME=%{y}<extra></extra>",
         "legendgroup": "",
         "marker": {
          "color": [
           2,
           4,
           5
          ],
          "coloraxis": "coloraxis"
         },
         "name": "",
         "offsetgroup": "",
         "orientation": "v",
         "showlegend": false,
         "textposition": "auto",
         "type": "bar",
         "x": [
          2,
          4,
          5
         ],
         "xaxis": "x20",
         "y": [
          813,
          1991,
          1317
         ],
         "yaxis": "y20"
        },
        {
         "alignmentgroup": "True",
         "hovertemplate": "month=7<br>year=2015<br>COMPLEX=%{marker.color}<br>VISSP_NAME=%{y}<extra></extra>",
         "legendgroup": "",
         "marker": {
          "color": [
           2,
           4,
           5
          ],
          "coloraxis": "coloraxis"
         },
         "name": "",
         "offsetgroup": "",
         "orientation": "v",
         "showlegend": false,
         "textposition": "auto",
         "type": "bar",
         "x": [
          2,
          4,
          5
         ],
         "xaxis": "x21",
         "y": [
          425,
          421,
          548
         ],
         "yaxis": "y21"
        },
        {
         "alignmentgroup": "True",
         "hovertemplate": "month=7<br>year=2016<br>COMPLEX=%{marker.color}<br>VISSP_NAME=%{y}<extra></extra>",
         "legendgroup": "",
         "marker": {
          "color": [
           2,
           4,
           5
          ],
          "coloraxis": "coloraxis"
         },
         "name": "",
         "offsetgroup": "",
         "orientation": "v",
         "showlegend": false,
         "textposition": "auto",
         "type": "bar",
         "x": [
          2,
          4,
          5
         ],
         "xaxis": "x22",
         "y": [
          448,
          2657,
          1128
         ],
         "yaxis": "y22"
        },
        {
         "alignmentgroup": "True",
         "hovertemplate": "month=7<br>year=2017<br>COMPLEX=%{marker.color}<br>VISSP_NAME=%{y}<extra></extra>",
         "legendgroup": "",
         "marker": {
          "color": [
           2,
           4,
           5
          ],
          "coloraxis": "coloraxis"
         },
         "name": "",
         "offsetgroup": "",
         "orientation": "v",
         "showlegend": false,
         "textposition": "auto",
         "type": "bar",
         "x": [
          2,
          4,
          5
         ],
         "xaxis": "x23",
         "y": [
          1443,
          4204,
          1915
         ],
         "yaxis": "y23"
        },
        {
         "alignmentgroup": "True",
         "hovertemplate": "month=7<br>year=2018<br>COMPLEX=%{marker.color}<br>VISSP_NAME=%{y}<extra></extra>",
         "legendgroup": "",
         "marker": {
          "color": [
           2,
           4,
           5
          ],
          "coloraxis": "coloraxis"
         },
         "name": "",
         "offsetgroup": "",
         "orientation": "v",
         "showlegend": false,
         "textposition": "auto",
         "type": "bar",
         "x": [
          2,
          4,
          5
         ],
         "xaxis": "x24",
         "y": [
          1585,
          4750,
          2226
         ],
         "yaxis": "y24"
        },
        {
         "alignmentgroup": "True",
         "hovertemplate": "month=8<br>year=2011<br>COMPLEX=%{marker.color}<br>VISSP_NAME=%{y}<extra></extra>",
         "legendgroup": "",
         "marker": {
          "color": [
           1,
           2,
           3,
           4,
           5
          ],
          "coloraxis": "coloraxis"
         },
         "name": "",
         "offsetgroup": "",
         "orientation": "v",
         "showlegend": false,
         "textposition": "auto",
         "type": "bar",
         "x": [
          1,
          2,
          3,
          4,
          5
         ],
         "xaxis": "x9",
         "y": [
          587,
          1932,
          1336,
          1606,
          931
         ],
         "yaxis": "y9"
        },
        {
         "alignmentgroup": "True",
         "hovertemplate": "month=8<br>year=2012<br>COMPLEX=%{marker.color}<br>VISSP_NAME=%{y}<extra></extra>",
         "legendgroup": "",
         "marker": {
          "color": [
           1,
           2,
           3,
           4,
           5
          ],
          "coloraxis": "coloraxis"
         },
         "name": "",
         "offsetgroup": "",
         "orientation": "v",
         "showlegend": false,
         "textposition": "auto",
         "type": "bar",
         "x": [
          1,
          2,
          3,
          4,
          5
         ],
         "xaxis": "x10",
         "y": [
          1314,
          518,
          387,
          982,
          290
         ],
         "yaxis": "y10"
        },
        {
         "alignmentgroup": "True",
         "hovertemplate": "month=8<br>year=2013<br>COMPLEX=%{marker.color}<br>VISSP_NAME=%{y}<extra></extra>",
         "legendgroup": "",
         "marker": {
          "color": [
           2,
           4,
           5
          ],
          "coloraxis": "coloraxis"
         },
         "name": "",
         "offsetgroup": "",
         "orientation": "v",
         "showlegend": false,
         "textposition": "auto",
         "type": "bar",
         "x": [
          2,
          4,
          5
         ],
         "xaxis": "x11",
         "y": [
          265,
          341,
          379
         ],
         "yaxis": "y11"
        },
        {
         "alignmentgroup": "True",
         "hovertemplate": "month=8<br>year=2014<br>COMPLEX=%{marker.color}<br>VISSP_NAME=%{y}<extra></extra>",
         "legendgroup": "",
         "marker": {
          "color": [
           2,
           4,
           5
          ],
          "coloraxis": "coloraxis"
         },
         "name": "",
         "offsetgroup": "",
         "orientation": "v",
         "showlegend": false,
         "textposition": "auto",
         "type": "bar",
         "x": [
          2,
          4,
          5
         ],
         "xaxis": "x12",
         "y": [
          58,
          175,
          150
         ],
         "yaxis": "y12"
        },
        {
         "alignmentgroup": "True",
         "hovertemplate": "month=8<br>year=2016<br>COMPLEX=%{marker.color}<br>VISSP_NAME=%{y}<extra></extra>",
         "legendgroup": "",
         "marker": {
          "color": [
           2
          ],
          "coloraxis": "coloraxis"
         },
         "name": "",
         "offsetgroup": "",
         "orientation": "v",
         "showlegend": false,
         "textposition": "auto",
         "type": "bar",
         "x": [
          2
         ],
         "xaxis": "x14",
         "y": [
          169
         ],
         "yaxis": "y14"
        },
        {
         "alignmentgroup": "True",
         "hovertemplate": "month=8<br>year=2017<br>COMPLEX=%{marker.color}<br>VISSP_NAME=%{y}<extra></extra>",
         "legendgroup": "",
         "marker": {
          "color": [
           2,
           5
          ],
          "coloraxis": "coloraxis"
         },
         "name": "",
         "offsetgroup": "",
         "orientation": "v",
         "showlegend": false,
         "textposition": "auto",
         "type": "bar",
         "x": [
          2,
          5
         ],
         "xaxis": "x15",
         "y": [
          70,
          572
         ],
         "yaxis": "y15"
        },
        {
         "alignmentgroup": "True",
         "hovertemplate": "month=8<br>year=2018<br>COMPLEX=%{marker.color}<br>VISSP_NAME=%{y}<extra></extra>",
         "legendgroup": "",
         "marker": {
          "color": [
           2,
           4,
           5
          ],
          "coloraxis": "coloraxis"
         },
         "name": "",
         "offsetgroup": "",
         "orientation": "v",
         "showlegend": false,
         "textposition": "auto",
         "type": "bar",
         "x": [
          2,
          4,
          5
         ],
         "xaxis": "x16",
         "y": [
          141,
          129,
          352
         ],
         "yaxis": "y16"
        },
        {
         "alignmentgroup": "True",
         "hovertemplate": "month=9<br>year=2011<br>COMPLEX=%{marker.color}<br>VISSP_NAME=%{y}<extra></extra>",
         "legendgroup": "",
         "marker": {
          "color": [
           1,
           2,
           3,
           4,
           5
          ],
          "coloraxis": "coloraxis"
         },
         "name": "",
         "offsetgroup": "",
         "orientation": "v",
         "showlegend": false,
         "textposition": "auto",
         "type": "bar",
         "x": [
          1,
          2,
          3,
          4,
          5
         ],
         "xaxis": "x",
         "y": [
          3,
          92,
          48,
          28,
          42
         ],
         "yaxis": "y"
        }
       ],
       "layout": {
        "annotations": [
         {
          "font": {},
          "showarrow": false,
          "text": "year=2011",
          "x": 0.0525,
          "xanchor": "center",
          "xref": "paper",
          "y": 1,
          "yanchor": "bottom",
          "yref": "paper"
         },
         {
          "font": {},
          "showarrow": false,
          "text": "year=2012",
          "x": 0.1775,
          "xanchor": "center",
          "xref": "paper",
          "y": 1,
          "yanchor": "bottom",
          "yref": "paper"
         },
         {
          "font": {},
          "showarrow": false,
          "text": "year=2013",
          "x": 0.3025,
          "xanchor": "center",
          "xref": "paper",
          "y": 1,
          "yanchor": "bottom",
          "yref": "paper"
         },
         {
          "font": {},
          "showarrow": false,
          "text": "year=2014",
          "x": 0.4275,
          "xanchor": "center",
          "xref": "paper",
          "y": 1,
          "yanchor": "bottom",
          "yref": "paper"
         },
         {
          "font": {},
          "showarrow": false,
          "text": "year=2015",
          "x": 0.5525,
          "xanchor": "center",
          "xref": "paper",
          "y": 1,
          "yanchor": "bottom",
          "yref": "paper"
         },
         {
          "font": {},
          "showarrow": false,
          "text": "year=2016",
          "x": 0.6775,
          "xanchor": "center",
          "xref": "paper",
          "y": 1,
          "yanchor": "bottom",
          "yref": "paper"
         },
         {
          "font": {},
          "showarrow": false,
          "text": "year=2017",
          "x": 0.8025,
          "xanchor": "center",
          "xref": "paper",
          "y": 1,
          "yanchor": "bottom",
          "yref": "paper"
         },
         {
          "font": {},
          "showarrow": false,
          "text": "year=2018",
          "x": 0.9275,
          "xanchor": "center",
          "xref": "paper",
          "y": 1,
          "yanchor": "bottom",
          "yref": "paper"
         },
         {
          "font": {},
          "showarrow": false,
          "text": "month=9",
          "textangle": 90,
          "x": 0.98,
          "xanchor": "left",
          "xref": "paper",
          "y": 0.11375,
          "yanchor": "middle",
          "yref": "paper"
         },
         {
          "font": {},
          "showarrow": false,
          "text": "month=8",
          "textangle": 90,
          "x": 0.98,
          "xanchor": "left",
          "xref": "paper",
          "y": 0.37124999999999997,
          "yanchor": "middle",
          "yref": "paper"
         },
         {
          "font": {},
          "showarrow": false,
          "text": "month=7",
          "textangle": 90,
          "x": 0.98,
          "xanchor": "left",
          "xref": "paper",
          "y": 0.62875,
          "yanchor": "middle",
          "yref": "paper"
         },
         {
          "font": {},
          "showarrow": false,
          "text": "month=6",
          "textangle": 90,
          "x": 0.98,
          "xanchor": "left",
          "xref": "paper",
          "y": 0.88625,
          "yanchor": "middle",
          "yref": "paper"
         }
        ],
        "barmode": "group",
        "coloraxis": {
         "colorbar": {
          "title": {
           "text": "COMPLEX"
          }
         },
         "colorscale": [
          [
           0,
           "#0d0887"
          ],
          [
           0.1111111111111111,
           "#46039f"
          ],
          [
           0.2222222222222222,
           "#7201a8"
          ],
          [
           0.3333333333333333,
           "#9c179e"
          ],
          [
           0.4444444444444444,
           "#bd3786"
          ],
          [
           0.5555555555555556,
           "#d8576b"
          ],
          [
           0.6666666666666666,
           "#ed7953"
          ],
          [
           0.7777777777777778,
           "#fb9f3a"
          ],
          [
           0.8888888888888888,
           "#fdca26"
          ],
          [
           1,
           "#f0f921"
          ]
         ]
        },
        "legend": {
         "tracegroupgap": 0
        },
        "margin": {
         "t": 60
        },
        "template": {
         "data": {
          "bar": [
           {
            "error_x": {
             "color": "#2a3f5f"
            },
            "error_y": {
             "color": "#2a3f5f"
            },
            "marker": {
             "line": {
              "color": "#E5ECF6",
              "width": 0.5
             }
            },
            "type": "bar"
           }
          ],
          "barpolar": [
           {
            "marker": {
             "line": {
              "color": "#E5ECF6",
              "width": 0.5
             }
            },
            "type": "barpolar"
           }
          ],
          "carpet": [
           {
            "aaxis": {
             "endlinecolor": "#2a3f5f",
             "gridcolor": "white",
             "linecolor": "white",
             "minorgridcolor": "white",
             "startlinecolor": "#2a3f5f"
            },
            "baxis": {
             "endlinecolor": "#2a3f5f",
             "gridcolor": "white",
             "linecolor": "white",
             "minorgridcolor": "white",
             "startlinecolor": "#2a3f5f"
            },
            "type": "carpet"
           }
          ],
          "choropleth": [
           {
            "colorbar": {
             "outlinewidth": 0,
             "ticks": ""
            },
            "type": "choropleth"
           }
          ],
          "contour": [
           {
            "colorbar": {
             "outlinewidth": 0,
             "ticks": ""
            },
            "colorscale": [
             [
              0,
              "#0d0887"
             ],
             [
              0.1111111111111111,
              "#46039f"
             ],
             [
              0.2222222222222222,
              "#7201a8"
             ],
             [
              0.3333333333333333,
              "#9c179e"
             ],
             [
              0.4444444444444444,
              "#bd3786"
             ],
             [
              0.5555555555555556,
              "#d8576b"
             ],
             [
              0.6666666666666666,
              "#ed7953"
             ],
             [
              0.7777777777777778,
              "#fb9f3a"
             ],
             [
              0.8888888888888888,
              "#fdca26"
             ],
             [
              1,
              "#f0f921"
             ]
            ],
            "type": "contour"
           }
          ],
          "contourcarpet": [
           {
            "colorbar": {
             "outlinewidth": 0,
             "ticks": ""
            },
            "type": "contourcarpet"
           }
          ],
          "heatmap": [
           {
            "colorbar": {
             "outlinewidth": 0,
             "ticks": ""
            },
            "colorscale": [
             [
              0,
              "#0d0887"
             ],
             [
              0.1111111111111111,
              "#46039f"
             ],
             [
              0.2222222222222222,
              "#7201a8"
             ],
             [
              0.3333333333333333,
              "#9c179e"
             ],
             [
              0.4444444444444444,
              "#bd3786"
             ],
             [
              0.5555555555555556,
              "#d8576b"
             ],
             [
              0.6666666666666666,
              "#ed7953"
             ],
             [
              0.7777777777777778,
              "#fb9f3a"
             ],
             [
              0.8888888888888888,
              "#fdca26"
             ],
             [
              1,
              "#f0f921"
             ]
            ],
            "type": "heatmap"
           }
          ],
          "heatmapgl": [
           {
            "colorbar": {
             "outlinewidth": 0,
             "ticks": ""
            },
            "colorscale": [
             [
              0,
              "#0d0887"
             ],
             [
              0.1111111111111111,
              "#46039f"
             ],
             [
              0.2222222222222222,
              "#7201a8"
             ],
             [
              0.3333333333333333,
              "#9c179e"
             ],
             [
              0.4444444444444444,
              "#bd3786"
             ],
             [
              0.5555555555555556,
              "#d8576b"
             ],
             [
              0.6666666666666666,
              "#ed7953"
             ],
             [
              0.7777777777777778,
              "#fb9f3a"
             ],
             [
              0.8888888888888888,
              "#fdca26"
             ],
             [
              1,
              "#f0f921"
             ]
            ],
            "type": "heatmapgl"
           }
          ],
          "histogram": [
           {
            "marker": {
             "colorbar": {
              "outlinewidth": 0,
              "ticks": ""
             }
            },
            "type": "histogram"
           }
          ],
          "histogram2d": [
           {
            "colorbar": {
             "outlinewidth": 0,
             "ticks": ""
            },
            "colorscale": [
             [
              0,
              "#0d0887"
             ],
             [
              0.1111111111111111,
              "#46039f"
             ],
             [
              0.2222222222222222,
              "#7201a8"
             ],
             [
              0.3333333333333333,
              "#9c179e"
             ],
             [
              0.4444444444444444,
              "#bd3786"
             ],
             [
              0.5555555555555556,
              "#d8576b"
             ],
             [
              0.6666666666666666,
              "#ed7953"
             ],
             [
              0.7777777777777778,
              "#fb9f3a"
             ],
             [
              0.8888888888888888,
              "#fdca26"
             ],
             [
              1,
              "#f0f921"
             ]
            ],
            "type": "histogram2d"
           }
          ],
          "histogram2dcontour": [
           {
            "colorbar": {
             "outlinewidth": 0,
             "ticks": ""
            },
            "colorscale": [
             [
              0,
              "#0d0887"
             ],
             [
              0.1111111111111111,
              "#46039f"
             ],
             [
              0.2222222222222222,
              "#7201a8"
             ],
             [
              0.3333333333333333,
              "#9c179e"
             ],
             [
              0.4444444444444444,
              "#bd3786"
             ],
             [
              0.5555555555555556,
              "#d8576b"
             ],
             [
              0.6666666666666666,
              "#ed7953"
             ],
             [
              0.7777777777777778,
              "#fb9f3a"
             ],
             [
              0.8888888888888888,
              "#fdca26"
             ],
             [
              1,
              "#f0f921"
             ]
            ],
            "type": "histogram2dcontour"
           }
          ],
          "mesh3d": [
           {
            "colorbar": {
             "outlinewidth": 0,
             "ticks": ""
            },
            "type": "mesh3d"
           }
          ],
          "parcoords": [
           {
            "line": {
             "colorbar": {
              "outlinewidth": 0,
              "ticks": ""
             }
            },
            "type": "parcoords"
           }
          ],
          "pie": [
           {
            "automargin": true,
            "type": "pie"
           }
          ],
          "scatter": [
           {
            "marker": {
             "colorbar": {
              "outlinewidth": 0,
              "ticks": ""
             }
            },
            "type": "scatter"
           }
          ],
          "scatter3d": [
           {
            "line": {
             "colorbar": {
              "outlinewidth": 0,
              "ticks": ""
             }
            },
            "marker": {
             "colorbar": {
              "outlinewidth": 0,
              "ticks": ""
             }
            },
            "type": "scatter3d"
           }
          ],
          "scattercarpet": [
           {
            "marker": {
             "colorbar": {
              "outlinewidth": 0,
              "ticks": ""
             }
            },
            "type": "scattercarpet"
           }
          ],
          "scattergeo": [
           {
            "marker": {
             "colorbar": {
              "outlinewidth": 0,
              "ticks": ""
             }
            },
            "type": "scattergeo"
           }
          ],
          "scattergl": [
           {
            "marker": {
             "colorbar": {
              "outlinewidth": 0,
              "ticks": ""
             }
            },
            "type": "scattergl"
           }
          ],
          "scattermapbox": [
           {
            "marker": {
             "colorbar": {
              "outlinewidth": 0,
              "ticks": ""
             }
            },
            "type": "scattermapbox"
           }
          ],
          "scatterpolar": [
           {
            "marker": {
             "colorbar": {
              "outlinewidth": 0,
              "ticks": ""
             }
            },
            "type": "scatterpolar"
           }
          ],
          "scatterpolargl": [
           {
            "marker": {
             "colorbar": {
              "outlinewidth": 0,
              "ticks": ""
             }
            },
            "type": "scatterpolargl"
           }
          ],
          "scatterternary": [
           {
            "marker": {
             "colorbar": {
              "outlinewidth": 0,
              "ticks": ""
             }
            },
            "type": "scatterternary"
           }
          ],
          "surface": [
           {
            "colorbar": {
             "outlinewidth": 0,
             "ticks": ""
            },
            "colorscale": [
             [
              0,
              "#0d0887"
             ],
             [
              0.1111111111111111,
              "#46039f"
             ],
             [
              0.2222222222222222,
              "#7201a8"
             ],
             [
              0.3333333333333333,
              "#9c179e"
             ],
             [
              0.4444444444444444,
              "#bd3786"
             ],
             [
              0.5555555555555556,
              "#d8576b"
             ],
             [
              0.6666666666666666,
              "#ed7953"
             ],
             [
              0.7777777777777778,
              "#fb9f3a"
             ],
             [
              0.8888888888888888,
              "#fdca26"
             ],
             [
              1,
              "#f0f921"
             ]
            ],
            "type": "surface"
           }
          ],
          "table": [
           {
            "cells": {
             "fill": {
              "color": "#EBF0F8"
             },
             "line": {
              "color": "white"
             }
            },
            "header": {
             "fill": {
              "color": "#C8D4E3"
             },
             "line": {
              "color": "white"
             }
            },
            "type": "table"
           }
          ]
         },
         "layout": {
          "annotationdefaults": {
           "arrowcolor": "#2a3f5f",
           "arrowhead": 0,
           "arrowwidth": 1
          },
          "autotypenumbers": "strict",
          "coloraxis": {
           "colorbar": {
            "outlinewidth": 0,
            "ticks": ""
           }
          },
          "colorscale": {
           "diverging": [
            [
             0,
             "#8e0152"
            ],
            [
             0.1,
             "#c51b7d"
            ],
            [
             0.2,
             "#de77ae"
            ],
            [
             0.3,
             "#f1b6da"
            ],
            [
             0.4,
             "#fde0ef"
            ],
            [
             0.5,
             "#f7f7f7"
            ],
            [
             0.6,
             "#e6f5d0"
            ],
            [
             0.7,
             "#b8e186"
            ],
            [
             0.8,
             "#7fbc41"
            ],
            [
             0.9,
             "#4d9221"
            ],
            [
             1,
             "#276419"
            ]
           ],
           "sequential": [
            [
             0,
             "#0d0887"
            ],
            [
             0.1111111111111111,
             "#46039f"
            ],
            [
             0.2222222222222222,
             "#7201a8"
            ],
            [
             0.3333333333333333,
             "#9c179e"
            ],
            [
             0.4444444444444444,
             "#bd3786"
            ],
            [
             0.5555555555555556,
             "#d8576b"
            ],
            [
             0.6666666666666666,
             "#ed7953"
            ],
            [
             0.7777777777777778,
             "#fb9f3a"
            ],
            [
             0.8888888888888888,
             "#fdca26"
            ],
            [
             1,
             "#f0f921"
            ]
           ],
           "sequentialminus": [
            [
             0,
             "#0d0887"
            ],
            [
             0.1111111111111111,
             "#46039f"
            ],
            [
             0.2222222222222222,
             "#7201a8"
            ],
            [
             0.3333333333333333,
             "#9c179e"
            ],
            [
             0.4444444444444444,
             "#bd3786"
            ],
            [
             0.5555555555555556,
             "#d8576b"
            ],
            [
             0.6666666666666666,
             "#ed7953"
            ],
            [
             0.7777777777777778,
             "#fb9f3a"
            ],
            [
             0.8888888888888888,
             "#fdca26"
            ],
            [
             1,
             "#f0f921"
            ]
           ]
          },
          "colorway": [
           "#636efa",
           "#EF553B",
           "#00cc96",
           "#ab63fa",
           "#FFA15A",
           "#19d3f3",
           "#FF6692",
           "#B6E880",
           "#FF97FF",
           "#FECB52"
          ],
          "font": {
           "color": "#2a3f5f"
          },
          "geo": {
           "bgcolor": "white",
           "lakecolor": "white",
           "landcolor": "#E5ECF6",
           "showlakes": true,
           "showland": true,
           "subunitcolor": "white"
          },
          "hoverlabel": {
           "align": "left"
          },
          "hovermode": "closest",
          "mapbox": {
           "style": "light"
          },
          "paper_bgcolor": "white",
          "plot_bgcolor": "#E5ECF6",
          "polar": {
           "angularaxis": {
            "gridcolor": "white",
            "linecolor": "white",
            "ticks": ""
           },
           "bgcolor": "#E5ECF6",
           "radialaxis": {
            "gridcolor": "white",
            "linecolor": "white",
            "ticks": ""
           }
          },
          "scene": {
           "xaxis": {
            "backgroundcolor": "#E5ECF6",
            "gridcolor": "white",
            "gridwidth": 2,
            "linecolor": "white",
            "showbackground": true,
            "ticks": "",
            "zerolinecolor": "white"
           },
           "yaxis": {
            "backgroundcolor": "#E5ECF6",
            "gridcolor": "white",
            "gridwidth": 2,
            "linecolor": "white",
            "showbackground": true,
            "ticks": "",
            "zerolinecolor": "white"
           },
           "zaxis": {
            "backgroundcolor": "#E5ECF6",
            "gridcolor": "white",
            "gridwidth": 2,
            "linecolor": "white",
            "showbackground": true,
            "ticks": "",
            "zerolinecolor": "white"
           }
          },
          "shapedefaults": {
           "line": {
            "color": "#2a3f5f"
           }
          },
          "ternary": {
           "aaxis": {
            "gridcolor": "white",
            "linecolor": "white",
            "ticks": ""
           },
           "baxis": {
            "gridcolor": "white",
            "linecolor": "white",
            "ticks": ""
           },
           "bgcolor": "#E5ECF6",
           "caxis": {
            "gridcolor": "white",
            "linecolor": "white",
            "ticks": ""
           }
          },
          "title": {
           "x": 0.05
          },
          "xaxis": {
           "automargin": true,
           "gridcolor": "white",
           "linecolor": "white",
           "ticks": "",
           "title": {
            "standoff": 15
           },
           "zerolinecolor": "white",
           "zerolinewidth": 2
          },
          "yaxis": {
           "automargin": true,
           "gridcolor": "white",
           "linecolor": "white",
           "ticks": "",
           "title": {
            "standoff": 15
           },
           "zerolinecolor": "white",
           "zerolinewidth": 2
          }
         }
        },
        "xaxis": {
         "anchor": "y",
         "domain": [
          0,
          0.105
         ],
         "title": {
          "text": "COMPLEX"
         }
        },
        "xaxis10": {
         "anchor": "y10",
         "domain": [
          0.125,
          0.22999999999999998
         ],
         "matches": "x",
         "showticklabels": false
        },
        "xaxis11": {
         "anchor": "y11",
         "domain": [
          0.25,
          0.355
         ],
         "matches": "x",
         "showticklabels": false
        },
        "xaxis12": {
         "anchor": "y12",
         "domain": [
          0.375,
          0.48
         ],
         "matches": "x",
         "showticklabels": false
        },
        "xaxis13": {
         "anchor": "y13",
         "domain": [
          0.5,
          0.605
         ],
         "matches": "x",
         "showticklabels": false
        },
        "xaxis14": {
         "anchor": "y14",
         "domain": [
          0.625,
          0.73
         ],
         "matches": "x",
         "showticklabels": false
        },
        "xaxis15": {
         "anchor": "y15",
         "domain": [
          0.75,
          0.855
         ],
         "matches": "x",
         "showticklabels": false
        },
        "xaxis16": {
         "anchor": "y16",
         "domain": [
          0.875,
          0.98
         ],
         "matches": "x",
         "showticklabels": false
        },
        "xaxis17": {
         "anchor": "y17",
         "domain": [
          0,
          0.105
         ],
         "matches": "x",
         "showticklabels": false
        },
        "xaxis18": {
         "anchor": "y18",
         "domain": [
          0.125,
          0.22999999999999998
         ],
         "matches": "x",
         "showticklabels": false
        },
        "xaxis19": {
         "anchor": "y19",
         "domain": [
          0.25,
          0.355
         ],
         "matches": "x",
         "showticklabels": false
        },
        "xaxis2": {
         "anchor": "y2",
         "domain": [
          0.125,
          0.22999999999999998
         ],
         "matches": "x",
         "title": {
          "text": "COMPLEX"
         }
        },
        "xaxis20": {
         "anchor": "y20",
         "domain": [
          0.375,
          0.48
         ],
         "matches": "x",
         "showticklabels": false
        },
        "xaxis21": {
         "anchor": "y21",
         "domain": [
          0.5,
          0.605
         ],
         "matches": "x",
         "showticklabels": false
        },
        "xaxis22": {
         "anchor": "y22",
         "domain": [
          0.625,
          0.73
         ],
         "matches": "x",
         "showticklabels": false
        },
        "xaxis23": {
         "anchor": "y23",
         "domain": [
          0.75,
          0.855
         ],
         "matches": "x",
         "showticklabels": false
        },
        "xaxis24": {
         "anchor": "y24",
         "domain": [
          0.875,
          0.98
         ],
         "matches": "x",
         "showticklabels": false
        },
        "xaxis25": {
         "anchor": "y25",
         "domain": [
          0,
          0.105
         ],
         "matches": "x",
         "showticklabels": false
        },
        "xaxis26": {
         "anchor": "y26",
         "domain": [
          0.125,
          0.22999999999999998
         ],
         "matches": "x",
         "showticklabels": false
        },
        "xaxis27": {
         "anchor": "y27",
         "domain": [
          0.25,
          0.355
         ],
         "matches": "x",
         "showticklabels": false
        },
        "xaxis28": {
         "anchor": "y28",
         "domain": [
          0.375,
          0.48
         ],
         "matches": "x",
         "showticklabels": false
        },
        "xaxis29": {
         "anchor": "y29",
         "domain": [
          0.5,
          0.605
         ],
         "matches": "x",
         "showticklabels": false
        },
        "xaxis3": {
         "anchor": "y3",
         "domain": [
          0.25,
          0.355
         ],
         "matches": "x",
         "title": {
          "text": "COMPLEX"
         }
        },
        "xaxis30": {
         "anchor": "y30",
         "domain": [
          0.625,
          0.73
         ],
         "matches": "x",
         "showticklabels": false
        },
        "xaxis31": {
         "anchor": "y31",
         "domain": [
          0.75,
          0.855
         ],
         "matches": "x",
         "showticklabels": false
        },
        "xaxis32": {
         "anchor": "y32",
         "domain": [
          0.875,
          0.98
         ],
         "matches": "x",
         "showticklabels": false
        },
        "xaxis4": {
         "anchor": "y4",
         "domain": [
          0.375,
          0.48
         ],
         "matches": "x",
         "title": {
          "text": "COMPLEX"
         }
        },
        "xaxis5": {
         "anchor": "y5",
         "domain": [
          0.5,
          0.605
         ],
         "matches": "x",
         "title": {
          "text": "COMPLEX"
         }
        },
        "xaxis6": {
         "anchor": "y6",
         "domain": [
          0.625,
          0.73
         ],
         "matches": "x",
         "title": {
          "text": "COMPLEX"
         }
        },
        "xaxis7": {
         "anchor": "y7",
         "domain": [
          0.75,
          0.855
         ],
         "matches": "x",
         "title": {
          "text": "COMPLEX"
         }
        },
        "xaxis8": {
         "anchor": "y8",
         "domain": [
          0.875,
          0.98
         ],
         "matches": "x",
         "title": {
          "text": "COMPLEX"
         }
        },
        "xaxis9": {
         "anchor": "y9",
         "domain": [
          0,
          0.105
         ],
         "matches": "x",
         "showticklabels": false
        },
        "yaxis": {
         "anchor": "x",
         "domain": [
          0,
          0.2275
         ],
         "title": {
          "text": "VISSP_NAME"
         }
        },
        "yaxis10": {
         "anchor": "x10",
         "domain": [
          0.2575,
          0.485
         ],
         "matches": "y",
         "showticklabels": false
        },
        "yaxis11": {
         "anchor": "x11",
         "domain": [
          0.2575,
          0.485
         ],
         "matches": "y",
         "showticklabels": false
        },
        "yaxis12": {
         "anchor": "x12",
         "domain": [
          0.2575,
          0.485
         ],
         "matches": "y",
         "showticklabels": false
        },
        "yaxis13": {
         "anchor": "x13",
         "domain": [
          0.2575,
          0.485
         ],
         "matches": "y",
         "showticklabels": false
        },
        "yaxis14": {
         "anchor": "x14",
         "domain": [
          0.2575,
          0.485
         ],
         "matches": "y",
         "showticklabels": false
        },
        "yaxis15": {
         "anchor": "x15",
         "domain": [
          0.2575,
          0.485
         ],
         "matches": "y",
         "showticklabels": false
        },
        "yaxis16": {
         "anchor": "x16",
         "domain": [
          0.2575,
          0.485
         ],
         "matches": "y",
         "showticklabels": false
        },
        "yaxis17": {
         "anchor": "x17",
         "domain": [
          0.515,
          0.7425
         ],
         "matches": "y",
         "title": {
          "text": "VISSP_NAME"
         }
        },
        "yaxis18": {
         "anchor": "x18",
         "domain": [
          0.515,
          0.7425
         ],
         "matches": "y",
         "showticklabels": false
        },
        "yaxis19": {
         "anchor": "x19",
         "domain": [
          0.515,
          0.7425
         ],
         "matches": "y",
         "showticklabels": false
        },
        "yaxis2": {
         "anchor": "x2",
         "domain": [
          0,
          0.2275
         ],
         "matches": "y",
         "showticklabels": false
        },
        "yaxis20": {
         "anchor": "x20",
         "domain": [
          0.515,
          0.7425
         ],
         "matches": "y",
         "showticklabels": false
        },
        "yaxis21": {
         "anchor": "x21",
         "domain": [
          0.515,
          0.7425
         ],
         "matches": "y",
         "showticklabels": false
        },
        "yaxis22": {
         "anchor": "x22",
         "domain": [
          0.515,
          0.7425
         ],
         "matches": "y",
         "showticklabels": false
        },
        "yaxis23": {
         "anchor": "x23",
         "domain": [
          0.515,
          0.7425
         ],
         "matches": "y",
         "showticklabels": false
        },
        "yaxis24": {
         "anchor": "x24",
         "domain": [
          0.515,
          0.7425
         ],
         "matches": "y",
         "showticklabels": false
        },
        "yaxis25": {
         "anchor": "x25",
         "domain": [
          0.7725,
          1
         ],
         "matches": "y",
         "title": {
          "text": "VISSP_NAME"
         }
        },
        "yaxis26": {
         "anchor": "x26",
         "domain": [
          0.7725,
          1
         ],
         "matches": "y",
         "showticklabels": false
        },
        "yaxis27": {
         "anchor": "x27",
         "domain": [
          0.7725,
          1
         ],
         "matches": "y",
         "showticklabels": false
        },
        "yaxis28": {
         "anchor": "x28",
         "domain": [
          0.7725,
          1
         ],
         "matches": "y",
         "showticklabels": false
        },
        "yaxis29": {
         "anchor": "x29",
         "domain": [
          0.7725,
          1
         ],
         "matches": "y",
         "showticklabels": false
        },
        "yaxis3": {
         "anchor": "x3",
         "domain": [
          0,
          0.2275
         ],
         "matches": "y",
         "showticklabels": false
        },
        "yaxis30": {
         "anchor": "x30",
         "domain": [
          0.7725,
          1
         ],
         "matches": "y",
         "showticklabels": false
        },
        "yaxis31": {
         "anchor": "x31",
         "domain": [
          0.7725,
          1
         ],
         "matches": "y",
         "showticklabels": false
        },
        "yaxis32": {
         "anchor": "x32",
         "domain": [
          0.7725,
          1
         ],
         "matches": "y",
         "showticklabels": false
        },
        "yaxis4": {
         "anchor": "x4",
         "domain": [
          0,
          0.2275
         ],
         "matches": "y",
         "showticklabels": false
        },
        "yaxis5": {
         "anchor": "x5",
         "domain": [
          0,
          0.2275
         ],
         "matches": "y",
         "showticklabels": false
        },
        "yaxis6": {
         "anchor": "x6",
         "domain": [
          0,
          0.2275
         ],
         "matches": "y",
         "showticklabels": false
        },
        "yaxis7": {
         "anchor": "x7",
         "domain": [
          0,
          0.2275
         ],
         "matches": "y",
         "showticklabels": false
        },
        "yaxis8": {
         "anchor": "x8",
         "domain": [
          0,
          0.2275
         ],
         "matches": "y",
         "showticklabels": false
        },
        "yaxis9": {
         "anchor": "x9",
         "domain": [
          0.2575,
          0.485
         ],
         "matches": "y",
         "title": {
          "text": "VISSP_NAME"
         }
        }
       }
      },
      "text/html": [
       "<div>                            <div id=\"853ccc2d-011b-4291-8860-87404e81cd2b\" class=\"plotly-graph-div\" style=\"height:525px; width:100%;\"></div>            <script type=\"text/javascript\">                require([\"plotly\"], function(Plotly) {                    window.PLOTLYENV=window.PLOTLYENV || {};                                    if (document.getElementById(\"853ccc2d-011b-4291-8860-87404e81cd2b\")) {                    Plotly.newPlot(                        \"853ccc2d-011b-4291-8860-87404e81cd2b\",                        [{\"alignmentgroup\": \"True\", \"hovertemplate\": \"month=6<br>year=2012<br>COMPLEX=%{marker.color}<br>VISSP_NAME=%{y}<extra></extra>\", \"legendgroup\": \"\", \"marker\": {\"color\": [1], \"coloraxis\": \"coloraxis\"}, \"name\": \"\", \"offsetgroup\": \"\", \"orientation\": \"v\", \"showlegend\": false, \"textposition\": \"auto\", \"type\": \"bar\", \"x\": [1], \"xaxis\": \"x26\", \"y\": [116], \"yaxis\": \"y26\"}, {\"alignmentgroup\": \"True\", \"hovertemplate\": \"month=6<br>year=2013<br>COMPLEX=%{marker.color}<br>VISSP_NAME=%{y}<extra></extra>\", \"legendgroup\": \"\", \"marker\": {\"color\": [2], \"coloraxis\": \"coloraxis\"}, \"name\": \"\", \"offsetgroup\": \"\", \"orientation\": \"v\", \"showlegend\": false, \"textposition\": \"auto\", \"type\": \"bar\", \"x\": [2], \"xaxis\": \"x27\", \"y\": [30], \"yaxis\": \"y27\"}, {\"alignmentgroup\": \"True\", \"hovertemplate\": \"month=6<br>year=2014<br>COMPLEX=%{marker.color}<br>VISSP_NAME=%{y}<extra></extra>\", \"legendgroup\": \"\", \"marker\": {\"color\": [5], \"coloraxis\": \"coloraxis\"}, \"name\": \"\", \"offsetgroup\": \"\", \"orientation\": \"v\", \"showlegend\": false, \"textposition\": \"auto\", \"type\": \"bar\", \"x\": [5], \"xaxis\": \"x28\", \"y\": [169], \"yaxis\": \"y28\"}, {\"alignmentgroup\": \"True\", \"hovertemplate\": \"month=6<br>year=2015<br>COMPLEX=%{marker.color}<br>VISSP_NAME=%{y}<extra></extra>\", \"legendgroup\": \"\", \"marker\": {\"color\": [2, 4, 5], \"coloraxis\": \"coloraxis\"}, \"name\": \"\", \"offsetgroup\": \"\", \"orientation\": \"v\", \"showlegend\": false, \"textposition\": \"auto\", \"type\": \"bar\", \"x\": [2, 4, 5], \"xaxis\": \"x29\", \"y\": [225, 1025, 268], \"yaxis\": \"y29\"}, {\"alignmentgroup\": \"True\", \"hovertemplate\": \"month=6<br>year=2016<br>COMPLEX=%{marker.color}<br>VISSP_NAME=%{y}<extra></extra>\", \"legendgroup\": \"\", \"marker\": {\"color\": [2, 4, 5], \"coloraxis\": \"coloraxis\"}, \"name\": \"\", \"offsetgroup\": \"\", \"orientation\": \"v\", \"showlegend\": false, \"textposition\": \"auto\", \"type\": \"bar\", \"x\": [2, 4, 5], \"xaxis\": \"x30\", \"y\": [357, 501, 675], \"yaxis\": \"y30\"}, {\"alignmentgroup\": \"True\", \"hovertemplate\": \"month=6<br>year=2017<br>COMPLEX=%{marker.color}<br>VISSP_NAME=%{y}<extra></extra>\", \"legendgroup\": \"\", \"marker\": {\"color\": [2, 4, 5], \"coloraxis\": \"coloraxis\"}, \"name\": \"\", \"offsetgroup\": \"\", \"orientation\": \"v\", \"showlegend\": false, \"textposition\": \"auto\", \"type\": \"bar\", \"x\": [2, 4, 5], \"xaxis\": \"x31\", \"y\": [178, 955, 170], \"yaxis\": \"y31\"}, {\"alignmentgroup\": \"True\", \"hovertemplate\": \"month=6<br>year=2018<br>COMPLEX=%{marker.color}<br>VISSP_NAME=%{y}<extra></extra>\", \"legendgroup\": \"\", \"marker\": {\"color\": [2, 4, 5], \"coloraxis\": \"coloraxis\"}, \"name\": \"\", \"offsetgroup\": \"\", \"orientation\": \"v\", \"showlegend\": false, \"textposition\": \"auto\", \"type\": \"bar\", \"x\": [2, 4, 5], \"xaxis\": \"x32\", \"y\": [943, 1840, 253], \"yaxis\": \"y32\"}, {\"alignmentgroup\": \"True\", \"hovertemplate\": \"month=7<br>year=2011<br>COMPLEX=%{marker.color}<br>VISSP_NAME=%{y}<extra></extra>\", \"legendgroup\": \"\", \"marker\": {\"color\": [1, 2, 3, 4, 5], \"coloraxis\": \"coloraxis\"}, \"name\": \"\", \"offsetgroup\": \"\", \"orientation\": \"v\", \"showlegend\": false, \"textposition\": \"auto\", \"type\": \"bar\", \"x\": [1, 2, 3, 4, 5], \"xaxis\": \"x17\", \"y\": [678, 344, 799, 1264, 585], \"yaxis\": \"y17\"}, {\"alignmentgroup\": \"True\", \"hovertemplate\": \"month=7<br>year=2012<br>COMPLEX=%{marker.color}<br>VISSP_NAME=%{y}<extra></extra>\", \"legendgroup\": \"\", \"marker\": {\"color\": [1, 2, 3, 4, 5], \"coloraxis\": \"coloraxis\"}, \"name\": \"\", \"offsetgroup\": \"\", \"orientation\": \"v\", \"showlegend\": false, \"textposition\": \"auto\", \"type\": \"bar\", \"x\": [1, 2, 3, 4, 5], \"xaxis\": \"x18\", \"y\": [772, 851, 700, 1331, 924], \"yaxis\": \"y18\"}, {\"alignmentgroup\": \"True\", \"hovertemplate\": \"month=7<br>year=2013<br>COMPLEX=%{marker.color}<br>VISSP_NAME=%{y}<extra></extra>\", \"legendgroup\": \"\", \"marker\": {\"color\": [2, 4, 5], \"coloraxis\": \"coloraxis\"}, \"name\": \"\", \"offsetgroup\": \"\", \"orientation\": \"v\", \"showlegend\": false, \"textposition\": \"auto\", \"type\": \"bar\", \"x\": [2, 4, 5], \"xaxis\": \"x19\", \"y\": [1153, 2091, 2306], \"yaxis\": \"y19\"}, {\"alignmentgroup\": \"True\", \"hovertemplate\": \"month=7<br>year=2014<br>COMPLEX=%{marker.color}<br>VISSP_NAME=%{y}<extra></extra>\", \"legendgroup\": \"\", \"marker\": {\"color\": [2, 4, 5], \"coloraxis\": \"coloraxis\"}, \"name\": \"\", \"offsetgroup\": \"\", \"orientation\": \"v\", \"showlegend\": false, \"textposition\": \"auto\", \"type\": \"bar\", \"x\": [2, 4, 5], \"xaxis\": \"x20\", \"y\": [813, 1991, 1317], \"yaxis\": \"y20\"}, {\"alignmentgroup\": \"True\", \"hovertemplate\": \"month=7<br>year=2015<br>COMPLEX=%{marker.color}<br>VISSP_NAME=%{y}<extra></extra>\", \"legendgroup\": \"\", \"marker\": {\"color\": [2, 4, 5], \"coloraxis\": \"coloraxis\"}, \"name\": \"\", \"offsetgroup\": \"\", \"orientation\": \"v\", \"showlegend\": false, \"textposition\": \"auto\", \"type\": \"bar\", \"x\": [2, 4, 5], \"xaxis\": \"x21\", \"y\": [425, 421, 548], \"yaxis\": \"y21\"}, {\"alignmentgroup\": \"True\", \"hovertemplate\": \"month=7<br>year=2016<br>COMPLEX=%{marker.color}<br>VISSP_NAME=%{y}<extra></extra>\", \"legendgroup\": \"\", \"marker\": {\"color\": [2, 4, 5], \"coloraxis\": \"coloraxis\"}, \"name\": \"\", \"offsetgroup\": \"\", \"orientation\": \"v\", \"showlegend\": false, \"textposition\": \"auto\", \"type\": \"bar\", \"x\": [2, 4, 5], \"xaxis\": \"x22\", \"y\": [448, 2657, 1128], \"yaxis\": \"y22\"}, {\"alignmentgroup\": \"True\", \"hovertemplate\": \"month=7<br>year=2017<br>COMPLEX=%{marker.color}<br>VISSP_NAME=%{y}<extra></extra>\", \"legendgroup\": \"\", \"marker\": {\"color\": [2, 4, 5], \"coloraxis\": \"coloraxis\"}, \"name\": \"\", \"offsetgroup\": \"\", \"orientation\": \"v\", \"showlegend\": false, \"textposition\": \"auto\", \"type\": \"bar\", \"x\": [2, 4, 5], \"xaxis\": \"x23\", \"y\": [1443, 4204, 1915], \"yaxis\": \"y23\"}, {\"alignmentgroup\": \"True\", \"hovertemplate\": \"month=7<br>year=2018<br>COMPLEX=%{marker.color}<br>VISSP_NAME=%{y}<extra></extra>\", \"legendgroup\": \"\", \"marker\": {\"color\": [2, 4, 5], \"coloraxis\": \"coloraxis\"}, \"name\": \"\", \"offsetgroup\": \"\", \"orientation\": \"v\", \"showlegend\": false, \"textposition\": \"auto\", \"type\": \"bar\", \"x\": [2, 4, 5], \"xaxis\": \"x24\", \"y\": [1585, 4750, 2226], \"yaxis\": \"y24\"}, {\"alignmentgroup\": \"True\", \"hovertemplate\": \"month=8<br>year=2011<br>COMPLEX=%{marker.color}<br>VISSP_NAME=%{y}<extra></extra>\", \"legendgroup\": \"\", \"marker\": {\"color\": [1, 2, 3, 4, 5], \"coloraxis\": \"coloraxis\"}, \"name\": \"\", \"offsetgroup\": \"\", \"orientation\": \"v\", \"showlegend\": false, \"textposition\": \"auto\", \"type\": \"bar\", \"x\": [1, 2, 3, 4, 5], \"xaxis\": \"x9\", \"y\": [587, 1932, 1336, 1606, 931], \"yaxis\": \"y9\"}, {\"alignmentgroup\": \"True\", \"hovertemplate\": \"month=8<br>year=2012<br>COMPLEX=%{marker.color}<br>VISSP_NAME=%{y}<extra></extra>\", \"legendgroup\": \"\", \"marker\": {\"color\": [1, 2, 3, 4, 5], \"coloraxis\": \"coloraxis\"}, \"name\": \"\", \"offsetgroup\": \"\", \"orientation\": \"v\", \"showlegend\": false, \"textposition\": \"auto\", \"type\": \"bar\", \"x\": [1, 2, 3, 4, 5], \"xaxis\": \"x10\", \"y\": [1314, 518, 387, 982, 290], \"yaxis\": \"y10\"}, {\"alignmentgroup\": \"True\", \"hovertemplate\": \"month=8<br>year=2013<br>COMPLEX=%{marker.color}<br>VISSP_NAME=%{y}<extra></extra>\", \"legendgroup\": \"\", \"marker\": {\"color\": [2, 4, 5], \"coloraxis\": \"coloraxis\"}, \"name\": \"\", \"offsetgroup\": \"\", \"orientation\": \"v\", \"showlegend\": false, \"textposition\": \"auto\", \"type\": \"bar\", \"x\": [2, 4, 5], \"xaxis\": \"x11\", \"y\": [265, 341, 379], \"yaxis\": \"y11\"}, {\"alignmentgroup\": \"True\", \"hovertemplate\": \"month=8<br>year=2014<br>COMPLEX=%{marker.color}<br>VISSP_NAME=%{y}<extra></extra>\", \"legendgroup\": \"\", \"marker\": {\"color\": [2, 4, 5], \"coloraxis\": \"coloraxis\"}, \"name\": \"\", \"offsetgroup\": \"\", \"orientation\": \"v\", \"showlegend\": false, \"textposition\": \"auto\", \"type\": \"bar\", \"x\": [2, 4, 5], \"xaxis\": \"x12\", \"y\": [58, 175, 150], \"yaxis\": \"y12\"}, {\"alignmentgroup\": \"True\", \"hovertemplate\": \"month=8<br>year=2016<br>COMPLEX=%{marker.color}<br>VISSP_NAME=%{y}<extra></extra>\", \"legendgroup\": \"\", \"marker\": {\"color\": [2], \"coloraxis\": \"coloraxis\"}, \"name\": \"\", \"offsetgroup\": \"\", \"orientation\": \"v\", \"showlegend\": false, \"textposition\": \"auto\", \"type\": \"bar\", \"x\": [2], \"xaxis\": \"x14\", \"y\": [169], \"yaxis\": \"y14\"}, {\"alignmentgroup\": \"True\", \"hovertemplate\": \"month=8<br>year=2017<br>COMPLEX=%{marker.color}<br>VISSP_NAME=%{y}<extra></extra>\", \"legendgroup\": \"\", \"marker\": {\"color\": [2, 5], \"coloraxis\": \"coloraxis\"}, \"name\": \"\", \"offsetgroup\": \"\", \"orientation\": \"v\", \"showlegend\": false, \"textposition\": \"auto\", \"type\": \"bar\", \"x\": [2, 5], \"xaxis\": \"x15\", \"y\": [70, 572], \"yaxis\": \"y15\"}, {\"alignmentgroup\": \"True\", \"hovertemplate\": \"month=8<br>year=2018<br>COMPLEX=%{marker.color}<br>VISSP_NAME=%{y}<extra></extra>\", \"legendgroup\": \"\", \"marker\": {\"color\": [2, 4, 5], \"coloraxis\": \"coloraxis\"}, \"name\": \"\", \"offsetgroup\": \"\", \"orientation\": \"v\", \"showlegend\": false, \"textposition\": \"auto\", \"type\": \"bar\", \"x\": [2, 4, 5], \"xaxis\": \"x16\", \"y\": [141, 129, 352], \"yaxis\": \"y16\"}, {\"alignmentgroup\": \"True\", \"hovertemplate\": \"month=9<br>year=2011<br>COMPLEX=%{marker.color}<br>VISSP_NAME=%{y}<extra></extra>\", \"legendgroup\": \"\", \"marker\": {\"color\": [1, 2, 3, 4, 5], \"coloraxis\": \"coloraxis\"}, \"name\": \"\", \"offsetgroup\": \"\", \"orientation\": \"v\", \"showlegend\": false, \"textposition\": \"auto\", \"type\": \"bar\", \"x\": [1, 2, 3, 4, 5], \"xaxis\": \"x\", \"y\": [3, 92, 48, 28, 42], \"yaxis\": \"y\"}],                        {\"annotations\": [{\"font\": {}, \"showarrow\": false, \"text\": \"year=2011\", \"x\": 0.0525, \"xanchor\": \"center\", \"xref\": \"paper\", \"y\": 1.0, \"yanchor\": \"bottom\", \"yref\": \"paper\"}, {\"font\": {}, \"showarrow\": false, \"text\": \"year=2012\", \"x\": 0.1775, \"xanchor\": \"center\", \"xref\": \"paper\", \"y\": 1.0, \"yanchor\": \"bottom\", \"yref\": \"paper\"}, {\"font\": {}, \"showarrow\": false, \"text\": \"year=2013\", \"x\": 0.3025, \"xanchor\": \"center\", \"xref\": \"paper\", \"y\": 1.0, \"yanchor\": \"bottom\", \"yref\": \"paper\"}, {\"font\": {}, \"showarrow\": false, \"text\": \"year=2014\", \"x\": 0.4275, \"xanchor\": \"center\", \"xref\": \"paper\", \"y\": 1.0, \"yanchor\": \"bottom\", \"yref\": \"paper\"}, {\"font\": {}, \"showarrow\": false, \"text\": \"year=2015\", \"x\": 0.5525, \"xanchor\": \"center\", \"xref\": \"paper\", \"y\": 1.0, \"yanchor\": \"bottom\", \"yref\": \"paper\"}, {\"font\": {}, \"showarrow\": false, \"text\": \"year=2016\", \"x\": 0.6775, \"xanchor\": \"center\", \"xref\": \"paper\", \"y\": 1.0, \"yanchor\": \"bottom\", \"yref\": \"paper\"}, {\"font\": {}, \"showarrow\": false, \"text\": \"year=2017\", \"x\": 0.8025, \"xanchor\": \"center\", \"xref\": \"paper\", \"y\": 1.0, \"yanchor\": \"bottom\", \"yref\": \"paper\"}, {\"font\": {}, \"showarrow\": false, \"text\": \"year=2018\", \"x\": 0.9275, \"xanchor\": \"center\", \"xref\": \"paper\", \"y\": 1.0, \"yanchor\": \"bottom\", \"yref\": \"paper\"}, {\"font\": {}, \"showarrow\": false, \"text\": \"month=9\", \"textangle\": 90, \"x\": 0.98, \"xanchor\": \"left\", \"xref\": \"paper\", \"y\": 0.11375, \"yanchor\": \"middle\", \"yref\": \"paper\"}, {\"font\": {}, \"showarrow\": false, \"text\": \"month=8\", \"textangle\": 90, \"x\": 0.98, \"xanchor\": \"left\", \"xref\": \"paper\", \"y\": 0.37124999999999997, \"yanchor\": \"middle\", \"yref\": \"paper\"}, {\"font\": {}, \"showarrow\": false, \"text\": \"month=7\", \"textangle\": 90, \"x\": 0.98, \"xanchor\": \"left\", \"xref\": \"paper\", \"y\": 0.62875, \"yanchor\": \"middle\", \"yref\": \"paper\"}, {\"font\": {}, \"showarrow\": false, \"text\": \"month=6\", \"textangle\": 90, \"x\": 0.98, \"xanchor\": \"left\", \"xref\": \"paper\", \"y\": 0.88625, \"yanchor\": \"middle\", \"yref\": \"paper\"}], \"barmode\": \"group\", \"coloraxis\": {\"colorbar\": {\"title\": {\"text\": \"COMPLEX\"}}, \"colorscale\": [[0.0, \"#0d0887\"], [0.1111111111111111, \"#46039f\"], [0.2222222222222222, \"#7201a8\"], [0.3333333333333333, \"#9c179e\"], [0.4444444444444444, \"#bd3786\"], [0.5555555555555556, \"#d8576b\"], [0.6666666666666666, \"#ed7953\"], [0.7777777777777778, \"#fb9f3a\"], [0.8888888888888888, \"#fdca26\"], [1.0, \"#f0f921\"]]}, \"legend\": {\"tracegroupgap\": 0}, \"margin\": {\"t\": 60}, \"template\": {\"data\": {\"bar\": [{\"error_x\": {\"color\": \"#2a3f5f\"}, \"error_y\": {\"color\": \"#2a3f5f\"}, \"marker\": {\"line\": {\"color\": \"#E5ECF6\", \"width\": 0.5}}, \"type\": \"bar\"}], \"barpolar\": [{\"marker\": {\"line\": {\"color\": \"#E5ECF6\", \"width\": 0.5}}, \"type\": \"barpolar\"}], \"carpet\": [{\"aaxis\": {\"endlinecolor\": \"#2a3f5f\", \"gridcolor\": \"white\", \"linecolor\": \"white\", \"minorgridcolor\": \"white\", \"startlinecolor\": \"#2a3f5f\"}, \"baxis\": {\"endlinecolor\": \"#2a3f5f\", \"gridcolor\": \"white\", \"linecolor\": \"white\", \"minorgridcolor\": \"white\", \"startlinecolor\": \"#2a3f5f\"}, \"type\": \"carpet\"}], \"choropleth\": [{\"colorbar\": {\"outlinewidth\": 0, \"ticks\": \"\"}, \"type\": \"choropleth\"}], \"contour\": [{\"colorbar\": {\"outlinewidth\": 0, \"ticks\": \"\"}, \"colorscale\": [[0.0, \"#0d0887\"], [0.1111111111111111, \"#46039f\"], [0.2222222222222222, \"#7201a8\"], [0.3333333333333333, \"#9c179e\"], [0.4444444444444444, \"#bd3786\"], [0.5555555555555556, \"#d8576b\"], [0.6666666666666666, \"#ed7953\"], [0.7777777777777778, \"#fb9f3a\"], [0.8888888888888888, \"#fdca26\"], [1.0, \"#f0f921\"]], \"type\": \"contour\"}], \"contourcarpet\": [{\"colorbar\": {\"outlinewidth\": 0, \"ticks\": \"\"}, \"type\": \"contourcarpet\"}], \"heatmap\": [{\"colorbar\": {\"outlinewidth\": 0, \"ticks\": \"\"}, \"colorscale\": [[0.0, \"#0d0887\"], [0.1111111111111111, \"#46039f\"], [0.2222222222222222, \"#7201a8\"], [0.3333333333333333, \"#9c179e\"], [0.4444444444444444, \"#bd3786\"], [0.5555555555555556, \"#d8576b\"], [0.6666666666666666, \"#ed7953\"], [0.7777777777777778, \"#fb9f3a\"], [0.8888888888888888, \"#fdca26\"], [1.0, \"#f0f921\"]], \"type\": \"heatmap\"}], \"heatmapgl\": [{\"colorbar\": {\"outlinewidth\": 0, \"ticks\": \"\"}, \"colorscale\": [[0.0, \"#0d0887\"], [0.1111111111111111, \"#46039f\"], [0.2222222222222222, \"#7201a8\"], [0.3333333333333333, \"#9c179e\"], [0.4444444444444444, \"#bd3786\"], [0.5555555555555556, \"#d8576b\"], [0.6666666666666666, \"#ed7953\"], [0.7777777777777778, \"#fb9f3a\"], [0.8888888888888888, \"#fdca26\"], [1.0, \"#f0f921\"]], \"type\": \"heatmapgl\"}], \"histogram\": [{\"marker\": {\"colorbar\": {\"outlinewidth\": 0, \"ticks\": \"\"}}, \"type\": \"histogram\"}], \"histogram2d\": [{\"colorbar\": {\"outlinewidth\": 0, \"ticks\": \"\"}, \"colorscale\": [[0.0, \"#0d0887\"], [0.1111111111111111, \"#46039f\"], [0.2222222222222222, \"#7201a8\"], [0.3333333333333333, \"#9c179e\"], [0.4444444444444444, \"#bd3786\"], [0.5555555555555556, \"#d8576b\"], [0.6666666666666666, \"#ed7953\"], [0.7777777777777778, \"#fb9f3a\"], [0.8888888888888888, \"#fdca26\"], [1.0, \"#f0f921\"]], \"type\": \"histogram2d\"}], \"histogram2dcontour\": [{\"colorbar\": {\"outlinewidth\": 0, \"ticks\": \"\"}, \"colorscale\": [[0.0, \"#0d0887\"], [0.1111111111111111, \"#46039f\"], [0.2222222222222222, \"#7201a8\"], [0.3333333333333333, \"#9c179e\"], [0.4444444444444444, \"#bd3786\"], [0.5555555555555556, \"#d8576b\"], [0.6666666666666666, \"#ed7953\"], [0.7777777777777778, \"#fb9f3a\"], [0.8888888888888888, \"#fdca26\"], [1.0, \"#f0f921\"]], \"type\": \"histogram2dcontour\"}], \"mesh3d\": [{\"colorbar\": {\"outlinewidth\": 0, \"ticks\": \"\"}, \"type\": \"mesh3d\"}], \"parcoords\": [{\"line\": {\"colorbar\": {\"outlinewidth\": 0, \"ticks\": \"\"}}, \"type\": \"parcoords\"}], \"pie\": [{\"automargin\": true, \"type\": \"pie\"}], \"scatter\": [{\"marker\": {\"colorbar\": {\"outlinewidth\": 0, \"ticks\": \"\"}}, \"type\": \"scatter\"}], \"scatter3d\": [{\"line\": {\"colorbar\": {\"outlinewidth\": 0, \"ticks\": \"\"}}, \"marker\": {\"colorbar\": {\"outlinewidth\": 0, \"ticks\": \"\"}}, \"type\": \"scatter3d\"}], \"scattercarpet\": [{\"marker\": {\"colorbar\": {\"outlinewidth\": 0, \"ticks\": \"\"}}, \"type\": \"scattercarpet\"}], \"scattergeo\": [{\"marker\": {\"colorbar\": {\"outlinewidth\": 0, \"ticks\": \"\"}}, \"type\": \"scattergeo\"}], \"scattergl\": [{\"marker\": {\"colorbar\": {\"outlinewidth\": 0, \"ticks\": \"\"}}, \"type\": \"scattergl\"}], \"scattermapbox\": [{\"marker\": {\"colorbar\": {\"outlinewidth\": 0, \"ticks\": \"\"}}, \"type\": \"scattermapbox\"}], \"scatterpolar\": [{\"marker\": {\"colorbar\": {\"outlinewidth\": 0, \"ticks\": \"\"}}, \"type\": \"scatterpolar\"}], \"scatterpolargl\": [{\"marker\": {\"colorbar\": {\"outlinewidth\": 0, \"ticks\": \"\"}}, \"type\": \"scatterpolargl\"}], \"scatterternary\": [{\"marker\": {\"colorbar\": {\"outlinewidth\": 0, \"ticks\": \"\"}}, \"type\": \"scatterternary\"}], \"surface\": [{\"colorbar\": {\"outlinewidth\": 0, \"ticks\": \"\"}, \"colorscale\": [[0.0, \"#0d0887\"], [0.1111111111111111, \"#46039f\"], [0.2222222222222222, \"#7201a8\"], [0.3333333333333333, \"#9c179e\"], [0.4444444444444444, \"#bd3786\"], [0.5555555555555556, \"#d8576b\"], [0.6666666666666666, \"#ed7953\"], [0.7777777777777778, \"#fb9f3a\"], [0.8888888888888888, \"#fdca26\"], [1.0, \"#f0f921\"]], \"type\": \"surface\"}], \"table\": [{\"cells\": {\"fill\": {\"color\": \"#EBF0F8\"}, \"line\": {\"color\": \"white\"}}, \"header\": {\"fill\": {\"color\": \"#C8D4E3\"}, \"line\": {\"color\": \"white\"}}, \"type\": \"table\"}]}, \"layout\": {\"annotationdefaults\": {\"arrowcolor\": \"#2a3f5f\", \"arrowhead\": 0, \"arrowwidth\": 1}, \"autotypenumbers\": \"strict\", \"coloraxis\": {\"colorbar\": {\"outlinewidth\": 0, \"ticks\": \"\"}}, \"colorscale\": {\"diverging\": [[0, \"#8e0152\"], [0.1, \"#c51b7d\"], [0.2, \"#de77ae\"], [0.3, \"#f1b6da\"], [0.4, \"#fde0ef\"], [0.5, \"#f7f7f7\"], [0.6, \"#e6f5d0\"], [0.7, \"#b8e186\"], [0.8, \"#7fbc41\"], [0.9, \"#4d9221\"], [1, \"#276419\"]], \"sequential\": [[0.0, \"#0d0887\"], [0.1111111111111111, \"#46039f\"], [0.2222222222222222, \"#7201a8\"], [0.3333333333333333, \"#9c179e\"], [0.4444444444444444, \"#bd3786\"], [0.5555555555555556, \"#d8576b\"], [0.6666666666666666, \"#ed7953\"], [0.7777777777777778, \"#fb9f3a\"], [0.8888888888888888, \"#fdca26\"], [1.0, \"#f0f921\"]], \"sequentialminus\": [[0.0, \"#0d0887\"], [0.1111111111111111, \"#46039f\"], [0.2222222222222222, \"#7201a8\"], [0.3333333333333333, \"#9c179e\"], [0.4444444444444444, \"#bd3786\"], [0.5555555555555556, \"#d8576b\"], [0.6666666666666666, \"#ed7953\"], [0.7777777777777778, \"#fb9f3a\"], [0.8888888888888888, \"#fdca26\"], [1.0, \"#f0f921\"]]}, \"colorway\": [\"#636efa\", \"#EF553B\", \"#00cc96\", \"#ab63fa\", \"#FFA15A\", \"#19d3f3\", \"#FF6692\", \"#B6E880\", \"#FF97FF\", \"#FECB52\"], \"font\": {\"color\": \"#2a3f5f\"}, \"geo\": {\"bgcolor\": \"white\", \"lakecolor\": \"white\", \"landcolor\": \"#E5ECF6\", \"showlakes\": true, \"showland\": true, \"subunitcolor\": \"white\"}, \"hoverlabel\": {\"align\": \"left\"}, \"hovermode\": \"closest\", \"mapbox\": {\"style\": \"light\"}, \"paper_bgcolor\": \"white\", \"plot_bgcolor\": \"#E5ECF6\", \"polar\": {\"angularaxis\": {\"gridcolor\": \"white\", \"linecolor\": \"white\", \"ticks\": \"\"}, \"bgcolor\": \"#E5ECF6\", \"radialaxis\": {\"gridcolor\": \"white\", \"linecolor\": \"white\", \"ticks\": \"\"}}, \"scene\": {\"xaxis\": {\"backgroundcolor\": \"#E5ECF6\", \"gridcolor\": \"white\", \"gridwidth\": 2, \"linecolor\": \"white\", \"showbackground\": true, \"ticks\": \"\", \"zerolinecolor\": \"white\"}, \"yaxis\": {\"backgroundcolor\": \"#E5ECF6\", \"gridcolor\": \"white\", \"gridwidth\": 2, \"linecolor\": \"white\", \"showbackground\": true, \"ticks\": \"\", \"zerolinecolor\": \"white\"}, \"zaxis\": {\"backgroundcolor\": \"#E5ECF6\", \"gridcolor\": \"white\", \"gridwidth\": 2, \"linecolor\": \"white\", \"showbackground\": true, \"ticks\": \"\", \"zerolinecolor\": \"white\"}}, \"shapedefaults\": {\"line\": {\"color\": \"#2a3f5f\"}}, \"ternary\": {\"aaxis\": {\"gridcolor\": \"white\", \"linecolor\": \"white\", \"ticks\": \"\"}, \"baxis\": {\"gridcolor\": \"white\", \"linecolor\": \"white\", \"ticks\": \"\"}, \"bgcolor\": \"#E5ECF6\", \"caxis\": {\"gridcolor\": \"white\", \"linecolor\": \"white\", \"ticks\": \"\"}}, \"title\": {\"x\": 0.05}, \"xaxis\": {\"automargin\": true, \"gridcolor\": \"white\", \"linecolor\": \"white\", \"ticks\": \"\", \"title\": {\"standoff\": 15}, \"zerolinecolor\": \"white\", \"zerolinewidth\": 2}, \"yaxis\": {\"automargin\": true, \"gridcolor\": \"white\", \"linecolor\": \"white\", \"ticks\": \"\", \"title\": {\"standoff\": 15}, \"zerolinecolor\": \"white\", \"zerolinewidth\": 2}}}, \"xaxis\": {\"anchor\": \"y\", \"domain\": [0.0, 0.105], \"title\": {\"text\": \"COMPLEX\"}}, \"xaxis10\": {\"anchor\": \"y10\", \"domain\": [0.125, 0.22999999999999998], \"matches\": \"x\", \"showticklabels\": false}, \"xaxis11\": {\"anchor\": \"y11\", \"domain\": [0.25, 0.355], \"matches\": \"x\", \"showticklabels\": false}, \"xaxis12\": {\"anchor\": \"y12\", \"domain\": [0.375, 0.48], \"matches\": \"x\", \"showticklabels\": false}, \"xaxis13\": {\"anchor\": \"y13\", \"domain\": [0.5, 0.605], \"matches\": \"x\", \"showticklabels\": false}, \"xaxis14\": {\"anchor\": \"y14\", \"domain\": [0.625, 0.73], \"matches\": \"x\", \"showticklabels\": false}, \"xaxis15\": {\"anchor\": \"y15\", \"domain\": [0.75, 0.855], \"matches\": \"x\", \"showticklabels\": false}, \"xaxis16\": {\"anchor\": \"y16\", \"domain\": [0.875, 0.98], \"matches\": \"x\", \"showticklabels\": false}, \"xaxis17\": {\"anchor\": \"y17\", \"domain\": [0.0, 0.105], \"matches\": \"x\", \"showticklabels\": false}, \"xaxis18\": {\"anchor\": \"y18\", \"domain\": [0.125, 0.22999999999999998], \"matches\": \"x\", \"showticklabels\": false}, \"xaxis19\": {\"anchor\": \"y19\", \"domain\": [0.25, 0.355], \"matches\": \"x\", \"showticklabels\": false}, \"xaxis2\": {\"anchor\": \"y2\", \"domain\": [0.125, 0.22999999999999998], \"matches\": \"x\", \"title\": {\"text\": \"COMPLEX\"}}, \"xaxis20\": {\"anchor\": \"y20\", \"domain\": [0.375, 0.48], \"matches\": \"x\", \"showticklabels\": false}, \"xaxis21\": {\"anchor\": \"y21\", \"domain\": [0.5, 0.605], \"matches\": \"x\", \"showticklabels\": false}, \"xaxis22\": {\"anchor\": \"y22\", \"domain\": [0.625, 0.73], \"matches\": \"x\", \"showticklabels\": false}, \"xaxis23\": {\"anchor\": \"y23\", \"domain\": [0.75, 0.855], \"matches\": \"x\", \"showticklabels\": false}, \"xaxis24\": {\"anchor\": \"y24\", \"domain\": [0.875, 0.98], \"matches\": \"x\", \"showticklabels\": false}, \"xaxis25\": {\"anchor\": \"y25\", \"domain\": [0.0, 0.105], \"matches\": \"x\", \"showticklabels\": false}, \"xaxis26\": {\"anchor\": \"y26\", \"domain\": [0.125, 0.22999999999999998], \"matches\": \"x\", \"showticklabels\": false}, \"xaxis27\": {\"anchor\": \"y27\", \"domain\": [0.25, 0.355], \"matches\": \"x\", \"showticklabels\": false}, \"xaxis28\": {\"anchor\": \"y28\", \"domain\": [0.375, 0.48], \"matches\": \"x\", \"showticklabels\": false}, \"xaxis29\": {\"anchor\": \"y29\", \"domain\": [0.5, 0.605], \"matches\": \"x\", \"showticklabels\": false}, \"xaxis3\": {\"anchor\": \"y3\", \"domain\": [0.25, 0.355], \"matches\": \"x\", \"title\": {\"text\": \"COMPLEX\"}}, \"xaxis30\": {\"anchor\": \"y30\", \"domain\": [0.625, 0.73], \"matches\": \"x\", \"showticklabels\": false}, \"xaxis31\": {\"anchor\": \"y31\", \"domain\": [0.75, 0.855], \"matches\": \"x\", \"showticklabels\": false}, \"xaxis32\": {\"anchor\": \"y32\", \"domain\": [0.875, 0.98], \"matches\": \"x\", \"showticklabels\": false}, \"xaxis4\": {\"anchor\": \"y4\", \"domain\": [0.375, 0.48], \"matches\": \"x\", \"title\": {\"text\": \"COMPLEX\"}}, \"xaxis5\": {\"anchor\": \"y5\", \"domain\": [0.5, 0.605], \"matches\": \"x\", \"title\": {\"text\": \"COMPLEX\"}}, \"xaxis6\": {\"anchor\": \"y6\", \"domain\": [0.625, 0.73], \"matches\": \"x\", \"title\": {\"text\": \"COMPLEX\"}}, \"xaxis7\": {\"anchor\": \"y7\", \"domain\": [0.75, 0.855], \"matches\": \"x\", \"title\": {\"text\": \"COMPLEX\"}}, \"xaxis8\": {\"anchor\": \"y8\", \"domain\": [0.875, 0.98], \"matches\": \"x\", \"title\": {\"text\": \"COMPLEX\"}}, \"xaxis9\": {\"anchor\": \"y9\", \"domain\": [0.0, 0.105], \"matches\": \"x\", \"showticklabels\": false}, \"yaxis\": {\"anchor\": \"x\", \"domain\": [0.0, 0.2275], \"title\": {\"text\": \"VISSP_NAME\"}}, \"yaxis10\": {\"anchor\": \"x10\", \"domain\": [0.2575, 0.485], \"matches\": \"y\", \"showticklabels\": false}, \"yaxis11\": {\"anchor\": \"x11\", \"domain\": [0.2575, 0.485], \"matches\": \"y\", \"showticklabels\": false}, \"yaxis12\": {\"anchor\": \"x12\", \"domain\": [0.2575, 0.485], \"matches\": \"y\", \"showticklabels\": false}, \"yaxis13\": {\"anchor\": \"x13\", \"domain\": [0.2575, 0.485], \"matches\": \"y\", \"showticklabels\": false}, \"yaxis14\": {\"anchor\": \"x14\", \"domain\": [0.2575, 0.485], \"matches\": \"y\", \"showticklabels\": false}, \"yaxis15\": {\"anchor\": \"x15\", \"domain\": [0.2575, 0.485], \"matches\": \"y\", \"showticklabels\": false}, \"yaxis16\": {\"anchor\": \"x16\", \"domain\": [0.2575, 0.485], \"matches\": \"y\", \"showticklabels\": false}, \"yaxis17\": {\"anchor\": \"x17\", \"domain\": [0.515, 0.7425], \"matches\": \"y\", \"title\": {\"text\": \"VISSP_NAME\"}}, \"yaxis18\": {\"anchor\": \"x18\", \"domain\": [0.515, 0.7425], \"matches\": \"y\", \"showticklabels\": false}, \"yaxis19\": {\"anchor\": \"x19\", \"domain\": [0.515, 0.7425], \"matches\": \"y\", \"showticklabels\": false}, \"yaxis2\": {\"anchor\": \"x2\", \"domain\": [0.0, 0.2275], \"matches\": \"y\", \"showticklabels\": false}, \"yaxis20\": {\"anchor\": \"x20\", \"domain\": [0.515, 0.7425], \"matches\": \"y\", \"showticklabels\": false}, \"yaxis21\": {\"anchor\": \"x21\", \"domain\": [0.515, 0.7425], \"matches\": \"y\", \"showticklabels\": false}, \"yaxis22\": {\"anchor\": \"x22\", \"domain\": [0.515, 0.7425], \"matches\": \"y\", \"showticklabels\": false}, \"yaxis23\": {\"anchor\": \"x23\", \"domain\": [0.515, 0.7425], \"matches\": \"y\", \"showticklabels\": false}, \"yaxis24\": {\"anchor\": \"x24\", \"domain\": [0.515, 0.7425], \"matches\": \"y\", \"showticklabels\": false}, \"yaxis25\": {\"anchor\": \"x25\", \"domain\": [0.7725, 1.0], \"matches\": \"y\", \"title\": {\"text\": \"VISSP_NAME\"}}, \"yaxis26\": {\"anchor\": \"x26\", \"domain\": [0.7725, 1.0], \"matches\": \"y\", \"showticklabels\": false}, \"yaxis27\": {\"anchor\": \"x27\", \"domain\": [0.7725, 1.0], \"matches\": \"y\", \"showticklabels\": false}, \"yaxis28\": {\"anchor\": \"x28\", \"domain\": [0.7725, 1.0], \"matches\": \"y\", \"showticklabels\": false}, \"yaxis29\": {\"anchor\": \"x29\", \"domain\": [0.7725, 1.0], \"matches\": \"y\", \"showticklabels\": false}, \"yaxis3\": {\"anchor\": \"x3\", \"domain\": [0.0, 0.2275], \"matches\": \"y\", \"showticklabels\": false}, \"yaxis30\": {\"anchor\": \"x30\", \"domain\": [0.7725, 1.0], \"matches\": \"y\", \"showticklabels\": false}, \"yaxis31\": {\"anchor\": \"x31\", \"domain\": [0.7725, 1.0], \"matches\": \"y\", \"showticklabels\": false}, \"yaxis32\": {\"anchor\": \"x32\", \"domain\": [0.7725, 1.0], \"matches\": \"y\", \"showticklabels\": false}, \"yaxis4\": {\"anchor\": \"x4\", \"domain\": [0.0, 0.2275], \"matches\": \"y\", \"showticklabels\": false}, \"yaxis5\": {\"anchor\": \"x5\", \"domain\": [0.0, 0.2275], \"matches\": \"y\", \"showticklabels\": false}, \"yaxis6\": {\"anchor\": \"x6\", \"domain\": [0.0, 0.2275], \"matches\": \"y\", \"showticklabels\": false}, \"yaxis7\": {\"anchor\": \"x7\", \"domain\": [0.0, 0.2275], \"matches\": \"y\", \"showticklabels\": false}, \"yaxis8\": {\"anchor\": \"x8\", \"domain\": [0.0, 0.2275], \"matches\": \"y\", \"showticklabels\": false}, \"yaxis9\": {\"anchor\": \"x9\", \"domain\": [0.2575, 0.485], \"matches\": \"y\", \"title\": {\"text\": \"VISSP_NAME\"}}},                        {\"responsive\": true}                    ).then(function(){\n",
       "                            \n",
       "var gd = document.getElementById('853ccc2d-011b-4291-8860-87404e81cd2b');\n",
       "var x = new MutationObserver(function (mutations, observer) {{\n",
       "        var display = window.getComputedStyle(gd).display;\n",
       "        if (!display || display === 'none') {{\n",
       "            console.log([gd, 'removed!']);\n",
       "            Plotly.purge(gd);\n",
       "            observer.disconnect();\n",
       "        }}\n",
       "}});\n",
       "\n",
       "// Listen for the removal of the full notebook cells\n",
       "var notebookContainer = gd.closest('#notebook-container');\n",
       "if (notebookContainer) {{\n",
       "    x.observe(notebookContainer, {childList: true});\n",
       "}}\n",
       "\n",
       "// Listen for the clearing of the current output cell\n",
       "var outputEl = gd.closest('.output');\n",
       "if (outputEl) {{\n",
       "    x.observe(outputEl, {childList: true});\n",
       "}}\n",
       "\n",
       "                        })                };                });            </script>        </div>"
      ]
     },
     "metadata": {},
     "output_type": "display_data"
    }
   ],
   "source": [
    "#result['PLOT'] = result['PLOT'].astype(str)\n",
    "\n",
    "fig = px.bar(result, x=\"COMPLEX\", y=\"VISSP_NAME\",  barmode=\"group\",color='COMPLEX',\n",
    "             facet_row=\"month\", facet_col=\"year\",\n",
    "             category_orders={\"month\": [6,7,8,9]}\n",
    "            )\n",
    "fig.update_traces()\n",
    "fig.show()"
   ]
  },
  {
   "cell_type": "code",
   "execution_count": 39,
   "metadata": {},
   "outputs": [
    {
     "name": "stdout",
     "output_type": "stream",
     "text": [
      "<class 'pandas.core.frame.DataFrame'>\n",
      "RangeIndex: 74131 entries, 0 to 74130\n",
      "Data columns (total 32 columns):\n",
      " #   Column      Non-Null Count  Dtype         \n",
      "---  ------      --------------  -----         \n",
      " 0   DBCODE      74131 non-null  object        \n",
      " 1   ENTITY      74131 non-null  int64         \n",
      " 2   COMPLEX     74131 non-null  object        \n",
      " 3   MEADOW      74131 non-null  object        \n",
      " 4   PLOT_ID     74131 non-null  object        \n",
      " 5   YEAR        74131 non-null  int64         \n",
      " 6   SAMPLEDATE  74131 non-null  object        \n",
      " 7   WATCH       74131 non-null  float64       \n",
      " 8   OBSERVER    62345 non-null  object        \n",
      " 9   PLOT        74131 non-null  int64         \n",
      " 10  START_TIME  63281 non-null  float64       \n",
      " 11  END_TIME    7501 non-null   float64       \n",
      " 12  MINUTE      73978 non-null  float64       \n",
      " 13  CLOUDS      73737 non-null  object        \n",
      " 14  WIND        73860 non-null  object        \n",
      " 15  TEMP        46439 non-null  float64       \n",
      " 16  PPI_STATUS  74131 non-null  int64         \n",
      " 17  NO_INT      74078 non-null  float64       \n",
      " 18  PLTSP_CODE  60271 non-null  object        \n",
      " 19  PLTSP_NAME  60271 non-null  object        \n",
      " 20  VISSP_CODE  60271 non-null  object        \n",
      " 21  VISSP_NAME  60271 non-null  object        \n",
      " 22  VISSP_TYPE  38594 non-null  object        \n",
      " 23  REF_NO      15175 non-null  object        \n",
      " 24  VISSP_NO    74131 non-null  int64         \n",
      " 25  QC_NOTES    3588 non-null   object        \n",
      " 26  Date        74131 non-null  datetime64[ns]\n",
      " 27  DATETIME    74131 non-null  datetime64[ns]\n",
      " 28  MY          74131 non-null  period[M]     \n",
      " 29  month       74131 non-null  int64         \n",
      " 30  year        74131 non-null  int64         \n",
      " 31  temp_f      46439 non-null  float64       \n",
      "dtypes: datetime64[ns](2), float64(7), int64(7), object(15), period[M](1)\n",
      "memory usage: 18.1+ MB\n"
     ]
    }
   ],
   "source": [
    "df.info()"
   ]
  },
  {
   "cell_type": "code",
   "execution_count": 42,
   "metadata": {},
   "outputs": [
    {
     "data": {
      "text/plain": [
       "S     63236\n",
       "PC     4344\n",
       "SH     4036\n",
       "C      2121\n",
       "Name: CLOUDS, dtype: int64"
      ]
     },
     "execution_count": 42,
     "metadata": {},
     "output_type": "execute_result"
    }
   ],
   "source": [
    "df['CLOUDS'].value_counts()"
   ]
  },
  {
   "cell_type": "code",
   "execution_count": 20,
   "metadata": {},
   "outputs": [],
   "source": [
    "df['temp_f'] = df['TEMP']* 1.8000 + 32.00"
   ]
  },
  {
   "cell_type": "code",
   "execution_count": 21,
   "metadata": {},
   "outputs": [
    {
     "data": {
      "text/plain": [
       "count    46439.000000\n",
       "mean        74.708943\n",
       "std          8.392481\n",
       "min         50.000000\n",
       "25%         68.000000\n",
       "50%         75.200000\n",
       "75%         80.600000\n",
       "max        111.200000\n",
       "Name: temp_f, dtype: float64"
      ]
     },
     "execution_count": 21,
     "metadata": {},
     "output_type": "execute_result"
    }
   ],
   "source": [
    "df['temp_f'].describe()"
   ]
  },
  {
   "cell_type": "code",
   "execution_count": null,
   "metadata": {},
   "outputs": [],
   "source": []
  },
  {
   "cell_type": "code",
   "execution_count": 61,
   "metadata": {},
   "outputs": [
    {
     "data": {
      "text/plain": [
       "<AxesSubplot:xlabel='temp_f', ylabel='NO_INT'>"
      ]
     },
     "execution_count": 61,
     "metadata": {},
     "output_type": "execute_result"
    },
    {
     "data": {
      "image/png": "[encoded data removed]",
      "text/plain": [
       "<Figure size 432x288 with 1 Axes>"
      ]
     },
     "metadata": {},
     "output_type": "display_data"
    }
   ],
   "source": [
    "temp_count = df.groupby('SAMPLEDATE').agg({'NO_INT':np.sum,'temp_f':np.mean}).reset_index().dropna()\n",
    "temp_count.describe()\n",
    "temp_count = temp_count.loc[temp_count['NO_INT']<=3500]\n",
    "sns.scatterplot(x=temp_count['temp_f'],y=temp_count['NO_INT'])"
   ]
  },
  {
   "cell_type": "code",
   "execution_count": 22,
   "metadata": {},
   "outputs": [],
   "source": [
    "plant_diversity = pd.read_csv('data/bioCON_plant_diversity.txt', delimiter = \"\\t\")"
   ]
  },
  {
   "cell_type": "code",
   "execution_count": 23,
   "metadata": {},
   "outputs": [
    {
     "data": {
      "text/html": [
       "<div>\n",
       "<style scoped>\n",
       "    .dataframe tbody tr th:only-of-type {\n",
       "        vertical-align: middle;\n",
       "    }\n",
       "\n",
       "    .dataframe tbody tr th {\n",
       "        vertical-align: top;\n",
       "    }\n",
       "\n",
       "    .dataframe thead th {\n",
       "        text-align: right;\n",
       "    }\n",
       "</style>\n",
       "<table border=\"1\" class=\"dataframe\">\n",
       "  <thead>\n",
       "    <tr style=\"text-align: right;\">\n",
       "      <th></th>\n",
       "      <th>Year</th>\n",
       "      <th>Plot</th>\n",
       "      <th>Ring</th>\n",
       "      <th>CO2 Treatment</th>\n",
       "      <th>Nitrogen Treatment</th>\n",
       "      <th>CountOfSpecies</th>\n",
       "      <th>CountOfGroup</th>\n",
       "      <th>Experiment</th>\n",
       "      <th>monospecies</th>\n",
       "      <th>Monogroup</th>\n",
       "      <th>Water Treatment</th>\n",
       "      <th>Temp Treatment</th>\n",
       "      <th>Depth</th>\n",
       "      <th>Carbon(%)</th>\n",
       "      <th>Nitrogen(%)</th>\n",
       "      <th>C/N Ratio</th>\n",
       "    </tr>\n",
       "  </thead>\n",
       "  <tbody>\n",
       "    <tr>\n",
       "      <th>0</th>\n",
       "      <td>2002</td>\n",
       "      <td>1</td>\n",
       "      <td>1</td>\n",
       "      <td>Cenrich</td>\n",
       "      <td>Namb</td>\n",
       "      <td>4</td>\n",
       "      <td>2</td>\n",
       "      <td>M</td>\n",
       "      <td></td>\n",
       "      <td></td>\n",
       "      <td></td>\n",
       "      <td></td>\n",
       "      <td>0-10</td>\n",
       "      <td>0.618</td>\n",
       "      <td>0.074</td>\n",
       "      <td>8.351351351</td>\n",
       "    </tr>\n",
       "    <tr>\n",
       "      <th>1</th>\n",
       "      <td>2002</td>\n",
       "      <td>1</td>\n",
       "      <td>1</td>\n",
       "      <td>Cenrich</td>\n",
       "      <td>Namb</td>\n",
       "      <td>4</td>\n",
       "      <td>2</td>\n",
       "      <td>M</td>\n",
       "      <td></td>\n",
       "      <td></td>\n",
       "      <td></td>\n",
       "      <td></td>\n",
       "      <td>10-20</td>\n",
       "      <td>0.515</td>\n",
       "      <td>0.057</td>\n",
       "      <td>9.035087719</td>\n",
       "    </tr>\n",
       "    <tr>\n",
       "      <th>2</th>\n",
       "      <td>2002</td>\n",
       "      <td>1</td>\n",
       "      <td>1</td>\n",
       "      <td>Cenrich</td>\n",
       "      <td>Namb</td>\n",
       "      <td>4</td>\n",
       "      <td>2</td>\n",
       "      <td>M</td>\n",
       "      <td></td>\n",
       "      <td></td>\n",
       "      <td></td>\n",
       "      <td></td>\n",
       "      <td>20-40</td>\n",
       "      <td>0.142</td>\n",
       "      <td>0.023</td>\n",
       "      <td>6.173913043</td>\n",
       "    </tr>\n",
       "    <tr>\n",
       "      <th>3</th>\n",
       "      <td>2002</td>\n",
       "      <td>1</td>\n",
       "      <td>1</td>\n",
       "      <td>Cenrich</td>\n",
       "      <td>Namb</td>\n",
       "      <td>4</td>\n",
       "      <td>2</td>\n",
       "      <td>M</td>\n",
       "      <td></td>\n",
       "      <td></td>\n",
       "      <td></td>\n",
       "      <td></td>\n",
       "      <td>40-60</td>\n",
       "      <td>0.132</td>\n",
       "      <td>0.016</td>\n",
       "      <td>8.25</td>\n",
       "    </tr>\n",
       "    <tr>\n",
       "      <th>4</th>\n",
       "      <td>2002</td>\n",
       "      <td>2</td>\n",
       "      <td>1</td>\n",
       "      <td>Cenrich</td>\n",
       "      <td>Namb</td>\n",
       "      <td>1</td>\n",
       "      <td>1</td>\n",
       "      <td>M</td>\n",
       "      <td>Bouteloua gracilis</td>\n",
       "      <td>C-4</td>\n",
       "      <td></td>\n",
       "      <td></td>\n",
       "      <td>0-10</td>\n",
       "      <td>0.55</td>\n",
       "      <td>0.07</td>\n",
       "      <td>7.857142857</td>\n",
       "    </tr>\n",
       "    <tr>\n",
       "      <th>...</th>\n",
       "      <td>...</td>\n",
       "      <td>...</td>\n",
       "      <td>...</td>\n",
       "      <td>...</td>\n",
       "      <td>...</td>\n",
       "      <td>...</td>\n",
       "      <td>...</td>\n",
       "      <td>...</td>\n",
       "      <td>...</td>\n",
       "      <td>...</td>\n",
       "      <td>...</td>\n",
       "      <td>...</td>\n",
       "      <td>...</td>\n",
       "      <td>...</td>\n",
       "      <td>...</td>\n",
       "      <td>...</td>\n",
       "    </tr>\n",
       "    <tr>\n",
       "      <th>5628</th>\n",
       "      <td>2016</td>\n",
       "      <td>365</td>\n",
       "      <td>6</td>\n",
       "      <td>Camb</td>\n",
       "      <td>Nenrich</td>\n",
       "      <td>4</td>\n",
       "      <td>2</td>\n",
       "      <td>M</td>\n",
       "      <td></td>\n",
       "      <td></td>\n",
       "      <td></td>\n",
       "      <td></td>\n",
       "      <td>40-60</td>\n",
       "      <td>0.329</td>\n",
       "      <td>0.027</td>\n",
       "      <td>12.18518519</td>\n",
       "    </tr>\n",
       "    <tr>\n",
       "      <th>5629</th>\n",
       "      <td>2016</td>\n",
       "      <td>366</td>\n",
       "      <td>6</td>\n",
       "      <td>Camb</td>\n",
       "      <td>Nenrich</td>\n",
       "      <td>1</td>\n",
       "      <td>1</td>\n",
       "      <td>M</td>\n",
       "      <td>Achillea millefolium</td>\n",
       "      <td>Forb</td>\n",
       "      <td></td>\n",
       "      <td></td>\n",
       "      <td>0-10</td>\n",
       "      <td>0.85</td>\n",
       "      <td>0.066</td>\n",
       "      <td>12.87878788</td>\n",
       "    </tr>\n",
       "    <tr>\n",
       "      <th>5630</th>\n",
       "      <td>2016</td>\n",
       "      <td>366</td>\n",
       "      <td>6</td>\n",
       "      <td>Camb</td>\n",
       "      <td>Nenrich</td>\n",
       "      <td>1</td>\n",
       "      <td>1</td>\n",
       "      <td>M</td>\n",
       "      <td>Achillea millefolium</td>\n",
       "      <td>Forb</td>\n",
       "      <td></td>\n",
       "      <td></td>\n",
       "      <td>10-20</td>\n",
       "      <td>0.57</td>\n",
       "      <td>0.05</td>\n",
       "      <td>11.4</td>\n",
       "    </tr>\n",
       "    <tr>\n",
       "      <th>5631</th>\n",
       "      <td>2016</td>\n",
       "      <td>366</td>\n",
       "      <td>6</td>\n",
       "      <td>Camb</td>\n",
       "      <td>Nenrich</td>\n",
       "      <td>1</td>\n",
       "      <td>1</td>\n",
       "      <td>M</td>\n",
       "      <td>Achillea millefolium</td>\n",
       "      <td>Forb</td>\n",
       "      <td></td>\n",
       "      <td></td>\n",
       "      <td>20-40</td>\n",
       "      <td>0.454</td>\n",
       "      <td>0.036</td>\n",
       "      <td>12.61111111</td>\n",
       "    </tr>\n",
       "    <tr>\n",
       "      <th>5632</th>\n",
       "      <td>2016</td>\n",
       "      <td>366</td>\n",
       "      <td>6</td>\n",
       "      <td>Camb</td>\n",
       "      <td>Nenrich</td>\n",
       "      <td>1</td>\n",
       "      <td>1</td>\n",
       "      <td>M</td>\n",
       "      <td>Achillea millefolium</td>\n",
       "      <td>Forb</td>\n",
       "      <td></td>\n",
       "      <td></td>\n",
       "      <td>40-60</td>\n",
       "      <td>0.38</td>\n",
       "      <td>0.03</td>\n",
       "      <td>12.66666667</td>\n",
       "    </tr>\n",
       "  </tbody>\n",
       "</table>\n",
       "<p>5633 rows × 16 columns</p>\n",
       "</div>"
      ],
      "text/plain": [
       "      Year  Plot Ring CO2 Treatment Nitrogen Treatment  CountOfSpecies  \\\n",
       "0     2002     1    1       Cenrich               Namb               4   \n",
       "1     2002     1    1       Cenrich               Namb               4   \n",
       "2     2002     1    1       Cenrich               Namb               4   \n",
       "3     2002     1    1       Cenrich               Namb               4   \n",
       "4     2002     2    1       Cenrich               Namb               1   \n",
       "...    ...   ...  ...           ...                ...             ...   \n",
       "5628  2016   365    6          Camb            Nenrich               4   \n",
       "5629  2016   366    6          Camb            Nenrich               1   \n",
       "5630  2016   366    6          Camb            Nenrich               1   \n",
       "5631  2016   366    6          Camb            Nenrich               1   \n",
       "5632  2016   366    6          Camb            Nenrich               1   \n",
       "\n",
       "      CountOfGroup Experiment           monospecies Monogroup Water Treatment  \\\n",
       "0                2          M                                                   \n",
       "1                2          M                                                   \n",
       "2                2          M                                                   \n",
       "3                2          M                                                   \n",
       "4                1          M    Bouteloua gracilis       C-4                   \n",
       "...            ...        ...                   ...       ...             ...   \n",
       "5628             2          M                                                   \n",
       "5629             1          M  Achillea millefolium      Forb                   \n",
       "5630             1          M  Achillea millefolium      Forb                   \n",
       "5631             1          M  Achillea millefolium      Forb                   \n",
       "5632             1          M  Achillea millefolium      Forb                   \n",
       "\n",
       "     Temp Treatment  Depth Carbon(%) Nitrogen(%)    C/N Ratio  \n",
       "0                     0-10     0.618       0.074  8.351351351  \n",
       "1                    10-20     0.515       0.057  9.035087719  \n",
       "2                    20-40     0.142       0.023  6.173913043  \n",
       "3                    40-60     0.132       0.016         8.25  \n",
       "4                     0-10      0.55        0.07  7.857142857  \n",
       "...             ...    ...       ...         ...          ...  \n",
       "5628                 40-60     0.329       0.027  12.18518519  \n",
       "5629                  0-10      0.85       0.066  12.87878788  \n",
       "5630                 10-20      0.57        0.05         11.4  \n",
       "5631                 20-40     0.454       0.036  12.61111111  \n",
       "5632                 40-60      0.38        0.03  12.66666667  \n",
       "\n",
       "[5633 rows x 16 columns]"
      ]
     },
     "execution_count": 23,
     "metadata": {},
     "output_type": "execute_result"
    }
   ],
   "source": [
    "plant_diversity"
   ]
  },
  {
   "cell_type": "code",
   "execution_count": 37,
   "metadata": {},
   "outputs": [
    {
     "data": {
      "text/html": [
       "<div>\n",
       "<style scoped>\n",
       "    .dataframe tbody tr th:only-of-type {\n",
       "        vertical-align: middle;\n",
       "    }\n",
       "\n",
       "    .dataframe tbody tr th {\n",
       "        vertical-align: top;\n",
       "    }\n",
       "\n",
       "    .dataframe thead th {\n",
       "        text-align: right;\n",
       "    }\n",
       "</style>\n",
       "<table border=\"1\" class=\"dataframe\">\n",
       "  <thead>\n",
       "    <tr style=\"text-align: right;\">\n",
       "      <th></th>\n",
       "      <th>Year</th>\n",
       "      <th>Plot</th>\n",
       "      <th>Ring</th>\n",
       "      <th>CO2 Treatment</th>\n",
       "      <th>Nitrogen Treatment</th>\n",
       "      <th>CountOfSpecies</th>\n",
       "      <th>CountOfGroup</th>\n",
       "      <th>Experiment</th>\n",
       "      <th>monospecies</th>\n",
       "      <th>Monogroup</th>\n",
       "      <th>Water Treatment</th>\n",
       "      <th>Temp Treatment</th>\n",
       "      <th>Depth</th>\n",
       "      <th>Carbon(%)</th>\n",
       "      <th>Nitrogen(%)</th>\n",
       "      <th>C/N Ratio</th>\n",
       "    </tr>\n",
       "  </thead>\n",
       "  <tbody>\n",
       "    <tr>\n",
       "      <th>3008</th>\n",
       "      <td>2012</td>\n",
       "      <td>11</td>\n",
       "      <td>1</td>\n",
       "      <td>Cenrich</td>\n",
       "      <td>Nenrich</td>\n",
       "      <td>9</td>\n",
       "      <td>4</td>\n",
       "      <td>M</td>\n",
       "      <td></td>\n",
       "      <td></td>\n",
       "      <td>H2Oamb</td>\n",
       "      <td>HTelv</td>\n",
       "      <td>10-20</td>\n",
       "      <td>0.484</td>\n",
       "      <td>0.046</td>\n",
       "      <td>10.52173913</td>\n",
       "    </tr>\n",
       "    <tr>\n",
       "      <th>3009</th>\n",
       "      <td>2012</td>\n",
       "      <td>11</td>\n",
       "      <td>1</td>\n",
       "      <td>Cenrich</td>\n",
       "      <td>Nenrich</td>\n",
       "      <td>9</td>\n",
       "      <td>4</td>\n",
       "      <td>M</td>\n",
       "      <td></td>\n",
       "      <td></td>\n",
       "      <td>H2Oamb</td>\n",
       "      <td>HTelv</td>\n",
       "      <td>0-10</td>\n",
       "      <td>1.056</td>\n",
       "      <td>0.088</td>\n",
       "      <td>12</td>\n",
       "    </tr>\n",
       "    <tr>\n",
       "      <th>3010</th>\n",
       "      <td>2012</td>\n",
       "      <td>11</td>\n",
       "      <td>1</td>\n",
       "      <td>Cenrich</td>\n",
       "      <td>Nenrich</td>\n",
       "      <td>9</td>\n",
       "      <td>4</td>\n",
       "      <td>M</td>\n",
       "      <td></td>\n",
       "      <td></td>\n",
       "      <td>H2Oamb</td>\n",
       "      <td>HTelv</td>\n",
       "      <td>20-40</td>\n",
       "      <td>0.633</td>\n",
       "      <td>0.065</td>\n",
       "      <td>9.738461538</td>\n",
       "    </tr>\n",
       "    <tr>\n",
       "      <th>3011</th>\n",
       "      <td>2012</td>\n",
       "      <td>11</td>\n",
       "      <td>1</td>\n",
       "      <td>Cenrich</td>\n",
       "      <td>Nenrich</td>\n",
       "      <td>9</td>\n",
       "      <td>4</td>\n",
       "      <td>M</td>\n",
       "      <td></td>\n",
       "      <td></td>\n",
       "      <td>H2Oamb</td>\n",
       "      <td>HTelv</td>\n",
       "      <td>40-60</td>\n",
       "      <td>0.43</td>\n",
       "      <td>0.044</td>\n",
       "      <td>9.772727273</td>\n",
       "    </tr>\n",
       "    <tr>\n",
       "      <th>3032</th>\n",
       "      <td>2012</td>\n",
       "      <td>17</td>\n",
       "      <td>1</td>\n",
       "      <td>Cenrich</td>\n",
       "      <td>Namb</td>\n",
       "      <td>9</td>\n",
       "      <td>4</td>\n",
       "      <td>M</td>\n",
       "      <td></td>\n",
       "      <td></td>\n",
       "      <td>H2Oneg</td>\n",
       "      <td>HTelv</td>\n",
       "      <td>10-20</td>\n",
       "      <td>0.535</td>\n",
       "      <td>0.056</td>\n",
       "      <td>9.553571429</td>\n",
       "    </tr>\n",
       "    <tr>\n",
       "      <th>...</th>\n",
       "      <td>...</td>\n",
       "      <td>...</td>\n",
       "      <td>...</td>\n",
       "      <td>...</td>\n",
       "      <td>...</td>\n",
       "      <td>...</td>\n",
       "      <td>...</td>\n",
       "      <td>...</td>\n",
       "      <td>...</td>\n",
       "      <td>...</td>\n",
       "      <td>...</td>\n",
       "      <td>...</td>\n",
       "      <td>...</td>\n",
       "      <td>...</td>\n",
       "      <td>...</td>\n",
       "      <td>...</td>\n",
       "    </tr>\n",
       "    <tr>\n",
       "      <th>4263</th>\n",
       "      <td>2012</td>\n",
       "      <td>324</td>\n",
       "      <td>6</td>\n",
       "      <td>Camb</td>\n",
       "      <td>Nenrich</td>\n",
       "      <td>9</td>\n",
       "      <td>4</td>\n",
       "      <td>M</td>\n",
       "      <td></td>\n",
       "      <td></td>\n",
       "      <td>H2Oamb</td>\n",
       "      <td>HTelv</td>\n",
       "      <td>40-60</td>\n",
       "      <td>0.416</td>\n",
       "      <td>0.035</td>\n",
       "      <td>11.88571429</td>\n",
       "    </tr>\n",
       "    <tr>\n",
       "      <th>4404</th>\n",
       "      <td>2012</td>\n",
       "      <td>360</td>\n",
       "      <td>6</td>\n",
       "      <td>Camb</td>\n",
       "      <td>Nenrich</td>\n",
       "      <td>9</td>\n",
       "      <td>4</td>\n",
       "      <td>M</td>\n",
       "      <td></td>\n",
       "      <td></td>\n",
       "      <td>H2Oneg</td>\n",
       "      <td>HTelv</td>\n",
       "      <td>10-20</td>\n",
       "      <td>0.714</td>\n",
       "      <td>0.058</td>\n",
       "      <td>12.31034483</td>\n",
       "    </tr>\n",
       "    <tr>\n",
       "      <th>4405</th>\n",
       "      <td>2012</td>\n",
       "      <td>360</td>\n",
       "      <td>6</td>\n",
       "      <td>Camb</td>\n",
       "      <td>Nenrich</td>\n",
       "      <td>9</td>\n",
       "      <td>4</td>\n",
       "      <td>M</td>\n",
       "      <td></td>\n",
       "      <td></td>\n",
       "      <td>H2Oneg</td>\n",
       "      <td>HTelv</td>\n",
       "      <td>0-10</td>\n",
       "      <td>1.492</td>\n",
       "      <td>0.117</td>\n",
       "      <td>12.75213675</td>\n",
       "    </tr>\n",
       "    <tr>\n",
       "      <th>4406</th>\n",
       "      <td>2012</td>\n",
       "      <td>360</td>\n",
       "      <td>6</td>\n",
       "      <td>Camb</td>\n",
       "      <td>Nenrich</td>\n",
       "      <td>9</td>\n",
       "      <td>4</td>\n",
       "      <td>M</td>\n",
       "      <td></td>\n",
       "      <td></td>\n",
       "      <td>H2Oneg</td>\n",
       "      <td>HTelv</td>\n",
       "      <td>20-40</td>\n",
       "      <td>0.61</td>\n",
       "      <td>0.047</td>\n",
       "      <td>12.9787234</td>\n",
       "    </tr>\n",
       "    <tr>\n",
       "      <th>4407</th>\n",
       "      <td>2012</td>\n",
       "      <td>360</td>\n",
       "      <td>6</td>\n",
       "      <td>Camb</td>\n",
       "      <td>Nenrich</td>\n",
       "      <td>9</td>\n",
       "      <td>4</td>\n",
       "      <td>M</td>\n",
       "      <td></td>\n",
       "      <td></td>\n",
       "      <td>H2Oneg</td>\n",
       "      <td>HTelv</td>\n",
       "      <td>40-60</td>\n",
       "      <td>0.36</td>\n",
       "      <td>0.029</td>\n",
       "      <td>12.4137931</td>\n",
       "    </tr>\n",
       "  </tbody>\n",
       "</table>\n",
       "<p>96 rows × 16 columns</p>\n",
       "</div>"
      ],
      "text/plain": [
       "      Year  Plot Ring CO2 Treatment Nitrogen Treatment  CountOfSpecies  \\\n",
       "3008  2012    11    1       Cenrich            Nenrich               9   \n",
       "3009  2012    11    1       Cenrich            Nenrich               9   \n",
       "3010  2012    11    1       Cenrich            Nenrich               9   \n",
       "3011  2012    11    1       Cenrich            Nenrich               9   \n",
       "3032  2012    17    1       Cenrich               Namb               9   \n",
       "...    ...   ...  ...           ...                ...             ...   \n",
       "4263  2012   324    6          Camb            Nenrich               9   \n",
       "4404  2012   360    6          Camb            Nenrich               9   \n",
       "4405  2012   360    6          Camb            Nenrich               9   \n",
       "4406  2012   360    6          Camb            Nenrich               9   \n",
       "4407  2012   360    6          Camb            Nenrich               9   \n",
       "\n",
       "      CountOfGroup Experiment monospecies Monogroup Water Treatment  \\\n",
       "3008             4          M                                H2Oamb   \n",
       "3009             4          M                                H2Oamb   \n",
       "3010             4          M                                H2Oamb   \n",
       "3011             4          M                                H2Oamb   \n",
       "3032             4          M                                H2Oneg   \n",
       "...            ...        ...         ...       ...             ...   \n",
       "4263             4          M                                H2Oamb   \n",
       "4404             4          M                                H2Oneg   \n",
       "4405             4          M                                H2Oneg   \n",
       "4406             4          M                                H2Oneg   \n",
       "4407             4          M                                H2Oneg   \n",
       "\n",
       "     Temp Treatment  Depth Carbon(%) Nitrogen(%)    C/N Ratio  \n",
       "3008          HTelv  10-20     0.484       0.046  10.52173913  \n",
       "3009          HTelv   0-10     1.056       0.088           12  \n",
       "3010          HTelv  20-40     0.633       0.065  9.738461538  \n",
       "3011          HTelv  40-60      0.43       0.044  9.772727273  \n",
       "3032          HTelv  10-20     0.535       0.056  9.553571429  \n",
       "...             ...    ...       ...         ...          ...  \n",
       "4263          HTelv  40-60     0.416       0.035  11.88571429  \n",
       "4404          HTelv  10-20     0.714       0.058  12.31034483  \n",
       "4405          HTelv   0-10     1.492       0.117  12.75213675  \n",
       "4406          HTelv  20-40      0.61       0.047   12.9787234  \n",
       "4407          HTelv  40-60      0.36       0.029   12.4137931  \n",
       "\n",
       "[96 rows x 16 columns]"
      ]
     },
     "execution_count": 37,
     "metadata": {},
     "output_type": "execute_result"
    }
   ],
   "source": [
    "plant_diversity[(plant_diversity['Temp Treatment']=='HTelv') & (plant_diversity['Year']==2012)]"
   ]
  },
  {
   "cell_type": "code",
   "execution_count": null,
   "metadata": {},
   "outputs": [],
   "source": []
  }
 ],
 "metadata": {
  "kernelspec": {
   "display_name": "Python 3",
   "language": "python",
   "name": "python3"
  },
  "language_info": {
   "codemirror_mode": {
    "name": "ipython",
    "version": 3
   },
   "file_extension": ".py",
   "mimetype": "text/x-python",
   "name": "python",
   "nbconvert_exporter": "python",
   "pygments_lexer": "ipython3",
   "version": "3.8.5"
  }
 },
 "nbformat": 4,
 "nbformat_minor": 4
}
