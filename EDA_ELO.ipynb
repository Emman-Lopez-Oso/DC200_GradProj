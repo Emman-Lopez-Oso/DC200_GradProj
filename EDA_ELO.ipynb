{
 "cells": [
  {
   "cell_type": "code",
   "execution_count": 2,
   "metadata": {},
   "outputs": [],
   "source": [
    "import numpy as np\n",
    "import pandas as pd\n",
    "import seaborn as sns\n",
    "\n",
    "import matplotlib.pyplot as plt\n",
    "%matplotlib inline\n",
    "import plotly.express as px\n",
    "\n",
    "\n",
    "import seaborn as sns\n",
    "sns.set(style = \"whitegrid\", \n",
    "        color_codes = True,\n",
    "        font_scale = 1.5)"
   ]
  },
  {
   "cell_type": "markdown",
   "metadata": {},
   "source": [
    "# Shit we gotta do:\n",
    "\n",
    "### Estimation \n",
    "\n",
    "An evaluation of the report based on the Data Science Lifecycle (10 points, 2 points per component). The review should include at least one strong point and one suggestion for improvement for each of the following components in the project:\n",
    "\n",
    "    Data collection and sampling\n",
    "    Data cleaning\n",
    "    Exploratory data analysis (including data wrangling and visualization)\n",
    "    Data modeling (including feature engineering, selection of the model, and evaluation of the model’s performance)\n",
    "    Inference (do the results from the model sufficiently support the conclusion within the report?)"
   ]
  },
  {
   "cell_type": "markdown",
   "metadata": {},
   "source": [
    "# Data Sampling and Collection\n",
    "\n",
    "## How were the data collected?\n",
    "\n",
    "Give a quick write-up of the explanations that the data dictionaries for the data that we are using. \n",
    "\n",
    "For reference, we are using primarily pollinator 1 and the weather data sampled from 2011-2018\n",
    "\n",
    "## Was there any potential bias introduced in the sampling process?\n",
    "\n",
    "1. Biologist Fatigue \n",
    "2. Biologist Accuracy - The biologist who took these samples may have not been as well trained as others \n",
    "3. According to (**RESEARCH THAT ZACH MENTIONS**) some biologists will not know the plant or pollinator species off-hand and may increase the likelihood of misclassifying them. "
   ]
  },
  {
   "cell_type": "markdown",
   "metadata": {},
   "source": [
    "# Data Dictionary \n",
    "\n",
    "## `CLOUDS`\n",
    "\n",
    "1. S = Sunny\n",
    "2. SH = Shade\n",
    "3. PC = Partly Cloudy\n",
    "4. C = Cloudy\n",
    "\n",
    "## `WIND`\n",
    "\n",
    "1. BR = Breezy\n",
    "2. ST = Still\n",
    "\n",
    "## `MINUTE`\n",
    "\n",
    "On a given sample date, an observer will be there for 15 minutes, which is why the numbers in this variable are from 1-15\n",
    "\n",
    "## `PLOT_ID`\n",
    "\n",
    "Plot ID for a plot in a given meadow. There are 180 individual plots.\n",
    "\n",
    "## `PLOT`\n",
    "\n",
    "Plots in a given meadow. They are numbered 1-10. There are 180 individual plots.\n",
    "\n",
    "## `WATCH`\n",
    "\n",
    "* Code\t\n",
    "    * Definition\n",
    "* 0.5\t\n",
    "    * Phenological period 0.5 (The cone peak complex was sampled an extra time in 2011 during the first week 0.5, 1.5 were used)\t\n",
    "* 1\t\n",
    "    * Phenological period 1\t\n",
    "* 1.5\t\n",
    "    * Phenological period 1.5 (The cone peak complex was sampled an extra time in 2011 during the first week 0.5, 1.5 were used)\t\n",
    "* 2\t\n",
    "    * Phenological period 2\t\n",
    "* 3\t\n",
    "    * Phenological period 3\t\n",
    "* 4\t\n",
    "    * Phenological period 4\t\n",
    "* 5\t\n",
    "    * Phenological period 5\t\n",
    "* 6\t\n",
    "    * Phenological period 6\t\n",
    "* 7\t\n",
    "    * Phenological period 7\n",
    "\n",
    "## Observations \n",
    "\n",
    "1. Dataset covers years 2011-2018\n",
    "2. Plant Pollinators 1 is the number of pollinator interactions with flowers in the area. \n",
    "3. "
   ]
  },
  {
   "cell_type": "code",
   "execution_count": null,
   "metadata": {},
   "outputs": [],
   "source": []
  },
  {
   "cell_type": "markdown",
   "metadata": {},
   "source": [
    "# Data Cleaning\n",
    "\n",
    "## What type of data are you currently exploring?\n",
    "\n",
    "We are currently exploring the `plant_pollinator_diversity_set1.csv` which contains ecological data collected from a long-term observation study from 2011 to 2018 that focuses on plant-pollinator interaction and its impact on local biodiversity. We joined this data with weather station data that collected average temperature and precipitation from three weather stations that surround the forest (H. J. Andrews Experimental Forest)\n",
    "\n",
    "## What is the granularity of the data?\n",
    "\n",
    "VERY. Just kidding. Each observation is a \"minute\" in a 15-minute time window where a researcher is collecting the total number of pollinator-plant interactions within a particular plot of land, within a meadow within a complex (general region in the forest).  \n",
    "\n",
    "## What does the distribution of the data look like? \n",
    "### Are there any outliers? \n",
    "### Are there any missing or invalid entries?"
   ]
  },
  {
   "cell_type": "code",
   "execution_count": 3,
   "metadata": {},
   "outputs": [],
   "source": [
    "df = pd.read_csv('data/plant_pollinator_diversity_set1.csv')\n",
    "#plant_pollinator_2 = pd.read_csv('data/plant_pollinator_diversity_set2.csv')"
   ]
  },
  {
   "cell_type": "code",
   "execution_count": 4,
   "metadata": {},
   "outputs": [
    {
     "data": {
      "text/html": [
       "<div>\n",
       "<style scoped>\n",
       "    .dataframe tbody tr th:only-of-type {\n",
       "        vertical-align: middle;\n",
       "    }\n",
       "\n",
       "    .dataframe tbody tr th {\n",
       "        vertical-align: top;\n",
       "    }\n",
       "\n",
       "    .dataframe thead th {\n",
       "        text-align: right;\n",
       "    }\n",
       "</style>\n",
       "<table border=\"1\" class=\"dataframe\">\n",
       "  <thead>\n",
       "    <tr style=\"text-align: right;\">\n",
       "      <th></th>\n",
       "      <th>DBCODE</th>\n",
       "      <th>ENTITY</th>\n",
       "      <th>COMPLEX</th>\n",
       "      <th>MEADOW</th>\n",
       "      <th>PLOT_ID</th>\n",
       "      <th>YEAR</th>\n",
       "      <th>SAMPLEDATE</th>\n",
       "      <th>WATCH</th>\n",
       "      <th>OBSERVER</th>\n",
       "      <th>PLOT</th>\n",
       "      <th>...</th>\n",
       "      <th>PPI_STATUS</th>\n",
       "      <th>NO_INT</th>\n",
       "      <th>PLTSP_CODE</th>\n",
       "      <th>PLTSP_NAME</th>\n",
       "      <th>VISSP_CODE</th>\n",
       "      <th>VISSP_NAME</th>\n",
       "      <th>VISSP_TYPE</th>\n",
       "      <th>REF_NO</th>\n",
       "      <th>VISSP_NO</th>\n",
       "      <th>QC_NOTES</th>\n",
       "    </tr>\n",
       "  </thead>\n",
       "  <tbody>\n",
       "    <tr>\n",
       "      <th>0</th>\n",
       "      <td>SA026</td>\n",
       "      <td>1</td>\n",
       "      <td>Bunchgrass</td>\n",
       "      <td>BD</td>\n",
       "      <td>BGD01</td>\n",
       "      <td>2011</td>\n",
       "      <td>2011-07-24</td>\n",
       "      <td>2.0</td>\n",
       "      <td>NaN</td>\n",
       "      <td>1</td>\n",
       "      <td>...</td>\n",
       "      <td>1</td>\n",
       "      <td>2.0</td>\n",
       "      <td>ACHIMILL</td>\n",
       "      <td>Achillea millefolium</td>\n",
       "      <td>EPICPUNC</td>\n",
       "      <td>Epicauta puncticollis</td>\n",
       "      <td>predaceous beetle</td>\n",
       "      <td>NaN</td>\n",
       "      <td>1</td>\n",
       "      <td>NaN</td>\n",
       "    </tr>\n",
       "    <tr>\n",
       "      <th>1</th>\n",
       "      <td>SA026</td>\n",
       "      <td>1</td>\n",
       "      <td>Bunchgrass</td>\n",
       "      <td>BD</td>\n",
       "      <td>BGD01</td>\n",
       "      <td>2011</td>\n",
       "      <td>2011-07-24</td>\n",
       "      <td>2.0</td>\n",
       "      <td>NaN</td>\n",
       "      <td>1</td>\n",
       "      <td>...</td>\n",
       "      <td>1</td>\n",
       "      <td>1.0</td>\n",
       "      <td>ACHIMILL</td>\n",
       "      <td>Achillea millefolium</td>\n",
       "      <td>EVYLS5M</td>\n",
       "      <td>Evylaeus sp 5M</td>\n",
       "      <td>halictine bee</td>\n",
       "      <td>NaN</td>\n",
       "      <td>1</td>\n",
       "      <td>NaN</td>\n",
       "    </tr>\n",
       "    <tr>\n",
       "      <th>2</th>\n",
       "      <td>SA026</td>\n",
       "      <td>1</td>\n",
       "      <td>Bunchgrass</td>\n",
       "      <td>BD</td>\n",
       "      <td>BGD01</td>\n",
       "      <td>2011</td>\n",
       "      <td>2011-07-24</td>\n",
       "      <td>2.0</td>\n",
       "      <td>NaN</td>\n",
       "      <td>1</td>\n",
       "      <td>...</td>\n",
       "      <td>1</td>\n",
       "      <td>2.0</td>\n",
       "      <td>ERIGFOLI</td>\n",
       "      <td>Erigeron foliosus</td>\n",
       "      <td>MUSCGEN3</td>\n",
       "      <td>Muscoid genus 3</td>\n",
       "      <td>herbivorous muscoid fly</td>\n",
       "      <td>NaN</td>\n",
       "      <td>1</td>\n",
       "      <td>NaN</td>\n",
       "    </tr>\n",
       "    <tr>\n",
       "      <th>3</th>\n",
       "      <td>SA026</td>\n",
       "      <td>1</td>\n",
       "      <td>Bunchgrass</td>\n",
       "      <td>BD</td>\n",
       "      <td>BGD01</td>\n",
       "      <td>2011</td>\n",
       "      <td>2011-07-24</td>\n",
       "      <td>2.0</td>\n",
       "      <td>NaN</td>\n",
       "      <td>1</td>\n",
       "      <td>...</td>\n",
       "      <td>1</td>\n",
       "      <td>2.0</td>\n",
       "      <td>ERIGFOLI</td>\n",
       "      <td>Erigeron foliosus</td>\n",
       "      <td>MUSCGEN3</td>\n",
       "      <td>Muscoid genus 3</td>\n",
       "      <td>herbivorous muscoid fly</td>\n",
       "      <td>NaN</td>\n",
       "      <td>2</td>\n",
       "      <td>NaN</td>\n",
       "    </tr>\n",
       "    <tr>\n",
       "      <th>4</th>\n",
       "      <td>SA026</td>\n",
       "      <td>1</td>\n",
       "      <td>Bunchgrass</td>\n",
       "      <td>BD</td>\n",
       "      <td>BGD01</td>\n",
       "      <td>2011</td>\n",
       "      <td>2011-07-24</td>\n",
       "      <td>2.0</td>\n",
       "      <td>NaN</td>\n",
       "      <td>1</td>\n",
       "      <td>...</td>\n",
       "      <td>1</td>\n",
       "      <td>2.0</td>\n",
       "      <td>ERIGFOLI</td>\n",
       "      <td>Erigeron foliosus</td>\n",
       "      <td>TRICORNA</td>\n",
       "      <td>Trichodes ornatus</td>\n",
       "      <td>bee-parasitic beetle</td>\n",
       "      <td>NaN</td>\n",
       "      <td>1</td>\n",
       "      <td>NaN</td>\n",
       "    </tr>\n",
       "  </tbody>\n",
       "</table>\n",
       "<p>5 rows × 26 columns</p>\n",
       "</div>"
      ],
      "text/plain": [
       "  DBCODE  ENTITY     COMPLEX MEADOW PLOT_ID  YEAR  SAMPLEDATE  WATCH OBSERVER  \\\n",
       "0  SA026       1  Bunchgrass     BD   BGD01  2011  2011-07-24    2.0      NaN   \n",
       "1  SA026       1  Bunchgrass     BD   BGD01  2011  2011-07-24    2.0      NaN   \n",
       "2  SA026       1  Bunchgrass     BD   BGD01  2011  2011-07-24    2.0      NaN   \n",
       "3  SA026       1  Bunchgrass     BD   BGD01  2011  2011-07-24    2.0      NaN   \n",
       "4  SA026       1  Bunchgrass     BD   BGD01  2011  2011-07-24    2.0      NaN   \n",
       "\n",
       "   PLOT  ...  PPI_STATUS  NO_INT  PLTSP_CODE            PLTSP_NAME VISSP_CODE  \\\n",
       "0     1  ...           1     2.0    ACHIMILL  Achillea millefolium   EPICPUNC   \n",
       "1     1  ...           1     1.0    ACHIMILL  Achillea millefolium    EVYLS5M   \n",
       "2     1  ...           1     2.0    ERIGFOLI     Erigeron foliosus   MUSCGEN3   \n",
       "3     1  ...           1     2.0    ERIGFOLI     Erigeron foliosus   MUSCGEN3   \n",
       "4     1  ...           1     2.0    ERIGFOLI     Erigeron foliosus   TRICORNA   \n",
       "\n",
       "              VISSP_NAME               VISSP_TYPE  REF_NO VISSP_NO QC_NOTES  \n",
       "0  Epicauta puncticollis        predaceous beetle     NaN        1      NaN  \n",
       "1         Evylaeus sp 5M            halictine bee     NaN        1      NaN  \n",
       "2        Muscoid genus 3  herbivorous muscoid fly     NaN        1      NaN  \n",
       "3        Muscoid genus 3  herbivorous muscoid fly     NaN        2      NaN  \n",
       "4      Trichodes ornatus     bee-parasitic beetle     NaN        1      NaN  \n",
       "\n",
       "[5 rows x 26 columns]"
      ]
     },
     "execution_count": 4,
     "metadata": {},
     "output_type": "execute_result"
    }
   ],
   "source": [
    "df.head()"
   ]
  },
  {
   "cell_type": "code",
   "execution_count": 5,
   "metadata": {
    "scrolled": false
   },
   "outputs": [
    {
     "name": "stdout",
     "output_type": "stream",
     "text": [
      "<class 'pandas.core.frame.DataFrame'>\n",
      "RangeIndex: 74131 entries, 0 to 74130\n",
      "Data columns (total 26 columns):\n",
      " #   Column      Non-Null Count  Dtype  \n",
      "---  ------      --------------  -----  \n",
      " 0   DBCODE      74131 non-null  object \n",
      " 1   ENTITY      74131 non-null  int64  \n",
      " 2   COMPLEX     74131 non-null  object \n",
      " 3   MEADOW      74131 non-null  object \n",
      " 4   PLOT_ID     74131 non-null  object \n",
      " 5   YEAR        74131 non-null  int64  \n",
      " 6   SAMPLEDATE  74131 non-null  object \n",
      " 7   WATCH       74131 non-null  float64\n",
      " 8   OBSERVER    62345 non-null  object \n",
      " 9   PLOT        74131 non-null  int64  \n",
      " 10  START_TIME  63281 non-null  float64\n",
      " 11  END_TIME    7501 non-null   float64\n",
      " 12  MINUTE      73978 non-null  float64\n",
      " 13  CLOUDS      73737 non-null  object \n",
      " 14  WIND        73860 non-null  object \n",
      " 15  TEMP        46439 non-null  float64\n",
      " 16  PPI_STATUS  74131 non-null  int64  \n",
      " 17  NO_INT      74078 non-null  float64\n",
      " 18  PLTSP_CODE  60271 non-null  object \n",
      " 19  PLTSP_NAME  60271 non-null  object \n",
      " 20  VISSP_CODE  60271 non-null  object \n",
      " 21  VISSP_NAME  60271 non-null  object \n",
      " 22  VISSP_TYPE  38594 non-null  object \n",
      " 23  REF_NO      15175 non-null  object \n",
      " 24  VISSP_NO    74131 non-null  int64  \n",
      " 25  QC_NOTES    3588 non-null   object \n",
      "dtypes: float64(6), int64(5), object(15)\n",
      "memory usage: 14.7+ MB\n"
     ]
    }
   ],
   "source": [
    "#both datasets cover observations from 2011 to 2018\n",
    "df.info()"
   ]
  },
  {
   "cell_type": "markdown",
   "metadata": {},
   "source": [
    "#### Find outliers in the data \n",
    "\n",
    "#### Missing or invalid entries \n",
    "\n",
    "There are a total of 74,131 observations in our data. The highest number of missing values comes from the `QC_NOTES` column, which has 68743 null values. The following table outlines which variables have missing values and how important they are to our project's mission.\n",
    "\n",
    "Column Name  | # of Missing Entries| Importance \n",
    "------------- | -------------| -------------|\n",
    "OBSERVER  | 11,786| Medium |\n",
    "START_TIME  | 10,850| Low|\n",
    "END_TIME | 66630 | Low|\n",
    "MINUTE | 153 | Low |\n",
    "CLOUDS | 394 | Medium | \n",
    "WIND | 271 | Medium |\n",
    "TEMP | 27692 | High | \n",
    "NO_INT | 53 | Medium| \n",
    "PLTSP_CODE | 13860 | Low|\n",
    "PLTSP_NAME | 13860 | Low|\n",
    "VISSP_CODE | 13860 | Low|\n",
    "VISSP_NAME | 13860 | Low|\n",
    "VISSP_TYPE | 35537 | Low| \n",
    "REF_NO | 58956 | Low | \n",
    "QC_NOTES | 68743 | Low|"
   ]
  },
  {
   "cell_type": "markdown",
   "metadata": {},
   "source": [
    "### Why `PLTSP_CODE`, `PLTSP_NAME`, `VISSP_CODE`, `VISSP_NAME`, and `VISSP_TYPE` are missing data\n",
    "\n",
    "Each one of these variables describe the type of plant (PLTSP = Plant species) and insect/pollinator (Visitor Species) that were seen in one of the interactions. \n",
    "\n",
    "One peculiar instance is that the `VISSP_NO` variable all came out to 1 even though there are no plant species or visitor species identified. We are going to remove these data from the dataset to remove any outliers, however, this takes out a very large chunk from out sample. Not only is the total removed come out to being ~19% of our data, but it removes over 60% of the observations from 2014, 2015, and 25% of the data from 2016 as seen in the histogram below. \n",
    "\n",
    "\n",
    "However, while we are not given any of the species information for any of the plants or visitors, we believe that we should keep the data because it indicates that there **was** a pollinator-plant interaction. Our assumption here is that the researcher that went out on this particular day did not know the species of the bug or the plant and simply made a count without being able to dictate what species it was. However, this is still a count of an interaction."
   ]
  },
  {
   "cell_type": "code",
<<<<<<< HEAD
   "execution_count": 8,
=======
   "execution_count": 48,
>>>>>>> c45fe02812fd66ddda5e9283587901438e2d1999
   "metadata": {},
   "outputs": [
    {
     "data": {
      "text/plain": [
       "<AxesSubplot:>"
      ]
     },
<<<<<<< HEAD
     "execution_count": 8,
=======
     "execution_count": 48,
>>>>>>> c45fe02812fd66ddda5e9283587901438e2d1999
     "metadata": {},
     "output_type": "execute_result"
    },
    {
     "data": {
      "image/png": "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\n",
      "text/plain": [
       "<Figure size 432x288 with 1 Axes>"
      ]
     },
     "metadata": {},
     "output_type": "display_data"
    }
   ],
   "source": [
    "# show the observations that will be gone from each year. \n",
    "df.loc[df['PLTSP_CODE'].isna(),'year'].hist(bins=5)"
   ]
  },
  {
   "cell_type": "code",
   "execution_count": 9,
   "metadata": {},
   "outputs": [
    {
     "data": {
      "text/plain": [
       "S     63236\n",
       "PC     4344\n",
       "SH     4036\n",
       "C      2121\n",
       "Name: CLOUDS, dtype: int64"
      ]
     },
     "execution_count": 9,
     "metadata": {},
     "output_type": "execute_result"
    }
   ],
   "source": [
    "df['CLOUDS'].value_counts()"
   ]
  },
  {
   "cell_type": "code",
   "execution_count": 10,
   "metadata": {},
   "outputs": [
    {
     "data": {
      "text/plain": [
       "0        sunny\n",
       "1        sunny\n",
       "2        sunny\n",
       "3        sunny\n",
       "4        sunny\n",
       "         ...  \n",
       "74126    sunny\n",
       "74127    sunny\n",
       "74128    sunny\n",
       "74129    sunny\n",
       "74130    sunny\n",
       "Name: CLOUDS, Length: 74131, dtype: object"
      ]
     },
     "execution_count": 10,
     "metadata": {},
     "output_type": "execute_result"
    }
   ],
   "source": [
    "df['CLOUDS'].replace({'S':'sunny','PC':'p_cloudy','SH':'shade','C':'cloudy'})"
   ]
  },
  {
   "cell_type": "code",
   "execution_count": 11,
   "metadata": {},
   "outputs": [
    {
     "data": {
      "text/plain": [
       "array(['BGD01', 'BGD02', 'BGD03', 'BGD04', 'BGD05', 'BGD06', 'BGD07',\n",
       "       'BGD08', 'BGD09', 'BGD10', 'BGH01', 'BGH02', 'BGH03', 'BGH04',\n",
       "       'BGH05', 'BGH06', 'BGH07', 'BGH08', 'BGH09', 'BGH10', 'BGS01',\n",
       "       'BGS02', 'BGS03', 'BGS04', 'BGS05', 'BGS06', 'BGS07', 'BGS08',\n",
       "       'BGS09', 'BGS10', 'CNE01', 'CNE02', 'CNE03', 'CNE04', 'CNE05',\n",
       "       'CNE06', 'CNE07', 'CNE08', 'CNE09', 'CNE10', 'CNM01', 'CNM02',\n",
       "       'CNM03', 'CNM04', 'CNM05', 'CNM06', 'CNM07', 'CNM08', 'CNM09',\n",
       "       'CNM10', 'CNT01', 'CNT02', 'CNT03', 'CNT04', 'CNT05', 'CNT06',\n",
       "       'CNT07', 'CNT08', 'CNT09', 'CNT10', 'CPB01', 'CPB02', 'CPB03',\n",
       "       'CPB04', 'CPB05', 'CPB06', 'CPB07', 'CPB08', 'CPB09', 'CPB10',\n",
       "       'CPM01', 'CPM02', 'CPM03', 'CPM04', 'CPM05', 'CPM06', 'CPM07',\n",
       "       'CPM08', 'CPM09', 'CPM10', 'CPR01', 'CPR02', 'CPR03', 'CPR04',\n",
       "       'CPR05', 'CPR06', 'CPR07', 'CPR08', 'CPR09', 'CPR10', 'CPS01',\n",
       "       'CPS02', 'CPS03', 'CPS04', 'CPS05', 'CPS06', 'CPS07', 'CPS08',\n",
       "       'CPS09', 'CPS10', 'FM201', 'FM202', 'FM203', 'FM204', 'FM205',\n",
       "       'FM206', 'FM207', 'FM208', 'FM209', 'FM210', 'FNE01', 'FNE02',\n",
       "       'FNE03', 'FNE04', 'FNE05', 'FNE06', 'FNE07', 'FNE08', 'FNE09',\n",
       "       'FNE10', 'LOB01', 'LOB02', 'LOB03', 'LOB04', 'LOB05', 'LOB06',\n",
       "       'LOB07', 'LOB08', 'LOB09', 'LOB10', 'LOM01', 'LOM02', 'LOM03',\n",
       "       'LOM04', 'LOM05', 'LOM06', 'LOM07', 'LOM08', 'LOM09', 'LOM10',\n",
       "       'LOO01', 'LOO02', 'LOO03', 'LOO04', 'LOO05', 'LOO06', 'LOO07',\n",
       "       'LOO08', 'LOO09', 'LOO10', 'LOS01', 'LOS02', 'LOS03', 'LOS04',\n",
       "       'LOS05', 'LOS06', 'LOS07', 'LOS08', 'LOS09', 'LOS10', 'RP101',\n",
       "       'RP102', 'RP103', 'RP104', 'RP105', 'RP106', 'RP107', 'RP108',\n",
       "       'RP109', 'RP110', 'RP201', 'RP202', 'RP203', 'RP204', 'RP205',\n",
       "       'RP206', 'RP207', 'RP208', 'RP209', 'RP210'], dtype=object)"
      ]
     },
     "execution_count": 11,
     "metadata": {},
     "output_type": "execute_result"
    }
   ],
   "source": [
    "df['PLOT_ID'].unique()"
   ]
  },
  {
   "cell_type": "code",
   "execution_count": 12,
   "metadata": {},
   "outputs": [],
   "source": [
    "df['DATETIME'] = pd.to_datetime(df['SAMPLEDATE'])\n",
    "\n",
    "df['Date'] = pd.to_datetime(df['SAMPLEDATE'], format='%Y-%m-%d')\n",
    "\n",
    "df['MY'] = df['DATETIME'].dt.to_period('M')\n",
    "# Create a month and year variable \n",
    "df['month'] = df['DATETIME'].dt.month\n",
    "df['year'] = df['DATETIME'].dt.year\n"
   ]
  },
  {
   "cell_type": "code",
   "execution_count": 13,
   "metadata": {
    "scrolled": true
   },
   "outputs": [
    {
     "data": {
      "text/plain": [
       "S     63236\n",
       "PC     4344\n",
       "SH     4036\n",
       "C      2121\n",
       "Name: CLOUDS, dtype: int64"
      ]
     },
     "execution_count": 13,
     "metadata": {},
     "output_type": "execute_result"
    }
   ],
   "source": [
    "df['CLOUDS'].value_counts()"
   ]
  },
  {
   "cell_type": "code",
   "execution_count": 14,
   "metadata": {},
   "outputs": [],
   "source": [
    "df['temp_f'] = df['TEMP']* 1.8000 + 32.00"
   ]
  },
  {
   "cell_type": "code",
   "execution_count": 45,
   "metadata": {},
   "outputs": [
    {
     "data": {
      "image/png": "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\n",
      "text/plain": [
       "<Figure size 360x360 with 1 Axes>"
      ]
     },
     "metadata": {},
     "output_type": "display_data"
    }
   ],
   "source": [
    "#looking at distribution of 'WATCH'\n",
    "ax = sns.displot(df['temp_f'])"
   ]
  },
  {
   "cell_type": "code",
   "execution_count": 30,
   "metadata": {},
   "outputs": [
    {
     "data": {
      "text/plain": [
       "0.00    50.0\n",
       "0.01    55.4\n",
       "0.20    68.0\n",
       "0.40    71.6\n",
       "0.60    77.0\n",
       "0.80    82.4\n",
       "0.99    95.0\n",
       "Name: temp_f, dtype: float64"
      ]
     },
     "execution_count": 30,
     "metadata": {},
     "output_type": "execute_result"
    }
   ],
   "source": [
    "df['temp_f'].quantile([0, .01, .2,.4,.6,.8,.99])"
   ]
  },
  {
   "cell_type": "code",
   "execution_count": 47,
   "metadata": {},
   "outputs": [
    {
     "data": {
      "text/plain": [
       "<AxesSubplot:xlabel='VISSP_NO', ylabel='temp_f'>"
      ]
     },
     "execution_count": 47,
     "metadata": {},
     "output_type": "execute_result"
    },
    {
     "data": {
      "image/png": "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\n",
      "text/plain": [
       "<Figure size 432x288 with 1 Axes>"
      ]
     },
     "metadata": {},
     "output_type": "display_data"
    }
   ],
   "source": [
    "sns.scatterplot(data=df, x=\"VISSP_NO\", y=\"temp_f\")"
   ]
  },
  {
   "cell_type": "code",
   "execution_count": 48,
   "metadata": {},
   "outputs": [
    {
     "data": {
      "text/plain": [
       "<AxesSubplot:xlabel='NO_INT', ylabel='temp_f'>"
      ]
     },
     "execution_count": 48,
     "metadata": {},
     "output_type": "execute_result"
    },
    {
     "data": {
      "image/png": "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\n",
      "text/plain": [
       "<Figure size 432x288 with 1 Axes>"
      ]
     },
     "metadata": {},
     "output_type": "display_data"
    }
   ],
   "source": [
    "sns.scatterplot(data=df, x=\"NO_INT\", y=\"temp_f\")"
   ]
  },
  {
   "cell_type": "code",
   "execution_count": 26,
   "metadata": {},
   "outputs": [
    {
     "data": {
      "text/plain": [
       "1    20443\n",
       "0     2747\n",
       "Name: PPI_STATUS, dtype: int64"
      ]
     },
     "execution_count": 26,
     "metadata": {},
     "output_type": "execute_result"
    }
   ],
   "source": [
    "df.loc[df['MINUTE'] > 3,'PPI_STATUS'].value_counts()"
   ]
  },
  {
   "cell_type": "code",
   "execution_count": 44,
   "metadata": {},
   "outputs": [
    {
     "data": {
      "text/plain": [
       "<AxesSubplot:xlabel='NO_INT', ylabel='PLOT'>"
      ]
     },
     "execution_count": 44,
     "metadata": {},
     "output_type": "execute_result"
    },
    {
     "data": {
      "image/png": "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\n",
      "text/plain": [
       "<Figure size 432x288 with 1 Axes>"
      ]
     },
     "metadata": {},
     "output_type": "display_data"
    }
   ],
   "source": [
    "sns.scatterplot(data=df, x=\"NO_INT\", y=\"PLOT\")"
   ]
  },
  {
   "cell_type": "code",
   "execution_count": 75,
   "metadata": {},
   "outputs": [
    {
     "data": {
      "text/plain": [
       "<AxesSubplot:xlabel='VISSP_NO', ylabel='PLOT'>"
      ]
     },
     "execution_count": 75,
     "metadata": {},
     "output_type": "execute_result"
    },
    {
     "data": {
      "image/png": "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\n",
      "text/plain": [
       "<Figure size 432x288 with 1 Axes>"
      ]
     },
     "metadata": {},
     "output_type": "display_data"
    }
   ],
   "source": [
    "sns.scatterplot(data=df, x=\"VISSP_NO\", y=\"PLOT\")"
   ]
  },
  {
   "cell_type": "code",
   "execution_count": 36,
   "metadata": {},
   "outputs": [],
   "source": [
    "#df['int_1'] = df[df['NO_INT'] > 0]\n",
    "df_2 = df.loc[(df['NO_INT'] > 0)]"
   ]
  },
  {
   "cell_type": "code",
   "execution_count": 72,
   "metadata": {},
   "outputs": [
    {
     "data": {
      "image/png": "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\n",
      "text/plain": [
       "<Figure size 432x288 with 1 Axes>"
      ]
     },
     "metadata": {},
     "output_type": "display_data"
    }
   ],
   "source": [
    "#ax = sns.countplot(x=\"NO_INT\", hue='WIND', data=df_2)\n",
    "#plt.xticks(rotation = 90);\n",
    "\n",
    "\n",
    "ax = sns.barplot(x=\"PLOT\", y=\"VISSP_NO\", data=df_2)"
   ]
  },
  {
   "cell_type": "code",
   "execution_count": 18,
   "metadata": {},
   "outputs": [
    {
     "data": {
      "text/html": [
       "<div>\n",
       "<style scoped>\n",
       "    .dataframe tbody tr th:only-of-type {\n",
       "        vertical-align: middle;\n",
       "    }\n",
       "\n",
       "    .dataframe tbody tr th {\n",
       "        vertical-align: top;\n",
       "    }\n",
       "\n",
       "    .dataframe thead th {\n",
       "        text-align: right;\n",
       "    }\n",
       "</style>\n",
       "<table border=\"1\" class=\"dataframe\">\n",
       "  <thead>\n",
       "    <tr style=\"text-align: right;\">\n",
       "      <th></th>\n",
       "      <th>ENTITY</th>\n",
       "      <th>YEAR</th>\n",
       "      <th>WATCH</th>\n",
       "      <th>PLOT</th>\n",
       "      <th>START_TIME</th>\n",
       "      <th>END_TIME</th>\n",
       "      <th>MINUTE</th>\n",
       "      <th>TEMP</th>\n",
       "      <th>PPI_STATUS</th>\n",
       "      <th>NO_INT</th>\n",
       "      <th>VISSP_NO</th>\n",
       "      <th>month</th>\n",
       "      <th>year</th>\n",
       "      <th>temp_f</th>\n",
       "    </tr>\n",
       "  </thead>\n",
       "  <tbody>\n",
       "    <tr>\n",
       "      <th>count</th>\n",
       "      <td>74131.0</td>\n",
       "      <td>74131.000000</td>\n",
       "      <td>74131.000000</td>\n",
       "      <td>74131.000000</td>\n",
       "      <td>63281.000000</td>\n",
       "      <td>7501.000000</td>\n",
       "      <td>73978.000000</td>\n",
       "      <td>46439.000000</td>\n",
       "      <td>74131.000000</td>\n",
       "      <td>74078.000000</td>\n",
       "      <td>74131.000000</td>\n",
       "      <td>74131.000000</td>\n",
       "      <td>74131.000000</td>\n",
       "      <td>46439.000000</td>\n",
       "    </tr>\n",
       "    <tr>\n",
       "      <th>mean</th>\n",
       "      <td>1.0</td>\n",
       "      <td>2014.650214</td>\n",
       "      <td>2.899293</td>\n",
       "      <td>5.417949</td>\n",
       "      <td>1207.213666</td>\n",
       "      <td>1226.535795</td>\n",
       "      <td>7.163008</td>\n",
       "      <td>23.727191</td>\n",
       "      <td>0.813034</td>\n",
       "      <td>2.661154</td>\n",
       "      <td>1.719901</td>\n",
       "      <td>7.069607</td>\n",
       "      <td>2014.650214</td>\n",
       "      <td>74.708943</td>\n",
       "    </tr>\n",
       "    <tr>\n",
       "      <th>std</th>\n",
       "      <td>0.0</td>\n",
       "      <td>2.386329</td>\n",
       "      <td>1.382982</td>\n",
       "      <td>2.887788</td>\n",
       "      <td>179.136644</td>\n",
       "      <td>158.411665</td>\n",
       "      <td>4.560885</td>\n",
       "      <td>4.662489</td>\n",
       "      <td>0.389887</td>\n",
       "      <td>4.175597</td>\n",
       "      <td>2.181709</td>\n",
       "      <td>0.580854</td>\n",
       "      <td>2.386329</td>\n",
       "      <td>8.392481</td>\n",
       "    </tr>\n",
       "    <tr>\n",
       "      <th>min</th>\n",
       "      <td>1.0</td>\n",
       "      <td>2011.000000</td>\n",
       "      <td>0.500000</td>\n",
       "      <td>1.000000</td>\n",
       "      <td>825.000000</td>\n",
       "      <td>918.000000</td>\n",
       "      <td>1.000000</td>\n",
       "      <td>10.000000</td>\n",
       "      <td>0.000000</td>\n",
       "      <td>0.000000</td>\n",
       "      <td>1.000000</td>\n",
       "      <td>6.000000</td>\n",
       "      <td>2011.000000</td>\n",
       "      <td>50.000000</td>\n",
       "    </tr>\n",
       "    <tr>\n",
       "      <th>25%</th>\n",
       "      <td>1.0</td>\n",
       "      <td>2013.000000</td>\n",
       "      <td>2.000000</td>\n",
       "      <td>3.000000</td>\n",
       "      <td>1050.000000</td>\n",
       "      <td>1110.000000</td>\n",
       "      <td>3.000000</td>\n",
       "      <td>20.000000</td>\n",
       "      <td>1.000000</td>\n",
       "      <td>1.000000</td>\n",
       "      <td>1.000000</td>\n",
       "      <td>7.000000</td>\n",
       "      <td>2013.000000</td>\n",
       "      <td>68.000000</td>\n",
       "    </tr>\n",
       "    <tr>\n",
       "      <th>50%</th>\n",
       "      <td>1.0</td>\n",
       "      <td>2015.000000</td>\n",
       "      <td>3.000000</td>\n",
       "      <td>5.000000</td>\n",
       "      <td>1157.000000</td>\n",
       "      <td>1216.000000</td>\n",
       "      <td>7.000000</td>\n",
       "      <td>24.000000</td>\n",
       "      <td>1.000000</td>\n",
       "      <td>1.000000</td>\n",
       "      <td>1.000000</td>\n",
       "      <td>7.000000</td>\n",
       "      <td>2015.000000</td>\n",
       "      <td>75.200000</td>\n",
       "    </tr>\n",
       "    <tr>\n",
       "      <th>75%</th>\n",
       "      <td>1.0</td>\n",
       "      <td>2017.000000</td>\n",
       "      <td>4.000000</td>\n",
       "      <td>8.000000</td>\n",
       "      <td>1328.000000</td>\n",
       "      <td>1336.000000</td>\n",
       "      <td>11.000000</td>\n",
       "      <td>27.000000</td>\n",
       "      <td>1.000000</td>\n",
       "      <td>3.000000</td>\n",
       "      <td>2.000000</td>\n",
       "      <td>7.000000</td>\n",
       "      <td>2017.000000</td>\n",
       "      <td>80.600000</td>\n",
       "    </tr>\n",
       "    <tr>\n",
       "      <th>max</th>\n",
       "      <td>1.0</td>\n",
       "      <td>2018.000000</td>\n",
       "      <td>7.000000</td>\n",
       "      <td>10.000000</td>\n",
       "      <td>1848.000000</td>\n",
       "      <td>1631.000000</td>\n",
       "      <td>15.000000</td>\n",
       "      <td>44.000000</td>\n",
       "      <td>1.000000</td>\n",
       "      <td>225.000000</td>\n",
       "      <td>35.000000</td>\n",
       "      <td>9.000000</td>\n",
       "      <td>2018.000000</td>\n",
       "      <td>111.200000</td>\n",
       "    </tr>\n",
       "  </tbody>\n",
       "</table>\n",
       "</div>"
      ],
      "text/plain": [
       "        ENTITY          YEAR         WATCH          PLOT    START_TIME  \\\n",
       "count  74131.0  74131.000000  74131.000000  74131.000000  63281.000000   \n",
       "mean       1.0   2014.650214      2.899293      5.417949   1207.213666   \n",
       "std        0.0      2.386329      1.382982      2.887788    179.136644   \n",
       "min        1.0   2011.000000      0.500000      1.000000    825.000000   \n",
       "25%        1.0   2013.000000      2.000000      3.000000   1050.000000   \n",
       "50%        1.0   2015.000000      3.000000      5.000000   1157.000000   \n",
       "75%        1.0   2017.000000      4.000000      8.000000   1328.000000   \n",
       "max        1.0   2018.000000      7.000000     10.000000   1848.000000   \n",
       "\n",
       "          END_TIME        MINUTE          TEMP    PPI_STATUS        NO_INT  \\\n",
       "count  7501.000000  73978.000000  46439.000000  74131.000000  74078.000000   \n",
       "mean   1226.535795      7.163008     23.727191      0.813034      2.661154   \n",
       "std     158.411665      4.560885      4.662489      0.389887      4.175597   \n",
       "min     918.000000      1.000000     10.000000      0.000000      0.000000   \n",
       "25%    1110.000000      3.000000     20.000000      1.000000      1.000000   \n",
       "50%    1216.000000      7.000000     24.000000      1.000000      1.000000   \n",
       "75%    1336.000000     11.000000     27.000000      1.000000      3.000000   \n",
       "max    1631.000000     15.000000     44.000000      1.000000    225.000000   \n",
       "\n",
       "           VISSP_NO         month          year        temp_f  \n",
       "count  74131.000000  74131.000000  74131.000000  46439.000000  \n",
       "mean       1.719901      7.069607   2014.650214     74.708943  \n",
       "std        2.181709      0.580854      2.386329      8.392481  \n",
       "min        1.000000      6.000000   2011.000000     50.000000  \n",
       "25%        1.000000      7.000000   2013.000000     68.000000  \n",
       "50%        1.000000      7.000000   2015.000000     75.200000  \n",
       "75%        2.000000      7.000000   2017.000000     80.600000  \n",
       "max       35.000000      9.000000   2018.000000    111.200000  "
      ]
     },
     "execution_count": 18,
     "metadata": {},
     "output_type": "execute_result"
    }
   ],
   "source": [
    "df.describe()"
   ]
  },
  {
   "cell_type": "code",
   "execution_count": 84,
   "metadata": {},
   "outputs": [
    {
     "data": {
      "image/png": "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\n",
      "text/plain": [
       "<Figure size 432x288 with 1 Axes>"
      ]
     },
     "metadata": {},
     "output_type": "display_data"
    }
   ],
   "source": [
    "ax = sns.countplot(x=\"WATCH\", data=df_2)"
   ]
  },
  {
   "cell_type": "code",
   "execution_count": 94,
   "metadata": {},
   "outputs": [
    {
     "data": {
      "text/html": [
       "<div>\n",
       "<style scoped>\n",
       "    .dataframe tbody tr th:only-of-type {\n",
       "        vertical-align: middle;\n",
       "    }\n",
       "\n",
       "    .dataframe tbody tr th {\n",
       "        vertical-align: top;\n",
       "    }\n",
       "\n",
       "    .dataframe thead th {\n",
       "        text-align: right;\n",
       "    }\n",
       "</style>\n",
       "<table border=\"1\" class=\"dataframe\">\n",
       "  <thead>\n",
       "    <tr style=\"text-align: right;\">\n",
       "      <th></th>\n",
       "      <th>ENTITY</th>\n",
       "      <th>WATCH</th>\n",
       "      <th>PLOT</th>\n",
       "      <th>START_TIME</th>\n",
       "      <th>END_TIME</th>\n",
       "      <th>MINUTE</th>\n",
       "      <th>TEMP</th>\n",
       "      <th>PPI_STATUS</th>\n",
       "      <th>NO_INT</th>\n",
       "      <th>VISSP_NO</th>\n",
       "      <th>month</th>\n",
       "      <th>year</th>\n",
       "      <th>temp_f</th>\n",
       "    </tr>\n",
       "    <tr>\n",
       "      <th>YEAR</th>\n",
       "      <th></th>\n",
       "      <th></th>\n",
       "      <th></th>\n",
       "      <th></th>\n",
       "      <th></th>\n",
       "      <th></th>\n",
       "      <th></th>\n",
       "      <th></th>\n",
       "      <th></th>\n",
       "      <th></th>\n",
       "      <th></th>\n",
       "      <th></th>\n",
       "      <th></th>\n",
       "    </tr>\n",
       "  </thead>\n",
       "  <tbody>\n",
       "    <tr>\n",
       "      <th>2011</th>\n",
       "      <td>1.0</td>\n",
       "      <td>3.148370</td>\n",
       "      <td>5.377908</td>\n",
       "      <td>NaN</td>\n",
       "      <td>NaN</td>\n",
       "      <td>1.984526</td>\n",
       "      <td>NaN</td>\n",
       "      <td>1.000000</td>\n",
       "      <td>3.719903</td>\n",
       "      <td>3.162530</td>\n",
       "      <td>7.663552</td>\n",
       "      <td>2011.0</td>\n",
       "      <td>NaN</td>\n",
       "    </tr>\n",
       "    <tr>\n",
       "      <th>2012</th>\n",
       "      <td>1.0</td>\n",
       "      <td>2.600977</td>\n",
       "      <td>5.171778</td>\n",
       "      <td>1253.963945</td>\n",
       "      <td>NaN</td>\n",
       "      <td>7.762615</td>\n",
       "      <td>NaN</td>\n",
       "      <td>1.000000</td>\n",
       "      <td>1.847589</td>\n",
       "      <td>1.429078</td>\n",
       "      <td>7.412340</td>\n",
       "      <td>2012.0</td>\n",
       "      <td>NaN</td>\n",
       "    </tr>\n",
       "    <tr>\n",
       "      <th>2013</th>\n",
       "      <td>1.0</td>\n",
       "      <td>3.092460</td>\n",
       "      <td>5.696420</td>\n",
       "      <td>1199.208479</td>\n",
       "      <td>1234.355610</td>\n",
       "      <td>7.733130</td>\n",
       "      <td>26.146763</td>\n",
       "      <td>1.000000</td>\n",
       "      <td>3.740707</td>\n",
       "      <td>1.346687</td>\n",
       "      <td>7.145468</td>\n",
       "      <td>2013.0</td>\n",
       "      <td>79.064173</td>\n",
       "    </tr>\n",
       "    <tr>\n",
       "      <th>2014</th>\n",
       "      <td>1.0</td>\n",
       "      <td>2.853641</td>\n",
       "      <td>5.567742</td>\n",
       "      <td>1176.490589</td>\n",
       "      <td>1174.318321</td>\n",
       "      <td>8.053088</td>\n",
       "      <td>26.515516</td>\n",
       "      <td>0.430691</td>\n",
       "      <td>2.173272</td>\n",
       "      <td>1.145346</td>\n",
       "      <td>7.144793</td>\n",
       "      <td>2014.0</td>\n",
       "      <td>79.727928</td>\n",
       "    </tr>\n",
       "    <tr>\n",
       "      <th>2015</th>\n",
       "      <td>1.0</td>\n",
       "      <td>2.695033</td>\n",
       "      <td>5.609228</td>\n",
       "      <td>1221.041902</td>\n",
       "      <td>NaN</td>\n",
       "      <td>7.904484</td>\n",
       "      <td>23.718034</td>\n",
       "      <td>0.342750</td>\n",
       "      <td>1.313037</td>\n",
       "      <td>1.079214</td>\n",
       "      <td>6.654190</td>\n",
       "      <td>2015.0</td>\n",
       "      <td>74.692462</td>\n",
       "    </tr>\n",
       "    <tr>\n",
       "      <th>2016</th>\n",
       "      <td>1.0</td>\n",
       "      <td>3.179861</td>\n",
       "      <td>5.167413</td>\n",
       "      <td>1237.852082</td>\n",
       "      <td>NaN</td>\n",
       "      <td>8.050557</td>\n",
       "      <td>23.445467</td>\n",
       "      <td>0.738735</td>\n",
       "      <td>1.635006</td>\n",
       "      <td>1.373537</td>\n",
       "      <td>6.807568</td>\n",
       "      <td>2016.0</td>\n",
       "      <td>74.201841</td>\n",
       "    </tr>\n",
       "    <tr>\n",
       "      <th>2017</th>\n",
       "      <td>1.0</td>\n",
       "      <td>3.530346</td>\n",
       "      <td>5.163774</td>\n",
       "      <td>1183.913689</td>\n",
       "      <td>NaN</td>\n",
       "      <td>8.211528</td>\n",
       "      <td>23.276316</td>\n",
       "      <td>1.000000</td>\n",
       "      <td>2.832755</td>\n",
       "      <td>2.063427</td>\n",
       "      <td>6.930472</td>\n",
       "      <td>2017.0</td>\n",
       "      <td>73.897368</td>\n",
       "    </tr>\n",
       "    <tr>\n",
       "      <th>2018</th>\n",
       "      <td>1.0</td>\n",
       "      <td>2.292986</td>\n",
       "      <td>5.563385</td>\n",
       "      <td>1195.276127</td>\n",
       "      <td>NaN</td>\n",
       "      <td>8.114166</td>\n",
       "      <td>21.591374</td>\n",
       "      <td>1.000000</td>\n",
       "      <td>3.645426</td>\n",
       "      <td>1.818234</td>\n",
       "      <td>6.802439</td>\n",
       "      <td>2018.0</td>\n",
       "      <td>70.864473</td>\n",
       "    </tr>\n",
       "  </tbody>\n",
       "</table>\n",
       "</div>"
      ],
      "text/plain": [
       "      ENTITY     WATCH      PLOT   START_TIME     END_TIME    MINUTE  \\\n",
       "YEAR                                                                   \n",
       "2011     1.0  3.148370  5.377908          NaN          NaN  1.984526   \n",
       "2012     1.0  2.600977  5.171778  1253.963945          NaN  7.762615   \n",
       "2013     1.0  3.092460  5.696420  1199.208479  1234.355610  7.733130   \n",
       "2014     1.0  2.853641  5.567742  1176.490589  1174.318321  8.053088   \n",
       "2015     1.0  2.695033  5.609228  1221.041902          NaN  7.904484   \n",
       "2016     1.0  3.179861  5.167413  1237.852082          NaN  8.050557   \n",
       "2017     1.0  3.530346  5.163774  1183.913689          NaN  8.211528   \n",
       "2018     1.0  2.292986  5.563385  1195.276127          NaN  8.114166   \n",
       "\n",
       "           TEMP  PPI_STATUS    NO_INT  VISSP_NO     month    year     temp_f  \n",
       "YEAR                                                                          \n",
       "2011        NaN    1.000000  3.719903  3.162530  7.663552  2011.0        NaN  \n",
       "2012        NaN    1.000000  1.847589  1.429078  7.412340  2012.0        NaN  \n",
       "2013  26.146763    1.000000  3.740707  1.346687  7.145468  2013.0  79.064173  \n",
       "2014  26.515516    0.430691  2.173272  1.145346  7.144793  2014.0  79.727928  \n",
       "2015  23.718034    0.342750  1.313037  1.079214  6.654190  2015.0  74.692462  \n",
       "2016  23.445467    0.738735  1.635006  1.373537  6.807568  2016.0  74.201841  \n",
       "2017  23.276316    1.000000  2.832755  2.063427  6.930472  2017.0  73.897368  \n",
       "2018  21.591374    1.000000  3.645426  1.818234  6.802439  2018.0  70.864473  "
      ]
     },
     "execution_count": 94,
     "metadata": {},
     "output_type": "execute_result"
    }
   ],
   "source": [
    "mean = df.groupby('YEAR').mean()\n",
    "mean"
   ]
  },
  {
   "cell_type": "code",
   "execution_count": 95,
   "metadata": {},
   "outputs": [
    {
     "data": {
      "text/html": [
       "<div>\n",
       "<style scoped>\n",
       "    .dataframe tbody tr th:only-of-type {\n",
       "        vertical-align: middle;\n",
       "    }\n",
       "\n",
       "    .dataframe tbody tr th {\n",
       "        vertical-align: top;\n",
       "    }\n",
       "\n",
       "    .dataframe thead th {\n",
       "        text-align: right;\n",
       "    }\n",
       "</style>\n",
       "<table border=\"1\" class=\"dataframe\">\n",
       "  <thead>\n",
       "    <tr style=\"text-align: right;\">\n",
       "      <th></th>\n",
       "      <th>ENTITY</th>\n",
       "      <th>YEAR</th>\n",
       "      <th>WATCH</th>\n",
       "      <th>PLOT</th>\n",
       "      <th>START_TIME</th>\n",
       "      <th>END_TIME</th>\n",
       "      <th>MINUTE</th>\n",
       "      <th>TEMP</th>\n",
       "      <th>PPI_STATUS</th>\n",
       "      <th>NO_INT</th>\n",
       "      <th>VISSP_NO</th>\n",
       "      <th>month</th>\n",
       "      <th>year</th>\n",
       "      <th>temp_f</th>\n",
       "    </tr>\n",
       "  </thead>\n",
       "  <tbody>\n",
       "    <tr>\n",
       "      <th>count</th>\n",
       "      <td>10275.0</td>\n",
       "      <td>10275.0</td>\n",
       "      <td>10275.000000</td>\n",
       "      <td>10275.000000</td>\n",
       "      <td>0.0</td>\n",
       "      <td>0.0</td>\n",
       "      <td>10275.000000</td>\n",
       "      <td>0.0</td>\n",
       "      <td>10275.0</td>\n",
       "      <td>10275.000000</td>\n",
       "      <td>10275.000000</td>\n",
       "      <td>10275.000000</td>\n",
       "      <td>10275.0</td>\n",
       "      <td>0.0</td>\n",
       "    </tr>\n",
       "    <tr>\n",
       "      <th>mean</th>\n",
       "      <td>1.0</td>\n",
       "      <td>2011.0</td>\n",
       "      <td>3.148370</td>\n",
       "      <td>5.377908</td>\n",
       "      <td>NaN</td>\n",
       "      <td>NaN</td>\n",
       "      <td>1.984526</td>\n",
       "      <td>NaN</td>\n",
       "      <td>1.0</td>\n",
       "      <td>3.719903</td>\n",
       "      <td>3.162530</td>\n",
       "      <td>7.663552</td>\n",
       "      <td>2011.0</td>\n",
       "      <td>NaN</td>\n",
       "    </tr>\n",
       "    <tr>\n",
       "      <th>std</th>\n",
       "      <td>0.0</td>\n",
       "      <td>0.0</td>\n",
       "      <td>1.302338</td>\n",
       "      <td>2.867212</td>\n",
       "      <td>NaN</td>\n",
       "      <td>NaN</td>\n",
       "      <td>0.842730</td>\n",
       "      <td>NaN</td>\n",
       "      <td>0.0</td>\n",
       "      <td>4.450754</td>\n",
       "      <td>4.281175</td>\n",
       "      <td>0.514525</td>\n",
       "      <td>0.0</td>\n",
       "      <td>NaN</td>\n",
       "    </tr>\n",
       "    <tr>\n",
       "      <th>min</th>\n",
       "      <td>1.0</td>\n",
       "      <td>2011.0</td>\n",
       "      <td>0.500000</td>\n",
       "      <td>1.000000</td>\n",
       "      <td>NaN</td>\n",
       "      <td>NaN</td>\n",
       "      <td>1.000000</td>\n",
       "      <td>NaN</td>\n",
       "      <td>1.0</td>\n",
       "      <td>1.000000</td>\n",
       "      <td>1.000000</td>\n",
       "      <td>7.000000</td>\n",
       "      <td>2011.0</td>\n",
       "      <td>NaN</td>\n",
       "    </tr>\n",
       "    <tr>\n",
       "      <th>25%</th>\n",
       "      <td>1.0</td>\n",
       "      <td>2011.0</td>\n",
       "      <td>2.000000</td>\n",
       "      <td>3.000000</td>\n",
       "      <td>NaN</td>\n",
       "      <td>NaN</td>\n",
       "      <td>1.000000</td>\n",
       "      <td>NaN</td>\n",
       "      <td>1.0</td>\n",
       "      <td>1.000000</td>\n",
       "      <td>1.000000</td>\n",
       "      <td>7.000000</td>\n",
       "      <td>2011.0</td>\n",
       "      <td>NaN</td>\n",
       "    </tr>\n",
       "    <tr>\n",
       "      <th>50%</th>\n",
       "      <td>1.0</td>\n",
       "      <td>2011.0</td>\n",
       "      <td>3.000000</td>\n",
       "      <td>5.000000</td>\n",
       "      <td>NaN</td>\n",
       "      <td>NaN</td>\n",
       "      <td>2.000000</td>\n",
       "      <td>NaN</td>\n",
       "      <td>1.0</td>\n",
       "      <td>2.000000</td>\n",
       "      <td>1.000000</td>\n",
       "      <td>8.000000</td>\n",
       "      <td>2011.0</td>\n",
       "      <td>NaN</td>\n",
       "    </tr>\n",
       "    <tr>\n",
       "      <th>75%</th>\n",
       "      <td>1.0</td>\n",
       "      <td>2011.0</td>\n",
       "      <td>4.000000</td>\n",
       "      <td>8.000000</td>\n",
       "      <td>NaN</td>\n",
       "      <td>NaN</td>\n",
       "      <td>3.000000</td>\n",
       "      <td>NaN</td>\n",
       "      <td>1.0</td>\n",
       "      <td>4.000000</td>\n",
       "      <td>3.000000</td>\n",
       "      <td>8.000000</td>\n",
       "      <td>2011.0</td>\n",
       "      <td>NaN</td>\n",
       "    </tr>\n",
       "    <tr>\n",
       "      <th>max</th>\n",
       "      <td>1.0</td>\n",
       "      <td>2011.0</td>\n",
       "      <td>6.000000</td>\n",
       "      <td>10.000000</td>\n",
       "      <td>NaN</td>\n",
       "      <td>NaN</td>\n",
       "      <td>15.000000</td>\n",
       "      <td>NaN</td>\n",
       "      <td>1.0</td>\n",
       "      <td>22.000000</td>\n",
       "      <td>35.000000</td>\n",
       "      <td>9.000000</td>\n",
       "      <td>2011.0</td>\n",
       "      <td>NaN</td>\n",
       "    </tr>\n",
       "  </tbody>\n",
       "</table>\n",
       "</div>"
      ],
      "text/plain": [
       "        ENTITY     YEAR         WATCH          PLOT  START_TIME  END_TIME  \\\n",
       "count  10275.0  10275.0  10275.000000  10275.000000         0.0       0.0   \n",
       "mean       1.0   2011.0      3.148370      5.377908         NaN       NaN   \n",
       "std        0.0      0.0      1.302338      2.867212         NaN       NaN   \n",
       "min        1.0   2011.0      0.500000      1.000000         NaN       NaN   \n",
       "25%        1.0   2011.0      2.000000      3.000000         NaN       NaN   \n",
       "50%        1.0   2011.0      3.000000      5.000000         NaN       NaN   \n",
       "75%        1.0   2011.0      4.000000      8.000000         NaN       NaN   \n",
       "max        1.0   2011.0      6.000000     10.000000         NaN       NaN   \n",
       "\n",
       "             MINUTE  TEMP  PPI_STATUS        NO_INT      VISSP_NO  \\\n",
       "count  10275.000000   0.0     10275.0  10275.000000  10275.000000   \n",
       "mean       1.984526   NaN         1.0      3.719903      3.162530   \n",
       "std        0.842730   NaN         0.0      4.450754      4.281175   \n",
       "min        1.000000   NaN         1.0      1.000000      1.000000   \n",
       "25%        1.000000   NaN         1.0      1.000000      1.000000   \n",
       "50%        2.000000   NaN         1.0      2.000000      1.000000   \n",
       "75%        3.000000   NaN         1.0      4.000000      3.000000   \n",
       "max       15.000000   NaN         1.0     22.000000     35.000000   \n",
       "\n",
       "              month     year  temp_f  \n",
       "count  10275.000000  10275.0     0.0  \n",
       "mean       7.663552   2011.0     NaN  \n",
       "std        0.514525      0.0     NaN  \n",
       "min        7.000000   2011.0     NaN  \n",
       "25%        7.000000   2011.0     NaN  \n",
       "50%        8.000000   2011.0     NaN  \n",
       "75%        8.000000   2011.0     NaN  \n",
       "max        9.000000   2011.0     NaN  "
      ]
     },
     "execution_count": 95,
     "metadata": {},
     "output_type": "execute_result"
    }
   ],
   "source": [
    "df.loc[df['YEAR'] == 2011].describe()"
   ]
  },
  {
   "cell_type": "code",
   "execution_count": 96,
   "metadata": {},
   "outputs": [
    {
     "data": {
      "text/html": [
       "<div>\n",
       "<style scoped>\n",
       "    .dataframe tbody tr th:only-of-type {\n",
       "        vertical-align: middle;\n",
       "    }\n",
       "\n",
       "    .dataframe tbody tr th {\n",
       "        vertical-align: top;\n",
       "    }\n",
       "\n",
       "    .dataframe thead th {\n",
       "        text-align: right;\n",
       "    }\n",
       "</style>\n",
       "<table border=\"1\" class=\"dataframe\">\n",
       "  <thead>\n",
       "    <tr style=\"text-align: right;\">\n",
       "      <th></th>\n",
       "      <th>ENTITY</th>\n",
       "      <th>YEAR</th>\n",
       "      <th>WATCH</th>\n",
       "      <th>PLOT</th>\n",
       "      <th>START_TIME</th>\n",
       "      <th>END_TIME</th>\n",
       "      <th>MINUTE</th>\n",
       "      <th>TEMP</th>\n",
       "      <th>PPI_STATUS</th>\n",
       "      <th>NO_INT</th>\n",
       "      <th>VISSP_NO</th>\n",
       "      <th>month</th>\n",
       "      <th>year</th>\n",
       "      <th>temp_f</th>\n",
       "    </tr>\n",
       "  </thead>\n",
       "  <tbody>\n",
       "    <tr>\n",
       "      <th>count</th>\n",
       "      <td>8496.0</td>\n",
       "      <td>8496.0</td>\n",
       "      <td>8496.000000</td>\n",
       "      <td>8496.000000</td>\n",
       "      <td>8496.000000</td>\n",
       "      <td>0.0</td>\n",
       "      <td>8386.000000</td>\n",
       "      <td>6898.000000</td>\n",
       "      <td>8496.000000</td>\n",
       "      <td>8491.000000</td>\n",
       "      <td>8496.000000</td>\n",
       "      <td>8496.00000</td>\n",
       "      <td>8496.0</td>\n",
       "      <td>6898.000000</td>\n",
       "    </tr>\n",
       "    <tr>\n",
       "      <th>mean</th>\n",
       "      <td>1.0</td>\n",
       "      <td>2015.0</td>\n",
       "      <td>2.695033</td>\n",
       "      <td>5.609228</td>\n",
       "      <td>1221.041902</td>\n",
       "      <td>NaN</td>\n",
       "      <td>7.904484</td>\n",
       "      <td>23.718034</td>\n",
       "      <td>0.342750</td>\n",
       "      <td>1.313037</td>\n",
       "      <td>1.079214</td>\n",
       "      <td>6.65419</td>\n",
       "      <td>2015.0</td>\n",
       "      <td>74.692462</td>\n",
       "    </tr>\n",
       "    <tr>\n",
       "      <th>std</th>\n",
       "      <td>0.0</td>\n",
       "      <td>0.0</td>\n",
       "      <td>1.359934</td>\n",
       "      <td>2.900684</td>\n",
       "      <td>215.522412</td>\n",
       "      <td>NaN</td>\n",
       "      <td>4.345053</td>\n",
       "      <td>4.522952</td>\n",
       "      <td>0.474657</td>\n",
       "      <td>3.318222</td>\n",
       "      <td>0.420164</td>\n",
       "      <td>0.47566</td>\n",
       "      <td>0.0</td>\n",
       "      <td>8.141313</td>\n",
       "    </tr>\n",
       "    <tr>\n",
       "      <th>min</th>\n",
       "      <td>1.0</td>\n",
       "      <td>2015.0</td>\n",
       "      <td>1.000000</td>\n",
       "      <td>1.000000</td>\n",
       "      <td>840.000000</td>\n",
       "      <td>NaN</td>\n",
       "      <td>1.000000</td>\n",
       "      <td>14.000000</td>\n",
       "      <td>0.000000</td>\n",
       "      <td>0.000000</td>\n",
       "      <td>1.000000</td>\n",
       "      <td>6.00000</td>\n",
       "      <td>2015.0</td>\n",
       "      <td>57.200000</td>\n",
       "    </tr>\n",
       "    <tr>\n",
       "      <th>25%</th>\n",
       "      <td>1.0</td>\n",
       "      <td>2015.0</td>\n",
       "      <td>2.000000</td>\n",
       "      <td>3.000000</td>\n",
       "      <td>1049.000000</td>\n",
       "      <td>NaN</td>\n",
       "      <td>4.000000</td>\n",
       "      <td>20.000000</td>\n",
       "      <td>0.000000</td>\n",
       "      <td>0.000000</td>\n",
       "      <td>1.000000</td>\n",
       "      <td>6.00000</td>\n",
       "      <td>2015.0</td>\n",
       "      <td>68.000000</td>\n",
       "    </tr>\n",
       "    <tr>\n",
       "      <th>50%</th>\n",
       "      <td>1.0</td>\n",
       "      <td>2015.0</td>\n",
       "      <td>3.000000</td>\n",
       "      <td>6.000000</td>\n",
       "      <td>1200.000000</td>\n",
       "      <td>NaN</td>\n",
       "      <td>8.000000</td>\n",
       "      <td>23.000000</td>\n",
       "      <td>0.000000</td>\n",
       "      <td>0.000000</td>\n",
       "      <td>1.000000</td>\n",
       "      <td>7.00000</td>\n",
       "      <td>2015.0</td>\n",
       "      <td>73.400000</td>\n",
       "    </tr>\n",
       "    <tr>\n",
       "      <th>75%</th>\n",
       "      <td>1.0</td>\n",
       "      <td>2015.0</td>\n",
       "      <td>4.000000</td>\n",
       "      <td>8.000000</td>\n",
       "      <td>1345.000000</td>\n",
       "      <td>NaN</td>\n",
       "      <td>12.000000</td>\n",
       "      <td>28.000000</td>\n",
       "      <td>1.000000</td>\n",
       "      <td>1.000000</td>\n",
       "      <td>1.000000</td>\n",
       "      <td>7.00000</td>\n",
       "      <td>2015.0</td>\n",
       "      <td>82.400000</td>\n",
       "    </tr>\n",
       "    <tr>\n",
       "      <th>max</th>\n",
       "      <td>1.0</td>\n",
       "      <td>2015.0</td>\n",
       "      <td>5.000000</td>\n",
       "      <td>10.000000</td>\n",
       "      <td>1743.000000</td>\n",
       "      <td>NaN</td>\n",
       "      <td>15.000000</td>\n",
       "      <td>44.000000</td>\n",
       "      <td>1.000000</td>\n",
       "      <td>70.000000</td>\n",
       "      <td>11.000000</td>\n",
       "      <td>7.00000</td>\n",
       "      <td>2015.0</td>\n",
       "      <td>111.200000</td>\n",
       "    </tr>\n",
       "  </tbody>\n",
       "</table>\n",
       "</div>"
      ],
      "text/plain": [
       "       ENTITY    YEAR        WATCH         PLOT   START_TIME  END_TIME  \\\n",
       "count  8496.0  8496.0  8496.000000  8496.000000  8496.000000       0.0   \n",
       "mean      1.0  2015.0     2.695033     5.609228  1221.041902       NaN   \n",
       "std       0.0     0.0     1.359934     2.900684   215.522412       NaN   \n",
       "min       1.0  2015.0     1.000000     1.000000   840.000000       NaN   \n",
       "25%       1.0  2015.0     2.000000     3.000000  1049.000000       NaN   \n",
       "50%       1.0  2015.0     3.000000     6.000000  1200.000000       NaN   \n",
       "75%       1.0  2015.0     4.000000     8.000000  1345.000000       NaN   \n",
       "max       1.0  2015.0     5.000000    10.000000  1743.000000       NaN   \n",
       "\n",
       "            MINUTE         TEMP   PPI_STATUS       NO_INT     VISSP_NO  \\\n",
       "count  8386.000000  6898.000000  8496.000000  8491.000000  8496.000000   \n",
       "mean      7.904484    23.718034     0.342750     1.313037     1.079214   \n",
       "std       4.345053     4.522952     0.474657     3.318222     0.420164   \n",
       "min       1.000000    14.000000     0.000000     0.000000     1.000000   \n",
       "25%       4.000000    20.000000     0.000000     0.000000     1.000000   \n",
       "50%       8.000000    23.000000     0.000000     0.000000     1.000000   \n",
       "75%      12.000000    28.000000     1.000000     1.000000     1.000000   \n",
       "max      15.000000    44.000000     1.000000    70.000000    11.000000   \n",
       "\n",
       "            month    year       temp_f  \n",
       "count  8496.00000  8496.0  6898.000000  \n",
       "mean      6.65419  2015.0    74.692462  \n",
       "std       0.47566     0.0     8.141313  \n",
       "min       6.00000  2015.0    57.200000  \n",
       "25%       6.00000  2015.0    68.000000  \n",
       "50%       7.00000  2015.0    73.400000  \n",
       "75%       7.00000  2015.0    82.400000  \n",
       "max       7.00000  2015.0   111.200000  "
      ]
     },
     "execution_count": 96,
     "metadata": {},
     "output_type": "execute_result"
    }
   ],
   "source": [
    "df.loc[df['YEAR'] == 2015].describe()"
   ]
  },
  {
   "cell_type": "code",
   "execution_count": 92,
   "metadata": {},
   "outputs": [
    {
     "data": {
      "image/png": "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\n",
      "text/plain": [
       "<Figure size 1080x720 with 4 Axes>"
      ]
     },
     "metadata": {},
     "output_type": "display_data"
    }
   ],
   "source": [
    "#viz of temp under different points in time (minute, month year)\n",
    "df_3 = df_2.loc[(df_2['WATCH'] == 2)]\n",
    "\n",
    "sns.set(style=\"darkgrid\")\n",
    "fig, axs = plt.subplots(2, 2, figsize=(15, 10))\n",
    "\n",
    "ax = sns.barplot(x=\"MINUTE\", y=\"temp_f\", data=df, color=\"skyblue\", ax=axs[0,0])\n",
    "ax = sns.barplot(x=\"month\", y=\"temp_f\", data=df, color=\"olive\", ax=axs[0,1])\n",
    "ax = sns.barplot(x=\"year\", y=\"temp_f\", data=df, color=\"orange\", ax=axs[1,0])\n",
    "ax = sns.barplot(x=\"year\", y=\"VISSP_NO\", data=df, color=\"red\", ax=axs[1,1])\n",
    "#ax = sns.countplot(x=\"TEMP\", hue='MINUTE', data=df_2)"
   ]
  },
  {
   "cell_type": "markdown",
   "metadata": {},
   "source": [
    "# Exploratory Data Analysis\n",
    "## Is there any correlation between the variables you are interested in exploring?\n",
    "## How would you cleanly and accurately visualize the relationship among variables?"
   ]
  },
  {
   "cell_type": "code",
   "execution_count": null,
   "metadata": {},
   "outputs": [],
   "source": []
  },
  {
   "cell_type": "markdown",
   "metadata": {},
   "source": [
    "# Data Modeling and Inferences\n",
    "\n",
    "Please note that the following datasets have a data modeling requirement, i.e. you need to utilize at least 1 machine learning model we teach in this class in your project: \n",
    "* Topic 1 \n",
    "    * Dataset A, \n",
    "    * Dataset C \n",
    "* Topic 2 - Dataset A \n",
    "* Topic 3 \n",
    "    * Dataset A\n",
    "    * Dataset B. \n",
    "    \n",
    "For datasets not mentioned above, you are welcome to continue building machine learning model(s). Otherwise, we will be placing more emphasis on the inference part instead.\n",
    "\n",
    "    Here are a few components your notebook must address:\n",
    "        What type of machine learning problem are you investigating?\n",
    "        What model do you plan on using and why?\n",
    "        Does your model require hyperparameter tuning? If so, how do you approach it?\n",
    "        How do you engineer the features for your model? What are the rationales behind selecting these features?\n",
    "        How do you perform cross validation on your model?\n",
    "        What loss metrics are you using to evaluate your model?\n",
    "        From a bias-variance tradeoff standpoint, how do you assess the performance of your model? How do you check if it is overfitting?\n",
    "        How would you improve your model based on the outcome?\n",
    "        \n",
    "# IDEAS: \n",
    "\n",
    "Potentially call out the biologists through a cluster analysis "
   ]
  },
  {
   "cell_type": "code",
   "execution_count": null,
   "metadata": {},
   "outputs": [],
   "source": []
  },
  {
   "cell_type": "code",
   "execution_count": 13,
   "metadata": {},
   "outputs": [
    {
     "data": {
      "text/plain": [
       "Bombus mixtus                       21\n",
       "Chrysotoxum fasciatum               17\n",
       "Eristalis hirtus                    14\n",
       "Bombylius major                     14\n",
       "Platycheirus stegnus                14\n",
       "Muscoid genus 2                     11\n",
       "Bombus bifarius                      7\n",
       "Muscoid genus 1                      7\n",
       "Apis mellifera                       6\n",
       "Conophorus sp 3                      6\n",
       "Muscoid genus 3                      5\n",
       "Euphilotes enoptes                   5\n",
       "Bombus melanopygus                   4\n",
       "Eschatocrepis constrictus            4\n",
       "Poecilanthrax sp 1                   3\n",
       "Osmia sp 27                          3\n",
       "Eupeodes volucris                    2\n",
       "Anthrax sp X1                        2\n",
       "Osmia sp 6M                          2\n",
       "Syrphus ribesii                      2\n",
       "Toxomerus occidentalis               1\n",
       "Chrysidid sp 2                       1\n",
       "Epicauta puncticollis                1\n",
       "Calypte anna                         1\n",
       "Osmia sp 23                          1\n",
       "Bombus vosnesenskii                  1\n",
       "Geometrid sp L1                      1\n",
       "Hemaris diffinis                     1\n",
       "Dufourea versatilis rubriventris     1\n",
       "Dialictus sp 4                       1\n",
       "Syrphus opinator                     1\n",
       "Villa lateralis                      1\n",
       "Chrysotoxum derivatum                1\n",
       "Calliphorid genus 1                  1\n",
       "Sphecodes sp 7                       1\n",
       "Evylaeus sp 2                        1\n",
       "Dufourea calochorti                  1\n",
       "Bombus californicus                  1\n",
       "Tapinoma sessile                     1\n",
       "Frankliniella occidentalis           1\n",
       "Halictus rubicundus                  1\n",
       "Formica fusca                        1\n",
       "Name: VISSP_NAME, dtype: int64"
      ]
     },
     "execution_count": 13,
     "metadata": {},
     "output_type": "execute_result"
    }
   ],
   "source": [
    "df[(df['Date'].dt.month==7) & (df['PLOT']==4)&(df['Date'].dt.year==2011)]['VISSP_NAME'].value_counts()"
   ]
  },
  {
   "cell_type": "code",
   "execution_count": 78,
   "metadata": {},
   "outputs": [],
   "source": [
    "# create the result table by grouping by year, then month, then plot of land\n",
    "result = df[['year','month', 'COMPLEX', 'VISSP_NAME']].groupby(['year','month', 'COMPLEX']).count()\n",
    "result = result.reset_index()\n",
    "result.replace({'Bunchgrass':1,'Carpenter':2,'Cone':3,'Frissell':4,'Lookout':5},inplace=True)"
   ]
  },
  {
   "cell_type": "code",
   "execution_count": 61,
   "metadata": {},
   "outputs": [
    {
     "data": {
      "text/plain": [
       "<AxesSubplot:xlabel='temp_f', ylabel='NO_INT'>"
      ]
     },
     "execution_count": 61,
     "metadata": {},
     "output_type": "execute_result"
    },
    {
     "data": {
      "image/png": "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\n",
      "text/plain": [
       "<Figure size 432x288 with 1 Axes>"
      ]
     },
     "metadata": {},
     "output_type": "display_data"
    }
   ],
   "source": [
    "temp_count = df.groupby('SAMPLEDATE').agg({'NO_INT':np.sum,'temp_f':np.mean}).reset_index().dropna()\n",
    "temp_count.describe()\n",
    "temp_count = temp_count.loc[temp_count['NO_INT']<=3500]\n",
    "sns.scatterplot(x=temp_count['temp_f'],y=temp_count['NO_INT'])"
   ]
  },
  {
   "cell_type": "code",
   "execution_count": 79,
   "metadata": {},
   "outputs": [
    {
     "data": {
      "application/vnd.plotly.v1+json": {
       "config": {
        "plotlyServerURL": "https://plot.ly"
       },
       "data": [
        {
         "alignmentgroup": "True",
         "hovertemplate": "month=6<br>year=2012<br>COMPLEX=%{marker.color}<br>VISSP_NAME=%{y}<extra></extra>",
         "legendgroup": "",
         "marker": {
          "color": [
           1
          ],
          "coloraxis": "coloraxis"
         },
         "name": "",
         "offsetgroup": "",
         "orientation": "v",
         "showlegend": false,
         "textposition": "auto",
         "type": "bar",
         "x": [
          1
         ],
         "xaxis": "x26",
         "y": [
          116
         ],
         "yaxis": "y26"
        },
        {
         "alignmentgroup": "True",
         "hovertemplate": "month=6<br>year=2013<br>COMPLEX=%{marker.color}<br>VISSP_NAME=%{y}<extra></extra>",
         "legendgroup": "",
         "marker": {
          "color": [
           2
          ],
          "coloraxis": "coloraxis"
         },
         "name": "",
         "offsetgroup": "",
         "orientation": "v",
         "showlegend": false,
         "textposition": "auto",
         "type": "bar",
         "x": [
          2
         ],
         "xaxis": "x27",
         "y": [
          30
         ],
         "yaxis": "y27"
        },
        {
         "alignmentgroup": "True",
         "hovertemplate": "month=6<br>year=2014<br>COMPLEX=%{marker.color}<br>VISSP_NAME=%{y}<extra></extra>",
         "legendgroup": "",
         "marker": {
          "color": [
           5
          ],
          "coloraxis": "coloraxis"
         },
         "name": "",
         "offsetgroup": "",
         "orientation": "v",
         "showlegend": false,
         "textposition": "auto",
         "type": "bar",
         "x": [
          5
         ],
         "xaxis": "x28",
         "y": [
          169
         ],
         "yaxis": "y28"
        },
        {
         "alignmentgroup": "True",
         "hovertemplate": "month=6<br>year=2015<br>COMPLEX=%{marker.color}<br>VISSP_NAME=%{y}<extra></extra>",
         "legendgroup": "",
         "marker": {
          "color": [
           2,
           4,
           5
          ],
          "coloraxis": "coloraxis"
         },
         "name": "",
         "offsetgroup": "",
         "orientation": "v",
         "showlegend": false,
         "textposition": "auto",
         "type": "bar",
         "x": [
          2,
          4,
          5
         ],
         "xaxis": "x29",
         "y": [
          225,
          1025,
          268
         ],
         "yaxis": "y29"
        },
        {
         "alignmentgroup": "True",
         "hovertemplate": "month=6<br>year=2016<br>COMPLEX=%{marker.color}<br>VISSP_NAME=%{y}<extra></extra>",
         "legendgroup": "",
         "marker": {
          "color": [
           2,
           4,
           5
          ],
          "coloraxis": "coloraxis"
         },
         "name": "",
         "offsetgroup": "",
         "orientation": "v",
         "showlegend": false,
         "textposition": "auto",
         "type": "bar",
         "x": [
          2,
          4,
          5
         ],
         "xaxis": "x30",
         "y": [
          357,
          501,
          675
         ],
         "yaxis": "y30"
        },
        {
         "alignmentgroup": "True",
         "hovertemplate": "month=6<br>year=2017<br>COMPLEX=%{marker.color}<br>VISSP_NAME=%{y}<extra></extra>",
         "legendgroup": "",
         "marker": {
          "color": [
           2,
           4,
           5
          ],
          "coloraxis": "coloraxis"
         },
         "name": "",
         "offsetgroup": "",
         "orientation": "v",
         "showlegend": false,
         "textposition": "auto",
         "type": "bar",
         "x": [
          2,
          4,
          5
         ],
         "xaxis": "x31",
         "y": [
          178,
          955,
          170
         ],
         "yaxis": "y31"
        },
        {
         "alignmentgroup": "True",
         "hovertemplate": "month=6<br>year=2018<br>COMPLEX=%{marker.color}<br>VISSP_NAME=%{y}<extra></extra>",
         "legendgroup": "",
         "marker": {
          "color": [
           2,
           4,
           5
          ],
          "coloraxis": "coloraxis"
         },
         "name": "",
         "offsetgroup": "",
         "orientation": "v",
         "showlegend": false,
         "textposition": "auto",
         "type": "bar",
         "x": [
          2,
          4,
          5
         ],
         "xaxis": "x32",
         "y": [
          943,
          1840,
          253
         ],
         "yaxis": "y32"
        },
        {
         "alignmentgroup": "True",
         "hovertemplate": "month=7<br>year=2011<br>COMPLEX=%{marker.color}<br>VISSP_NAME=%{y}<extra></extra>",
         "legendgroup": "",
         "marker": {
          "color": [
           1,
           2,
           3,
           4,
           5
          ],
          "coloraxis": "coloraxis"
         },
         "name": "",
         "offsetgroup": "",
         "orientation": "v",
         "showlegend": false,
         "textposition": "auto",
         "type": "bar",
         "x": [
          1,
          2,
          3,
          4,
          5
         ],
         "xaxis": "x17",
         "y": [
          678,
          344,
          799,
          1264,
          585
         ],
         "yaxis": "y17"
        },
        {
         "alignmentgroup": "True",
         "hovertemplate": "month=7<br>year=2012<br>COMPLEX=%{marker.color}<br>VISSP_NAME=%{y}<extra></extra>",
         "legendgroup": "",
         "marker": {
          "color": [
           1,
           2,
           3,
           4,
           5
          ],
          "coloraxis": "coloraxis"
         },
         "name": "",
         "offsetgroup": "",
         "orientation": "v",
         "showlegend": false,
         "textposition": "auto",
         "type": "bar",
         "x": [
          1,
          2,
          3,
          4,
          5
         ],
         "xaxis": "x18",
         "y": [
          772,
          851,
          700,
          1331,
          924
         ],
         "yaxis": "y18"
        },
        {
         "alignmentgroup": "True",
         "hovertemplate": "month=7<br>year=2013<br>COMPLEX=%{marker.color}<br>VISSP_NAME=%{y}<extra></extra>",
         "legendgroup": "",
         "marker": {
          "color": [
           2,
           4,
           5
          ],
          "coloraxis": "coloraxis"
         },
         "name": "",
         "offsetgroup": "",
         "orientation": "v",
         "showlegend": false,
         "textposition": "auto",
         "type": "bar",
         "x": [
          2,
          4,
          5
         ],
         "xaxis": "x19",
         "y": [
          1153,
          2091,
          2306
         ],
         "yaxis": "y19"
        },
        {
         "alignmentgroup": "True",
         "hovertemplate": "month=7<br>year=2014<br>COMPLEX=%{marker.color}<br>VISSP_NAME=%{y}<extra></extra>",
         "legendgroup": "",
         "marker": {
          "color": [
           2,
           4,
           5
          ],
          "coloraxis": "coloraxis"
         },
         "name": "",
         "offsetgroup": "",
         "orientation": "v",
         "showlegend": false,
         "textposition": "auto",
         "type": "bar",
         "x": [
          2,
          4,
          5
         ],
         "xaxis": "x20",
         "y": [
          813,
          1991,
          1317
         ],
         "yaxis": "y20"
        },
        {
         "alignmentgroup": "True",
         "hovertemplate": "month=7<br>year=2015<br>COMPLEX=%{marker.color}<br>VISSP_NAME=%{y}<extra></extra>",
         "legendgroup": "",
         "marker": {
          "color": [
           2,
           4,
           5
          ],
          "coloraxis": "coloraxis"
         },
         "name": "",
         "offsetgroup": "",
         "orientation": "v",
         "showlegend": false,
         "textposition": "auto",
         "type": "bar",
         "x": [
          2,
          4,
          5
         ],
         "xaxis": "x21",
         "y": [
          425,
          421,
          548
         ],
         "yaxis": "y21"
        },
        {
         "alignmentgroup": "True",
         "hovertemplate": "month=7<br>year=2016<br>COMPLEX=%{marker.color}<br>VISSP_NAME=%{y}<extra></extra>",
         "legendgroup": "",
         "marker": {
          "color": [
           2,
           4,
           5
          ],
          "coloraxis": "coloraxis"
         },
         "name": "",
         "offsetgroup": "",
         "orientation": "v",
         "showlegend": false,
         "textposition": "auto",
         "type": "bar",
         "x": [
          2,
          4,
          5
         ],
         "xaxis": "x22",
         "y": [
          448,
          2657,
          1128
         ],
         "yaxis": "y22"
        },
        {
         "alignmentgroup": "True",
         "hovertemplate": "month=7<br>year=2017<br>COMPLEX=%{marker.color}<br>VISSP_NAME=%{y}<extra></extra>",
         "legendgroup": "",
         "marker": {
          "color": [
           2,
           4,
           5
          ],
          "coloraxis": "coloraxis"
         },
         "name": "",
         "offsetgroup": "",
         "orientation": "v",
         "showlegend": false,
         "textposition": "auto",
         "type": "bar",
         "x": [
          2,
          4,
          5
         ],
         "xaxis": "x23",
         "y": [
          1443,
          4204,
          1915
         ],
         "yaxis": "y23"
        },
        {
         "alignmentgroup": "True",
         "hovertemplate": "month=7<br>year=2018<br>COMPLEX=%{marker.color}<br>VISSP_NAME=%{y}<extra></extra>",
         "legendgroup": "",
         "marker": {
          "color": [
           2,
           4,
           5
          ],
          "coloraxis": "coloraxis"
         },
         "name": "",
         "offsetgroup": "",
         "orientation": "v",
         "showlegend": false,
         "textposition": "auto",
         "type": "bar",
         "x": [
          2,
          4,
          5
         ],
         "xaxis": "x24",
         "y": [
          1585,
          4750,
          2226
         ],
         "yaxis": "y24"
        },
        {
         "alignmentgroup": "True",
         "hovertemplate": "month=8<br>year=2011<br>COMPLEX=%{marker.color}<br>VISSP_NAME=%{y}<extra></extra>",
         "legendgroup": "",
         "marker": {
          "color": [
           1,
           2,
           3,
           4,
           5
          ],
          "coloraxis": "coloraxis"
         },
         "name": "",
         "offsetgroup": "",
         "orientation": "v",
         "showlegend": false,
         "textposition": "auto",
         "type": "bar",
         "x": [
          1,
          2,
          3,
          4,
          5
         ],
         "xaxis": "x9",
         "y": [
          587,
          1932,
          1336,
          1606,
          931
         ],
         "yaxis": "y9"
        },
        {
         "alignmentgroup": "True",
         "hovertemplate": "month=8<br>year=2012<br>COMPLEX=%{marker.color}<br>VISSP_NAME=%{y}<extra></extra>",
         "legendgroup": "",
         "marker": {
          "color": [
           1,
           2,
           3,
           4,
           5
          ],
          "coloraxis": "coloraxis"
         },
         "name": "",
         "offsetgroup": "",
         "orientation": "v",
         "showlegend": false,
         "textposition": "auto",
         "type": "bar",
         "x": [
          1,
          2,
          3,
          4,
          5
         ],
         "xaxis": "x10",
         "y": [
          1314,
          518,
          387,
          982,
          290
         ],
         "yaxis": "y10"
        },
        {
         "alignmentgroup": "True",
         "hovertemplate": "month=8<br>year=2013<br>COMPLEX=%{marker.color}<br>VISSP_NAME=%{y}<extra></extra>",
         "legendgroup": "",
         "marker": {
          "color": [
           2,
           4,
           5
          ],
          "coloraxis": "coloraxis"
         },
         "name": "",
         "offsetgroup": "",
         "orientation": "v",
         "showlegend": false,
         "textposition": "auto",
         "type": "bar",
         "x": [
          2,
          4,
          5
         ],
         "xaxis": "x11",
         "y": [
          265,
          341,
          379
         ],
         "yaxis": "y11"
        },
        {
         "alignmentgroup": "True",
         "hovertemplate": "month=8<br>year=2014<br>COMPLEX=%{marker.color}<br>VISSP_NAME=%{y}<extra></extra>",
         "legendgroup": "",
         "marker": {
          "color": [
           2,
           4,
           5
          ],
          "coloraxis": "coloraxis"
         },
         "name": "",
         "offsetgroup": "",
         "orientation": "v",
         "showlegend": false,
         "textposition": "auto",
         "type": "bar",
         "x": [
          2,
          4,
          5
         ],
         "xaxis": "x12",
         "y": [
          58,
          175,
          150
         ],
         "yaxis": "y12"
        },
        {
         "alignmentgroup": "True",
         "hovertemplate": "month=8<br>year=2016<br>COMPLEX=%{marker.color}<br>VISSP_NAME=%{y}<extra></extra>",
         "legendgroup": "",
         "marker": {
          "color": [
           2
          ],
          "coloraxis": "coloraxis"
         },
         "name": "",
         "offsetgroup": "",
         "orientation": "v",
         "showlegend": false,
         "textposition": "auto",
         "type": "bar",
         "x": [
          2
         ],
         "xaxis": "x14",
         "y": [
          169
         ],
         "yaxis": "y14"
        },
        {
         "alignmentgroup": "True",
         "hovertemplate": "month=8<br>year=2017<br>COMPLEX=%{marker.color}<br>VISSP_NAME=%{y}<extra></extra>",
         "legendgroup": "",
         "marker": {
          "color": [
           2,
           5
          ],
          "coloraxis": "coloraxis"
         },
         "name": "",
         "offsetgroup": "",
         "orientation": "v",
         "showlegend": false,
         "textposition": "auto",
         "type": "bar",
         "x": [
          2,
          5
         ],
         "xaxis": "x15",
         "y": [
          70,
          572
         ],
         "yaxis": "y15"
        },
        {
         "alignmentgroup": "True",
         "hovertemplate": "month=8<br>year=2018<br>COMPLEX=%{marker.color}<br>VISSP_NAME=%{y}<extra></extra>",
         "legendgroup": "",
         "marker": {
          "color": [
           2,
           4,
           5
          ],
          "coloraxis": "coloraxis"
         },
         "name": "",
         "offsetgroup": "",
         "orientation": "v",
         "showlegend": false,
         "textposition": "auto",
         "type": "bar",
         "x": [
          2,
          4,
          5
         ],
         "xaxis": "x16",
         "y": [
          141,
          129,
          352
         ],
         "yaxis": "y16"
        },
        {
         "alignmentgroup": "True",
         "hovertemplate": "month=9<br>year=2011<br>COMPLEX=%{marker.color}<br>VISSP_NAME=%{y}<extra></extra>",
         "legendgroup": "",
         "marker": {
          "color": [
           1,
           2,
           3,
           4,
           5
          ],
          "coloraxis": "coloraxis"
         },
         "name": "",
         "offsetgroup": "",
         "orientation": "v",
         "showlegend": false,
         "textposition": "auto",
         "type": "bar",
         "x": [
          1,
          2,
          3,
          4,
          5
         ],
         "xaxis": "x",
         "y": [
          3,
          92,
          48,
          28,
          42
         ],
         "yaxis": "y"
        }
       ],
       "layout": {
        "annotations": [
         {
          "font": {},
          "showarrow": false,
          "text": "year=2011",
          "x": 0.0525,
          "xanchor": "center",
          "xref": "paper",
          "y": 1,
          "yanchor": "bottom",
          "yref": "paper"
         },
         {
          "font": {},
          "showarrow": false,
          "text": "year=2012",
          "x": 0.1775,
          "xanchor": "center",
          "xref": "paper",
          "y": 1,
          "yanchor": "bottom",
          "yref": "paper"
         },
         {
          "font": {},
          "showarrow": false,
          "text": "year=2013",
          "x": 0.3025,
          "xanchor": "center",
          "xref": "paper",
          "y": 1,
          "yanchor": "bottom",
          "yref": "paper"
         },
         {
          "font": {},
          "showarrow": false,
          "text": "year=2014",
          "x": 0.4275,
          "xanchor": "center",
          "xref": "paper",
          "y": 1,
          "yanchor": "bottom",
          "yref": "paper"
         },
         {
          "font": {},
          "showarrow": false,
          "text": "year=2015",
          "x": 0.5525,
          "xanchor": "center",
          "xref": "paper",
          "y": 1,
          "yanchor": "bottom",
          "yref": "paper"
         },
         {
          "font": {},
          "showarrow": false,
          "text": "year=2016",
          "x": 0.6775,
          "xanchor": "center",
          "xref": "paper",
          "y": 1,
          "yanchor": "bottom",
          "yref": "paper"
         },
         {
          "font": {},
          "showarrow": false,
          "text": "year=2017",
          "x": 0.8025,
          "xanchor": "center",
          "xref": "paper",
          "y": 1,
          "yanchor": "bottom",
          "yref": "paper"
         },
         {
          "font": {},
          "showarrow": false,
          "text": "year=2018",
          "x": 0.9275,
          "xanchor": "center",
          "xref": "paper",
          "y": 1,
          "yanchor": "bottom",
          "yref": "paper"
         },
         {
          "font": {},
          "showarrow": false,
          "text": "month=9",
          "textangle": 90,
          "x": 0.98,
          "xanchor": "left",
          "xref": "paper",
          "y": 0.11375,
          "yanchor": "middle",
          "yref": "paper"
         },
         {
          "font": {},
          "showarrow": false,
          "text": "month=8",
          "textangle": 90,
          "x": 0.98,
          "xanchor": "left",
          "xref": "paper",
          "y": 0.37124999999999997,
          "yanchor": "middle",
          "yref": "paper"
         },
         {
          "font": {},
          "showarrow": false,
          "text": "month=7",
          "textangle": 90,
          "x": 0.98,
          "xanchor": "left",
          "xref": "paper",
          "y": 0.62875,
          "yanchor": "middle",
          "yref": "paper"
         },
         {
          "font": {},
          "showarrow": false,
          "text": "month=6",
          "textangle": 90,
          "x": 0.98,
          "xanchor": "left",
          "xref": "paper",
          "y": 0.88625,
          "yanchor": "middle",
          "yref": "paper"
         }
        ],
        "barmode": "group",
        "coloraxis": {
         "colorbar": {
          "title": {
           "text": "COMPLEX"
          }
         },
         "colorscale": [
          [
           0,
           "#0d0887"
          ],
          [
           0.1111111111111111,
           "#46039f"
          ],
          [
           0.2222222222222222,
           "#7201a8"
          ],
          [
           0.3333333333333333,
           "#9c179e"
          ],
          [
           0.4444444444444444,
           "#bd3786"
          ],
          [
           0.5555555555555556,
           "#d8576b"
          ],
          [
           0.6666666666666666,
           "#ed7953"
          ],
          [
           0.7777777777777778,
           "#fb9f3a"
          ],
          [
           0.8888888888888888,
           "#fdca26"
          ],
          [
           1,
           "#f0f921"
          ]
         ]
        },
        "legend": {
         "tracegroupgap": 0
        },
        "margin": {
         "t": 60
        },
        "template": {
         "data": {
          "bar": [
           {
            "error_x": {
             "color": "#2a3f5f"
            },
            "error_y": {
             "color": "#2a3f5f"
            },
            "marker": {
             "line": {
              "color": "#E5ECF6",
              "width": 0.5
             }
            },
            "type": "bar"
           }
          ],
          "barpolar": [
           {
            "marker": {
             "line": {
              "color": "#E5ECF6",
              "width": 0.5
             }
            },
            "type": "barpolar"
           }
          ],
          "carpet": [
           {
            "aaxis": {
             "endlinecolor": "#2a3f5f",
             "gridcolor": "white",
             "linecolor": "white",
             "minorgridcolor": "white",
             "startlinecolor": "#2a3f5f"
            },
            "baxis": {
             "endlinecolor": "#2a3f5f",
             "gridcolor": "white",
             "linecolor": "white",
             "minorgridcolor": "white",
             "startlinecolor": "#2a3f5f"
            },
            "type": "carpet"
           }
          ],
          "choropleth": [
           {
            "colorbar": {
             "outlinewidth": 0,
             "ticks": ""
            },
            "type": "choropleth"
           }
          ],
          "contour": [
           {
            "colorbar": {
             "outlinewidth": 0,
             "ticks": ""
            },
            "colorscale": [
             [
              0,
              "#0d0887"
             ],
             [
              0.1111111111111111,
              "#46039f"
             ],
             [
              0.2222222222222222,
              "#7201a8"
             ],
             [
              0.3333333333333333,
              "#9c179e"
             ],
             [
              0.4444444444444444,
              "#bd3786"
             ],
             [
              0.5555555555555556,
              "#d8576b"
             ],
             [
              0.6666666666666666,
              "#ed7953"
             ],
             [
              0.7777777777777778,
              "#fb9f3a"
             ],
             [
              0.8888888888888888,
              "#fdca26"
             ],
             [
              1,
              "#f0f921"
             ]
            ],
            "type": "contour"
           }
          ],
          "contourcarpet": [
           {
            "colorbar": {
             "outlinewidth": 0,
             "ticks": ""
            },
            "type": "contourcarpet"
           }
          ],
          "heatmap": [
           {
            "colorbar": {
             "outlinewidth": 0,
             "ticks": ""
            },
            "colorscale": [
             [
              0,
              "#0d0887"
             ],
             [
              0.1111111111111111,
              "#46039f"
             ],
             [
              0.2222222222222222,
              "#7201a8"
             ],
             [
              0.3333333333333333,
              "#9c179e"
             ],
             [
              0.4444444444444444,
              "#bd3786"
             ],
             [
              0.5555555555555556,
              "#d8576b"
             ],
             [
              0.6666666666666666,
              "#ed7953"
             ],
             [
              0.7777777777777778,
              "#fb9f3a"
             ],
             [
              0.8888888888888888,
              "#fdca26"
             ],
             [
              1,
              "#f0f921"
             ]
            ],
            "type": "heatmap"
           }
          ],
          "heatmapgl": [
           {
            "colorbar": {
             "outlinewidth": 0,
             "ticks": ""
            },
            "colorscale": [
             [
              0,
              "#0d0887"
             ],
             [
              0.1111111111111111,
              "#46039f"
             ],
             [
              0.2222222222222222,
              "#7201a8"
             ],
             [
              0.3333333333333333,
              "#9c179e"
             ],
             [
              0.4444444444444444,
              "#bd3786"
             ],
             [
              0.5555555555555556,
              "#d8576b"
             ],
             [
              0.6666666666666666,
              "#ed7953"
             ],
             [
              0.7777777777777778,
              "#fb9f3a"
             ],
             [
              0.8888888888888888,
              "#fdca26"
             ],
             [
              1,
              "#f0f921"
             ]
            ],
            "type": "heatmapgl"
           }
          ],
          "histogram": [
           {
            "marker": {
             "colorbar": {
              "outlinewidth": 0,
              "ticks": ""
             }
            },
            "type": "histogram"
           }
          ],
          "histogram2d": [
           {
            "colorbar": {
             "outlinewidth": 0,
             "ticks": ""
            },
            "colorscale": [
             [
              0,
              "#0d0887"
             ],
             [
              0.1111111111111111,
              "#46039f"
             ],
             [
              0.2222222222222222,
              "#7201a8"
             ],
             [
              0.3333333333333333,
              "#9c179e"
             ],
             [
              0.4444444444444444,
              "#bd3786"
             ],
             [
              0.5555555555555556,
              "#d8576b"
             ],
             [
              0.6666666666666666,
              "#ed7953"
             ],
             [
              0.7777777777777778,
              "#fb9f3a"
             ],
             [
              0.8888888888888888,
              "#fdca26"
             ],
             [
              1,
              "#f0f921"
             ]
            ],
            "type": "histogram2d"
           }
          ],
          "histogram2dcontour": [
           {
            "colorbar": {
             "outlinewidth": 0,
             "ticks": ""
            },
            "colorscale": [
             [
              0,
              "#0d0887"
             ],
             [
              0.1111111111111111,
              "#46039f"
             ],
             [
              0.2222222222222222,
              "#7201a8"
             ],
             [
              0.3333333333333333,
              "#9c179e"
             ],
             [
              0.4444444444444444,
              "#bd3786"
             ],
             [
              0.5555555555555556,
              "#d8576b"
             ],
             [
              0.6666666666666666,
              "#ed7953"
             ],
             [
              0.7777777777777778,
              "#fb9f3a"
             ],
             [
              0.8888888888888888,
              "#fdca26"
             ],
             [
              1,
              "#f0f921"
             ]
            ],
            "type": "histogram2dcontour"
           }
          ],
          "mesh3d": [
           {
            "colorbar": {
             "outlinewidth": 0,
             "ticks": ""
            },
            "type": "mesh3d"
           }
          ],
          "parcoords": [
           {
            "line": {
             "colorbar": {
              "outlinewidth": 0,
              "ticks": ""
             }
            },
            "type": "parcoords"
           }
          ],
          "pie": [
           {
            "automargin": true,
            "type": "pie"
           }
          ],
          "scatter": [
           {
            "marker": {
             "colorbar": {
              "outlinewidth": 0,
              "ticks": ""
             }
            },
            "type": "scatter"
           }
          ],
          "scatter3d": [
           {
            "line": {
             "colorbar": {
              "outlinewidth": 0,
              "ticks": ""
             }
            },
            "marker": {
             "colorbar": {
              "outlinewidth": 0,
              "ticks": ""
             }
            },
            "type": "scatter3d"
           }
          ],
          "scattercarpet": [
           {
            "marker": {
             "colorbar": {
              "outlinewidth": 0,
              "ticks": ""
             }
            },
            "type": "scattercarpet"
           }
          ],
          "scattergeo": [
           {
            "marker": {
             "colorbar": {
              "outlinewidth": 0,
              "ticks": ""
             }
            },
            "type": "scattergeo"
           }
          ],
          "scattergl": [
           {
            "marker": {
             "colorbar": {
              "outlinewidth": 0,
              "ticks": ""
             }
            },
            "type": "scattergl"
           }
          ],
          "scattermapbox": [
           {
            "marker": {
             "colorbar": {
              "outlinewidth": 0,
              "ticks": ""
             }
            },
            "type": "scattermapbox"
           }
          ],
          "scatterpolar": [
           {
            "marker": {
             "colorbar": {
              "outlinewidth": 0,
              "ticks": ""
             }
            },
            "type": "scatterpolar"
           }
          ],
          "scatterpolargl": [
           {
            "marker": {
             "colorbar": {
              "outlinewidth": 0,
              "ticks": ""
             }
            },
            "type": "scatterpolargl"
           }
          ],
          "scatterternary": [
           {
            "marker": {
             "colorbar": {
              "outlinewidth": 0,
              "ticks": ""
             }
            },
            "type": "scatterternary"
           }
          ],
          "surface": [
           {
            "colorbar": {
             "outlinewidth": 0,
             "ticks": ""
            },
            "colorscale": [
             [
              0,
              "#0d0887"
             ],
             [
              0.1111111111111111,
              "#46039f"
             ],
             [
              0.2222222222222222,
              "#7201a8"
             ],
             [
              0.3333333333333333,
              "#9c179e"
             ],
             [
              0.4444444444444444,
              "#bd3786"
             ],
             [
              0.5555555555555556,
              "#d8576b"
             ],
             [
              0.6666666666666666,
              "#ed7953"
             ],
             [
              0.7777777777777778,
              "#fb9f3a"
             ],
             [
              0.8888888888888888,
              "#fdca26"
             ],
             [
              1,
              "#f0f921"
             ]
            ],
            "type": "surface"
           }
          ],
          "table": [
           {
            "cells": {
             "fill": {
              "color": "#EBF0F8"
             },
             "line": {
              "color": "white"
             }
            },
            "header": {
             "fill": {
              "color": "#C8D4E3"
             },
             "line": {
              "color": "white"
             }
            },
            "type": "table"
           }
          ]
         },
         "layout": {
          "annotationdefaults": {
           "arrowcolor": "#2a3f5f",
           "arrowhead": 0,
           "arrowwidth": 1
          },
          "autotypenumbers": "strict",
          "coloraxis": {
           "colorbar": {
            "outlinewidth": 0,
            "ticks": ""
           }
          },
          "colorscale": {
           "diverging": [
            [
             0,
             "#8e0152"
            ],
            [
             0.1,
             "#c51b7d"
            ],
            [
             0.2,
             "#de77ae"
            ],
            [
             0.3,
             "#f1b6da"
            ],
            [
             0.4,
             "#fde0ef"
            ],
            [
             0.5,
             "#f7f7f7"
            ],
            [
             0.6,
             "#e6f5d0"
            ],
            [
             0.7,
             "#b8e186"
            ],
            [
             0.8,
             "#7fbc41"
            ],
            [
             0.9,
             "#4d9221"
            ],
            [
             1,
             "#276419"
            ]
           ],
           "sequential": [
            [
             0,
             "#0d0887"
            ],
            [
             0.1111111111111111,
             "#46039f"
            ],
            [
             0.2222222222222222,
             "#7201a8"
            ],
            [
             0.3333333333333333,
             "#9c179e"
            ],
            [
             0.4444444444444444,
             "#bd3786"
            ],
            [
             0.5555555555555556,
             "#d8576b"
            ],
            [
             0.6666666666666666,
             "#ed7953"
            ],
            [
             0.7777777777777778,
             "#fb9f3a"
            ],
            [
             0.8888888888888888,
             "#fdca26"
            ],
            [
             1,
             "#f0f921"
            ]
           ],
           "sequentialminus": [
            [
             0,
             "#0d0887"
            ],
            [
             0.1111111111111111,
             "#46039f"
            ],
            [
             0.2222222222222222,
             "#7201a8"
            ],
            [
             0.3333333333333333,
             "#9c179e"
            ],
            [
             0.4444444444444444,
             "#bd3786"
            ],
            [
             0.5555555555555556,
             "#d8576b"
            ],
            [
             0.6666666666666666,
             "#ed7953"
            ],
            [
             0.7777777777777778,
             "#fb9f3a"
            ],
            [
             0.8888888888888888,
             "#fdca26"
            ],
            [
             1,
             "#f0f921"
            ]
           ]
          },
          "colorway": [
           "#636efa",
           "#EF553B",
           "#00cc96",
           "#ab63fa",
           "#FFA15A",
           "#19d3f3",
           "#FF6692",
           "#B6E880",
           "#FF97FF",
           "#FECB52"
          ],
          "font": {
           "color": "#2a3f5f"
          },
          "geo": {
           "bgcolor": "white",
           "lakecolor": "white",
           "landcolor": "#E5ECF6",
           "showlakes": true,
           "showland": true,
           "subunitcolor": "white"
          },
          "hoverlabel": {
           "align": "left"
          },
          "hovermode": "closest",
          "mapbox": {
           "style": "light"
          },
          "paper_bgcolor": "white",
          "plot_bgcolor": "#E5ECF6",
          "polar": {
           "angularaxis": {
            "gridcolor": "white",
            "linecolor": "white",
            "ticks": ""
           },
           "bgcolor": "#E5ECF6",
           "radialaxis": {
            "gridcolor": "white",
            "linecolor": "white",
            "ticks": ""
           }
          },
          "scene": {
           "xaxis": {
            "backgroundcolor": "#E5ECF6",
            "gridcolor": "white",
            "gridwidth": 2,
            "linecolor": "white",
            "showbackground": true,
            "ticks": "",
            "zerolinecolor": "white"
           },
           "yaxis": {
            "backgroundcolor": "#E5ECF6",
            "gridcolor": "white",
            "gridwidth": 2,
            "linecolor": "white",
            "showbackground": true,
            "ticks": "",
            "zerolinecolor": "white"
           },
           "zaxis": {
            "backgroundcolor": "#E5ECF6",
            "gridcolor": "white",
            "gridwidth": 2,
            "linecolor": "white",
            "showbackground": true,
            "ticks": "",
            "zerolinecolor": "white"
           }
          },
          "shapedefaults": {
           "line": {
            "color": "#2a3f5f"
           }
          },
          "ternary": {
           "aaxis": {
            "gridcolor": "white",
            "linecolor": "white",
            "ticks": ""
           },
           "baxis": {
            "gridcolor": "white",
            "linecolor": "white",
            "ticks": ""
           },
           "bgcolor": "#E5ECF6",
           "caxis": {
            "gridcolor": "white",
            "linecolor": "white",
            "ticks": ""
           }
          },
          "title": {
           "x": 0.05
          },
          "xaxis": {
           "automargin": true,
           "gridcolor": "white",
           "linecolor": "white",
           "ticks": "",
           "title": {
            "standoff": 15
           },
           "zerolinecolor": "white",
           "zerolinewidth": 2
          },
          "yaxis": {
           "automargin": true,
           "gridcolor": "white",
           "linecolor": "white",
           "ticks": "",
           "title": {
            "standoff": 15
           },
           "zerolinecolor": "white",
           "zerolinewidth": 2
          }
         }
        },
        "xaxis": {
         "anchor": "y",
         "domain": [
          0,
          0.105
         ],
         "title": {
          "text": "COMPLEX"
         }
        },
        "xaxis10": {
         "anchor": "y10",
         "domain": [
          0.125,
          0.22999999999999998
         ],
         "matches": "x",
         "showticklabels": false
        },
        "xaxis11": {
         "anchor": "y11",
         "domain": [
          0.25,
          0.355
         ],
         "matches": "x",
         "showticklabels": false
        },
        "xaxis12": {
         "anchor": "y12",
         "domain": [
          0.375,
          0.48
         ],
         "matches": "x",
         "showticklabels": false
        },
        "xaxis13": {
         "anchor": "y13",
         "domain": [
          0.5,
          0.605
         ],
         "matches": "x",
         "showticklabels": false
        },
        "xaxis14": {
         "anchor": "y14",
         "domain": [
          0.625,
          0.73
         ],
         "matches": "x",
         "showticklabels": false
        },
        "xaxis15": {
         "anchor": "y15",
         "domain": [
          0.75,
          0.855
         ],
         "matches": "x",
         "showticklabels": false
        },
        "xaxis16": {
         "anchor": "y16",
         "domain": [
          0.875,
          0.98
         ],
         "matches": "x",
         "showticklabels": false
        },
        "xaxis17": {
         "anchor": "y17",
         "domain": [
          0,
          0.105
         ],
         "matches": "x",
         "showticklabels": false
        },
        "xaxis18": {
         "anchor": "y18",
         "domain": [
          0.125,
          0.22999999999999998
         ],
         "matches": "x",
         "showticklabels": false
        },
        "xaxis19": {
         "anchor": "y19",
         "domain": [
          0.25,
          0.355
         ],
         "matches": "x",
         "showticklabels": false
        },
        "xaxis2": {
         "anchor": "y2",
         "domain": [
          0.125,
          0.22999999999999998
         ],
         "matches": "x",
         "title": {
          "text": "COMPLEX"
         }
        },
        "xaxis20": {
         "anchor": "y20",
         "domain": [
          0.375,
          0.48
         ],
         "matches": "x",
         "showticklabels": false
        },
        "xaxis21": {
         "anchor": "y21",
         "domain": [
          0.5,
          0.605
         ],
         "matches": "x",
         "showticklabels": false
        },
        "xaxis22": {
         "anchor": "y22",
         "domain": [
          0.625,
          0.73
         ],
         "matches": "x",
         "showticklabels": false
        },
        "xaxis23": {
         "anchor": "y23",
         "domain": [
          0.75,
          0.855
         ],
         "matches": "x",
         "showticklabels": false
        },
        "xaxis24": {
         "anchor": "y24",
         "domain": [
          0.875,
          0.98
         ],
         "matches": "x",
         "showticklabels": false
        },
        "xaxis25": {
         "anchor": "y25",
         "domain": [
          0,
          0.105
         ],
         "matches": "x",
         "showticklabels": false
        },
        "xaxis26": {
         "anchor": "y26",
         "domain": [
          0.125,
          0.22999999999999998
         ],
         "matches": "x",
         "showticklabels": false
        },
        "xaxis27": {
         "anchor": "y27",
         "domain": [
          0.25,
          0.355
         ],
         "matches": "x",
         "showticklabels": false
        },
        "xaxis28": {
         "anchor": "y28",
         "domain": [
          0.375,
          0.48
         ],
         "matches": "x",
         "showticklabels": false
        },
        "xaxis29": {
         "anchor": "y29",
         "domain": [
          0.5,
          0.605
         ],
         "matches": "x",
         "showticklabels": false
        },
        "xaxis3": {
         "anchor": "y3",
         "domain": [
          0.25,
          0.355
         ],
         "matches": "x",
         "title": {
          "text": "COMPLEX"
         }
        },
        "xaxis30": {
         "anchor": "y30",
         "domain": [
          0.625,
          0.73
         ],
         "matches": "x",
         "showticklabels": false
        },
        "xaxis31": {
         "anchor": "y31",
         "domain": [
          0.75,
          0.855
         ],
         "matches": "x",
         "showticklabels": false
        },
        "xaxis32": {
         "anchor": "y32",
         "domain": [
          0.875,
          0.98
         ],
         "matches": "x",
         "showticklabels": false
        },
        "xaxis4": {
         "anchor": "y4",
         "domain": [
          0.375,
          0.48
         ],
         "matches": "x",
         "title": {
          "text": "COMPLEX"
         }
        },
        "xaxis5": {
         "anchor": "y5",
         "domain": [
          0.5,
          0.605
         ],
         "matches": "x",
         "title": {
          "text": "COMPLEX"
         }
        },
        "xaxis6": {
         "anchor": "y6",
         "domain": [
          0.625,
          0.73
         ],
         "matches": "x",
         "title": {
          "text": "COMPLEX"
         }
        },
        "xaxis7": {
         "anchor": "y7",
         "domain": [
          0.75,
          0.855
         ],
         "matches": "x",
         "title": {
          "text": "COMPLEX"
         }
        },
        "xaxis8": {
         "anchor": "y8",
         "domain": [
          0.875,
          0.98
         ],
         "matches": "x",
         "title": {
          "text": "COMPLEX"
         }
        },
        "xaxis9": {
         "anchor": "y9",
         "domain": [
          0,
          0.105
         ],
         "matches": "x",
         "showticklabels": false
        },
        "yaxis": {
         "anchor": "x",
         "domain": [
          0,
          0.2275
         ],
         "title": {
          "text": "VISSP_NAME"
         }
        },
        "yaxis10": {
         "anchor": "x10",
         "domain": [
          0.2575,
          0.485
         ],
         "matches": "y",
         "showticklabels": false
        },
        "yaxis11": {
         "anchor": "x11",
         "domain": [
          0.2575,
          0.485
         ],
         "matches": "y",
         "showticklabels": false
        },
        "yaxis12": {
         "anchor": "x12",
         "domain": [
          0.2575,
          0.485
         ],
         "matches": "y",
         "showticklabels": false
        },
        "yaxis13": {
         "anchor": "x13",
         "domain": [
          0.2575,
          0.485
         ],
         "matches": "y",
         "showticklabels": false
        },
        "yaxis14": {
         "anchor": "x14",
         "domain": [
          0.2575,
          0.485
         ],
         "matches": "y",
         "showticklabels": false
        },
        "yaxis15": {
         "anchor": "x15",
         "domain": [
          0.2575,
          0.485
         ],
         "matches": "y",
         "showticklabels": false
        },
        "yaxis16": {
         "anchor": "x16",
         "domain": [
          0.2575,
          0.485
         ],
         "matches": "y",
         "showticklabels": false
        },
        "yaxis17": {
         "anchor": "x17",
         "domain": [
          0.515,
          0.7425
         ],
         "matches": "y",
         "title": {
          "text": "VISSP_NAME"
         }
        },
        "yaxis18": {
         "anchor": "x18",
         "domain": [
          0.515,
          0.7425
         ],
         "matches": "y",
         "showticklabels": false
        },
        "yaxis19": {
         "anchor": "x19",
         "domain": [
          0.515,
          0.7425
         ],
         "matches": "y",
         "showticklabels": false
        },
        "yaxis2": {
         "anchor": "x2",
         "domain": [
          0,
          0.2275
         ],
         "matches": "y",
         "showticklabels": false
        },
        "yaxis20": {
         "anchor": "x20",
         "domain": [
          0.515,
          0.7425
         ],
         "matches": "y",
         "showticklabels": false
        },
        "yaxis21": {
         "anchor": "x21",
         "domain": [
          0.515,
          0.7425
         ],
         "matches": "y",
         "showticklabels": false
        },
        "yaxis22": {
         "anchor": "x22",
         "domain": [
          0.515,
          0.7425
         ],
         "matches": "y",
         "showticklabels": false
        },
        "yaxis23": {
         "anchor": "x23",
         "domain": [
          0.515,
          0.7425
         ],
         "matches": "y",
         "showticklabels": false
        },
        "yaxis24": {
         "anchor": "x24",
         "domain": [
          0.515,
          0.7425
         ],
         "matches": "y",
         "showticklabels": false
        },
        "yaxis25": {
         "anchor": "x25",
         "domain": [
          0.7725,
          1
         ],
         "matches": "y",
         "title": {
          "text": "VISSP_NAME"
         }
        },
        "yaxis26": {
         "anchor": "x26",
         "domain": [
          0.7725,
          1
         ],
         "matches": "y",
         "showticklabels": false
        },
        "yaxis27": {
         "anchor": "x27",
         "domain": [
          0.7725,
          1
         ],
         "matches": "y",
         "showticklabels": false
        },
        "yaxis28": {
         "anchor": "x28",
         "domain": [
          0.7725,
          1
         ],
         "matches": "y",
         "showticklabels": false
        },
        "yaxis29": {
         "anchor": "x29",
         "domain": [
          0.7725,
          1
         ],
         "matches": "y",
         "showticklabels": false
        },
        "yaxis3": {
         "anchor": "x3",
         "domain": [
          0,
          0.2275
         ],
         "matches": "y",
         "showticklabels": false
        },
        "yaxis30": {
         "anchor": "x30",
         "domain": [
          0.7725,
          1
         ],
         "matches": "y",
         "showticklabels": false
        },
        "yaxis31": {
         "anchor": "x31",
         "domain": [
          0.7725,
          1
         ],
         "matches": "y",
         "showticklabels": false
        },
        "yaxis32": {
         "anchor": "x32",
         "domain": [
          0.7725,
          1
         ],
         "matches": "y",
         "showticklabels": false
        },
        "yaxis4": {
         "anchor": "x4",
         "domain": [
          0,
          0.2275
         ],
         "matches": "y",
         "showticklabels": false
        },
        "yaxis5": {
         "anchor": "x5",
         "domain": [
          0,
          0.2275
         ],
         "matches": "y",
         "showticklabels": false
        },
        "yaxis6": {
         "anchor": "x6",
         "domain": [
          0,
          0.2275
         ],
         "matches": "y",
         "showticklabels": false
        },
        "yaxis7": {
         "anchor": "x7",
         "domain": [
          0,
          0.2275
         ],
         "matches": "y",
         "showticklabels": false
        },
        "yaxis8": {
         "anchor": "x8",
         "domain": [
          0,
          0.2275
         ],
         "matches": "y",
         "showticklabels": false
        },
        "yaxis9": {
         "anchor": "x9",
         "domain": [
          0.2575,
          0.485
         ],
         "matches": "y",
         "title": {
          "text": "VISSP_NAME"
         }
        }
       }
      },
      "text/html": [
       "<div>                            <div id=\"853ccc2d-011b-4291-8860-87404e81cd2b\" class=\"plotly-graph-div\" style=\"height:525px; width:100%;\"></div>            <script type=\"text/javascript\">                require([\"plotly\"], function(Plotly) {                    window.PLOTLYENV=window.PLOTLYENV || {};                                    if (document.getElementById(\"853ccc2d-011b-4291-8860-87404e81cd2b\")) {                    Plotly.newPlot(                        \"853ccc2d-011b-4291-8860-87404e81cd2b\",                        [{\"alignmentgroup\": \"True\", \"hovertemplate\": \"month=6<br>year=2012<br>COMPLEX=%{marker.color}<br>VISSP_NAME=%{y}<extra></extra>\", \"legendgroup\": \"\", \"marker\": {\"color\": [1], \"coloraxis\": \"coloraxis\"}, \"name\": \"\", \"offsetgroup\": \"\", \"orientation\": \"v\", \"showlegend\": false, \"textposition\": \"auto\", \"type\": \"bar\", \"x\": [1], \"xaxis\": \"x26\", \"y\": [116], \"yaxis\": \"y26\"}, {\"alignmentgroup\": \"True\", \"hovertemplate\": \"month=6<br>year=2013<br>COMPLEX=%{marker.color}<br>VISSP_NAME=%{y}<extra></extra>\", \"legendgroup\": \"\", \"marker\": {\"color\": [2], \"coloraxis\": \"coloraxis\"}, \"name\": \"\", \"offsetgroup\": \"\", \"orientation\": \"v\", \"showlegend\": false, \"textposition\": \"auto\", \"type\": \"bar\", \"x\": [2], \"xaxis\": \"x27\", \"y\": [30], \"yaxis\": \"y27\"}, {\"alignmentgroup\": \"True\", \"hovertemplate\": \"month=6<br>year=2014<br>COMPLEX=%{marker.color}<br>VISSP_NAME=%{y}<extra></extra>\", \"legendgroup\": \"\", \"marker\": {\"color\": [5], \"coloraxis\": \"coloraxis\"}, \"name\": \"\", \"offsetgroup\": \"\", \"orientation\": \"v\", \"showlegend\": false, \"textposition\": \"auto\", \"type\": \"bar\", \"x\": [5], \"xaxis\": \"x28\", \"y\": [169], \"yaxis\": \"y28\"}, {\"alignmentgroup\": \"True\", \"hovertemplate\": \"month=6<br>year=2015<br>COMPLEX=%{marker.color}<br>VISSP_NAME=%{y}<extra></extra>\", \"legendgroup\": \"\", \"marker\": {\"color\": [2, 4, 5], \"coloraxis\": \"coloraxis\"}, \"name\": \"\", \"offsetgroup\": \"\", \"orientation\": \"v\", \"showlegend\": false, \"textposition\": \"auto\", \"type\": \"bar\", \"x\": [2, 4, 5], \"xaxis\": \"x29\", \"y\": [225, 1025, 268], \"yaxis\": \"y29\"}, {\"alignmentgroup\": \"True\", \"hovertemplate\": \"month=6<br>year=2016<br>COMPLEX=%{marker.color}<br>VISSP_NAME=%{y}<extra></extra>\", \"legendgroup\": \"\", \"marker\": {\"color\": [2, 4, 5], \"coloraxis\": \"coloraxis\"}, \"name\": \"\", \"offsetgroup\": \"\", \"orientation\": \"v\", \"showlegend\": false, \"textposition\": \"auto\", \"type\": \"bar\", \"x\": [2, 4, 5], \"xaxis\": \"x30\", \"y\": [357, 501, 675], \"yaxis\": \"y30\"}, {\"alignmentgroup\": \"True\", \"hovertemplate\": \"month=6<br>year=2017<br>COMPLEX=%{marker.color}<br>VISSP_NAME=%{y}<extra></extra>\", \"legendgroup\": \"\", \"marker\": {\"color\": [2, 4, 5], \"coloraxis\": \"coloraxis\"}, \"name\": \"\", \"offsetgroup\": \"\", \"orientation\": \"v\", \"showlegend\": false, \"textposition\": \"auto\", \"type\": \"bar\", \"x\": [2, 4, 5], \"xaxis\": \"x31\", \"y\": [178, 955, 170], \"yaxis\": \"y31\"}, {\"alignmentgroup\": \"True\", \"hovertemplate\": \"month=6<br>year=2018<br>COMPLEX=%{marker.color}<br>VISSP_NAME=%{y}<extra></extra>\", \"legendgroup\": \"\", \"marker\": {\"color\": [2, 4, 5], \"coloraxis\": \"coloraxis\"}, \"name\": \"\", \"offsetgroup\": \"\", \"orientation\": \"v\", \"showlegend\": false, \"textposition\": \"auto\", \"type\": \"bar\", \"x\": [2, 4, 5], \"xaxis\": \"x32\", \"y\": [943, 1840, 253], \"yaxis\": \"y32\"}, {\"alignmentgroup\": \"True\", \"hovertemplate\": \"month=7<br>year=2011<br>COMPLEX=%{marker.color}<br>VISSP_NAME=%{y}<extra></extra>\", \"legendgroup\": \"\", \"marker\": {\"color\": [1, 2, 3, 4, 5], \"coloraxis\": \"coloraxis\"}, \"name\": \"\", \"offsetgroup\": \"\", \"orientation\": \"v\", \"showlegend\": false, \"textposition\": \"auto\", \"type\": \"bar\", \"x\": [1, 2, 3, 4, 5], \"xaxis\": \"x17\", \"y\": [678, 344, 799, 1264, 585], \"yaxis\": \"y17\"}, {\"alignmentgroup\": \"True\", \"hovertemplate\": \"month=7<br>year=2012<br>COMPLEX=%{marker.color}<br>VISSP_NAME=%{y}<extra></extra>\", \"legendgroup\": \"\", \"marker\": {\"color\": [1, 2, 3, 4, 5], \"coloraxis\": \"coloraxis\"}, \"name\": \"\", \"offsetgroup\": \"\", \"orientation\": \"v\", \"showlegend\": false, \"textposition\": \"auto\", \"type\": \"bar\", \"x\": [1, 2, 3, 4, 5], \"xaxis\": \"x18\", \"y\": [772, 851, 700, 1331, 924], \"yaxis\": \"y18\"}, {\"alignmentgroup\": \"True\", \"hovertemplate\": \"month=7<br>year=2013<br>COMPLEX=%{marker.color}<br>VISSP_NAME=%{y}<extra></extra>\", \"legendgroup\": \"\", \"marker\": {\"color\": [2, 4, 5], \"coloraxis\": \"coloraxis\"}, \"name\": \"\", \"offsetgroup\": \"\", \"orientation\": \"v\", \"showlegend\": false, \"textposition\": \"auto\", \"type\": \"bar\", \"x\": [2, 4, 5], \"xaxis\": \"x19\", \"y\": [1153, 2091, 2306], \"yaxis\": \"y19\"}, {\"alignmentgroup\": \"True\", \"hovertemplate\": \"month=7<br>year=2014<br>COMPLEX=%{marker.color}<br>VISSP_NAME=%{y}<extra></extra>\", \"legendgroup\": \"\", \"marker\": {\"color\": [2, 4, 5], \"coloraxis\": \"coloraxis\"}, \"name\": \"\", \"offsetgroup\": \"\", \"orientation\": \"v\", \"showlegend\": false, \"textposition\": \"auto\", \"type\": \"bar\", \"x\": [2, 4, 5], \"xaxis\": \"x20\", \"y\": [813, 1991, 1317], \"yaxis\": \"y20\"}, {\"alignmentgroup\": \"True\", \"hovertemplate\": \"month=7<br>year=2015<br>COMPLEX=%{marker.color}<br>VISSP_NAME=%{y}<extra></extra>\", \"legendgroup\": \"\", \"marker\": {\"color\": [2, 4, 5], \"coloraxis\": \"coloraxis\"}, \"name\": \"\", \"offsetgroup\": \"\", \"orientation\": \"v\", \"showlegend\": false, \"textposition\": \"auto\", \"type\": \"bar\", \"x\": [2, 4, 5], \"xaxis\": \"x21\", \"y\": [425, 421, 548], \"yaxis\": \"y21\"}, {\"alignmentgroup\": \"True\", \"hovertemplate\": \"month=7<br>year=2016<br>COMPLEX=%{marker.color}<br>VISSP_NAME=%{y}<extra></extra>\", \"legendgroup\": \"\", \"marker\": {\"color\": [2, 4, 5], \"coloraxis\": \"coloraxis\"}, \"name\": \"\", \"offsetgroup\": \"\", \"orientation\": \"v\", \"showlegend\": false, \"textposition\": \"auto\", \"type\": \"bar\", \"x\": [2, 4, 5], \"xaxis\": \"x22\", \"y\": [448, 2657, 1128], \"yaxis\": \"y22\"}, {\"alignmentgroup\": \"True\", \"hovertemplate\": \"month=7<br>year=2017<br>COMPLEX=%{marker.color}<br>VISSP_NAME=%{y}<extra></extra>\", \"legendgroup\": \"\", \"marker\": {\"color\": [2, 4, 5], \"coloraxis\": \"coloraxis\"}, \"name\": \"\", \"offsetgroup\": \"\", \"orientation\": \"v\", \"showlegend\": false, \"textposition\": \"auto\", \"type\": \"bar\", \"x\": [2, 4, 5], \"xaxis\": \"x23\", \"y\": [1443, 4204, 1915], \"yaxis\": \"y23\"}, {\"alignmentgroup\": \"True\", \"hovertemplate\": \"month=7<br>year=2018<br>COMPLEX=%{marker.color}<br>VISSP_NAME=%{y}<extra></extra>\", \"legendgroup\": \"\", \"marker\": {\"color\": [2, 4, 5], \"coloraxis\": \"coloraxis\"}, \"name\": \"\", \"offsetgroup\": \"\", \"orientation\": \"v\", \"showlegend\": false, \"textposition\": \"auto\", \"type\": \"bar\", \"x\": [2, 4, 5], \"xaxis\": \"x24\", \"y\": [1585, 4750, 2226], \"yaxis\": \"y24\"}, {\"alignmentgroup\": \"True\", \"hovertemplate\": \"month=8<br>year=2011<br>COMPLEX=%{marker.color}<br>VISSP_NAME=%{y}<extra></extra>\", \"legendgroup\": \"\", \"marker\": {\"color\": [1, 2, 3, 4, 5], \"coloraxis\": \"coloraxis\"}, \"name\": \"\", \"offsetgroup\": \"\", \"orientation\": \"v\", \"showlegend\": false, \"textposition\": \"auto\", \"type\": \"bar\", \"x\": [1, 2, 3, 4, 5], \"xaxis\": \"x9\", \"y\": [587, 1932, 1336, 1606, 931], \"yaxis\": \"y9\"}, {\"alignmentgroup\": \"True\", \"hovertemplate\": \"month=8<br>year=2012<br>COMPLEX=%{marker.color}<br>VISSP_NAME=%{y}<extra></extra>\", \"legendgroup\": \"\", \"marker\": {\"color\": [1, 2, 3, 4, 5], \"coloraxis\": \"coloraxis\"}, \"name\": \"\", \"offsetgroup\": \"\", \"orientation\": \"v\", \"showlegend\": false, \"textposition\": \"auto\", \"type\": \"bar\", \"x\": [1, 2, 3, 4, 5], \"xaxis\": \"x10\", \"y\": [1314, 518, 387, 982, 290], \"yaxis\": \"y10\"}, {\"alignmentgroup\": \"True\", \"hovertemplate\": \"month=8<br>year=2013<br>COMPLEX=%{marker.color}<br>VISSP_NAME=%{y}<extra></extra>\", \"legendgroup\": \"\", \"marker\": {\"color\": [2, 4, 5], \"coloraxis\": \"coloraxis\"}, \"name\": \"\", \"offsetgroup\": \"\", \"orientation\": \"v\", \"showlegend\": false, \"textposition\": \"auto\", \"type\": \"bar\", \"x\": [2, 4, 5], \"xaxis\": \"x11\", \"y\": [265, 341, 379], \"yaxis\": \"y11\"}, {\"alignmentgroup\": \"True\", \"hovertemplate\": \"month=8<br>year=2014<br>COMPLEX=%{marker.color}<br>VISSP_NAME=%{y}<extra></extra>\", \"legendgroup\": \"\", \"marker\": {\"color\": [2, 4, 5], \"coloraxis\": \"coloraxis\"}, \"name\": \"\", \"offsetgroup\": \"\", \"orientation\": \"v\", \"showlegend\": false, \"textposition\": \"auto\", \"type\": \"bar\", \"x\": [2, 4, 5], \"xaxis\": \"x12\", \"y\": [58, 175, 150], \"yaxis\": \"y12\"}, {\"alignmentgroup\": \"True\", \"hovertemplate\": \"month=8<br>year=2016<br>COMPLEX=%{marker.color}<br>VISSP_NAME=%{y}<extra></extra>\", \"legendgroup\": \"\", \"marker\": {\"color\": [2], \"coloraxis\": \"coloraxis\"}, \"name\": \"\", \"offsetgroup\": \"\", \"orientation\": \"v\", \"showlegend\": false, \"textposition\": \"auto\", \"type\": \"bar\", \"x\": [2], \"xaxis\": \"x14\", \"y\": [169], \"yaxis\": \"y14\"}, {\"alignmentgroup\": \"True\", \"hovertemplate\": \"month=8<br>year=2017<br>COMPLEX=%{marker.color}<br>VISSP_NAME=%{y}<extra></extra>\", \"legendgroup\": \"\", \"marker\": {\"color\": [2, 5], \"coloraxis\": \"coloraxis\"}, \"name\": \"\", \"offsetgroup\": \"\", \"orientation\": \"v\", \"showlegend\": false, \"textposition\": \"auto\", \"type\": \"bar\", \"x\": [2, 5], \"xaxis\": \"x15\", \"y\": [70, 572], \"yaxis\": \"y15\"}, {\"alignmentgroup\": \"True\", \"hovertemplate\": \"month=8<br>year=2018<br>COMPLEX=%{marker.color}<br>VISSP_NAME=%{y}<extra></extra>\", \"legendgroup\": \"\", \"marker\": {\"color\": [2, 4, 5], \"coloraxis\": \"coloraxis\"}, \"name\": \"\", \"offsetgroup\": \"\", \"orientation\": \"v\", \"showlegend\": false, \"textposition\": \"auto\", \"type\": \"bar\", \"x\": [2, 4, 5], \"xaxis\": \"x16\", \"y\": [141, 129, 352], \"yaxis\": \"y16\"}, {\"alignmentgroup\": \"True\", \"hovertemplate\": \"month=9<br>year=2011<br>COMPLEX=%{marker.color}<br>VISSP_NAME=%{y}<extra></extra>\", \"legendgroup\": \"\", \"marker\": {\"color\": [1, 2, 3, 4, 5], \"coloraxis\": \"coloraxis\"}, \"name\": \"\", \"offsetgroup\": \"\", \"orientation\": \"v\", \"showlegend\": false, \"textposition\": \"auto\", \"type\": \"bar\", \"x\": [1, 2, 3, 4, 5], \"xaxis\": \"x\", \"y\": [3, 92, 48, 28, 42], \"yaxis\": \"y\"}],                        {\"annotations\": [{\"font\": {}, \"showarrow\": false, \"text\": \"year=2011\", \"x\": 0.0525, \"xanchor\": \"center\", \"xref\": \"paper\", \"y\": 1.0, \"yanchor\": \"bottom\", \"yref\": \"paper\"}, {\"font\": {}, \"showarrow\": false, \"text\": \"year=2012\", \"x\": 0.1775, \"xanchor\": \"center\", \"xref\": \"paper\", \"y\": 1.0, \"yanchor\": \"bottom\", \"yref\": \"paper\"}, {\"font\": {}, \"showarrow\": false, \"text\": \"year=2013\", \"x\": 0.3025, \"xanchor\": \"center\", \"xref\": \"paper\", \"y\": 1.0, \"yanchor\": \"bottom\", \"yref\": \"paper\"}, {\"font\": {}, \"showarrow\": false, \"text\": \"year=2014\", \"x\": 0.4275, \"xanchor\": \"center\", \"xref\": \"paper\", \"y\": 1.0, \"yanchor\": \"bottom\", \"yref\": \"paper\"}, {\"font\": {}, \"showarrow\": false, \"text\": \"year=2015\", \"x\": 0.5525, \"xanchor\": \"center\", \"xref\": \"paper\", \"y\": 1.0, \"yanchor\": \"bottom\", \"yref\": \"paper\"}, {\"font\": {}, \"showarrow\": false, \"text\": \"year=2016\", \"x\": 0.6775, \"xanchor\": \"center\", \"xref\": \"paper\", \"y\": 1.0, \"yanchor\": \"bottom\", \"yref\": \"paper\"}, {\"font\": {}, \"showarrow\": false, \"text\": \"year=2017\", \"x\": 0.8025, \"xanchor\": \"center\", \"xref\": \"paper\", \"y\": 1.0, \"yanchor\": \"bottom\", \"yref\": \"paper\"}, {\"font\": {}, \"showarrow\": false, \"text\": \"year=2018\", \"x\": 0.9275, \"xanchor\": \"center\", \"xref\": \"paper\", \"y\": 1.0, \"yanchor\": \"bottom\", \"yref\": \"paper\"}, {\"font\": {}, \"showarrow\": false, \"text\": \"month=9\", \"textangle\": 90, \"x\": 0.98, \"xanchor\": \"left\", \"xref\": \"paper\", \"y\": 0.11375, \"yanchor\": \"middle\", \"yref\": \"paper\"}, {\"font\": {}, \"showarrow\": false, \"text\": \"month=8\", \"textangle\": 90, \"x\": 0.98, \"xanchor\": \"left\", \"xref\": \"paper\", \"y\": 0.37124999999999997, \"yanchor\": \"middle\", \"yref\": \"paper\"}, {\"font\": {}, \"showarrow\": false, \"text\": \"month=7\", \"textangle\": 90, \"x\": 0.98, \"xanchor\": \"left\", \"xref\": \"paper\", \"y\": 0.62875, \"yanchor\": \"middle\", \"yref\": \"paper\"}, {\"font\": {}, \"showarrow\": false, \"text\": \"month=6\", \"textangle\": 90, \"x\": 0.98, \"xanchor\": \"left\", \"xref\": \"paper\", \"y\": 0.88625, \"yanchor\": \"middle\", \"yref\": \"paper\"}], \"barmode\": \"group\", \"coloraxis\": {\"colorbar\": {\"title\": {\"text\": \"COMPLEX\"}}, \"colorscale\": [[0.0, \"#0d0887\"], [0.1111111111111111, \"#46039f\"], [0.2222222222222222, \"#7201a8\"], [0.3333333333333333, \"#9c179e\"], [0.4444444444444444, \"#bd3786\"], [0.5555555555555556, \"#d8576b\"], [0.6666666666666666, \"#ed7953\"], [0.7777777777777778, \"#fb9f3a\"], [0.8888888888888888, \"#fdca26\"], [1.0, \"#f0f921\"]]}, \"legend\": {\"tracegroupgap\": 0}, \"margin\": {\"t\": 60}, \"template\": {\"data\": {\"bar\": [{\"error_x\": {\"color\": \"#2a3f5f\"}, \"error_y\": {\"color\": \"#2a3f5f\"}, \"marker\": {\"line\": {\"color\": \"#E5ECF6\", \"width\": 0.5}}, \"type\": \"bar\"}], \"barpolar\": [{\"marker\": {\"line\": {\"color\": \"#E5ECF6\", \"width\": 0.5}}, \"type\": \"barpolar\"}], \"carpet\": [{\"aaxis\": {\"endlinecolor\": \"#2a3f5f\", \"gridcolor\": \"white\", \"linecolor\": \"white\", \"minorgridcolor\": \"white\", \"startlinecolor\": \"#2a3f5f\"}, \"baxis\": {\"endlinecolor\": \"#2a3f5f\", \"gridcolor\": \"white\", \"linecolor\": \"white\", \"minorgridcolor\": \"white\", \"startlinecolor\": \"#2a3f5f\"}, \"type\": \"carpet\"}], \"choropleth\": [{\"colorbar\": {\"outlinewidth\": 0, \"ticks\": \"\"}, \"type\": \"choropleth\"}], \"contour\": [{\"colorbar\": {\"outlinewidth\": 0, \"ticks\": \"\"}, \"colorscale\": [[0.0, \"#0d0887\"], [0.1111111111111111, \"#46039f\"], [0.2222222222222222, \"#7201a8\"], [0.3333333333333333, \"#9c179e\"], [0.4444444444444444, \"#bd3786\"], [0.5555555555555556, \"#d8576b\"], [0.6666666666666666, \"#ed7953\"], [0.7777777777777778, \"#fb9f3a\"], [0.8888888888888888, \"#fdca26\"], [1.0, \"#f0f921\"]], \"type\": \"contour\"}], \"contourcarpet\": [{\"colorbar\": {\"outlinewidth\": 0, \"ticks\": \"\"}, \"type\": \"contourcarpet\"}], \"heatmap\": [{\"colorbar\": {\"outlinewidth\": 0, \"ticks\": \"\"}, \"colorscale\": [[0.0, \"#0d0887\"], [0.1111111111111111, \"#46039f\"], [0.2222222222222222, \"#7201a8\"], [0.3333333333333333, \"#9c179e\"], [0.4444444444444444, \"#bd3786\"], [0.5555555555555556, \"#d8576b\"], [0.6666666666666666, \"#ed7953\"], [0.7777777777777778, \"#fb9f3a\"], [0.8888888888888888, \"#fdca26\"], [1.0, \"#f0f921\"]], \"type\": \"heatmap\"}], \"heatmapgl\": [{\"colorbar\": {\"outlinewidth\": 0, \"ticks\": \"\"}, \"colorscale\": [[0.0, \"#0d0887\"], [0.1111111111111111, \"#46039f\"], [0.2222222222222222, \"#7201a8\"], [0.3333333333333333, \"#9c179e\"], [0.4444444444444444, \"#bd3786\"], [0.5555555555555556, \"#d8576b\"], [0.6666666666666666, \"#ed7953\"], [0.7777777777777778, \"#fb9f3a\"], [0.8888888888888888, \"#fdca26\"], [1.0, \"#f0f921\"]], \"type\": \"heatmapgl\"}], \"histogram\": [{\"marker\": {\"colorbar\": {\"outlinewidth\": 0, \"ticks\": \"\"}}, \"type\": \"histogram\"}], \"histogram2d\": [{\"colorbar\": {\"outlinewidth\": 0, \"ticks\": \"\"}, \"colorscale\": [[0.0, \"#0d0887\"], [0.1111111111111111, \"#46039f\"], [0.2222222222222222, \"#7201a8\"], [0.3333333333333333, \"#9c179e\"], [0.4444444444444444, \"#bd3786\"], [0.5555555555555556, \"#d8576b\"], [0.6666666666666666, \"#ed7953\"], [0.7777777777777778, \"#fb9f3a\"], [0.8888888888888888, \"#fdca26\"], [1.0, \"#f0f921\"]], \"type\": \"histogram2d\"}], \"histogram2dcontour\": [{\"colorbar\": {\"outlinewidth\": 0, \"ticks\": \"\"}, \"colorscale\": [[0.0, \"#0d0887\"], [0.1111111111111111, \"#46039f\"], [0.2222222222222222, \"#7201a8\"], [0.3333333333333333, \"#9c179e\"], [0.4444444444444444, \"#bd3786\"], [0.5555555555555556, \"#d8576b\"], [0.6666666666666666, \"#ed7953\"], [0.7777777777777778, \"#fb9f3a\"], [0.8888888888888888, \"#fdca26\"], [1.0, \"#f0f921\"]], \"type\": \"histogram2dcontour\"}], \"mesh3d\": [{\"colorbar\": {\"outlinewidth\": 0, \"ticks\": \"\"}, \"type\": \"mesh3d\"}], \"parcoords\": [{\"line\": {\"colorbar\": {\"outlinewidth\": 0, \"ticks\": \"\"}}, \"type\": \"parcoords\"}], \"pie\": [{\"automargin\": true, \"type\": \"pie\"}], \"scatter\": [{\"marker\": {\"colorbar\": {\"outlinewidth\": 0, \"ticks\": \"\"}}, \"type\": \"scatter\"}], \"scatter3d\": [{\"line\": {\"colorbar\": {\"outlinewidth\": 0, \"ticks\": \"\"}}, \"marker\": {\"colorbar\": {\"outlinewidth\": 0, \"ticks\": \"\"}}, \"type\": \"scatter3d\"}], \"scattercarpet\": [{\"marker\": {\"colorbar\": {\"outlinewidth\": 0, \"ticks\": \"\"}}, \"type\": \"scattercarpet\"}], \"scattergeo\": [{\"marker\": {\"colorbar\": {\"outlinewidth\": 0, \"ticks\": \"\"}}, \"type\": \"scattergeo\"}], \"scattergl\": [{\"marker\": {\"colorbar\": {\"outlinewidth\": 0, \"ticks\": \"\"}}, \"type\": \"scattergl\"}], \"scattermapbox\": [{\"marker\": {\"colorbar\": {\"outlinewidth\": 0, \"ticks\": \"\"}}, \"type\": \"scattermapbox\"}], \"scatterpolar\": [{\"marker\": {\"colorbar\": {\"outlinewidth\": 0, \"ticks\": \"\"}}, \"type\": \"scatterpolar\"}], \"scatterpolargl\": [{\"marker\": {\"colorbar\": {\"outlinewidth\": 0, \"ticks\": \"\"}}, \"type\": \"scatterpolargl\"}], \"scatterternary\": [{\"marker\": {\"colorbar\": {\"outlinewidth\": 0, \"ticks\": \"\"}}, \"type\": \"scatterternary\"}], \"surface\": [{\"colorbar\": {\"outlinewidth\": 0, \"ticks\": \"\"}, \"colorscale\": [[0.0, \"#0d0887\"], [0.1111111111111111, \"#46039f\"], [0.2222222222222222, \"#7201a8\"], [0.3333333333333333, \"#9c179e\"], [0.4444444444444444, \"#bd3786\"], [0.5555555555555556, \"#d8576b\"], [0.6666666666666666, \"#ed7953\"], [0.7777777777777778, \"#fb9f3a\"], [0.8888888888888888, \"#fdca26\"], [1.0, \"#f0f921\"]], \"type\": \"surface\"}], \"table\": [{\"cells\": {\"fill\": {\"color\": \"#EBF0F8\"}, \"line\": {\"color\": \"white\"}}, \"header\": {\"fill\": {\"color\": \"#C8D4E3\"}, \"line\": {\"color\": \"white\"}}, \"type\": \"table\"}]}, \"layout\": {\"annotationdefaults\": {\"arrowcolor\": \"#2a3f5f\", \"arrowhead\": 0, \"arrowwidth\": 1}, \"autotypenumbers\": \"strict\", \"coloraxis\": {\"colorbar\": {\"outlinewidth\": 0, \"ticks\": \"\"}}, \"colorscale\": {\"diverging\": [[0, \"#8e0152\"], [0.1, \"#c51b7d\"], [0.2, \"#de77ae\"], [0.3, \"#f1b6da\"], [0.4, \"#fde0ef\"], [0.5, \"#f7f7f7\"], [0.6, \"#e6f5d0\"], [0.7, \"#b8e186\"], [0.8, \"#7fbc41\"], [0.9, \"#4d9221\"], [1, \"#276419\"]], \"sequential\": [[0.0, \"#0d0887\"], [0.1111111111111111, \"#46039f\"], [0.2222222222222222, \"#7201a8\"], [0.3333333333333333, \"#9c179e\"], [0.4444444444444444, \"#bd3786\"], [0.5555555555555556, \"#d8576b\"], [0.6666666666666666, \"#ed7953\"], [0.7777777777777778, \"#fb9f3a\"], [0.8888888888888888, \"#fdca26\"], [1.0, \"#f0f921\"]], \"sequentialminus\": [[0.0, \"#0d0887\"], [0.1111111111111111, \"#46039f\"], [0.2222222222222222, \"#7201a8\"], [0.3333333333333333, \"#9c179e\"], [0.4444444444444444, \"#bd3786\"], [0.5555555555555556, \"#d8576b\"], [0.6666666666666666, \"#ed7953\"], [0.7777777777777778, \"#fb9f3a\"], [0.8888888888888888, \"#fdca26\"], [1.0, \"#f0f921\"]]}, \"colorway\": [\"#636efa\", \"#EF553B\", \"#00cc96\", \"#ab63fa\", \"#FFA15A\", \"#19d3f3\", \"#FF6692\", \"#B6E880\", \"#FF97FF\", \"#FECB52\"], \"font\": {\"color\": \"#2a3f5f\"}, \"geo\": {\"bgcolor\": \"white\", \"lakecolor\": \"white\", \"landcolor\": \"#E5ECF6\", \"showlakes\": true, \"showland\": true, \"subunitcolor\": \"white\"}, \"hoverlabel\": {\"align\": \"left\"}, \"hovermode\": \"closest\", \"mapbox\": {\"style\": \"light\"}, \"paper_bgcolor\": \"white\", \"plot_bgcolor\": \"#E5ECF6\", \"polar\": {\"angularaxis\": {\"gridcolor\": \"white\", \"linecolor\": \"white\", \"ticks\": \"\"}, \"bgcolor\": \"#E5ECF6\", \"radialaxis\": {\"gridcolor\": \"white\", \"linecolor\": \"white\", \"ticks\": \"\"}}, \"scene\": {\"xaxis\": {\"backgroundcolor\": \"#E5ECF6\", \"gridcolor\": \"white\", \"gridwidth\": 2, \"linecolor\": \"white\", \"showbackground\": true, \"ticks\": \"\", \"zerolinecolor\": \"white\"}, \"yaxis\": {\"backgroundcolor\": \"#E5ECF6\", \"gridcolor\": \"white\", \"gridwidth\": 2, \"linecolor\": \"white\", \"showbackground\": true, \"ticks\": \"\", \"zerolinecolor\": \"white\"}, \"zaxis\": {\"backgroundcolor\": \"#E5ECF6\", \"gridcolor\": \"white\", \"gridwidth\": 2, \"linecolor\": \"white\", \"showbackground\": true, \"ticks\": \"\", \"zerolinecolor\": \"white\"}}, \"shapedefaults\": {\"line\": {\"color\": \"#2a3f5f\"}}, \"ternary\": {\"aaxis\": {\"gridcolor\": \"white\", \"linecolor\": \"white\", \"ticks\": \"\"}, \"baxis\": {\"gridcolor\": \"white\", \"linecolor\": \"white\", \"ticks\": \"\"}, \"bgcolor\": \"#E5ECF6\", \"caxis\": {\"gridcolor\": \"white\", \"linecolor\": \"white\", \"ticks\": \"\"}}, \"title\": {\"x\": 0.05}, \"xaxis\": {\"automargin\": true, \"gridcolor\": \"white\", \"linecolor\": \"white\", \"ticks\": \"\", \"title\": {\"standoff\": 15}, \"zerolinecolor\": \"white\", \"zerolinewidth\": 2}, \"yaxis\": {\"automargin\": true, \"gridcolor\": \"white\", \"linecolor\": \"white\", \"ticks\": \"\", \"title\": {\"standoff\": 15}, \"zerolinecolor\": \"white\", \"zerolinewidth\": 2}}}, \"xaxis\": {\"anchor\": \"y\", \"domain\": [0.0, 0.105], \"title\": {\"text\": \"COMPLEX\"}}, \"xaxis10\": {\"anchor\": \"y10\", \"domain\": [0.125, 0.22999999999999998], \"matches\": \"x\", \"showticklabels\": false}, \"xaxis11\": {\"anchor\": \"y11\", \"domain\": [0.25, 0.355], \"matches\": \"x\", \"showticklabels\": false}, \"xaxis12\": {\"anchor\": \"y12\", \"domain\": [0.375, 0.48], \"matches\": \"x\", \"showticklabels\": false}, \"xaxis13\": {\"anchor\": \"y13\", \"domain\": [0.5, 0.605], \"matches\": \"x\", \"showticklabels\": false}, \"xaxis14\": {\"anchor\": \"y14\", \"domain\": [0.625, 0.73], \"matches\": \"x\", \"showticklabels\": false}, \"xaxis15\": {\"anchor\": \"y15\", \"domain\": [0.75, 0.855], \"matches\": \"x\", \"showticklabels\": false}, \"xaxis16\": {\"anchor\": \"y16\", \"domain\": [0.875, 0.98], \"matches\": \"x\", \"showticklabels\": false}, \"xaxis17\": {\"anchor\": \"y17\", \"domain\": [0.0, 0.105], \"matches\": \"x\", \"showticklabels\": false}, \"xaxis18\": {\"anchor\": \"y18\", \"domain\": [0.125, 0.22999999999999998], \"matches\": \"x\", \"showticklabels\": false}, \"xaxis19\": {\"anchor\": \"y19\", \"domain\": [0.25, 0.355], \"matches\": \"x\", \"showticklabels\": false}, \"xaxis2\": {\"anchor\": \"y2\", \"domain\": [0.125, 0.22999999999999998], \"matches\": \"x\", \"title\": {\"text\": \"COMPLEX\"}}, \"xaxis20\": {\"anchor\": \"y20\", \"domain\": [0.375, 0.48], \"matches\": \"x\", \"showticklabels\": false}, \"xaxis21\": {\"anchor\": \"y21\", \"domain\": [0.5, 0.605], \"matches\": \"x\", \"showticklabels\": false}, \"xaxis22\": {\"anchor\": \"y22\", \"domain\": [0.625, 0.73], \"matches\": \"x\", \"showticklabels\": false}, \"xaxis23\": {\"anchor\": \"y23\", \"domain\": [0.75, 0.855], \"matches\": \"x\", \"showticklabels\": false}, \"xaxis24\": {\"anchor\": \"y24\", \"domain\": [0.875, 0.98], \"matches\": \"x\", \"showticklabels\": false}, \"xaxis25\": {\"anchor\": \"y25\", \"domain\": [0.0, 0.105], \"matches\": \"x\", \"showticklabels\": false}, \"xaxis26\": {\"anchor\": \"y26\", \"domain\": [0.125, 0.22999999999999998], \"matches\": \"x\", \"showticklabels\": false}, \"xaxis27\": {\"anchor\": \"y27\", \"domain\": [0.25, 0.355], \"matches\": \"x\", \"showticklabels\": false}, \"xaxis28\": {\"anchor\": \"y28\", \"domain\": [0.375, 0.48], \"matches\": \"x\", \"showticklabels\": false}, \"xaxis29\": {\"anchor\": \"y29\", \"domain\": [0.5, 0.605], \"matches\": \"x\", \"showticklabels\": false}, \"xaxis3\": {\"anchor\": \"y3\", \"domain\": [0.25, 0.355], \"matches\": \"x\", \"title\": {\"text\": \"COMPLEX\"}}, \"xaxis30\": {\"anchor\": \"y30\", \"domain\": [0.625, 0.73], \"matches\": \"x\", \"showticklabels\": false}, \"xaxis31\": {\"anchor\": \"y31\", \"domain\": [0.75, 0.855], \"matches\": \"x\", \"showticklabels\": false}, \"xaxis32\": {\"anchor\": \"y32\", \"domain\": [0.875, 0.98], \"matches\": \"x\", \"showticklabels\": false}, \"xaxis4\": {\"anchor\": \"y4\", \"domain\": [0.375, 0.48], \"matches\": \"x\", \"title\": {\"text\": \"COMPLEX\"}}, \"xaxis5\": {\"anchor\": \"y5\", \"domain\": [0.5, 0.605], \"matches\": \"x\", \"title\": {\"text\": \"COMPLEX\"}}, \"xaxis6\": {\"anchor\": \"y6\", \"domain\": [0.625, 0.73], \"matches\": \"x\", \"title\": {\"text\": \"COMPLEX\"}}, \"xaxis7\": {\"anchor\": \"y7\", \"domain\": [0.75, 0.855], \"matches\": \"x\", \"title\": {\"text\": \"COMPLEX\"}}, \"xaxis8\": {\"anchor\": \"y8\", \"domain\": [0.875, 0.98], \"matches\": \"x\", \"title\": {\"text\": \"COMPLEX\"}}, \"xaxis9\": {\"anchor\": \"y9\", \"domain\": [0.0, 0.105], \"matches\": \"x\", \"showticklabels\": false}, \"yaxis\": {\"anchor\": \"x\", \"domain\": [0.0, 0.2275], \"title\": {\"text\": \"VISSP_NAME\"}}, \"yaxis10\": {\"anchor\": \"x10\", \"domain\": [0.2575, 0.485], \"matches\": \"y\", \"showticklabels\": false}, \"yaxis11\": {\"anchor\": \"x11\", \"domain\": [0.2575, 0.485], \"matches\": \"y\", \"showticklabels\": false}, \"yaxis12\": {\"anchor\": \"x12\", \"domain\": [0.2575, 0.485], \"matches\": \"y\", \"showticklabels\": false}, \"yaxis13\": {\"anchor\": \"x13\", \"domain\": [0.2575, 0.485], \"matches\": \"y\", \"showticklabels\": false}, \"yaxis14\": {\"anchor\": \"x14\", \"domain\": [0.2575, 0.485], \"matches\": \"y\", \"showticklabels\": false}, \"yaxis15\": {\"anchor\": \"x15\", \"domain\": [0.2575, 0.485], \"matches\": \"y\", \"showticklabels\": false}, \"yaxis16\": {\"anchor\": \"x16\", \"domain\": [0.2575, 0.485], \"matches\": \"y\", \"showticklabels\": false}, \"yaxis17\": {\"anchor\": \"x17\", \"domain\": [0.515, 0.7425], \"matches\": \"y\", \"title\": {\"text\": \"VISSP_NAME\"}}, \"yaxis18\": {\"anchor\": \"x18\", \"domain\": [0.515, 0.7425], \"matches\": \"y\", \"showticklabels\": false}, \"yaxis19\": {\"anchor\": \"x19\", \"domain\": [0.515, 0.7425], \"matches\": \"y\", \"showticklabels\": false}, \"yaxis2\": {\"anchor\": \"x2\", \"domain\": [0.0, 0.2275], \"matches\": \"y\", \"showticklabels\": false}, \"yaxis20\": {\"anchor\": \"x20\", \"domain\": [0.515, 0.7425], \"matches\": \"y\", \"showticklabels\": false}, \"yaxis21\": {\"anchor\": \"x21\", \"domain\": [0.515, 0.7425], \"matches\": \"y\", \"showticklabels\": false}, \"yaxis22\": {\"anchor\": \"x22\", \"domain\": [0.515, 0.7425], \"matches\": \"y\", \"showticklabels\": false}, \"yaxis23\": {\"anchor\": \"x23\", \"domain\": [0.515, 0.7425], \"matches\": \"y\", \"showticklabels\": false}, \"yaxis24\": {\"anchor\": \"x24\", \"domain\": [0.515, 0.7425], \"matches\": \"y\", \"showticklabels\": false}, \"yaxis25\": {\"anchor\": \"x25\", \"domain\": [0.7725, 1.0], \"matches\": \"y\", \"title\": {\"text\": \"VISSP_NAME\"}}, \"yaxis26\": {\"anchor\": \"x26\", \"domain\": [0.7725, 1.0], \"matches\": \"y\", \"showticklabels\": false}, \"yaxis27\": {\"anchor\": \"x27\", \"domain\": [0.7725, 1.0], \"matches\": \"y\", \"showticklabels\": false}, \"yaxis28\": {\"anchor\": \"x28\", \"domain\": [0.7725, 1.0], \"matches\": \"y\", \"showticklabels\": false}, \"yaxis29\": {\"anchor\": \"x29\", \"domain\": [0.7725, 1.0], \"matches\": \"y\", \"showticklabels\": false}, \"yaxis3\": {\"anchor\": \"x3\", \"domain\": [0.0, 0.2275], \"matches\": \"y\", \"showticklabels\": false}, \"yaxis30\": {\"anchor\": \"x30\", \"domain\": [0.7725, 1.0], \"matches\": \"y\", \"showticklabels\": false}, \"yaxis31\": {\"anchor\": \"x31\", \"domain\": [0.7725, 1.0], \"matches\": \"y\", \"showticklabels\": false}, \"yaxis32\": {\"anchor\": \"x32\", \"domain\": [0.7725, 1.0], \"matches\": \"y\", \"showticklabels\": false}, \"yaxis4\": {\"anchor\": \"x4\", \"domain\": [0.0, 0.2275], \"matches\": \"y\", \"showticklabels\": false}, \"yaxis5\": {\"anchor\": \"x5\", \"domain\": [0.0, 0.2275], \"matches\": \"y\", \"showticklabels\": false}, \"yaxis6\": {\"anchor\": \"x6\", \"domain\": [0.0, 0.2275], \"matches\": \"y\", \"showticklabels\": false}, \"yaxis7\": {\"anchor\": \"x7\", \"domain\": [0.0, 0.2275], \"matches\": \"y\", \"showticklabels\": false}, \"yaxis8\": {\"anchor\": \"x8\", \"domain\": [0.0, 0.2275], \"matches\": \"y\", \"showticklabels\": false}, \"yaxis9\": {\"anchor\": \"x9\", \"domain\": [0.2575, 0.485], \"matches\": \"y\", \"title\": {\"text\": \"VISSP_NAME\"}}},                        {\"responsive\": true}                    ).then(function(){\n",
       "                            \n",
       "var gd = document.getElementById('853ccc2d-011b-4291-8860-87404e81cd2b');\n",
       "var x = new MutationObserver(function (mutations, observer) {{\n",
       "        var display = window.getComputedStyle(gd).display;\n",
       "        if (!display || display === 'none') {{\n",
       "            console.log([gd, 'removed!']);\n",
       "            Plotly.purge(gd);\n",
       "            observer.disconnect();\n",
       "        }}\n",
       "}});\n",
       "\n",
       "// Listen for the removal of the full notebook cells\n",
       "var notebookContainer = gd.closest('#notebook-container');\n",
       "if (notebookContainer) {{\n",
       "    x.observe(notebookContainer, {childList: true});\n",
       "}}\n",
       "\n",
       "// Listen for the clearing of the current output cell\n",
       "var outputEl = gd.closest('.output');\n",
       "if (outputEl) {{\n",
       "    x.observe(outputEl, {childList: true});\n",
       "}}\n",
       "\n",
       "                        })                };                });            </script>        </div>"
      ]
     },
     "metadata": {},
     "output_type": "display_data"
    }
   ],
   "source": [
    "#result['PLOT'] = result['PLOT'].astype(str)\n",
    "\n",
    "fig = px.bar(result, x=\"COMPLEX\", y=\"VISSP_NAME\",  barmode=\"group\",color='COMPLEX',\n",
    "             facet_row=\"month\", facet_col=\"year\",\n",
    "             category_orders={\"month\": [6,7,8,9]}\n",
    "            )\n",
    "fig.update_traces()\n",
    "fig.show()"
   ]
  },
  {
   "cell_type": "code",
   "execution_count": 21,
   "metadata": {
    "scrolled": false
   },
   "outputs": [
    {
     "data": {
      "text/plain": [
       "count    46439.000000\n",
       "mean        74.708943\n",
       "std          8.392481\n",
       "min         50.000000\n",
       "25%         68.000000\n",
       "50%         75.200000\n",
       "75%         80.600000\n",
       "max        111.200000\n",
       "Name: temp_f, dtype: float64"
      ]
     },
     "execution_count": 21,
     "metadata": {},
     "output_type": "execute_result"
    }
   ],
   "source": [
    "df['temp_f'].describe()"
   ]
  },
  {
   "cell_type": "code",
   "execution_count": null,
   "metadata": {},
   "outputs": [],
   "source": []
  },
  {
   "cell_type": "code",
   "execution_count": null,
   "metadata": {},
   "outputs": [],
   "source": []
  }
 ],
 "metadata": {
  "kernelspec": {
   "display_name": "Python 3",
   "language": "python",
   "name": "python3"
  },
  "language_info": {
   "codemirror_mode": {
    "name": "ipython",
    "version": 3
   },
   "file_extension": ".py",
   "mimetype": "text/x-python",
   "name": "python",
   "nbconvert_exporter": "python",
   "pygments_lexer": "ipython3",
   "version": "3.7.9"
  }
 },
 "nbformat": 4,
 "nbformat_minor": 4
}
